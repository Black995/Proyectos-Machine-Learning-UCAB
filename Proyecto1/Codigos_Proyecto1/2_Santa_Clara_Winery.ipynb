{
  "cells": [
    {
      "cell_type": "markdown",
      "metadata": {
        "id": "ra9aExyONK6g"
      },
      "source": [
        "# Leer el Dataset wines.csv"
      ]
    },
    {
      "cell_type": "code",
      "execution_count": 234,
      "metadata": {
        "id": "xaQ7tpUvNMsB"
      },
      "outputs": [],
      "source": [
        "#Importando las librerias\n",
        "import numpy as np\n",
        "import matplotlib.pyplot as plt\n",
        "import pandas as pd\n",
        "from sklearn.impute import SimpleImputer\n",
        "from sklearn.compose import ColumnTransformer\n",
        "from sklearn.preprocessing import OneHotEncoder\n",
        "from sklearn.preprocessing import LabelEncoder\n",
        "from sklearn.model_selection import train_test_split"
      ]
    },
    {
      "cell_type": "code",
      "execution_count": 235,
      "metadata": {
        "id": "b8tG2lBGNPcC"
      },
      "outputs": [],
      "source": [
        "#Impoprtando el dataset\n",
        "missing_values = [\"n/a\", \"na\", \"--\"]\n",
        "dataset = pd.read_csv('../Datasets_Proyecto1/wines.csv',na_values = missing_values)"
      ]
    },
    {
      "cell_type": "markdown",
      "metadata": {
        "id": "CCYoPJ02NT4x"
      },
      "source": [
        "# Explorar los datos para obtener ideas."
      ]
    },
    {
      "cell_type": "code",
      "execution_count": 236,
      "metadata": {
        "colab": {
          "base_uri": "https://localhost:8080/",
          "height": 267
        },
        "id": "ATnlH_UHNUtC",
        "outputId": "7e0fbd3a-c5c3-49a6-c455-26206775a2f9"
      },
      "outputs": [
        {
          "data": {
            "text/html": [
              "<div>\n",
              "<style scoped>\n",
              "    .dataframe tbody tr th:only-of-type {\n",
              "        vertical-align: middle;\n",
              "    }\n",
              "\n",
              "    .dataframe tbody tr th {\n",
              "        vertical-align: top;\n",
              "    }\n",
              "\n",
              "    .dataframe thead th {\n",
              "        text-align: right;\n",
              "    }\n",
              "</style>\n",
              "<table border=\"1\" class=\"dataframe\">\n",
              "  <thead>\n",
              "    <tr style=\"text-align: right;\">\n",
              "      <th></th>\n",
              "      <th>fixed acidity</th>\n",
              "      <th>volatile acidity</th>\n",
              "      <th>citric acid</th>\n",
              "      <th>residual sugar</th>\n",
              "      <th>chlorides</th>\n",
              "      <th>free sulfur dioxide</th>\n",
              "      <th>total sulfur dioxide</th>\n",
              "      <th>density</th>\n",
              "      <th>pH</th>\n",
              "      <th>sulphates</th>\n",
              "      <th>alcohol</th>\n",
              "      <th>quality</th>\n",
              "    </tr>\n",
              "  </thead>\n",
              "  <tbody>\n",
              "    <tr>\n",
              "      <th>0</th>\n",
              "      <td>7.4</td>\n",
              "      <td>0.70</td>\n",
              "      <td>0.00</td>\n",
              "      <td>1.9</td>\n",
              "      <td>0.076</td>\n",
              "      <td>11.0</td>\n",
              "      <td>34.0</td>\n",
              "      <td>0.9978</td>\n",
              "      <td>3.51</td>\n",
              "      <td>0.56</td>\n",
              "      <td>9.4</td>\n",
              "      <td>5</td>\n",
              "    </tr>\n",
              "    <tr>\n",
              "      <th>1</th>\n",
              "      <td>7.8</td>\n",
              "      <td>0.88</td>\n",
              "      <td>0.00</td>\n",
              "      <td>2.6</td>\n",
              "      <td>0.098</td>\n",
              "      <td>25.0</td>\n",
              "      <td>67.0</td>\n",
              "      <td>0.9968</td>\n",
              "      <td>3.20</td>\n",
              "      <td>0.68</td>\n",
              "      <td>9.8</td>\n",
              "      <td>5</td>\n",
              "    </tr>\n",
              "    <tr>\n",
              "      <th>2</th>\n",
              "      <td>7.8</td>\n",
              "      <td>0.76</td>\n",
              "      <td>0.04</td>\n",
              "      <td>2.3</td>\n",
              "      <td>0.092</td>\n",
              "      <td>15.0</td>\n",
              "      <td>54.0</td>\n",
              "      <td>0.9970</td>\n",
              "      <td>3.26</td>\n",
              "      <td>0.65</td>\n",
              "      <td>9.8</td>\n",
              "      <td>5</td>\n",
              "    </tr>\n",
              "    <tr>\n",
              "      <th>3</th>\n",
              "      <td>11.2</td>\n",
              "      <td>0.28</td>\n",
              "      <td>0.56</td>\n",
              "      <td>1.9</td>\n",
              "      <td>0.075</td>\n",
              "      <td>17.0</td>\n",
              "      <td>60.0</td>\n",
              "      <td>0.9980</td>\n",
              "      <td>3.16</td>\n",
              "      <td>0.58</td>\n",
              "      <td>9.8</td>\n",
              "      <td>6</td>\n",
              "    </tr>\n",
              "    <tr>\n",
              "      <th>4</th>\n",
              "      <td>7.4</td>\n",
              "      <td>0.70</td>\n",
              "      <td>0.00</td>\n",
              "      <td>1.9</td>\n",
              "      <td>0.076</td>\n",
              "      <td>11.0</td>\n",
              "      <td>34.0</td>\n",
              "      <td>0.9978</td>\n",
              "      <td>3.51</td>\n",
              "      <td>0.56</td>\n",
              "      <td>9.4</td>\n",
              "      <td>5</td>\n",
              "    </tr>\n",
              "  </tbody>\n",
              "</table>\n",
              "</div>"
            ],
            "text/plain": [
              "   fixed acidity  volatile acidity  citric acid  residual sugar  chlorides  \\\n",
              "0            7.4              0.70         0.00             1.9      0.076   \n",
              "1            7.8              0.88         0.00             2.6      0.098   \n",
              "2            7.8              0.76         0.04             2.3      0.092   \n",
              "3           11.2              0.28         0.56             1.9      0.075   \n",
              "4            7.4              0.70         0.00             1.9      0.076   \n",
              "\n",
              "   free sulfur dioxide  total sulfur dioxide  density    pH  sulphates  \\\n",
              "0                 11.0                  34.0   0.9978  3.51       0.56   \n",
              "1                 25.0                  67.0   0.9968  3.20       0.68   \n",
              "2                 15.0                  54.0   0.9970  3.26       0.65   \n",
              "3                 17.0                  60.0   0.9980  3.16       0.58   \n",
              "4                 11.0                  34.0   0.9978  3.51       0.56   \n",
              "\n",
              "   alcohol  quality  \n",
              "0      9.4        5  \n",
              "1      9.8        5  \n",
              "2      9.8        5  \n",
              "3      9.8        6  \n",
              "4      9.4        5  "
            ]
          },
          "execution_count": 236,
          "metadata": {},
          "output_type": "execute_result"
        }
      ],
      "source": [
        "dataset.head()"
      ]
    },
    {
      "cell_type": "code",
      "execution_count": 237,
      "metadata": {
        "colab": {
          "base_uri": "https://localhost:8080/"
        },
        "id": "UVKCJ9eGNbth",
        "outputId": "20faaba1-e419-4fd5-b9a6-05b468d278f4"
      },
      "outputs": [
        {
          "name": "stdout",
          "output_type": "stream",
          "text": [
            "<class 'pandas.core.frame.DataFrame'>\n",
            "RangeIndex: 1599 entries, 0 to 1598\n",
            "Data columns (total 12 columns):\n",
            " #   Column                Non-Null Count  Dtype  \n",
            "---  ------                --------------  -----  \n",
            " 0   fixed acidity         1599 non-null   float64\n",
            " 1   volatile acidity      1599 non-null   float64\n",
            " 2   citric acid           1599 non-null   float64\n",
            " 3   residual sugar        1599 non-null   float64\n",
            " 4   chlorides             1599 non-null   float64\n",
            " 5   free sulfur dioxide   1599 non-null   float64\n",
            " 6   total sulfur dioxide  1599 non-null   float64\n",
            " 7   density               1599 non-null   float64\n",
            " 8   pH                    1599 non-null   float64\n",
            " 9   sulphates             1599 non-null   float64\n",
            " 10  alcohol               1599 non-null   float64\n",
            " 11  quality               1599 non-null   int64  \n",
            "dtypes: float64(11), int64(1)\n",
            "memory usage: 150.0 KB\n"
          ]
        }
      ],
      "source": [
        "dataset.info()"
      ]
    },
    {
      "cell_type": "code",
      "execution_count": 238,
      "metadata": {
        "colab": {
          "base_uri": "https://localhost:8080/",
          "height": 399
        },
        "id": "FOP0gT3FNbzd",
        "outputId": "9aa1e39f-6e97-4d95-c7d4-46e6f14d5dce"
      },
      "outputs": [
        {
          "data": {
            "text/html": [
              "<div>\n",
              "<style scoped>\n",
              "    .dataframe tbody tr th:only-of-type {\n",
              "        vertical-align: middle;\n",
              "    }\n",
              "\n",
              "    .dataframe tbody tr th {\n",
              "        vertical-align: top;\n",
              "    }\n",
              "\n",
              "    .dataframe thead th {\n",
              "        text-align: right;\n",
              "    }\n",
              "</style>\n",
              "<table border=\"1\" class=\"dataframe\">\n",
              "  <thead>\n",
              "    <tr style=\"text-align: right;\">\n",
              "      <th></th>\n",
              "      <th>fixed acidity</th>\n",
              "      <th>volatile acidity</th>\n",
              "      <th>citric acid</th>\n",
              "      <th>residual sugar</th>\n",
              "      <th>chlorides</th>\n",
              "      <th>free sulfur dioxide</th>\n",
              "      <th>total sulfur dioxide</th>\n",
              "      <th>density</th>\n",
              "      <th>pH</th>\n",
              "      <th>sulphates</th>\n",
              "      <th>alcohol</th>\n",
              "      <th>quality</th>\n",
              "    </tr>\n",
              "  </thead>\n",
              "  <tbody>\n",
              "    <tr>\n",
              "      <th>count</th>\n",
              "      <td>1599.000000</td>\n",
              "      <td>1599.000000</td>\n",
              "      <td>1599.000000</td>\n",
              "      <td>1599.000000</td>\n",
              "      <td>1599.000000</td>\n",
              "      <td>1599.000000</td>\n",
              "      <td>1599.000000</td>\n",
              "      <td>1599.000000</td>\n",
              "      <td>1599.000000</td>\n",
              "      <td>1599.000000</td>\n",
              "      <td>1599.000000</td>\n",
              "      <td>1599.000000</td>\n",
              "    </tr>\n",
              "    <tr>\n",
              "      <th>mean</th>\n",
              "      <td>8.319637</td>\n",
              "      <td>0.527821</td>\n",
              "      <td>0.270976</td>\n",
              "      <td>2.538806</td>\n",
              "      <td>0.087467</td>\n",
              "      <td>15.874922</td>\n",
              "      <td>46.467792</td>\n",
              "      <td>0.996747</td>\n",
              "      <td>3.311113</td>\n",
              "      <td>0.658149</td>\n",
              "      <td>10.422983</td>\n",
              "      <td>5.636023</td>\n",
              "    </tr>\n",
              "    <tr>\n",
              "      <th>std</th>\n",
              "      <td>1.741096</td>\n",
              "      <td>0.179060</td>\n",
              "      <td>0.194801</td>\n",
              "      <td>1.409928</td>\n",
              "      <td>0.047065</td>\n",
              "      <td>10.460157</td>\n",
              "      <td>32.895324</td>\n",
              "      <td>0.001887</td>\n",
              "      <td>0.154386</td>\n",
              "      <td>0.169507</td>\n",
              "      <td>1.065668</td>\n",
              "      <td>0.807569</td>\n",
              "    </tr>\n",
              "    <tr>\n",
              "      <th>min</th>\n",
              "      <td>4.600000</td>\n",
              "      <td>0.120000</td>\n",
              "      <td>0.000000</td>\n",
              "      <td>0.900000</td>\n",
              "      <td>0.012000</td>\n",
              "      <td>1.000000</td>\n",
              "      <td>6.000000</td>\n",
              "      <td>0.990070</td>\n",
              "      <td>2.740000</td>\n",
              "      <td>0.330000</td>\n",
              "      <td>8.400000</td>\n",
              "      <td>3.000000</td>\n",
              "    </tr>\n",
              "    <tr>\n",
              "      <th>25%</th>\n",
              "      <td>7.100000</td>\n",
              "      <td>0.390000</td>\n",
              "      <td>0.090000</td>\n",
              "      <td>1.900000</td>\n",
              "      <td>0.070000</td>\n",
              "      <td>7.000000</td>\n",
              "      <td>22.000000</td>\n",
              "      <td>0.995600</td>\n",
              "      <td>3.210000</td>\n",
              "      <td>0.550000</td>\n",
              "      <td>9.500000</td>\n",
              "      <td>5.000000</td>\n",
              "    </tr>\n",
              "    <tr>\n",
              "      <th>50%</th>\n",
              "      <td>7.900000</td>\n",
              "      <td>0.520000</td>\n",
              "      <td>0.260000</td>\n",
              "      <td>2.200000</td>\n",
              "      <td>0.079000</td>\n",
              "      <td>14.000000</td>\n",
              "      <td>38.000000</td>\n",
              "      <td>0.996750</td>\n",
              "      <td>3.310000</td>\n",
              "      <td>0.620000</td>\n",
              "      <td>10.200000</td>\n",
              "      <td>6.000000</td>\n",
              "    </tr>\n",
              "    <tr>\n",
              "      <th>75%</th>\n",
              "      <td>9.200000</td>\n",
              "      <td>0.640000</td>\n",
              "      <td>0.420000</td>\n",
              "      <td>2.600000</td>\n",
              "      <td>0.090000</td>\n",
              "      <td>21.000000</td>\n",
              "      <td>62.000000</td>\n",
              "      <td>0.997835</td>\n",
              "      <td>3.400000</td>\n",
              "      <td>0.730000</td>\n",
              "      <td>11.100000</td>\n",
              "      <td>6.000000</td>\n",
              "    </tr>\n",
              "    <tr>\n",
              "      <th>max</th>\n",
              "      <td>15.900000</td>\n",
              "      <td>1.580000</td>\n",
              "      <td>1.000000</td>\n",
              "      <td>15.500000</td>\n",
              "      <td>0.611000</td>\n",
              "      <td>72.000000</td>\n",
              "      <td>289.000000</td>\n",
              "      <td>1.003690</td>\n",
              "      <td>4.010000</td>\n",
              "      <td>2.000000</td>\n",
              "      <td>14.900000</td>\n",
              "      <td>8.000000</td>\n",
              "    </tr>\n",
              "  </tbody>\n",
              "</table>\n",
              "</div>"
            ],
            "text/plain": [
              "       fixed acidity  volatile acidity  citric acid  residual sugar  \\\n",
              "count    1599.000000       1599.000000  1599.000000     1599.000000   \n",
              "mean        8.319637          0.527821     0.270976        2.538806   \n",
              "std         1.741096          0.179060     0.194801        1.409928   \n",
              "min         4.600000          0.120000     0.000000        0.900000   \n",
              "25%         7.100000          0.390000     0.090000        1.900000   \n",
              "50%         7.900000          0.520000     0.260000        2.200000   \n",
              "75%         9.200000          0.640000     0.420000        2.600000   \n",
              "max        15.900000          1.580000     1.000000       15.500000   \n",
              "\n",
              "         chlorides  free sulfur dioxide  total sulfur dioxide      density  \\\n",
              "count  1599.000000          1599.000000           1599.000000  1599.000000   \n",
              "mean      0.087467            15.874922             46.467792     0.996747   \n",
              "std       0.047065            10.460157             32.895324     0.001887   \n",
              "min       0.012000             1.000000              6.000000     0.990070   \n",
              "25%       0.070000             7.000000             22.000000     0.995600   \n",
              "50%       0.079000            14.000000             38.000000     0.996750   \n",
              "75%       0.090000            21.000000             62.000000     0.997835   \n",
              "max       0.611000            72.000000            289.000000     1.003690   \n",
              "\n",
              "                pH    sulphates      alcohol      quality  \n",
              "count  1599.000000  1599.000000  1599.000000  1599.000000  \n",
              "mean      3.311113     0.658149    10.422983     5.636023  \n",
              "std       0.154386     0.169507     1.065668     0.807569  \n",
              "min       2.740000     0.330000     8.400000     3.000000  \n",
              "25%       3.210000     0.550000     9.500000     5.000000  \n",
              "50%       3.310000     0.620000    10.200000     6.000000  \n",
              "75%       3.400000     0.730000    11.100000     6.000000  \n",
              "max       4.010000     2.000000    14.900000     8.000000  "
            ]
          },
          "execution_count": 238,
          "metadata": {},
          "output_type": "execute_result"
        }
      ],
      "source": [
        "dataset.describe()"
      ]
    },
    {
      "cell_type": "code",
      "execution_count": 239,
      "metadata": {
        "colab": {
          "base_uri": "https://localhost:8080/"
        },
        "id": "Qj8ShQ48NjqK",
        "outputId": "cefddad0-bf5d-4a95-fb64-1d5b54d8130c"
      },
      "outputs": [
        {
          "data": {
            "text/plain": [
              "(1599, 12)"
            ]
          },
          "execution_count": 239,
          "metadata": {},
          "output_type": "execute_result"
        }
      ],
      "source": [
        "dataset.shape"
      ]
    },
    {
      "cell_type": "code",
      "execution_count": 240,
      "metadata": {
        "colab": {
          "base_uri": "https://localhost:8080/"
        },
        "id": "JfzK13jgNn-V",
        "outputId": "3bc2d7b4-fa10-42e3-9d85-718afd99cced"
      },
      "outputs": [
        {
          "data": {
            "text/plain": [
              "6.0     138\n",
              "5.0     104\n",
              "10.0     79\n",
              "15.0     78\n",
              "12.0     75\n",
              "7.0      71\n",
              "9.0      62\n",
              "16.0     61\n",
              "17.0     60\n",
              "11.0     59\n",
              "13.0     57\n",
              "8.0      56\n",
              "14.0     50\n",
              "3.0      49\n",
              "18.0     46\n",
              "4.0      41\n",
              "21.0     41\n",
              "19.0     39\n",
              "24.0     34\n",
              "26.0     32\n",
              "23.0     32\n",
              "20.0     30\n",
              "27.0     29\n",
              "25.0     24\n",
              "29.0     23\n",
              "28.0     23\n",
              "22.0     22\n",
              "32.0     22\n",
              "31.0     20\n",
              "34.0     18\n",
              "30.0     16\n",
              "35.0     15\n",
              "36.0     11\n",
              "33.0     11\n",
              "38.0      9\n",
              "41.0      7\n",
              "40.0      6\n",
              "39.0      5\n",
              "48.0      4\n",
              "51.0      4\n",
              "45.0      3\n",
              "1.0       3\n",
              "43.0      3\n",
              "42.0      3\n",
              "52.0      3\n",
              "37.0      3\n",
              "68.0      2\n",
              "55.0      2\n",
              "50.0      2\n",
              "37.5      2\n",
              "53.0      1\n",
              "72.0      1\n",
              "57.0      1\n",
              "47.0      1\n",
              "5.5       1\n",
              "2.0       1\n",
              "46.0      1\n",
              "54.0      1\n",
              "40.5      1\n",
              "66.0      1\n",
              "Name: free sulfur dioxide, dtype: int64"
            ]
          },
          "execution_count": 240,
          "metadata": {},
          "output_type": "execute_result"
        }
      ],
      "source": [
        "dataset[\"free sulfur dioxide\"].value_counts()"
      ]
    },
    {
      "cell_type": "code",
      "execution_count": 241,
      "metadata": {
        "colab": {
          "base_uri": "https://localhost:8080/",
          "height": 282
        },
        "id": "Zylbo1kbNqma",
        "outputId": "e13092e4-5e01-45c6-d3db-152f7b997e9e"
      },
      "outputs": [
        {
          "data": {
            "text/plain": [
              "<AxesSubplot:>"
            ]
          },
          "execution_count": 241,
          "metadata": {},
          "output_type": "execute_result"
        },
        {
          "data": {
            "image/png": "[encoded data removed]",
            "text/plain": [
              "<Figure size 432x288 with 1 Axes>"
            ]
          },
          "metadata": {
            "needs_background": "light"
          },
          "output_type": "display_data"
        }
      ],
      "source": [
        "dataset[\"free sulfur dioxide\"].hist()"
      ]
    },
    {
      "cell_type": "code",
      "execution_count": 242,
      "metadata": {
        "colab": {
          "base_uri": "https://localhost:8080/"
        },
        "id": "si4f6auwNvtj",
        "outputId": "0ec920ee-1194-465a-baa1-7bd854c2bd94"
      },
      "outputs": [
        {
          "data": {
            "text/plain": [
              "1    605\n",
              "2    555\n",
              "3    276\n",
              "4    122\n",
              "5     25\n",
              "6     12\n",
              "7      4\n",
              "Name: free_sulfur_dioxide_cat, dtype: int64"
            ]
          },
          "execution_count": 242,
          "metadata": {},
          "output_type": "execute_result"
        }
      ],
      "source": [
        "dataset[\"free_sulfur_dioxide_cat\"]= pd.cut(dataset[\"free sulfur dioxide\"],\n",
        "                               bins=[0,10,20,30,40,50,60,np.inf],\n",
        "                               labels=[1,2,3,4,5,6,7])\n",
        "dataset[\"free_sulfur_dioxide_cat\"].value_counts()"
      ]
    },
    {
      "cell_type": "code",
      "execution_count": 243,
      "metadata": {
        "colab": {
          "base_uri": "https://localhost:8080/",
          "height": 282
        },
        "id": "6pSl28rcNxXz",
        "outputId": "12965add-0e56-4b8c-d114-d95519700afa"
      },
      "outputs": [
        {
          "data": {
            "text/plain": [
              "<AxesSubplot:>"
            ]
          },
          "execution_count": 243,
          "metadata": {},
          "output_type": "execute_result"
        },
        {
          "data": {
            "image/png": "[encoded data removed]",
            "text/plain": [
              "<Figure size 432x288 with 1 Axes>"
            ]
          },
          "metadata": {
            "needs_background": "light"
          },
          "output_type": "display_data"
        }
      ],
      "source": [
        "dataset[\"free_sulfur_dioxide_cat\"].hist()"
      ]
    },
    {
      "cell_type": "markdown",
      "metadata": {
        "id": "sk9cn5wyN2pK"
      },
      "source": [
        "# Preparar los datos para exponer mejor los patrones de datos subyacentes a los algoritmos de aprendizaje automático."
      ]
    },
    {
      "cell_type": "code",
      "execution_count": 244,
      "metadata": {
        "id": "LctRoRpZOCAM"
      },
      "outputs": [],
      "source": [
        "#Variables independientes\n",
        "X = dataset.drop(\"quality\", axis=1)\n",
        "#Variables dependientes\n",
        "y =  dataset[\"quality\"]"
      ]
    },
    {
      "cell_type": "markdown",
      "metadata": {
        "id": "IVsy496FOLeM"
      },
      "source": [
        "# Generar el conjunto de prueba."
      ]
    },
    {
      "cell_type": "code",
      "execution_count": 245,
      "metadata": {
        "id": "LpMvPrZjONCt"
      },
      "outputs": [],
      "source": [
        "#Splitting the data set into the training and test set\n",
        "X_train, X_test, y_train, y_test = train_test_split(X, y,test_size=0.2,random_state=1)"
      ]
    },
    {
      "cell_type": "code",
      "execution_count": 246,
      "metadata": {
        "colab": {
          "base_uri": "https://localhost:8080/",
          "height": 502
        },
        "id": "Otn3lZ1GOQR0",
        "outputId": "08f0d46d-fde6-44c3-ef1e-17813136d895"
      },
      "outputs": [
        {
          "data": {
            "text/html": [
              "<div>\n",
              "<style scoped>\n",
              "    .dataframe tbody tr th:only-of-type {\n",
              "        vertical-align: middle;\n",
              "    }\n",
              "\n",
              "    .dataframe tbody tr th {\n",
              "        vertical-align: top;\n",
              "    }\n",
              "\n",
              "    .dataframe thead th {\n",
              "        text-align: right;\n",
              "    }\n",
              "</style>\n",
              "<table border=\"1\" class=\"dataframe\">\n",
              "  <thead>\n",
              "    <tr style=\"text-align: right;\">\n",
              "      <th></th>\n",
              "      <th>fixed acidity</th>\n",
              "      <th>volatile acidity</th>\n",
              "      <th>citric acid</th>\n",
              "      <th>residual sugar</th>\n",
              "      <th>chlorides</th>\n",
              "      <th>free sulfur dioxide</th>\n",
              "      <th>total sulfur dioxide</th>\n",
              "      <th>density</th>\n",
              "      <th>pH</th>\n",
              "      <th>sulphates</th>\n",
              "      <th>alcohol</th>\n",
              "      <th>free_sulfur_dioxide_cat</th>\n",
              "    </tr>\n",
              "  </thead>\n",
              "  <tbody>\n",
              "    <tr>\n",
              "      <th>701</th>\n",
              "      <td>7.0</td>\n",
              "      <td>0.650</td>\n",
              "      <td>0.02</td>\n",
              "      <td>2.1</td>\n",
              "      <td>0.066</td>\n",
              "      <td>8.0</td>\n",
              "      <td>25.0</td>\n",
              "      <td>0.99720</td>\n",
              "      <td>3.47</td>\n",
              "      <td>0.67</td>\n",
              "      <td>9.5</td>\n",
              "      <td>1</td>\n",
              "    </tr>\n",
              "    <tr>\n",
              "      <th>56</th>\n",
              "      <td>10.2</td>\n",
              "      <td>0.420</td>\n",
              "      <td>0.57</td>\n",
              "      <td>3.4</td>\n",
              "      <td>0.070</td>\n",
              "      <td>4.0</td>\n",
              "      <td>10.0</td>\n",
              "      <td>0.99710</td>\n",
              "      <td>3.04</td>\n",
              "      <td>0.63</td>\n",
              "      <td>9.6</td>\n",
              "      <td>1</td>\n",
              "    </tr>\n",
              "    <tr>\n",
              "      <th>142</th>\n",
              "      <td>5.2</td>\n",
              "      <td>0.340</td>\n",
              "      <td>0.00</td>\n",
              "      <td>1.8</td>\n",
              "      <td>0.050</td>\n",
              "      <td>27.0</td>\n",
              "      <td>63.0</td>\n",
              "      <td>0.99160</td>\n",
              "      <td>3.68</td>\n",
              "      <td>0.79</td>\n",
              "      <td>14.0</td>\n",
              "      <td>3</td>\n",
              "    </tr>\n",
              "    <tr>\n",
              "      <th>863</th>\n",
              "      <td>7.2</td>\n",
              "      <td>0.620</td>\n",
              "      <td>0.06</td>\n",
              "      <td>2.5</td>\n",
              "      <td>0.078</td>\n",
              "      <td>17.0</td>\n",
              "      <td>84.0</td>\n",
              "      <td>0.99746</td>\n",
              "      <td>3.51</td>\n",
              "      <td>0.53</td>\n",
              "      <td>9.7</td>\n",
              "      <td>2</td>\n",
              "    </tr>\n",
              "    <tr>\n",
              "      <th>1387</th>\n",
              "      <td>7.4</td>\n",
              "      <td>0.640</td>\n",
              "      <td>0.07</td>\n",
              "      <td>1.8</td>\n",
              "      <td>0.100</td>\n",
              "      <td>8.0</td>\n",
              "      <td>23.0</td>\n",
              "      <td>0.99610</td>\n",
              "      <td>3.30</td>\n",
              "      <td>0.58</td>\n",
              "      <td>9.6</td>\n",
              "      <td>1</td>\n",
              "    </tr>\n",
              "    <tr>\n",
              "      <th>...</th>\n",
              "      <td>...</td>\n",
              "      <td>...</td>\n",
              "      <td>...</td>\n",
              "      <td>...</td>\n",
              "      <td>...</td>\n",
              "      <td>...</td>\n",
              "      <td>...</td>\n",
              "      <td>...</td>\n",
              "      <td>...</td>\n",
              "      <td>...</td>\n",
              "      <td>...</td>\n",
              "      <td>...</td>\n",
              "    </tr>\n",
              "    <tr>\n",
              "      <th>715</th>\n",
              "      <td>7.2</td>\n",
              "      <td>0.490</td>\n",
              "      <td>0.18</td>\n",
              "      <td>2.7</td>\n",
              "      <td>0.069</td>\n",
              "      <td>13.0</td>\n",
              "      <td>34.0</td>\n",
              "      <td>0.99670</td>\n",
              "      <td>3.29</td>\n",
              "      <td>0.48</td>\n",
              "      <td>9.2</td>\n",
              "      <td>2</td>\n",
              "    </tr>\n",
              "    <tr>\n",
              "      <th>905</th>\n",
              "      <td>9.2</td>\n",
              "      <td>0.580</td>\n",
              "      <td>0.20</td>\n",
              "      <td>3.0</td>\n",
              "      <td>0.081</td>\n",
              "      <td>15.0</td>\n",
              "      <td>115.0</td>\n",
              "      <td>0.99800</td>\n",
              "      <td>3.23</td>\n",
              "      <td>0.59</td>\n",
              "      <td>9.5</td>\n",
              "      <td>2</td>\n",
              "    </tr>\n",
              "    <tr>\n",
              "      <th>1096</th>\n",
              "      <td>6.6</td>\n",
              "      <td>0.725</td>\n",
              "      <td>0.09</td>\n",
              "      <td>5.5</td>\n",
              "      <td>0.117</td>\n",
              "      <td>9.0</td>\n",
              "      <td>17.0</td>\n",
              "      <td>0.99655</td>\n",
              "      <td>3.35</td>\n",
              "      <td>0.49</td>\n",
              "      <td>10.8</td>\n",
              "      <td>1</td>\n",
              "    </tr>\n",
              "    <tr>\n",
              "      <th>235</th>\n",
              "      <td>7.2</td>\n",
              "      <td>0.630</td>\n",
              "      <td>0.00</td>\n",
              "      <td>1.9</td>\n",
              "      <td>0.097</td>\n",
              "      <td>14.0</td>\n",
              "      <td>38.0</td>\n",
              "      <td>0.99675</td>\n",
              "      <td>3.37</td>\n",
              "      <td>0.58</td>\n",
              "      <td>9.0</td>\n",
              "      <td>2</td>\n",
              "    </tr>\n",
              "    <tr>\n",
              "      <th>1061</th>\n",
              "      <td>9.1</td>\n",
              "      <td>0.400</td>\n",
              "      <td>0.50</td>\n",
              "      <td>1.8</td>\n",
              "      <td>0.071</td>\n",
              "      <td>7.0</td>\n",
              "      <td>16.0</td>\n",
              "      <td>0.99462</td>\n",
              "      <td>3.21</td>\n",
              "      <td>0.69</td>\n",
              "      <td>12.5</td>\n",
              "      <td>1</td>\n",
              "    </tr>\n",
              "  </tbody>\n",
              "</table>\n",
              "<p>1279 rows × 12 columns</p>\n",
              "</div>"
            ],
            "text/plain": [
              "      fixed acidity  volatile acidity  citric acid  residual sugar  chlorides  \\\n",
              "701             7.0             0.650         0.02             2.1      0.066   \n",
              "56             10.2             0.420         0.57             3.4      0.070   \n",
              "142             5.2             0.340         0.00             1.8      0.050   \n",
              "863             7.2             0.620         0.06             2.5      0.078   \n",
              "1387            7.4             0.640         0.07             1.8      0.100   \n",
              "...             ...               ...          ...             ...        ...   \n",
              "715             7.2             0.490         0.18             2.7      0.069   \n",
              "905             9.2             0.580         0.20             3.0      0.081   \n",
              "1096            6.6             0.725         0.09             5.5      0.117   \n",
              "235             7.2             0.630         0.00             1.9      0.097   \n",
              "1061            9.1             0.400         0.50             1.8      0.071   \n",
              "\n",
              "      free sulfur dioxide  total sulfur dioxide  density    pH  sulphates  \\\n",
              "701                   8.0                  25.0  0.99720  3.47       0.67   \n",
              "56                    4.0                  10.0  0.99710  3.04       0.63   \n",
              "142                  27.0                  63.0  0.99160  3.68       0.79   \n",
              "863                  17.0                  84.0  0.99746  3.51       0.53   \n",
              "1387                  8.0                  23.0  0.99610  3.30       0.58   \n",
              "...                   ...                   ...      ...   ...        ...   \n",
              "715                  13.0                  34.0  0.99670  3.29       0.48   \n",
              "905                  15.0                 115.0  0.99800  3.23       0.59   \n",
              "1096                  9.0                  17.0  0.99655  3.35       0.49   \n",
              "235                  14.0                  38.0  0.99675  3.37       0.58   \n",
              "1061                  7.0                  16.0  0.99462  3.21       0.69   \n",
              "\n",
              "      alcohol free_sulfur_dioxide_cat  \n",
              "701       9.5                       1  \n",
              "56        9.6                       1  \n",
              "142      14.0                       3  \n",
              "863       9.7                       2  \n",
              "1387      9.6                       1  \n",
              "...       ...                     ...  \n",
              "715       9.2                       2  \n",
              "905       9.5                       2  \n",
              "1096     10.8                       1  \n",
              "235       9.0                       2  \n",
              "1061     12.5                       1  \n",
              "\n",
              "[1279 rows x 12 columns]"
            ]
          },
          "execution_count": 246,
          "metadata": {},
          "output_type": "execute_result"
        }
      ],
      "source": [
        "X_train"
      ]
    },
    {
      "cell_type": "code",
      "execution_count": 247,
      "metadata": {
        "colab": {
          "base_uri": "https://localhost:8080/",
          "height": 502
        },
        "id": "PNnn7fjKORTs",
        "outputId": "8b50d180-f7b7-45ec-ffa1-b36c12751514"
      },
      "outputs": [
        {
          "data": {
            "text/html": [
              "<div>\n",
              "<style scoped>\n",
              "    .dataframe tbody tr th:only-of-type {\n",
              "        vertical-align: middle;\n",
              "    }\n",
              "\n",
              "    .dataframe tbody tr th {\n",
              "        vertical-align: top;\n",
              "    }\n",
              "\n",
              "    .dataframe thead th {\n",
              "        text-align: right;\n",
              "    }\n",
              "</style>\n",
              "<table border=\"1\" class=\"dataframe\">\n",
              "  <thead>\n",
              "    <tr style=\"text-align: right;\">\n",
              "      <th></th>\n",
              "      <th>fixed acidity</th>\n",
              "      <th>volatile acidity</th>\n",
              "      <th>citric acid</th>\n",
              "      <th>residual sugar</th>\n",
              "      <th>chlorides</th>\n",
              "      <th>free sulfur dioxide</th>\n",
              "      <th>total sulfur dioxide</th>\n",
              "      <th>density</th>\n",
              "      <th>pH</th>\n",
              "      <th>sulphates</th>\n",
              "      <th>alcohol</th>\n",
              "      <th>free_sulfur_dioxide_cat</th>\n",
              "    </tr>\n",
              "  </thead>\n",
              "  <tbody>\n",
              "    <tr>\n",
              "      <th>75</th>\n",
              "      <td>8.8</td>\n",
              "      <td>0.41</td>\n",
              "      <td>0.64</td>\n",
              "      <td>2.2</td>\n",
              "      <td>0.093</td>\n",
              "      <td>9.0</td>\n",
              "      <td>42.0</td>\n",
              "      <td>0.99860</td>\n",
              "      <td>3.54</td>\n",
              "      <td>0.66</td>\n",
              "      <td>10.5</td>\n",
              "      <td>1</td>\n",
              "    </tr>\n",
              "    <tr>\n",
              "      <th>1283</th>\n",
              "      <td>8.7</td>\n",
              "      <td>0.63</td>\n",
              "      <td>0.28</td>\n",
              "      <td>2.7</td>\n",
              "      <td>0.096</td>\n",
              "      <td>17.0</td>\n",
              "      <td>69.0</td>\n",
              "      <td>0.99734</td>\n",
              "      <td>3.26</td>\n",
              "      <td>0.63</td>\n",
              "      <td>10.2</td>\n",
              "      <td>2</td>\n",
              "    </tr>\n",
              "    <tr>\n",
              "      <th>408</th>\n",
              "      <td>10.4</td>\n",
              "      <td>0.34</td>\n",
              "      <td>0.58</td>\n",
              "      <td>3.7</td>\n",
              "      <td>0.174</td>\n",
              "      <td>6.0</td>\n",
              "      <td>16.0</td>\n",
              "      <td>0.99700</td>\n",
              "      <td>3.19</td>\n",
              "      <td>0.70</td>\n",
              "      <td>11.3</td>\n",
              "      <td>1</td>\n",
              "    </tr>\n",
              "    <tr>\n",
              "      <th>1281</th>\n",
              "      <td>7.1</td>\n",
              "      <td>0.46</td>\n",
              "      <td>0.20</td>\n",
              "      <td>1.9</td>\n",
              "      <td>0.077</td>\n",
              "      <td>28.0</td>\n",
              "      <td>54.0</td>\n",
              "      <td>0.99560</td>\n",
              "      <td>3.37</td>\n",
              "      <td>0.64</td>\n",
              "      <td>10.4</td>\n",
              "      <td>3</td>\n",
              "    </tr>\n",
              "    <tr>\n",
              "      <th>1118</th>\n",
              "      <td>7.1</td>\n",
              "      <td>0.39</td>\n",
              "      <td>0.12</td>\n",
              "      <td>2.1</td>\n",
              "      <td>0.065</td>\n",
              "      <td>14.0</td>\n",
              "      <td>24.0</td>\n",
              "      <td>0.99252</td>\n",
              "      <td>3.30</td>\n",
              "      <td>0.53</td>\n",
              "      <td>13.3</td>\n",
              "      <td>2</td>\n",
              "    </tr>\n",
              "    <tr>\n",
              "      <th>...</th>\n",
              "      <td>...</td>\n",
              "      <td>...</td>\n",
              "      <td>...</td>\n",
              "      <td>...</td>\n",
              "      <td>...</td>\n",
              "      <td>...</td>\n",
              "      <td>...</td>\n",
              "      <td>...</td>\n",
              "      <td>...</td>\n",
              "      <td>...</td>\n",
              "      <td>...</td>\n",
              "      <td>...</td>\n",
              "    </tr>\n",
              "    <tr>\n",
              "      <th>890</th>\n",
              "      <td>7.2</td>\n",
              "      <td>0.34</td>\n",
              "      <td>0.24</td>\n",
              "      <td>2.0</td>\n",
              "      <td>0.071</td>\n",
              "      <td>30.0</td>\n",
              "      <td>52.0</td>\n",
              "      <td>0.99576</td>\n",
              "      <td>3.44</td>\n",
              "      <td>0.58</td>\n",
              "      <td>10.1</td>\n",
              "      <td>3</td>\n",
              "    </tr>\n",
              "    <tr>\n",
              "      <th>146</th>\n",
              "      <td>5.8</td>\n",
              "      <td>0.68</td>\n",
              "      <td>0.02</td>\n",
              "      <td>1.8</td>\n",
              "      <td>0.087</td>\n",
              "      <td>21.0</td>\n",
              "      <td>94.0</td>\n",
              "      <td>0.99440</td>\n",
              "      <td>3.54</td>\n",
              "      <td>0.52</td>\n",
              "      <td>10.0</td>\n",
              "      <td>3</td>\n",
              "    </tr>\n",
              "    <tr>\n",
              "      <th>1551</th>\n",
              "      <td>7.1</td>\n",
              "      <td>0.67</td>\n",
              "      <td>0.00</td>\n",
              "      <td>2.3</td>\n",
              "      <td>0.083</td>\n",
              "      <td>18.0</td>\n",
              "      <td>27.0</td>\n",
              "      <td>0.99768</td>\n",
              "      <td>3.44</td>\n",
              "      <td>0.54</td>\n",
              "      <td>9.4</td>\n",
              "      <td>2</td>\n",
              "    </tr>\n",
              "    <tr>\n",
              "      <th>1209</th>\n",
              "      <td>6.2</td>\n",
              "      <td>0.39</td>\n",
              "      <td>0.43</td>\n",
              "      <td>2.0</td>\n",
              "      <td>0.071</td>\n",
              "      <td>14.0</td>\n",
              "      <td>24.0</td>\n",
              "      <td>0.99428</td>\n",
              "      <td>3.45</td>\n",
              "      <td>0.87</td>\n",
              "      <td>11.2</td>\n",
              "      <td>2</td>\n",
              "    </tr>\n",
              "    <tr>\n",
              "      <th>1220</th>\n",
              "      <td>10.9</td>\n",
              "      <td>0.32</td>\n",
              "      <td>0.52</td>\n",
              "      <td>1.8</td>\n",
              "      <td>0.132</td>\n",
              "      <td>17.0</td>\n",
              "      <td>44.0</td>\n",
              "      <td>0.99734</td>\n",
              "      <td>3.28</td>\n",
              "      <td>0.77</td>\n",
              "      <td>11.5</td>\n",
              "      <td>2</td>\n",
              "    </tr>\n",
              "  </tbody>\n",
              "</table>\n",
              "<p>320 rows × 12 columns</p>\n",
              "</div>"
            ],
            "text/plain": [
              "      fixed acidity  volatile acidity  citric acid  residual sugar  chlorides  \\\n",
              "75              8.8              0.41         0.64             2.2      0.093   \n",
              "1283            8.7              0.63         0.28             2.7      0.096   \n",
              "408            10.4              0.34         0.58             3.7      0.174   \n",
              "1281            7.1              0.46         0.20             1.9      0.077   \n",
              "1118            7.1              0.39         0.12             2.1      0.065   \n",
              "...             ...               ...          ...             ...        ...   \n",
              "890             7.2              0.34         0.24             2.0      0.071   \n",
              "146             5.8              0.68         0.02             1.8      0.087   \n",
              "1551            7.1              0.67         0.00             2.3      0.083   \n",
              "1209            6.2              0.39         0.43             2.0      0.071   \n",
              "1220           10.9              0.32         0.52             1.8      0.132   \n",
              "\n",
              "      free sulfur dioxide  total sulfur dioxide  density    pH  sulphates  \\\n",
              "75                    9.0                  42.0  0.99860  3.54       0.66   \n",
              "1283                 17.0                  69.0  0.99734  3.26       0.63   \n",
              "408                   6.0                  16.0  0.99700  3.19       0.70   \n",
              "1281                 28.0                  54.0  0.99560  3.37       0.64   \n",
              "1118                 14.0                  24.0  0.99252  3.30       0.53   \n",
              "...                   ...                   ...      ...   ...        ...   \n",
              "890                  30.0                  52.0  0.99576  3.44       0.58   \n",
              "146                  21.0                  94.0  0.99440  3.54       0.52   \n",
              "1551                 18.0                  27.0  0.99768  3.44       0.54   \n",
              "1209                 14.0                  24.0  0.99428  3.45       0.87   \n",
              "1220                 17.0                  44.0  0.99734  3.28       0.77   \n",
              "\n",
              "      alcohol free_sulfur_dioxide_cat  \n",
              "75       10.5                       1  \n",
              "1283     10.2                       2  \n",
              "408      11.3                       1  \n",
              "1281     10.4                       3  \n",
              "1118     13.3                       2  \n",
              "...       ...                     ...  \n",
              "890      10.1                       3  \n",
              "146      10.0                       3  \n",
              "1551      9.4                       2  \n",
              "1209     11.2                       2  \n",
              "1220     11.5                       2  \n",
              "\n",
              "[320 rows x 12 columns]"
            ]
          },
          "execution_count": 247,
          "metadata": {},
          "output_type": "execute_result"
        }
      ],
      "source": [
        "X_test"
      ]
    },
    {
      "cell_type": "code",
      "execution_count": 248,
      "metadata": {
        "colab": {
          "base_uri": "https://localhost:8080/"
        },
        "id": "9Hb9lbXzOTdk",
        "outputId": "887892e1-cf13-4a53-8abc-60ea09f4a26e"
      },
      "outputs": [
        {
          "data": {
            "text/plain": [
              "701     6\n",
              "56      5\n",
              "142     6\n",
              "863     5\n",
              "1387    5\n",
              "       ..\n",
              "715     6\n",
              "905     5\n",
              "1096    6\n",
              "235     6\n",
              "1061    8\n",
              "Name: quality, Length: 1279, dtype: int64"
            ]
          },
          "execution_count": 248,
          "metadata": {},
          "output_type": "execute_result"
        }
      ],
      "source": [
        "y_train"
      ]
    },
    {
      "cell_type": "code",
      "execution_count": 249,
      "metadata": {
        "colab": {
          "base_uri": "https://localhost:8080/"
        },
        "id": "yIPz-j38OVdt",
        "outputId": "2f64dfd5-5cd4-4672-b675-7ad1b861ced3"
      },
      "outputs": [
        {
          "data": {
            "text/plain": [
              "75      5\n",
              "1283    6\n",
              "408     6\n",
              "1281    6\n",
              "1118    6\n",
              "       ..\n",
              "890     5\n",
              "146     5\n",
              "1551    5\n",
              "1209    7\n",
              "1220    6\n",
              "Name: quality, Length: 320, dtype: int64"
            ]
          },
          "execution_count": 249,
          "metadata": {},
          "output_type": "execute_result"
        }
      ],
      "source": [
        "y_test"
      ]
    },
    {
      "cell_type": "code",
      "execution_count": 250,
      "metadata": {
        "colab": {
          "base_uri": "https://localhost:8080/",
          "height": 282
        },
        "id": "LN0XF2AwOaQ1",
        "outputId": "d9b4bc7a-8c80-44f0-efe8-468fe9c2f94f"
      },
      "outputs": [
        {
          "data": {
            "text/plain": [
              "<AxesSubplot:>"
            ]
          },
          "execution_count": 250,
          "metadata": {},
          "output_type": "execute_result"
        },
        {
          "data": {
            "image/png": "[encoded data removed]",
            "text/plain": [
              "<Figure size 432x288 with 1 Axes>"
            ]
          },
          "metadata": {
            "needs_background": "light"
          },
          "output_type": "display_data"
        }
      ],
      "source": [
        "dataset['free_sulfur_dioxide_cat'].hist()"
      ]
    },
    {
      "cell_type": "code",
      "execution_count": 251,
      "metadata": {
        "colab": {
          "base_uri": "https://localhost:8080/",
          "height": 282
        },
        "id": "lLt3cVlXOh5l",
        "outputId": "50c8aef7-7eb5-4ca4-9b56-5f6e039a7ef6"
      },
      "outputs": [
        {
          "data": {
            "text/plain": [
              "<AxesSubplot:>"
            ]
          },
          "execution_count": 251,
          "metadata": {},
          "output_type": "execute_result"
        },
        {
          "data": {
            "image/png": "[encoded data removed]",
            "text/plain": [
              "<Figure size 432x288 with 1 Axes>"
            ]
          },
          "metadata": {
            "needs_background": "light"
          },
          "output_type": "display_data"
        }
      ],
      "source": [
        "X_train[\"free_sulfur_dioxide_cat\"].hist()"
      ]
    },
    {
      "cell_type": "code",
      "execution_count": 252,
      "metadata": {
        "id": "LY-oIL-LOrj9"
      },
      "outputs": [],
      "source": [
        "from sklearn.model_selection import StratifiedShuffleSplit\n",
        "\n",
        "split = StratifiedShuffleSplit(n_splits=1, test_size=0.2, random_state=42)\n",
        "for train_index, test_index in split.split(dataset, dataset[\"free_sulfur_dioxide_cat\"]):\n",
        "    strat_train_set = dataset.loc[train_index]\n",
        "    strat_test_set = dataset.loc[test_index]"
      ]
    },
    {
      "cell_type": "code",
      "execution_count": 253,
      "metadata": {
        "colab": {
          "base_uri": "https://localhost:8080/"
        },
        "id": "w2uCbIbNOuEn",
        "outputId": "c8f38300-6306-4de0-a6ee-00941a695c3a"
      },
      "outputs": [
        {
          "data": {
            "text/plain": [
              "1    0.378125\n",
              "2    0.346875\n",
              "3    0.171875\n",
              "4    0.078125\n",
              "5    0.015625\n",
              "6    0.006250\n",
              "7    0.003125\n",
              "Name: free_sulfur_dioxide_cat, dtype: float64"
            ]
          },
          "execution_count": 253,
          "metadata": {},
          "output_type": "execute_result"
        }
      ],
      "source": [
        "strat_test_set[\"free_sulfur_dioxide_cat\"].value_counts() / len(strat_test_set)"
      ]
    },
    {
      "cell_type": "code",
      "execution_count": 254,
      "metadata": {
        "colab": {
          "base_uri": "https://localhost:8080/"
        },
        "id": "NeVRgjsWOxXF",
        "outputId": "2bf70835-6f12-4df5-de83-1a7bcf4b4386"
      },
      "outputs": [
        {
          "data": {
            "text/plain": [
              "1    0.378361\n",
              "2    0.347092\n",
              "3    0.172608\n",
              "4    0.076298\n",
              "5    0.015635\n",
              "6    0.007505\n",
              "7    0.002502\n",
              "Name: free_sulfur_dioxide_cat, dtype: float64"
            ]
          },
          "execution_count": 254,
          "metadata": {},
          "output_type": "execute_result"
        }
      ],
      "source": [
        "dataset[\"free_sulfur_dioxide_cat\"].value_counts() / len(dataset)"
      ]
    },
    {
      "cell_type": "code",
      "execution_count": 255,
      "metadata": {
        "id": "YSOYfKkKO1Xm"
      },
      "outputs": [],
      "source": [
        "def free_sulfur_dioxide_cat_proportions(data):\n",
        "    return data[\"free_sulfur_dioxide_cat\"].value_counts() / len(data)\n",
        "\n",
        "train_set, test_set = train_test_split(dataset, test_size=0.2, random_state=42)\n",
        "\n",
        "compare_props = pd.DataFrame({\n",
        "    \"Overall\": free_sulfur_dioxide_cat_proportions(dataset),\n",
        "    \"Stratified\": free_sulfur_dioxide_cat_proportions(strat_test_set),\n",
        "    \"Random\": free_sulfur_dioxide_cat_proportions(test_set),\n",
        "}).sort_index()\n",
        "compare_props[\"Rand. %error\"] = 100 * compare_props[\"Random\"] / compare_props[\"Overall\"] - 100\n",
        "compare_props[\"Strat. %error\"] = 100 * compare_props[\"Stratified\"] / compare_props[\"Overall\"] - 100"
      ]
    },
    {
      "cell_type": "code",
      "execution_count": 256,
      "metadata": {
        "id": "t7J2Tm-AO2Cl"
      },
      "outputs": [],
      "source": [
        "for set_ in (strat_train_set, strat_test_set):\n",
        "    set_.drop(\"free_sulfur_dioxide_cat\", axis=1, inplace=True)"
      ]
    },
    {
      "cell_type": "markdown",
      "metadata": {
        "id": "v06MNELnO98e"
      },
      "source": [
        "# Visualización de los datos"
      ]
    },
    {
      "cell_type": "code",
      "execution_count": 257,
      "metadata": {
        "id": "Q-u91NiCO_3n"
      },
      "outputs": [],
      "source": [
        "dataset = strat_train_set.copy()"
      ]
    },
    {
      "cell_type": "code",
      "execution_count": 258,
      "metadata": {
        "colab": {
          "base_uri": "https://localhost:8080/",
          "height": 1000
        },
        "id": "AynLEwoiPDd2",
        "outputId": "a0c17465-a0b6-45ab-d4c3-c33539e3b325"
      },
      "outputs": [
        {
          "data": {
            "text/plain": [
              "array([[<AxesSubplot:title={'center':'fixed acidity'}>,\n",
              "        <AxesSubplot:title={'center':'volatile acidity'}>,\n",
              "        <AxesSubplot:title={'center':'citric acid'}>],\n",
              "       [<AxesSubplot:title={'center':'residual sugar'}>,\n",
              "        <AxesSubplot:title={'center':'chlorides'}>,\n",
              "        <AxesSubplot:title={'center':'free sulfur dioxide'}>],\n",
              "       [<AxesSubplot:title={'center':'total sulfur dioxide'}>,\n",
              "        <AxesSubplot:title={'center':'density'}>,\n",
              "        <AxesSubplot:title={'center':'pH'}>],\n",
              "       [<AxesSubplot:title={'center':'sulphates'}>,\n",
              "        <AxesSubplot:title={'center':'alcohol'}>,\n",
              "        <AxesSubplot:title={'center':'quality'}>]], dtype=object)"
            ]
          },
          "execution_count": 258,
          "metadata": {},
          "output_type": "execute_result"
        },
        {
          "data": {
            "image/png": "[encoded data removed]",
            "text/plain": [
              "<Figure size 1440x1080 with 12 Axes>"
            ]
          },
          "metadata": {
            "needs_background": "light"
          },
          "output_type": "display_data"
        }
      ],
      "source": [
        "dataset.hist(bins=50, figsize=(20,15))"
      ]
    },
    {
      "cell_type": "code",
      "execution_count": 259,
      "metadata": {
        "colab": {
          "base_uri": "https://localhost:8080/",
          "height": 282
        },
        "id": "A1EsUUKFPKj2",
        "outputId": "baacb84f-f8b5-4665-efa1-23cf2e1493bf"
      },
      "outputs": [
        {
          "data": {
            "text/plain": [
              "<AxesSubplot:>"
            ]
          },
          "execution_count": 259,
          "metadata": {},
          "output_type": "execute_result"
        },
        {
          "data": {
            "image/png": "[encoded data removed]",
            "text/plain": [
              "<Figure size 432x288 with 1 Axes>"
            ]
          },
          "metadata": {
            "needs_background": "light"
          },
          "output_type": "display_data"
        }
      ],
      "source": [
        "dataset['free sulfur dioxide'].hist(bins=50)"
      ]
    },
    {
      "cell_type": "code",
      "execution_count": 260,
      "metadata": {
        "colab": {
          "base_uri": "https://localhost:8080/"
        },
        "id": "DnQgdTcQPYGF",
        "outputId": "f4f11b59-6779-4d13-b890-5895268a91b0"
      },
      "outputs": [
        {
          "data": {
            "text/plain": [
              "quality                 1.000000\n",
              "alcohol                 0.490562\n",
              "sulphates               0.248939\n",
              "citric acid             0.220403\n",
              "fixed acidity           0.117688\n",
              "residual sugar          0.025148\n",
              "free sulfur dioxide    -0.035671\n",
              "pH                     -0.042103\n",
              "chlorides              -0.133082\n",
              "total sulfur dioxide   -0.172898\n",
              "density                -0.185599\n",
              "volatile acidity       -0.391533\n",
              "Name: quality, dtype: float64"
            ]
          },
          "execution_count": 260,
          "metadata": {},
          "output_type": "execute_result"
        }
      ],
      "source": [
        "#matriz de correlacion\n",
        "corr_matrix = dataset.corr()\n",
        "corr_matrix[\"quality\"].sort_values(ascending=False)"
      ]
    },
    {
      "cell_type": "code",
      "execution_count": 261,
      "metadata": {
        "colab": {
          "base_uri": "https://localhost:8080/",
          "height": 795
        },
        "id": "5R-rAxzMPaZo",
        "outputId": "8bca5df3-ea6c-40f8-956c-9ce72c9c3986"
      },
      "outputs": [
        {
          "data": {
            "text/plain": [
              "array([[<AxesSubplot:xlabel='quality', ylabel='quality'>,\n",
              "        <AxesSubplot:xlabel='alcohol', ylabel='quality'>,\n",
              "        <AxesSubplot:xlabel='volatile acidity', ylabel='quality'>,\n",
              "        <AxesSubplot:xlabel='sulphates', ylabel='quality'>],\n",
              "       [<AxesSubplot:xlabel='quality', ylabel='alcohol'>,\n",
              "        <AxesSubplot:xlabel='alcohol', ylabel='alcohol'>,\n",
              "        <AxesSubplot:xlabel='volatile acidity', ylabel='alcohol'>,\n",
              "        <AxesSubplot:xlabel='sulphates', ylabel='alcohol'>],\n",
              "       [<AxesSubplot:xlabel='quality', ylabel='volatile acidity'>,\n",
              "        <AxesSubplot:xlabel='alcohol', ylabel='volatile acidity'>,\n",
              "        <AxesSubplot:xlabel='volatile acidity', ylabel='volatile acidity'>,\n",
              "        <AxesSubplot:xlabel='sulphates', ylabel='volatile acidity'>],\n",
              "       [<AxesSubplot:xlabel='quality', ylabel='sulphates'>,\n",
              "        <AxesSubplot:xlabel='alcohol', ylabel='sulphates'>,\n",
              "        <AxesSubplot:xlabel='volatile acidity', ylabel='sulphates'>,\n",
              "        <AxesSubplot:xlabel='sulphates', ylabel='sulphates'>]],\n",
              "      dtype=object)"
            ]
          },
          "execution_count": 261,
          "metadata": {},
          "output_type": "execute_result"
        },
        {
          "data": {
            "image/png": "[encoded data removed]",
            "text/plain": [
              "<Figure size 864x576 with 16 Axes>"
            ]
          },
          "metadata": {
            "needs_background": "light"
          },
          "output_type": "display_data"
        }
      ],
      "source": [
        "from pandas.plotting import scatter_matrix\n",
        "\n",
        "attributes = [\"quality\",\"alcohol\", \"volatile acidity\", \"sulphates\"]\n",
        "scatter_matrix(dataset[attributes], figsize=(12, 8))"
      ]
    },
    {
      "cell_type": "markdown",
      "metadata": {
        "id": "8PSZwxVoPwWH"
      },
      "source": [
        "# Preparar los datos para exponer mejor los patrones de datos subyacentes a los algoritmos de aprendizaje automático.\n",
        "\n"
      ]
    },
    {
      "cell_type": "code",
      "execution_count": 262,
      "metadata": {
        "id": "ZsZZIXIZP14o"
      },
      "outputs": [],
      "source": [
        "dataset_copy = dataset.drop(\"quality\", axis=1)\n",
        "dataset_labels =  strat_train_set[\"quality\"].copy()"
      ]
    },
    {
      "cell_type": "code",
      "execution_count": 263,
      "metadata": {
        "colab": {
          "base_uri": "https://localhost:8080/",
          "height": 111
        },
        "id": "Xr_3LAp-QFRA",
        "outputId": "878ebcb2-3e67-46b4-a1d6-bac6faa602d4"
      },
      "outputs": [
        {
          "data": {
            "text/html": [
              "<div>\n",
              "<style scoped>\n",
              "    .dataframe tbody tr th:only-of-type {\n",
              "        vertical-align: middle;\n",
              "    }\n",
              "\n",
              "    .dataframe tbody tr th {\n",
              "        vertical-align: top;\n",
              "    }\n",
              "\n",
              "    .dataframe thead th {\n",
              "        text-align: right;\n",
              "    }\n",
              "</style>\n",
              "<table border=\"1\" class=\"dataframe\">\n",
              "  <thead>\n",
              "    <tr style=\"text-align: right;\">\n",
              "      <th></th>\n",
              "      <th>fixed acidity</th>\n",
              "      <th>volatile acidity</th>\n",
              "      <th>citric acid</th>\n",
              "      <th>residual sugar</th>\n",
              "      <th>chlorides</th>\n",
              "      <th>free sulfur dioxide</th>\n",
              "      <th>total sulfur dioxide</th>\n",
              "      <th>density</th>\n",
              "      <th>pH</th>\n",
              "      <th>sulphates</th>\n",
              "      <th>alcohol</th>\n",
              "    </tr>\n",
              "  </thead>\n",
              "  <tbody>\n",
              "  </tbody>\n",
              "</table>\n",
              "</div>"
            ],
            "text/plain": [
              "Empty DataFrame\n",
              "Columns: [fixed acidity, volatile acidity, citric acid, residual sugar, chlorides, free sulfur dioxide, total sulfur dioxide, density, pH, sulphates, alcohol]\n",
              "Index: []"
            ]
          },
          "execution_count": 263,
          "metadata": {},
          "output_type": "execute_result"
        }
      ],
      "source": [
        "incomplete_rows = dataset_copy[dataset_copy.isnull().any(axis=1)].head()\n",
        "incomplete_rows"
      ]
    },
    {
      "cell_type": "code",
      "execution_count": 264,
      "metadata": {
        "id": "to_OKtcCQLaZ"
      },
      "outputs": [],
      "source": [
        "from sklearn.impute import SimpleImputer\n",
        "imputer = SimpleImputer(strategy=\"median\")"
      ]
    },
    {
      "cell_type": "code",
      "execution_count": 265,
      "metadata": {
        "colab": {
          "base_uri": "https://localhost:8080/"
        },
        "id": "rjMXdM9XQMsZ",
        "outputId": "71637ade-f81c-4964-e1c9-ca648286a189"
      },
      "outputs": [
        {
          "data": {
            "text/plain": [
              "SimpleImputer(strategy='median')"
            ]
          },
          "execution_count": 265,
          "metadata": {},
          "output_type": "execute_result"
        }
      ],
      "source": [
        "wines_num = dataset_copy.select_dtypes(include=[np.number])\n",
        "imputer.fit(wines_num)"
      ]
    },
    {
      "cell_type": "code",
      "execution_count": 266,
      "metadata": {
        "colab": {
          "base_uri": "https://localhost:8080/"
        },
        "id": "9Sak7GxMQXJp",
        "outputId": "879cec47-6f1e-41e6-aeaa-4dda5d1fa7a5"
      },
      "outputs": [
        {
          "data": {
            "text/plain": [
              "array([ 7.9    ,  0.52   ,  0.26   ,  2.2    ,  0.079  , 14.     ,\n",
              "       38.     ,  0.99675,  3.31   ,  0.62   , 10.2    ])"
            ]
          },
          "execution_count": 266,
          "metadata": {},
          "output_type": "execute_result"
        }
      ],
      "source": [
        "imputer.statistics_"
      ]
    },
    {
      "cell_type": "code",
      "execution_count": 267,
      "metadata": {
        "colab": {
          "base_uri": "https://localhost:8080/"
        },
        "id": "1NtkuNX_QY36",
        "outputId": "1e12b21e-a44e-40f1-ee9d-41aac2c0ff48"
      },
      "outputs": [
        {
          "data": {
            "text/plain": [
              "array([ 7.9    ,  0.52   ,  0.26   ,  2.2    ,  0.079  , 14.     ,\n",
              "       38.     ,  0.99675,  3.31   ,  0.62   , 10.2    ])"
            ]
          },
          "execution_count": 267,
          "metadata": {},
          "output_type": "execute_result"
        }
      ],
      "source": [
        "wines_num.median().values"
      ]
    },
    {
      "cell_type": "code",
      "execution_count": 268,
      "metadata": {
        "id": "IF3d4ScMQbKC"
      },
      "outputs": [],
      "source": [
        "X = imputer.transform(wines_num)"
      ]
    },
    {
      "cell_type": "code",
      "execution_count": 269,
      "metadata": {
        "id": "_ExGY_LaQpfb"
      },
      "outputs": [],
      "source": [
        "homes_tr = pd.DataFrame(X, columns=wines_num.columns,\n",
        "                          index=dataset_copy.index)"
      ]
    },
    {
      "cell_type": "code",
      "execution_count": 270,
      "metadata": {
        "colab": {
          "base_uri": "https://localhost:8080/",
          "height": 111
        },
        "id": "iJk85DXRQdDZ",
        "outputId": "4887a50d-d1b2-401d-8943-2bf9a3ef8ec8"
      },
      "outputs": [
        {
          "data": {
            "text/html": [
              "<div>\n",
              "<style scoped>\n",
              "    .dataframe tbody tr th:only-of-type {\n",
              "        vertical-align: middle;\n",
              "    }\n",
              "\n",
              "    .dataframe tbody tr th {\n",
              "        vertical-align: top;\n",
              "    }\n",
              "\n",
              "    .dataframe thead th {\n",
              "        text-align: right;\n",
              "    }\n",
              "</style>\n",
              "<table border=\"1\" class=\"dataframe\">\n",
              "  <thead>\n",
              "    <tr style=\"text-align: right;\">\n",
              "      <th></th>\n",
              "      <th>fixed acidity</th>\n",
              "      <th>volatile acidity</th>\n",
              "      <th>citric acid</th>\n",
              "      <th>residual sugar</th>\n",
              "      <th>chlorides</th>\n",
              "      <th>free sulfur dioxide</th>\n",
              "      <th>total sulfur dioxide</th>\n",
              "      <th>density</th>\n",
              "      <th>pH</th>\n",
              "      <th>sulphates</th>\n",
              "      <th>alcohol</th>\n",
              "    </tr>\n",
              "  </thead>\n",
              "  <tbody>\n",
              "  </tbody>\n",
              "</table>\n",
              "</div>"
            ],
            "text/plain": [
              "Empty DataFrame\n",
              "Columns: [fixed acidity, volatile acidity, citric acid, residual sugar, chlorides, free sulfur dioxide, total sulfur dioxide, density, pH, sulphates, alcohol]\n",
              "Index: []"
            ]
          },
          "execution_count": 270,
          "metadata": {},
          "output_type": "execute_result"
        }
      ],
      "source": [
        "homes_tr.loc[incomplete_rows.index.values]"
      ]
    },
    {
      "cell_type": "code",
      "execution_count": 271,
      "metadata": {
        "colab": {
          "base_uri": "https://localhost:8080/",
          "height": 35
        },
        "id": "SQ84MTtNQuuz",
        "outputId": "ed2379dc-ed92-4cdd-e095-f31833592b7c"
      },
      "outputs": [
        {
          "data": {
            "text/plain": [
              "'median'"
            ]
          },
          "execution_count": 271,
          "metadata": {},
          "output_type": "execute_result"
        }
      ],
      "source": [
        "imputer.strategy"
      ]
    },
    {
      "cell_type": "code",
      "execution_count": 272,
      "metadata": {
        "colab": {
          "base_uri": "https://localhost:8080/",
          "height": 267
        },
        "id": "V-h9WTijQwLU",
        "outputId": "db6a9851-e351-4037-c4d9-b061e7f38c7b"
      },
      "outputs": [
        {
          "data": {
            "text/html": [
              "<div>\n",
              "<style scoped>\n",
              "    .dataframe tbody tr th:only-of-type {\n",
              "        vertical-align: middle;\n",
              "    }\n",
              "\n",
              "    .dataframe tbody tr th {\n",
              "        vertical-align: top;\n",
              "    }\n",
              "\n",
              "    .dataframe thead th {\n",
              "        text-align: right;\n",
              "    }\n",
              "</style>\n",
              "<table border=\"1\" class=\"dataframe\">\n",
              "  <thead>\n",
              "    <tr style=\"text-align: right;\">\n",
              "      <th></th>\n",
              "      <th>fixed acidity</th>\n",
              "      <th>volatile acidity</th>\n",
              "      <th>citric acid</th>\n",
              "      <th>residual sugar</th>\n",
              "      <th>chlorides</th>\n",
              "      <th>free sulfur dioxide</th>\n",
              "      <th>total sulfur dioxide</th>\n",
              "      <th>density</th>\n",
              "      <th>pH</th>\n",
              "      <th>sulphates</th>\n",
              "      <th>alcohol</th>\n",
              "    </tr>\n",
              "  </thead>\n",
              "  <tbody>\n",
              "    <tr>\n",
              "      <th>644</th>\n",
              "      <td>9.9</td>\n",
              "      <td>0.54</td>\n",
              "      <td>0.45</td>\n",
              "      <td>2.3</td>\n",
              "      <td>0.071</td>\n",
              "      <td>16.0</td>\n",
              "      <td>40.0</td>\n",
              "      <td>0.99910</td>\n",
              "      <td>3.39</td>\n",
              "      <td>0.62</td>\n",
              "      <td>9.4</td>\n",
              "    </tr>\n",
              "    <tr>\n",
              "      <th>1267</th>\n",
              "      <td>10.4</td>\n",
              "      <td>0.43</td>\n",
              "      <td>0.50</td>\n",
              "      <td>2.3</td>\n",
              "      <td>0.068</td>\n",
              "      <td>13.0</td>\n",
              "      <td>19.0</td>\n",
              "      <td>0.99600</td>\n",
              "      <td>3.10</td>\n",
              "      <td>0.87</td>\n",
              "      <td>11.4</td>\n",
              "    </tr>\n",
              "    <tr>\n",
              "      <th>1028</th>\n",
              "      <td>7.2</td>\n",
              "      <td>0.34</td>\n",
              "      <td>0.21</td>\n",
              "      <td>2.5</td>\n",
              "      <td>0.075</td>\n",
              "      <td>41.0</td>\n",
              "      <td>68.0</td>\n",
              "      <td>0.99586</td>\n",
              "      <td>3.37</td>\n",
              "      <td>0.54</td>\n",
              "      <td>10.1</td>\n",
              "    </tr>\n",
              "    <tr>\n",
              "      <th>1065</th>\n",
              "      <td>7.7</td>\n",
              "      <td>0.61</td>\n",
              "      <td>0.18</td>\n",
              "      <td>2.4</td>\n",
              "      <td>0.083</td>\n",
              "      <td>6.0</td>\n",
              "      <td>20.0</td>\n",
              "      <td>0.99630</td>\n",
              "      <td>3.29</td>\n",
              "      <td>0.60</td>\n",
              "      <td>10.2</td>\n",
              "    </tr>\n",
              "    <tr>\n",
              "      <th>833</th>\n",
              "      <td>11.6</td>\n",
              "      <td>0.47</td>\n",
              "      <td>0.44</td>\n",
              "      <td>1.6</td>\n",
              "      <td>0.147</td>\n",
              "      <td>36.0</td>\n",
              "      <td>51.0</td>\n",
              "      <td>0.99836</td>\n",
              "      <td>3.38</td>\n",
              "      <td>0.86</td>\n",
              "      <td>9.9</td>\n",
              "    </tr>\n",
              "  </tbody>\n",
              "</table>\n",
              "</div>"
            ],
            "text/plain": [
              "      fixed acidity  volatile acidity  citric acid  residual sugar  chlorides  \\\n",
              "644             9.9              0.54         0.45             2.3      0.071   \n",
              "1267           10.4              0.43         0.50             2.3      0.068   \n",
              "1028            7.2              0.34         0.21             2.5      0.075   \n",
              "1065            7.7              0.61         0.18             2.4      0.083   \n",
              "833            11.6              0.47         0.44             1.6      0.147   \n",
              "\n",
              "      free sulfur dioxide  total sulfur dioxide  density    pH  sulphates  \\\n",
              "644                  16.0                  40.0  0.99910  3.39       0.62   \n",
              "1267                 13.0                  19.0  0.99600  3.10       0.87   \n",
              "1028                 41.0                  68.0  0.99586  3.37       0.54   \n",
              "1065                  6.0                  20.0  0.99630  3.29       0.60   \n",
              "833                  36.0                  51.0  0.99836  3.38       0.86   \n",
              "\n",
              "      alcohol  \n",
              "644       9.4  \n",
              "1267     11.4  \n",
              "1028     10.1  \n",
              "1065     10.2  \n",
              "833       9.9  "
            ]
          },
          "execution_count": 272,
          "metadata": {},
          "output_type": "execute_result"
        }
      ],
      "source": [
        "homes_tr = pd.DataFrame(X, columns=wines_num.columns,\n",
        "                          index=wines_num.index)\n",
        "homes_tr.head()"
      ]
    },
    {
      "cell_type": "code",
      "execution_count": 273,
      "metadata": {
        "colab": {
          "base_uri": "https://localhost:8080/",
          "height": 485
        },
        "id": "Y1mc36ZEQ0gy",
        "outputId": "0673e274-5311-461c-b6e5-af14f8ff7401"
      },
      "outputs": [
        {
          "data": {
            "text/html": [
              "<div>\n",
              "<style scoped>\n",
              "    .dataframe tbody tr th:only-of-type {\n",
              "        vertical-align: middle;\n",
              "    }\n",
              "\n",
              "    .dataframe tbody tr th {\n",
              "        vertical-align: top;\n",
              "    }\n",
              "\n",
              "    .dataframe thead th {\n",
              "        text-align: right;\n",
              "    }\n",
              "</style>\n",
              "<table border=\"1\" class=\"dataframe\">\n",
              "  <thead>\n",
              "    <tr style=\"text-align: right;\">\n",
              "      <th></th>\n",
              "      <th>fixed acidity</th>\n",
              "      <th>volatile acidity</th>\n",
              "      <th>citric acid</th>\n",
              "      <th>residual sugar</th>\n",
              "      <th>chlorides</th>\n",
              "      <th>free sulfur dioxide</th>\n",
              "      <th>total sulfur dioxide</th>\n",
              "      <th>density</th>\n",
              "      <th>pH</th>\n",
              "      <th>sulphates</th>\n",
              "      <th>alcohol</th>\n",
              "      <th>quality</th>\n",
              "    </tr>\n",
              "  </thead>\n",
              "  <tbody>\n",
              "    <tr>\n",
              "      <th>644</th>\n",
              "      <td>9.9</td>\n",
              "      <td>0.54</td>\n",
              "      <td>0.45</td>\n",
              "      <td>2.3</td>\n",
              "      <td>0.071</td>\n",
              "      <td>16.0</td>\n",
              "      <td>40.0</td>\n",
              "      <td>0.99910</td>\n",
              "      <td>3.39</td>\n",
              "      <td>0.62</td>\n",
              "      <td>9.4</td>\n",
              "      <td>5</td>\n",
              "    </tr>\n",
              "    <tr>\n",
              "      <th>1267</th>\n",
              "      <td>10.4</td>\n",
              "      <td>0.43</td>\n",
              "      <td>0.50</td>\n",
              "      <td>2.3</td>\n",
              "      <td>0.068</td>\n",
              "      <td>13.0</td>\n",
              "      <td>19.0</td>\n",
              "      <td>0.99600</td>\n",
              "      <td>3.10</td>\n",
              "      <td>0.87</td>\n",
              "      <td>11.4</td>\n",
              "      <td>6</td>\n",
              "    </tr>\n",
              "    <tr>\n",
              "      <th>1028</th>\n",
              "      <td>7.2</td>\n",
              "      <td>0.34</td>\n",
              "      <td>0.21</td>\n",
              "      <td>2.5</td>\n",
              "      <td>0.075</td>\n",
              "      <td>41.0</td>\n",
              "      <td>68.0</td>\n",
              "      <td>0.99586</td>\n",
              "      <td>3.37</td>\n",
              "      <td>0.54</td>\n",
              "      <td>10.1</td>\n",
              "      <td>6</td>\n",
              "    </tr>\n",
              "    <tr>\n",
              "      <th>1065</th>\n",
              "      <td>7.7</td>\n",
              "      <td>0.61</td>\n",
              "      <td>0.18</td>\n",
              "      <td>2.4</td>\n",
              "      <td>0.083</td>\n",
              "      <td>6.0</td>\n",
              "      <td>20.0</td>\n",
              "      <td>0.99630</td>\n",
              "      <td>3.29</td>\n",
              "      <td>0.60</td>\n",
              "      <td>10.2</td>\n",
              "      <td>6</td>\n",
              "    </tr>\n",
              "    <tr>\n",
              "      <th>833</th>\n",
              "      <td>11.6</td>\n",
              "      <td>0.47</td>\n",
              "      <td>0.44</td>\n",
              "      <td>1.6</td>\n",
              "      <td>0.147</td>\n",
              "      <td>36.0</td>\n",
              "      <td>51.0</td>\n",
              "      <td>0.99836</td>\n",
              "      <td>3.38</td>\n",
              "      <td>0.86</td>\n",
              "      <td>9.9</td>\n",
              "      <td>4</td>\n",
              "    </tr>\n",
              "    <tr>\n",
              "      <th>...</th>\n",
              "      <td>...</td>\n",
              "      <td>...</td>\n",
              "      <td>...</td>\n",
              "      <td>...</td>\n",
              "      <td>...</td>\n",
              "      <td>...</td>\n",
              "      <td>...</td>\n",
              "      <td>...</td>\n",
              "      <td>...</td>\n",
              "      <td>...</td>\n",
              "      <td>...</td>\n",
              "      <td>...</td>\n",
              "    </tr>\n",
              "    <tr>\n",
              "      <th>694</th>\n",
              "      <td>9.0</td>\n",
              "      <td>0.47</td>\n",
              "      <td>0.31</td>\n",
              "      <td>2.7</td>\n",
              "      <td>0.084</td>\n",
              "      <td>24.0</td>\n",
              "      <td>125.0</td>\n",
              "      <td>0.99840</td>\n",
              "      <td>3.31</td>\n",
              "      <td>0.61</td>\n",
              "      <td>9.4</td>\n",
              "      <td>5</td>\n",
              "    </tr>\n",
              "    <tr>\n",
              "      <th>1257</th>\n",
              "      <td>7.0</td>\n",
              "      <td>0.58</td>\n",
              "      <td>0.28</td>\n",
              "      <td>4.8</td>\n",
              "      <td>0.085</td>\n",
              "      <td>12.0</td>\n",
              "      <td>69.0</td>\n",
              "      <td>0.99633</td>\n",
              "      <td>3.32</td>\n",
              "      <td>0.70</td>\n",
              "      <td>11.0</td>\n",
              "      <td>6</td>\n",
              "    </tr>\n",
              "    <tr>\n",
              "      <th>309</th>\n",
              "      <td>7.4</td>\n",
              "      <td>0.29</td>\n",
              "      <td>0.38</td>\n",
              "      <td>1.7</td>\n",
              "      <td>0.062</td>\n",
              "      <td>9.0</td>\n",
              "      <td>30.0</td>\n",
              "      <td>0.99680</td>\n",
              "      <td>3.41</td>\n",
              "      <td>0.53</td>\n",
              "      <td>9.5</td>\n",
              "      <td>6</td>\n",
              "    </tr>\n",
              "    <tr>\n",
              "      <th>233</th>\n",
              "      <td>6.9</td>\n",
              "      <td>0.52</td>\n",
              "      <td>0.25</td>\n",
              "      <td>2.6</td>\n",
              "      <td>0.081</td>\n",
              "      <td>10.0</td>\n",
              "      <td>37.0</td>\n",
              "      <td>0.99685</td>\n",
              "      <td>3.46</td>\n",
              "      <td>0.50</td>\n",
              "      <td>11.0</td>\n",
              "      <td>5</td>\n",
              "    </tr>\n",
              "    <tr>\n",
              "      <th>505</th>\n",
              "      <td>10.2</td>\n",
              "      <td>0.49</td>\n",
              "      <td>0.63</td>\n",
              "      <td>2.9</td>\n",
              "      <td>0.072</td>\n",
              "      <td>10.0</td>\n",
              "      <td>26.0</td>\n",
              "      <td>0.99680</td>\n",
              "      <td>3.16</td>\n",
              "      <td>0.78</td>\n",
              "      <td>12.5</td>\n",
              "      <td>7</td>\n",
              "    </tr>\n",
              "  </tbody>\n",
              "</table>\n",
              "<p>1279 rows × 12 columns</p>\n",
              "</div>"
            ],
            "text/plain": [
              "      fixed acidity  volatile acidity  citric acid  residual sugar  chlorides  \\\n",
              "644             9.9              0.54         0.45             2.3      0.071   \n",
              "1267           10.4              0.43         0.50             2.3      0.068   \n",
              "1028            7.2              0.34         0.21             2.5      0.075   \n",
              "1065            7.7              0.61         0.18             2.4      0.083   \n",
              "833            11.6              0.47         0.44             1.6      0.147   \n",
              "...             ...               ...          ...             ...        ...   \n",
              "694             9.0              0.47         0.31             2.7      0.084   \n",
              "1257            7.0              0.58         0.28             4.8      0.085   \n",
              "309             7.4              0.29         0.38             1.7      0.062   \n",
              "233             6.9              0.52         0.25             2.6      0.081   \n",
              "505            10.2              0.49         0.63             2.9      0.072   \n",
              "\n",
              "      free sulfur dioxide  total sulfur dioxide  density    pH  sulphates  \\\n",
              "644                  16.0                  40.0  0.99910  3.39       0.62   \n",
              "1267                 13.0                  19.0  0.99600  3.10       0.87   \n",
              "1028                 41.0                  68.0  0.99586  3.37       0.54   \n",
              "1065                  6.0                  20.0  0.99630  3.29       0.60   \n",
              "833                  36.0                  51.0  0.99836  3.38       0.86   \n",
              "...                   ...                   ...      ...   ...        ...   \n",
              "694                  24.0                 125.0  0.99840  3.31       0.61   \n",
              "1257                 12.0                  69.0  0.99633  3.32       0.70   \n",
              "309                   9.0                  30.0  0.99680  3.41       0.53   \n",
              "233                  10.0                  37.0  0.99685  3.46       0.50   \n",
              "505                  10.0                  26.0  0.99680  3.16       0.78   \n",
              "\n",
              "      alcohol  quality  \n",
              "644       9.4        5  \n",
              "1267     11.4        6  \n",
              "1028     10.1        6  \n",
              "1065     10.2        6  \n",
              "833       9.9        4  \n",
              "...       ...      ...  \n",
              "694       9.4        5  \n",
              "1257     11.0        6  \n",
              "309       9.5        6  \n",
              "233      11.0        5  \n",
              "505      12.5        7  \n",
              "\n",
              "[1279 rows x 12 columns]"
            ]
          },
          "execution_count": 273,
          "metadata": {},
          "output_type": "execute_result"
        }
      ],
      "source": [
        "dataset"
      ]
    },
    {
      "cell_type": "markdown",
      "metadata": {},
      "source": [
        "### Feature engineering, crear atributos combinados"
      ]
    },
    {
      "cell_type": "code",
      "execution_count": 274,
      "metadata": {
        "id": "ayHE759rQ8P8"
      },
      "outputs": [],
      "source": [
        "def feature_engineering(data):\n",
        "    data[\"citric_acid_per_density\"]=data[\"citric acid\"]/data[\"density\"]\n",
        "    data[\"ph_per_density\"]=data[\"pH\"]/data[\"density\"]\n",
        "    return data"
      ]
    },
    {
      "cell_type": "code",
      "execution_count": 275,
      "metadata": {
        "colab": {
          "base_uri": "https://localhost:8080/",
          "height": 502
        },
        "id": "sC5U6-VWRECT",
        "outputId": "6892e1bc-8cc3-4d73-ac57-9fa97abd29b7"
      },
      "outputs": [
        {
          "data": {
            "text/html": [
              "<div>\n",
              "<style scoped>\n",
              "    .dataframe tbody tr th:only-of-type {\n",
              "        vertical-align: middle;\n",
              "    }\n",
              "\n",
              "    .dataframe tbody tr th {\n",
              "        vertical-align: top;\n",
              "    }\n",
              "\n",
              "    .dataframe thead th {\n",
              "        text-align: right;\n",
              "    }\n",
              "</style>\n",
              "<table border=\"1\" class=\"dataframe\">\n",
              "  <thead>\n",
              "    <tr style=\"text-align: right;\">\n",
              "      <th></th>\n",
              "      <th>fixed acidity</th>\n",
              "      <th>volatile acidity</th>\n",
              "      <th>citric acid</th>\n",
              "      <th>residual sugar</th>\n",
              "      <th>chlorides</th>\n",
              "      <th>free sulfur dioxide</th>\n",
              "      <th>total sulfur dioxide</th>\n",
              "      <th>density</th>\n",
              "      <th>pH</th>\n",
              "      <th>sulphates</th>\n",
              "      <th>alcohol</th>\n",
              "      <th>citric_acid_per_density</th>\n",
              "      <th>ph_per_density</th>\n",
              "    </tr>\n",
              "  </thead>\n",
              "  <tbody>\n",
              "    <tr>\n",
              "      <th>644</th>\n",
              "      <td>9.9</td>\n",
              "      <td>0.54</td>\n",
              "      <td>0.45</td>\n",
              "      <td>2.3</td>\n",
              "      <td>0.071</td>\n",
              "      <td>16.0</td>\n",
              "      <td>40.0</td>\n",
              "      <td>0.99910</td>\n",
              "      <td>3.39</td>\n",
              "      <td>0.62</td>\n",
              "      <td>9.4</td>\n",
              "      <td>0.450405</td>\n",
              "      <td>3.393054</td>\n",
              "    </tr>\n",
              "    <tr>\n",
              "      <th>1267</th>\n",
              "      <td>10.4</td>\n",
              "      <td>0.43</td>\n",
              "      <td>0.50</td>\n",
              "      <td>2.3</td>\n",
              "      <td>0.068</td>\n",
              "      <td>13.0</td>\n",
              "      <td>19.0</td>\n",
              "      <td>0.99600</td>\n",
              "      <td>3.10</td>\n",
              "      <td>0.87</td>\n",
              "      <td>11.4</td>\n",
              "      <td>0.502008</td>\n",
              "      <td>3.112450</td>\n",
              "    </tr>\n",
              "    <tr>\n",
              "      <th>1028</th>\n",
              "      <td>7.2</td>\n",
              "      <td>0.34</td>\n",
              "      <td>0.21</td>\n",
              "      <td>2.5</td>\n",
              "      <td>0.075</td>\n",
              "      <td>41.0</td>\n",
              "      <td>68.0</td>\n",
              "      <td>0.99586</td>\n",
              "      <td>3.37</td>\n",
              "      <td>0.54</td>\n",
              "      <td>10.1</td>\n",
              "      <td>0.210873</td>\n",
              "      <td>3.384010</td>\n",
              "    </tr>\n",
              "    <tr>\n",
              "      <th>1065</th>\n",
              "      <td>7.7</td>\n",
              "      <td>0.61</td>\n",
              "      <td>0.18</td>\n",
              "      <td>2.4</td>\n",
              "      <td>0.083</td>\n",
              "      <td>6.0</td>\n",
              "      <td>20.0</td>\n",
              "      <td>0.99630</td>\n",
              "      <td>3.29</td>\n",
              "      <td>0.60</td>\n",
              "      <td>10.2</td>\n",
              "      <td>0.180668</td>\n",
              "      <td>3.302218</td>\n",
              "    </tr>\n",
              "    <tr>\n",
              "      <th>833</th>\n",
              "      <td>11.6</td>\n",
              "      <td>0.47</td>\n",
              "      <td>0.44</td>\n",
              "      <td>1.6</td>\n",
              "      <td>0.147</td>\n",
              "      <td>36.0</td>\n",
              "      <td>51.0</td>\n",
              "      <td>0.99836</td>\n",
              "      <td>3.38</td>\n",
              "      <td>0.86</td>\n",
              "      <td>9.9</td>\n",
              "      <td>0.440723</td>\n",
              "      <td>3.385552</td>\n",
              "    </tr>\n",
              "    <tr>\n",
              "      <th>...</th>\n",
              "      <td>...</td>\n",
              "      <td>...</td>\n",
              "      <td>...</td>\n",
              "      <td>...</td>\n",
              "      <td>...</td>\n",
              "      <td>...</td>\n",
              "      <td>...</td>\n",
              "      <td>...</td>\n",
              "      <td>...</td>\n",
              "      <td>...</td>\n",
              "      <td>...</td>\n",
              "      <td>...</td>\n",
              "      <td>...</td>\n",
              "    </tr>\n",
              "    <tr>\n",
              "      <th>694</th>\n",
              "      <td>9.0</td>\n",
              "      <td>0.47</td>\n",
              "      <td>0.31</td>\n",
              "      <td>2.7</td>\n",
              "      <td>0.084</td>\n",
              "      <td>24.0</td>\n",
              "      <td>125.0</td>\n",
              "      <td>0.99840</td>\n",
              "      <td>3.31</td>\n",
              "      <td>0.61</td>\n",
              "      <td>9.4</td>\n",
              "      <td>0.310497</td>\n",
              "      <td>3.315304</td>\n",
              "    </tr>\n",
              "    <tr>\n",
              "      <th>1257</th>\n",
              "      <td>7.0</td>\n",
              "      <td>0.58</td>\n",
              "      <td>0.28</td>\n",
              "      <td>4.8</td>\n",
              "      <td>0.085</td>\n",
              "      <td>12.0</td>\n",
              "      <td>69.0</td>\n",
              "      <td>0.99633</td>\n",
              "      <td>3.32</td>\n",
              "      <td>0.70</td>\n",
              "      <td>11.0</td>\n",
              "      <td>0.281031</td>\n",
              "      <td>3.332229</td>\n",
              "    </tr>\n",
              "    <tr>\n",
              "      <th>309</th>\n",
              "      <td>7.4</td>\n",
              "      <td>0.29</td>\n",
              "      <td>0.38</td>\n",
              "      <td>1.7</td>\n",
              "      <td>0.062</td>\n",
              "      <td>9.0</td>\n",
              "      <td>30.0</td>\n",
              "      <td>0.99680</td>\n",
              "      <td>3.41</td>\n",
              "      <td>0.53</td>\n",
              "      <td>9.5</td>\n",
              "      <td>0.381220</td>\n",
              "      <td>3.420947</td>\n",
              "    </tr>\n",
              "    <tr>\n",
              "      <th>233</th>\n",
              "      <td>6.9</td>\n",
              "      <td>0.52</td>\n",
              "      <td>0.25</td>\n",
              "      <td>2.6</td>\n",
              "      <td>0.081</td>\n",
              "      <td>10.0</td>\n",
              "      <td>37.0</td>\n",
              "      <td>0.99685</td>\n",
              "      <td>3.46</td>\n",
              "      <td>0.50</td>\n",
              "      <td>11.0</td>\n",
              "      <td>0.250790</td>\n",
              "      <td>3.470933</td>\n",
              "    </tr>\n",
              "    <tr>\n",
              "      <th>505</th>\n",
              "      <td>10.2</td>\n",
              "      <td>0.49</td>\n",
              "      <td>0.63</td>\n",
              "      <td>2.9</td>\n",
              "      <td>0.072</td>\n",
              "      <td>10.0</td>\n",
              "      <td>26.0</td>\n",
              "      <td>0.99680</td>\n",
              "      <td>3.16</td>\n",
              "      <td>0.78</td>\n",
              "      <td>12.5</td>\n",
              "      <td>0.632022</td>\n",
              "      <td>3.170144</td>\n",
              "    </tr>\n",
              "  </tbody>\n",
              "</table>\n",
              "<p>1279 rows × 13 columns</p>\n",
              "</div>"
            ],
            "text/plain": [
              "      fixed acidity  volatile acidity  citric acid  residual sugar  chlorides  \\\n",
              "644             9.9              0.54         0.45             2.3      0.071   \n",
              "1267           10.4              0.43         0.50             2.3      0.068   \n",
              "1028            7.2              0.34         0.21             2.5      0.075   \n",
              "1065            7.7              0.61         0.18             2.4      0.083   \n",
              "833            11.6              0.47         0.44             1.6      0.147   \n",
              "...             ...               ...          ...             ...        ...   \n",
              "694             9.0              0.47         0.31             2.7      0.084   \n",
              "1257            7.0              0.58         0.28             4.8      0.085   \n",
              "309             7.4              0.29         0.38             1.7      0.062   \n",
              "233             6.9              0.52         0.25             2.6      0.081   \n",
              "505            10.2              0.49         0.63             2.9      0.072   \n",
              "\n",
              "      free sulfur dioxide  total sulfur dioxide  density    pH  sulphates  \\\n",
              "644                  16.0                  40.0  0.99910  3.39       0.62   \n",
              "1267                 13.0                  19.0  0.99600  3.10       0.87   \n",
              "1028                 41.0                  68.0  0.99586  3.37       0.54   \n",
              "1065                  6.0                  20.0  0.99630  3.29       0.60   \n",
              "833                  36.0                  51.0  0.99836  3.38       0.86   \n",
              "...                   ...                   ...      ...   ...        ...   \n",
              "694                  24.0                 125.0  0.99840  3.31       0.61   \n",
              "1257                 12.0                  69.0  0.99633  3.32       0.70   \n",
              "309                   9.0                  30.0  0.99680  3.41       0.53   \n",
              "233                  10.0                  37.0  0.99685  3.46       0.50   \n",
              "505                  10.0                  26.0  0.99680  3.16       0.78   \n",
              "\n",
              "      alcohol  citric_acid_per_density  ph_per_density  \n",
              "644       9.4                 0.450405        3.393054  \n",
              "1267     11.4                 0.502008        3.112450  \n",
              "1028     10.1                 0.210873        3.384010  \n",
              "1065     10.2                 0.180668        3.302218  \n",
              "833       9.9                 0.440723        3.385552  \n",
              "...       ...                      ...             ...  \n",
              "694       9.4                 0.310497        3.315304  \n",
              "1257     11.0                 0.281031        3.332229  \n",
              "309       9.5                 0.381220        3.420947  \n",
              "233      11.0                 0.250790        3.470933  \n",
              "505      12.5                 0.632022        3.170144  \n",
              "\n",
              "[1279 rows x 13 columns]"
            ]
          },
          "execution_count": 275,
          "metadata": {},
          "output_type": "execute_result"
        }
      ],
      "source": [
        "wines_feature_engineered = feature_engineering(dataset_copy)\n",
        "wines_feature_engineered"
      ]
    },
    {
      "cell_type": "markdown",
      "metadata": {},
      "source": [
        "### Transformación personalizada"
      ]
    },
    {
      "cell_type": "code",
      "execution_count": 276,
      "metadata": {
        "colab": {
          "base_uri": "https://localhost:8080/",
          "height": 285
        },
        "id": "7YVBIZmzRKBz",
        "outputId": "0b4e4112-0c4e-42dc-ab31-ea849e413729"
      },
      "outputs": [
        {
          "data": {
            "text/html": [
              "<div>\n",
              "<style scoped>\n",
              "    .dataframe tbody tr th:only-of-type {\n",
              "        vertical-align: middle;\n",
              "    }\n",
              "\n",
              "    .dataframe tbody tr th {\n",
              "        vertical-align: top;\n",
              "    }\n",
              "\n",
              "    .dataframe thead th {\n",
              "        text-align: right;\n",
              "    }\n",
              "</style>\n",
              "<table border=\"1\" class=\"dataframe\">\n",
              "  <thead>\n",
              "    <tr style=\"text-align: right;\">\n",
              "      <th></th>\n",
              "      <th>fixed acidity</th>\n",
              "      <th>volatile acidity</th>\n",
              "      <th>citric acid</th>\n",
              "      <th>residual sugar</th>\n",
              "      <th>chlorides</th>\n",
              "      <th>free sulfur dioxide</th>\n",
              "      <th>total sulfur dioxide</th>\n",
              "      <th>density</th>\n",
              "      <th>pH</th>\n",
              "      <th>sulphates</th>\n",
              "      <th>alcohol</th>\n",
              "      <th>quality</th>\n",
              "      <th>ph_per_density</th>\n",
              "    </tr>\n",
              "  </thead>\n",
              "  <tbody>\n",
              "    <tr>\n",
              "      <th>644</th>\n",
              "      <td>9.9</td>\n",
              "      <td>0.54</td>\n",
              "      <td>0.45</td>\n",
              "      <td>2.3</td>\n",
              "      <td>0.071</td>\n",
              "      <td>16.0</td>\n",
              "      <td>40.0</td>\n",
              "      <td>0.99910</td>\n",
              "      <td>3.39</td>\n",
              "      <td>0.62</td>\n",
              "      <td>9.4</td>\n",
              "      <td>5.0</td>\n",
              "      <td>0.294720</td>\n",
              "    </tr>\n",
              "    <tr>\n",
              "      <th>1267</th>\n",
              "      <td>10.4</td>\n",
              "      <td>0.43</td>\n",
              "      <td>0.50</td>\n",
              "      <td>2.3</td>\n",
              "      <td>0.068</td>\n",
              "      <td>13.0</td>\n",
              "      <td>19.0</td>\n",
              "      <td>0.99600</td>\n",
              "      <td>3.10</td>\n",
              "      <td>0.87</td>\n",
              "      <td>11.4</td>\n",
              "      <td>6.0</td>\n",
              "      <td>0.321290</td>\n",
              "    </tr>\n",
              "    <tr>\n",
              "      <th>1028</th>\n",
              "      <td>7.2</td>\n",
              "      <td>0.34</td>\n",
              "      <td>0.21</td>\n",
              "      <td>2.5</td>\n",
              "      <td>0.075</td>\n",
              "      <td>41.0</td>\n",
              "      <td>68.0</td>\n",
              "      <td>0.99586</td>\n",
              "      <td>3.37</td>\n",
              "      <td>0.54</td>\n",
              "      <td>10.1</td>\n",
              "      <td>6.0</td>\n",
              "      <td>0.295507</td>\n",
              "    </tr>\n",
              "    <tr>\n",
              "      <th>1065</th>\n",
              "      <td>7.7</td>\n",
              "      <td>0.61</td>\n",
              "      <td>0.18</td>\n",
              "      <td>2.4</td>\n",
              "      <td>0.083</td>\n",
              "      <td>6.0</td>\n",
              "      <td>20.0</td>\n",
              "      <td>0.99630</td>\n",
              "      <td>3.29</td>\n",
              "      <td>0.60</td>\n",
              "      <td>10.2</td>\n",
              "      <td>6.0</td>\n",
              "      <td>0.302827</td>\n",
              "    </tr>\n",
              "    <tr>\n",
              "      <th>833</th>\n",
              "      <td>11.6</td>\n",
              "      <td>0.47</td>\n",
              "      <td>0.44</td>\n",
              "      <td>1.6</td>\n",
              "      <td>0.147</td>\n",
              "      <td>36.0</td>\n",
              "      <td>51.0</td>\n",
              "      <td>0.99836</td>\n",
              "      <td>3.38</td>\n",
              "      <td>0.86</td>\n",
              "      <td>9.9</td>\n",
              "      <td>4.0</td>\n",
              "      <td>0.295373</td>\n",
              "    </tr>\n",
              "  </tbody>\n",
              "</table>\n",
              "</div>"
            ],
            "text/plain": [
              "      fixed acidity  volatile acidity  citric acid  residual sugar  chlorides  \\\n",
              "644             9.9              0.54         0.45             2.3      0.071   \n",
              "1267           10.4              0.43         0.50             2.3      0.068   \n",
              "1028            7.2              0.34         0.21             2.5      0.075   \n",
              "1065            7.7              0.61         0.18             2.4      0.083   \n",
              "833            11.6              0.47         0.44             1.6      0.147   \n",
              "\n",
              "      free sulfur dioxide  total sulfur dioxide  density    pH  sulphates  \\\n",
              "644                  16.0                  40.0  0.99910  3.39       0.62   \n",
              "1267                 13.0                  19.0  0.99600  3.10       0.87   \n",
              "1028                 41.0                  68.0  0.99586  3.37       0.54   \n",
              "1065                  6.0                  20.0  0.99630  3.29       0.60   \n",
              "833                  36.0                  51.0  0.99836  3.38       0.86   \n",
              "\n",
              "      alcohol  quality  ph_per_density  \n",
              "644       9.4      5.0        0.294720  \n",
              "1267     11.4      6.0        0.321290  \n",
              "1028     10.1      6.0        0.295507  \n",
              "1065     10.2      6.0        0.302827  \n",
              "833       9.9      4.0        0.295373  "
            ]
          },
          "execution_count": 276,
          "metadata": {},
          "output_type": "execute_result"
        }
      ],
      "source": [
        "from sklearn.base import BaseEstimator, TransformerMixin\n",
        "\n",
        "col_names = \"citric acid\", \"density\", \"pH\"\n",
        "citric_acid_ix, density_ix, pH_ix = [dataset.columns.get_loc(c) for c in col_names]\n",
        "\n",
        "class CombinedAttributesAdder(BaseEstimator, TransformerMixin):\n",
        "    def __init__(self, add_citric_acid_per_density=True):\n",
        "        self.add_citric_acid_per_density = add_citric_acid_per_density\n",
        "    def fit(self, X, y=None):\n",
        "        return self\n",
        "    def transform(self, X):\n",
        "        ph_per_density = X[:, density_ix] / X[:, pH_ix]\n",
        "        if self.add_citric_acid_per_density:\n",
        "            citric_acid_per_density = X[:, citric_acid_ix] / X[:, pH_ix]\n",
        "            return np.c_[X, ph_per_density, citric_acid_per_density]\n",
        "        else:\n",
        "            return np.c_[X, ph_per_density]\n",
        "\n",
        "attr_adder = CombinedAttributesAdder(add_citric_acid_per_density=False)\n",
        "homes_extra_attribs = attr_adder.transform(dataset.values)\n",
        "\n",
        "homes_extra_attribs = pd.DataFrame(\n",
        "    homes_extra_attribs,\n",
        "    columns=list(dataset.columns)+[\"ph_per_density\"],\n",
        "    index=dataset.index)\n",
        "homes_extra_attribs.head()"
      ]
    },
    {
      "cell_type": "markdown",
      "metadata": {},
      "source": [
        "### Pipelines de transformación"
      ]
    },
    {
      "cell_type": "code",
      "execution_count": 277,
      "metadata": {
        "colab": {
          "base_uri": "https://localhost:8080/"
        },
        "id": "yPrJuiKHRNsf",
        "outputId": "49ea8762-1929-42de-b8a8-e8bc2a6eefb6"
      },
      "outputs": [
        {
          "data": {
            "text/plain": [
              "array([[ 0.91823784,  0.07017826,  0.91575616, ..., -0.95402186,\n",
              "        -0.46804655,  0.79456957],\n",
              "       [ 1.20635575, -0.5432656 ,  1.17314027, ...,  0.9090356 ,\n",
              "         1.35349806,  1.25843571],\n",
              "       [-0.63759884, -1.0451742 , -0.31968757, ..., -0.30195175,\n",
              "        -0.4140489 , -0.34984463],\n",
              "       ...,\n",
              "       [-0.52235168, -1.32401232,  0.55541841, ..., -0.86086899,\n",
              "        -0.63278753,  0.44835675],\n",
              "       [-0.81046958, -0.04135699, -0.11378028, ...,  0.53642411,\n",
              "        -0.92138894, -0.1883306 ],\n",
              "       [ 1.09110859, -0.20865986,  1.84233896, ...,  1.9337172 ,\n",
              "         0.95263747,  1.87715388]])"
            ]
          },
          "execution_count": 277,
          "metadata": {},
          "output_type": "execute_result"
        }
      ],
      "source": [
        "from sklearn.pipeline import Pipeline\n",
        "from sklearn.preprocessing import StandardScaler\n",
        "\n",
        "num_pipeline = Pipeline([\n",
        "    ('imputer', SimpleImputer(strategy=\"median\")),\n",
        "    ('attribs_adder', CombinedAttributesAdder()),\n",
        "    ('std_scaler', StandardScaler()),\n",
        "])\n",
        "\n",
        "wines_num_tr = num_pipeline.fit_transform(wines_num)\n",
        "wines_num_tr"
      ]
    },
    {
      "cell_type": "code",
      "execution_count": 278,
      "metadata": {
        "colab": {
          "base_uri": "https://localhost:8080/"
        },
        "id": "Y9b2UQgRRVwk",
        "outputId": "2fbbbb50-c4cc-45c5-8356-6cddfc5d9923"
      },
      "outputs": [
        {
          "data": {
            "text/plain": [
              "array([[ 0.91823784,  0.07017826,  0.91575616, ..., -0.95402186,\n",
              "        -0.46804655,  0.79456957],\n",
              "       [ 1.20635575, -0.5432656 ,  1.17314027, ...,  0.9090356 ,\n",
              "         1.35349806,  1.25843571],\n",
              "       [-0.63759884, -1.0451742 , -0.31968757, ..., -0.30195175,\n",
              "        -0.4140489 , -0.34984463],\n",
              "       ...,\n",
              "       [-0.52235168, -1.32401232,  0.55541841, ..., -0.86086899,\n",
              "        -0.63278753,  0.44835675],\n",
              "       [-0.81046958, -0.04135699, -0.11378028, ...,  0.53642411,\n",
              "        -0.92138894, -0.1883306 ],\n",
              "       [ 1.09110859, -0.20865986,  1.84233896, ...,  1.9337172 ,\n",
              "         0.95263747,  1.87715388]])"
            ]
          },
          "execution_count": 278,
          "metadata": {},
          "output_type": "execute_result"
        }
      ],
      "source": [
        "from sklearn.compose import ColumnTransformer\n",
        "\n",
        "num_attribs = list(wines_num)\n",
        "\n",
        "full_pipeline = ColumnTransformer([\n",
        "    (\"num\", num_pipeline, num_attribs),\n",
        "])\n",
        "\n",
        "homes_prepared = full_pipeline.fit_transform(dataset_copy)\n",
        "homes_prepared"
      ]
    },
    {
      "cell_type": "code",
      "execution_count": 279,
      "metadata": {
        "colab": {
          "base_uri": "https://localhost:8080/"
        },
        "id": "SLwH4zEIRYIU",
        "outputId": "68aaae17-482f-4eae-8a6e-0c33a1a82f2f"
      },
      "outputs": [
        {
          "data": {
            "text/plain": [
              "(1279, 13)"
            ]
          },
          "execution_count": 279,
          "metadata": {},
          "output_type": "execute_result"
        }
      ],
      "source": [
        "homes_prepared.shape"
      ]
    },
    {
      "cell_type": "markdown",
      "metadata": {
        "id": "5uQY58sbReRT"
      },
      "source": [
        "# Explorar muchos modelos diferentes y preseleccionar los mejores"
      ]
    },
    {
      "cell_type": "markdown",
      "metadata": {
        "id": "RrybeV5PRvhm"
      },
      "source": [
        "### Regresión lineal"
      ]
    },
    {
      "cell_type": "code",
      "execution_count": 280,
      "metadata": {
        "id": "WZVcE1LLRgwF"
      },
      "outputs": [],
      "source": [
        "from sklearn.linear_model import LinearRegression\n",
        "\n",
        "lin_reg = LinearRegression()"
      ]
    },
    {
      "cell_type": "code",
      "execution_count": 281,
      "metadata": {
        "colab": {
          "base_uri": "https://localhost:8080/"
        },
        "id": "7vGOCzX5Rjrb",
        "outputId": "49f76805-91ff-4606-a08b-ccd8e1dcc758"
      },
      "outputs": [
        {
          "data": {
            "text/plain": [
              "Pipeline(steps=[('full_pipeline',\n",
              "                 ColumnTransformer(transformers=[('num',\n",
              "                                                  Pipeline(steps=[('imputer',\n",
              "                                                                   SimpleImputer(strategy='median')),\n",
              "                                                                  ('attribs_adder',\n",
              "                                                                   CombinedAttributesAdder()),\n",
              "                                                                  ('std_scaler',\n",
              "                                                                   StandardScaler())]),\n",
              "                                                  ['fixed acidity',\n",
              "                                                   'volatile acidity',\n",
              "                                                   'citric acid',\n",
              "                                                   'residual sugar',\n",
              "                                                   'chlorides',\n",
              "                                                   'free sulfur dioxide',\n",
              "                                                   'total sulfur dioxide',\n",
              "                                                   'density', 'pH', 'sulphates',\n",
              "                                                   'alcohol'])])),\n",
              "                ('lin_reg', LinearRegression())])"
            ]
          },
          "execution_count": 281,
          "metadata": {},
          "output_type": "execute_result"
        }
      ],
      "source": [
        "model_lin_reg = Pipeline([\n",
        "    (\"full_pipeline\", full_pipeline),\n",
        "    (\"lin_reg\", LinearRegression())\n",
        "])\n",
        "model_lin_reg.fit(X_train, y_train)"
      ]
    },
    {
      "cell_type": "code",
      "execution_count": 282,
      "metadata": {
        "colab": {
          "base_uri": "https://localhost:8080/"
        },
        "id": "FDK1ZJuVRjxb",
        "outputId": "c811a02f-1581-490d-8dde-4438341d36d4"
      },
      "outputs": [
        {
          "name": "stdout",
          "output_type": "stream",
          "text": [
            "Predicción (Regresión Linear): [5.32183639 5.39987216 6.14045846 5.75539043 6.71780814]\n"
          ]
        }
      ],
      "source": [
        "some_data = X_test.iloc[:5]\n",
        "\n",
        "print(\"Predicción (Regresión Linear):\", model_lin_reg.predict(some_data))"
      ]
    },
    {
      "cell_type": "code",
      "execution_count": 307,
      "metadata": {},
      "outputs": [
        {
          "data": {
            "text/plain": [
              "[5, 6, 6, 6, 6]"
            ]
          },
          "execution_count": 307,
          "metadata": {},
          "output_type": "execute_result"
        }
      ],
      "source": [
        "list(y_test.iloc[:5])"
      ]
    },
    {
      "cell_type": "markdown",
      "metadata": {
        "id": "FcrXsUQoR5Bt"
      },
      "source": [
        "### Validación cruzada (Regresión Lineal)"
      ]
    },
    {
      "cell_type": "code",
      "execution_count": 283,
      "metadata": {
        "id": "NwZlcZukR8t9"
      },
      "outputs": [],
      "source": [
        "def display_scores(scores):\n",
        "    print(\"Scores:\", scores)\n",
        "    print(\"Mean:\", scores.mean())\n",
        "    print(\"Standard deviation:\", scores.std())"
      ]
    },
    {
      "cell_type": "code",
      "execution_count": 284,
      "metadata": {
        "colab": {
          "base_uri": "https://localhost:8080/"
        },
        "id": "j4RXPB5mSAt1",
        "outputId": "cb816b3e-6612-41de-b004-2e03dde46143"
      },
      "outputs": [
        {
          "name": "stdout",
          "output_type": "stream",
          "text": [
            "Scores: [0.54399034 0.63727153 0.49051291 0.55072304 0.62777793 0.78189826\n",
            " 0.62232178 0.78831589 0.73970525 0.53866591]\n",
            "Mean: 0.6321182846316216\n",
            "Standard deviation: 0.1008589125002973\n"
          ]
        }
      ],
      "source": [
        "from sklearn.model_selection import cross_val_score\n",
        "\n",
        "lin_scores = cross_val_score(model_lin_reg, X_test, y_test, scoring=\"neg_mean_squared_error\", cv=10)\n",
        "lin_rmse_scores = np.sqrt(-lin_scores)\n",
        "\n",
        "display_scores(lin_rmse_scores)"
      ]
    },
    {
      "cell_type": "markdown",
      "metadata": {
        "id": "9GKO97aCSHiW"
      },
      "source": [
        "### Decision Tree Regressor"
      ]
    },
    {
      "cell_type": "code",
      "execution_count": 285,
      "metadata": {
        "id": "aw8DPm-OST9H"
      },
      "outputs": [],
      "source": [
        "from sklearn.tree import DecisionTreeRegressor\n",
        "\n",
        "tree_reg = DecisionTreeRegressor(random_state=42)"
      ]
    },
    {
      "cell_type": "code",
      "execution_count": 286,
      "metadata": {
        "colab": {
          "base_uri": "https://localhost:8080/"
        },
        "id": "b2iwMPJzSVUg",
        "outputId": "b7809c2a-4a04-445a-ff39-d305ac52f754"
      },
      "outputs": [
        {
          "data": {
            "text/plain": [
              "Pipeline(steps=[('full_pipeline',\n",
              "                 ColumnTransformer(transformers=[('num',\n",
              "                                                  Pipeline(steps=[('imputer',\n",
              "                                                                   SimpleImputer(strategy='median')),\n",
              "                                                                  ('attribs_adder',\n",
              "                                                                   CombinedAttributesAdder()),\n",
              "                                                                  ('std_scaler',\n",
              "                                                                   StandardScaler())]),\n",
              "                                                  ['fixed acidity',\n",
              "                                                   'volatile acidity',\n",
              "                                                   'citric acid',\n",
              "                                                   'residual sugar',\n",
              "                                                   'chlorides',\n",
              "                                                   'free sulfur dioxide',\n",
              "                                                   'total sulfur dioxide',\n",
              "                                                   'density', 'pH', 'sulphates',\n",
              "                                                   'alcohol'])])),\n",
              "                ('tree_reg', DecisionTreeRegressor(random_state=42))])"
            ]
          },
          "execution_count": 286,
          "metadata": {},
          "output_type": "execute_result"
        }
      ],
      "source": [
        "model_tree_reg = Pipeline([\n",
        "    (\"full_pipeline\", full_pipeline),\n",
        "    (\"tree_reg\", tree_reg)\n",
        "])\n",
        "model_tree_reg.fit(X_train, y_train)"
      ]
    },
    {
      "cell_type": "code",
      "execution_count": 287,
      "metadata": {
        "colab": {
          "base_uri": "https://localhost:8080/"
        },
        "id": "bkUWOmrOSfYv",
        "outputId": "43f7c66c-e134-4a1a-c02f-07186975f839"
      },
      "outputs": [
        {
          "name": "stdout",
          "output_type": "stream",
          "text": [
            "Predicción (Desicion Tree): [5. 5. 7. 6. 5.]\n"
          ]
        }
      ],
      "source": [
        "print(\"Predicción (Desicion Tree):\", model_tree_reg.predict(some_data))"
      ]
    },
    {
      "cell_type": "code",
      "execution_count": 288,
      "metadata": {
        "colab": {
          "base_uri": "https://localhost:8080/"
        },
        "id": "sR5Y1-GjSiRv",
        "outputId": "b27ba8a4-ba45-42cd-83ea-f2b4f4576c96"
      },
      "outputs": [
        {
          "data": {
            "text/plain": [
              "[5, 6, 6, 6, 6]"
            ]
          },
          "execution_count": 288,
          "metadata": {},
          "output_type": "execute_result"
        }
      ],
      "source": [
        "list(y_test.iloc[:5])"
      ]
    },
    {
      "cell_type": "markdown",
      "metadata": {
        "id": "rUeG1QILSk5e"
      },
      "source": [
        "### Validación cruzada (Desicion Tree)"
      ]
    },
    {
      "cell_type": "code",
      "execution_count": 289,
      "metadata": {
        "colab": {
          "base_uri": "https://localhost:8080/"
        },
        "id": "WjBidTQtSl7y",
        "outputId": "478ae7e6-7acd-46c5-9381-85176ec62379"
      },
      "outputs": [
        {
          "name": "stdout",
          "output_type": "stream",
          "text": [
            "Scores: [0.88388348 0.66143783 0.6846532  0.96824584 0.96824584 0.84779125\n",
            " 0.88388348 1.03077641 1.03077641 0.90138782]\n",
            "Mean: 0.8861081530283169\n",
            "Standard deviation: 0.12170596179622829\n"
          ]
        }
      ],
      "source": [
        "tree_scores = cross_val_score(model_tree_reg, X_test, y_test, scoring=\"neg_mean_squared_error\", cv=10)\n",
        "tree_rmse_scores = np.sqrt(-tree_scores)\n",
        "\n",
        "display_scores(tree_rmse_scores)"
      ]
    },
    {
      "cell_type": "markdown",
      "metadata": {
        "id": "D7riUypcSrv6"
      },
      "source": [
        "### Random Forest Regressor"
      ]
    },
    {
      "cell_type": "code",
      "execution_count": 290,
      "metadata": {
        "id": "_q42CihRStYI"
      },
      "outputs": [],
      "source": [
        "from sklearn.ensemble import RandomForestRegressor\n",
        "\n",
        "forest_reg = RandomForestRegressor(n_estimators=10, random_state=42)"
      ]
    },
    {
      "cell_type": "code",
      "execution_count": 291,
      "metadata": {
        "colab": {
          "base_uri": "https://localhost:8080/"
        },
        "id": "nIhM1EmPSzBo",
        "outputId": "c589d286-6652-486a-e0ad-bea990f71951"
      },
      "outputs": [
        {
          "data": {
            "text/plain": [
              "Pipeline(steps=[('full_pipeline',\n",
              "                 ColumnTransformer(transformers=[('num',\n",
              "                                                  Pipeline(steps=[('imputer',\n",
              "                                                                   SimpleImputer(strategy='median')),\n",
              "                                                                  ('attribs_adder',\n",
              "                                                                   CombinedAttributesAdder()),\n",
              "                                                                  ('std_scaler',\n",
              "                                                                   StandardScaler())]),\n",
              "                                                  ['fixed acidity',\n",
              "                                                   'volatile acidity',\n",
              "                                                   'citric acid',\n",
              "                                                   'residual sugar',\n",
              "                                                   'chlorides',\n",
              "                                                   'free sulfur dioxide',\n",
              "                                                   'total sulfur dioxide',\n",
              "                                                   'density', 'pH', 'sulphates',\n",
              "                                                   'alcohol'])])),\n",
              "                ('forest_reg',\n",
              "                 RandomForestRegressor(n_estimators=10, random_state=42))])"
            ]
          },
          "execution_count": 291,
          "metadata": {},
          "output_type": "execute_result"
        }
      ],
      "source": [
        "model_forest_reg = Pipeline([\n",
        "    (\"full_pipeline\", full_pipeline),\n",
        "    (\"forest_reg\", forest_reg)\n",
        "])\n",
        "model_forest_reg.fit(X_train, y_train)"
      ]
    },
    {
      "cell_type": "code",
      "execution_count": 292,
      "metadata": {
        "colab": {
          "base_uri": "https://localhost:8080/"
        },
        "id": "3n-TsLRaS8eg",
        "outputId": "a8f3ea9b-db5d-4788-891c-3debb43f6dce"
      },
      "outputs": [
        {
          "name": "stdout",
          "output_type": "stream",
          "text": [
            "Predicción (Random Forest): [5.4 5.7 6.5 5.8 6. ]\n"
          ]
        }
      ],
      "source": [
        "print(\"Predicción (Random Forest):\", model_forest_reg.predict(some_data))"
      ]
    },
    {
      "cell_type": "code",
      "execution_count": 293,
      "metadata": {
        "colab": {
          "base_uri": "https://localhost:8080/"
        },
        "id": "c_EO4RUaS-bQ",
        "outputId": "1c5cf69d-a58a-4184-a89d-60c29f810ed8"
      },
      "outputs": [
        {
          "data": {
            "text/plain": [
              "[5, 6, 6, 6, 6]"
            ]
          },
          "execution_count": 293,
          "metadata": {},
          "output_type": "execute_result"
        }
      ],
      "source": [
        "list(y_test.iloc[:5])"
      ]
    },
    {
      "cell_type": "markdown",
      "metadata": {
        "id": "Jy3CIcaETDeI"
      },
      "source": [
        "### Validación cruzada (Random Forest)"
      ]
    },
    {
      "cell_type": "code",
      "execution_count": 294,
      "metadata": {
        "colab": {
          "base_uri": "https://localhost:8080/"
        },
        "id": "SFiPu198TE8p",
        "outputId": "3ddf015b-84ae-4d5c-e649-ef8579ec0569"
      },
      "outputs": [
        {
          "name": "stdout",
          "output_type": "stream",
          "text": [
            "Scores: [0.53648159 0.58816452 0.50124844 0.6726812  0.69394704 0.81891697\n",
            " 0.67244888 0.82594643 0.79647662 0.68579334]\n",
            "Mean: 0.6792105028663322\n",
            "Standard deviation: 0.10746205281895625\n"
          ]
        }
      ],
      "source": [
        "forest_scores = cross_val_score(model_forest_reg, X_test, y_test, scoring=\"neg_mean_squared_error\", cv=10)\n",
        "forest_rmse_scores = np.sqrt(-forest_scores)\n",
        "\n",
        "display_scores(forest_rmse_scores)"
      ]
    },
    {
      "cell_type": "markdown",
      "metadata": {},
      "source": [
        "### Resumen"
      ]
    },
    {
      "cell_type": "code",
      "execution_count": 308,
      "metadata": {},
      "outputs": [],
      "source": [
        "list_model = [\"Linear Regression\", \"Desicion Tree\", \"Random Forest\"]\n",
        "list_mean = [0.6321182846316216, 0.8861081530283169, 0.6792105028663322]\n",
        "list_std = [0.1008589125002973, 0.12170596179622829, 0.10746205281895625]"
      ]
    },
    {
      "cell_type": "code",
      "execution_count": 311,
      "metadata": {},
      "outputs": [
        {
          "name": "stderr",
          "output_type": "stream",
          "text": [
            "C:\\Users\\alans\\AppData\\Local\\Temp\\ipykernel_1044\\3144171262.py:7: MatplotlibDeprecationWarning: The 'b' parameter of grid() has been renamed 'visible' since Matplotlib 3.5; support for the old name will be dropped two minor releases later.\n",
            "  plt.grid(b=True, which='major', color='#666666', linestyle='-')\n",
            "C:\\Users\\alans\\AppData\\Local\\Temp\\ipykernel_1044\\3144171262.py:9: MatplotlibDeprecationWarning: The 'b' parameter of grid() has been renamed 'visible' since Matplotlib 3.5; support for the old name will be dropped two minor releases later.\n",
            "  plt.grid(b=True, which='minor', color='#999999', linestyle='-', alpha=0.2)\n"
          ]
        },
        {
          "data": {
            "image/png": "[encoded data removed]",
            "text/plain": [
              "<Figure size 288x360 with 1 Axes>"
            ]
          },
          "metadata": {
            "needs_background": "light"
          },
          "output_type": "display_data"
        }
      ],
      "source": [
        "plt.figure(figsize=(4,5))\n",
        "for i in range(3):\n",
        "    plt.errorbar(i, list_mean[i], xerr=0, yerr=list_std[i], fmt='o', linewidth=3)\n",
        "plt.xticks([0,1,2], list_model)\n",
        "plt.title(\"Resumen de modelos\")\n",
        "plt.ylim(0, 1)\n",
        "plt.grid(b=True, which='major', color='#666666', linestyle='-')\n",
        "plt.minorticks_on()\n",
        "plt.grid(b=True, which='minor', color='#999999', linestyle='-', alpha=0.2)\n",
        "plt.show()"
      ]
    },
    {
      "cell_type": "markdown",
      "metadata": {
        "id": "MWH06s0EXkX1"
      },
      "source": [
        "# Afinar los modelos."
      ]
    },
    {
      "cell_type": "markdown",
      "metadata": {
        "id": "iFPDS1G1ZaGM"
      },
      "source": [
        "### Grid Search"
      ]
    },
    {
      "cell_type": "code",
      "execution_count": 295,
      "metadata": {
        "id": "2SlVFuxbXxau"
      },
      "outputs": [],
      "source": [
        "from sklearn.model_selection import GridSearchCV\n",
        "\n",
        "n_estimators = [3, 10, 30]\n",
        "max_features = [2, 4, 6, 8]\n",
        "bootstrap = [False]\n",
        "min_samples_split = [3, 10]\n",
        "max_depth = [2, 3, 4]\n",
        "\n",
        "param_grid = [\n",
        "  {\n",
        "    'forest_reg__n_estimators': n_estimators,\n",
        "    'forest_reg__max_features': max_features\n",
        "  },\n",
        "  {\n",
        "    'forest_reg__bootstrap': bootstrap,\n",
        "    'forest_reg__min_samples_split': min_samples_split,\n",
        "    'forest_reg__max_depth': max_depth\n",
        "  }\n",
        "]\n",
        "\n",
        "grid_search = GridSearchCV(model_forest_reg, param_grid=param_grid, cv=10, scoring=\"neg_mean_squared_error\", n_jobs=1, verbose=2)"
      ]
    },
    {
      "cell_type": "code",
      "execution_count": 296,
      "metadata": {
        "colab": {
          "base_uri": "https://localhost:8080/"
        },
        "id": "u-mM8qshZhz7",
        "outputId": "79c7a3c9-c4eb-4f0d-b62a-58b3b79d22b7"
      },
      "outputs": [
        {
          "name": "stdout",
          "output_type": "stream",
          "text": [
            "Fitting 10 folds for each of 18 candidates, totalling 180 fits\n",
            "[CV] END forest_reg__max_features=2, forest_reg__n_estimators=3; total time=   0.0s\n",
            "[CV] END forest_reg__max_features=2, forest_reg__n_estimators=3; total time=   0.0s\n",
            "[CV] END forest_reg__max_features=2, forest_reg__n_estimators=3; total time=   0.0s\n",
            "[CV] END forest_reg__max_features=2, forest_reg__n_estimators=3; total time=   0.0s\n",
            "[CV] END forest_reg__max_features=2, forest_reg__n_estimators=3; total time=   0.0s\n",
            "[CV] END forest_reg__max_features=2, forest_reg__n_estimators=3; total time=   0.0s\n",
            "[CV] END forest_reg__max_features=2, forest_reg__n_estimators=3; total time=   0.0s\n",
            "[CV] END forest_reg__max_features=2, forest_reg__n_estimators=3; total time=   0.0s\n",
            "[CV] END forest_reg__max_features=2, forest_reg__n_estimators=3; total time=   0.0s\n",
            "[CV] END forest_reg__max_features=2, forest_reg__n_estimators=3; total time=   0.0s\n",
            "[CV] END forest_reg__max_features=2, forest_reg__n_estimators=10; total time=   0.0s\n",
            "[CV] END forest_reg__max_features=2, forest_reg__n_estimators=10; total time=   0.0s\n",
            "[CV] END forest_reg__max_features=2, forest_reg__n_estimators=10; total time=   0.0s\n",
            "[CV] END forest_reg__max_features=2, forest_reg__n_estimators=10; total time=   0.0s\n",
            "[CV] END forest_reg__max_features=2, forest_reg__n_estimators=10; total time=   0.0s\n",
            "[CV] END forest_reg__max_features=2, forest_reg__n_estimators=10; total time=   0.0s\n",
            "[CV] END forest_reg__max_features=2, forest_reg__n_estimators=10; total time=   0.0s\n",
            "[CV] END forest_reg__max_features=2, forest_reg__n_estimators=10; total time=   0.0s\n",
            "[CV] END forest_reg__max_features=2, forest_reg__n_estimators=10; total time=   0.0s\n",
            "[CV] END forest_reg__max_features=2, forest_reg__n_estimators=10; total time=   0.0s\n",
            "[CV] END forest_reg__max_features=2, forest_reg__n_estimators=30; total time=   0.0s\n",
            "[CV] END forest_reg__max_features=2, forest_reg__n_estimators=30; total time=   0.0s\n",
            "[CV] END forest_reg__max_features=2, forest_reg__n_estimators=30; total time=   0.0s\n",
            "[CV] END forest_reg__max_features=2, forest_reg__n_estimators=30; total time=   0.0s\n",
            "[CV] END forest_reg__max_features=2, forest_reg__n_estimators=30; total time=   0.0s\n",
            "[CV] END forest_reg__max_features=2, forest_reg__n_estimators=30; total time=   0.0s\n",
            "[CV] END forest_reg__max_features=2, forest_reg__n_estimators=30; total time=   0.0s\n",
            "[CV] END forest_reg__max_features=2, forest_reg__n_estimators=30; total time=   0.0s\n",
            "[CV] END forest_reg__max_features=2, forest_reg__n_estimators=30; total time=   0.0s\n",
            "[CV] END forest_reg__max_features=2, forest_reg__n_estimators=30; total time=   0.0s\n",
            "[CV] END forest_reg__max_features=4, forest_reg__n_estimators=3; total time=   0.0s\n",
            "[CV] END forest_reg__max_features=4, forest_reg__n_estimators=3; total time=   0.0s\n",
            "[CV] END forest_reg__max_features=4, forest_reg__n_estimators=3; total time=   0.0s\n",
            "[CV] END forest_reg__max_features=4, forest_reg__n_estimators=3; total time=   0.0s\n",
            "[CV] END forest_reg__max_features=4, forest_reg__n_estimators=3; total time=   0.0s\n",
            "[CV] END forest_reg__max_features=4, forest_reg__n_estimators=3; total time=   0.0s\n",
            "[CV] END forest_reg__max_features=4, forest_reg__n_estimators=3; total time=   0.0s\n",
            "[CV] END forest_reg__max_features=4, forest_reg__n_estimators=3; total time=   0.0s\n",
            "[CV] END forest_reg__max_features=4, forest_reg__n_estimators=3; total time=   0.0s\n",
            "[CV] END forest_reg__max_features=4, forest_reg__n_estimators=3; total time=   0.0s\n",
            "[CV] END forest_reg__max_features=4, forest_reg__n_estimators=10; total time=   0.0s\n",
            "[CV] END forest_reg__max_features=4, forest_reg__n_estimators=10; total time=   0.0s\n",
            "[CV] END forest_reg__max_features=4, forest_reg__n_estimators=10; total time=   0.0s\n",
            "[CV] END forest_reg__max_features=4, forest_reg__n_estimators=10; total time=   0.0s\n",
            "[CV] END forest_reg__max_features=4, forest_reg__n_estimators=10; total time=   0.0s\n",
            "[CV] END forest_reg__max_features=4, forest_reg__n_estimators=10; total time=   0.0s\n",
            "[CV] END forest_reg__max_features=4, forest_reg__n_estimators=10; total time=   0.0s\n",
            "[CV] END forest_reg__max_features=4, forest_reg__n_estimators=10; total time=   0.0s\n",
            "[CV] END forest_reg__max_features=4, forest_reg__n_estimators=10; total time=   0.0s\n",
            "[CV] END forest_reg__max_features=4, forest_reg__n_estimators=10; total time=   0.0s\n",
            "[CV] END forest_reg__max_features=4, forest_reg__n_estimators=30; total time=   0.0s\n",
            "[CV] END forest_reg__max_features=4, forest_reg__n_estimators=30; total time=   0.0s\n",
            "[CV] END forest_reg__max_features=4, forest_reg__n_estimators=30; total time=   0.0s\n",
            "[CV] END forest_reg__max_features=4, forest_reg__n_estimators=30; total time=   0.0s\n",
            "[CV] END forest_reg__max_features=4, forest_reg__n_estimators=30; total time=   0.0s\n",
            "[CV] END forest_reg__max_features=4, forest_reg__n_estimators=30; total time=   0.0s\n",
            "[CV] END forest_reg__max_features=4, forest_reg__n_estimators=30; total time=   0.0s\n",
            "[CV] END forest_reg__max_features=4, forest_reg__n_estimators=30; total time=   0.0s\n",
            "[CV] END forest_reg__max_features=4, forest_reg__n_estimators=30; total time=   0.0s\n",
            "[CV] END forest_reg__max_features=4, forest_reg__n_estimators=30; total time=   0.0s\n",
            "[CV] END forest_reg__max_features=6, forest_reg__n_estimators=3; total time=   0.0s\n",
            "[CV] END forest_reg__max_features=6, forest_reg__n_estimators=3; total time=   0.0s\n",
            "[CV] END forest_reg__max_features=6, forest_reg__n_estimators=3; total time=   0.0s\n",
            "[CV] END forest_reg__max_features=6, forest_reg__n_estimators=3; total time=   0.0s\n",
            "[CV] END forest_reg__max_features=6, forest_reg__n_estimators=3; total time=   0.0s\n",
            "[CV] END forest_reg__max_features=6, forest_reg__n_estimators=3; total time=   0.0s\n",
            "[CV] END forest_reg__max_features=6, forest_reg__n_estimators=3; total time=   0.0s\n",
            "[CV] END forest_reg__max_features=6, forest_reg__n_estimators=3; total time=   0.0s\n",
            "[CV] END forest_reg__max_features=6, forest_reg__n_estimators=3; total time=   0.0s\n",
            "[CV] END forest_reg__max_features=6, forest_reg__n_estimators=3; total time=   0.0s\n",
            "[CV] END forest_reg__max_features=6, forest_reg__n_estimators=10; total time=   0.0s\n",
            "[CV] END forest_reg__max_features=6, forest_reg__n_estimators=10; total time=   0.0s\n",
            "[CV] END forest_reg__max_features=6, forest_reg__n_estimators=10; total time=   0.0s\n",
            "[CV] END forest_reg__max_features=6, forest_reg__n_estimators=10; total time=   0.0s\n",
            "[CV] END forest_reg__max_features=6, forest_reg__n_estimators=10; total time=   0.0s\n",
            "[CV] END forest_reg__max_features=6, forest_reg__n_estimators=10; total time=   0.0s\n",
            "[CV] END forest_reg__max_features=6, forest_reg__n_estimators=10; total time=   0.0s\n",
            "[CV] END forest_reg__max_features=6, forest_reg__n_estimators=10; total time=   0.0s\n",
            "[CV] END forest_reg__max_features=6, forest_reg__n_estimators=10; total time=   0.0s\n",
            "[CV] END forest_reg__max_features=6, forest_reg__n_estimators=10; total time=   0.0s\n",
            "[CV] END forest_reg__max_features=6, forest_reg__n_estimators=30; total time=   0.0s\n",
            "[CV] END forest_reg__max_features=6, forest_reg__n_estimators=30; total time=   0.0s\n",
            "[CV] END forest_reg__max_features=6, forest_reg__n_estimators=30; total time=   0.0s\n",
            "[CV] END forest_reg__max_features=6, forest_reg__n_estimators=30; total time=   0.0s\n",
            "[CV] END forest_reg__max_features=6, forest_reg__n_estimators=30; total time=   0.0s\n",
            "[CV] END forest_reg__max_features=6, forest_reg__n_estimators=30; total time=   0.0s\n",
            "[CV] END forest_reg__max_features=6, forest_reg__n_estimators=30; total time=   0.0s\n",
            "[CV] END forest_reg__max_features=6, forest_reg__n_estimators=30; total time=   0.0s\n",
            "[CV] END forest_reg__max_features=6, forest_reg__n_estimators=30; total time=   0.1s\n",
            "[CV] END forest_reg__max_features=6, forest_reg__n_estimators=30; total time=   0.0s\n",
            "[CV] END forest_reg__max_features=8, forest_reg__n_estimators=3; total time=   0.0s\n",
            "[CV] END forest_reg__max_features=8, forest_reg__n_estimators=3; total time=   0.0s\n",
            "[CV] END forest_reg__max_features=8, forest_reg__n_estimators=3; total time=   0.0s\n",
            "[CV] END forest_reg__max_features=8, forest_reg__n_estimators=3; total time=   0.0s\n",
            "[CV] END forest_reg__max_features=8, forest_reg__n_estimators=3; total time=   0.0s\n",
            "[CV] END forest_reg__max_features=8, forest_reg__n_estimators=3; total time=   0.0s\n",
            "[CV] END forest_reg__max_features=8, forest_reg__n_estimators=3; total time=   0.0s\n",
            "[CV] END forest_reg__max_features=8, forest_reg__n_estimators=3; total time=   0.0s\n",
            "[CV] END forest_reg__max_features=8, forest_reg__n_estimators=3; total time=   0.0s\n",
            "[CV] END forest_reg__max_features=8, forest_reg__n_estimators=3; total time=   0.0s\n",
            "[CV] END forest_reg__max_features=8, forest_reg__n_estimators=10; total time=   0.0s\n",
            "[CV] END forest_reg__max_features=8, forest_reg__n_estimators=10; total time=   0.0s\n",
            "[CV] END forest_reg__max_features=8, forest_reg__n_estimators=10; total time=   0.0s\n",
            "[CV] END forest_reg__max_features=8, forest_reg__n_estimators=10; total time=   0.0s\n",
            "[CV] END forest_reg__max_features=8, forest_reg__n_estimators=10; total time=   0.0s\n",
            "[CV] END forest_reg__max_features=8, forest_reg__n_estimators=10; total time=   0.0s\n",
            "[CV] END forest_reg__max_features=8, forest_reg__n_estimators=10; total time=   0.0s\n",
            "[CV] END forest_reg__max_features=8, forest_reg__n_estimators=10; total time=   0.0s\n",
            "[CV] END forest_reg__max_features=8, forest_reg__n_estimators=10; total time=   0.0s\n",
            "[CV] END forest_reg__max_features=8, forest_reg__n_estimators=10; total time=   0.0s\n",
            "[CV] END forest_reg__max_features=8, forest_reg__n_estimators=30; total time=   0.0s\n",
            "[CV] END forest_reg__max_features=8, forest_reg__n_estimators=30; total time=   0.1s\n",
            "[CV] END forest_reg__max_features=8, forest_reg__n_estimators=30; total time=   0.1s\n",
            "[CV] END forest_reg__max_features=8, forest_reg__n_estimators=30; total time=   0.1s\n",
            "[CV] END forest_reg__max_features=8, forest_reg__n_estimators=30; total time=   0.1s\n",
            "[CV] END forest_reg__max_features=8, forest_reg__n_estimators=30; total time=   0.0s\n",
            "[CV] END forest_reg__max_features=8, forest_reg__n_estimators=30; total time=   0.0s\n",
            "[CV] END forest_reg__max_features=8, forest_reg__n_estimators=30; total time=   0.0s\n",
            "[CV] END forest_reg__max_features=8, forest_reg__n_estimators=30; total time=   0.0s\n",
            "[CV] END forest_reg__max_features=8, forest_reg__n_estimators=30; total time=   0.0s\n",
            "[CV] END forest_reg__bootstrap=False, forest_reg__max_depth=2, forest_reg__min_samples_split=3; total time=   0.0s\n",
            "[CV] END forest_reg__bootstrap=False, forest_reg__max_depth=2, forest_reg__min_samples_split=3; total time=   0.0s\n",
            "[CV] END forest_reg__bootstrap=False, forest_reg__max_depth=2, forest_reg__min_samples_split=3; total time=   0.0s\n",
            "[CV] END forest_reg__bootstrap=False, forest_reg__max_depth=2, forest_reg__min_samples_split=3; total time=   0.0s\n",
            "[CV] END forest_reg__bootstrap=False, forest_reg__max_depth=2, forest_reg__min_samples_split=3; total time=   0.0s\n",
            "[CV] END forest_reg__bootstrap=False, forest_reg__max_depth=2, forest_reg__min_samples_split=3; total time=   0.0s\n",
            "[CV] END forest_reg__bootstrap=False, forest_reg__max_depth=2, forest_reg__min_samples_split=3; total time=   0.0s\n",
            "[CV] END forest_reg__bootstrap=False, forest_reg__max_depth=2, forest_reg__min_samples_split=3; total time=   0.0s\n",
            "[CV] END forest_reg__bootstrap=False, forest_reg__max_depth=2, forest_reg__min_samples_split=3; total time=   0.0s\n",
            "[CV] END forest_reg__bootstrap=False, forest_reg__max_depth=2, forest_reg__min_samples_split=3; total time=   0.0s\n",
            "[CV] END forest_reg__bootstrap=False, forest_reg__max_depth=2, forest_reg__min_samples_split=10; total time=   0.0s\n",
            "[CV] END forest_reg__bootstrap=False, forest_reg__max_depth=2, forest_reg__min_samples_split=10; total time=   0.0s\n",
            "[CV] END forest_reg__bootstrap=False, forest_reg__max_depth=2, forest_reg__min_samples_split=10; total time=   0.0s\n",
            "[CV] END forest_reg__bootstrap=False, forest_reg__max_depth=2, forest_reg__min_samples_split=10; total time=   0.0s\n",
            "[CV] END forest_reg__bootstrap=False, forest_reg__max_depth=2, forest_reg__min_samples_split=10; total time=   0.0s\n",
            "[CV] END forest_reg__bootstrap=False, forest_reg__max_depth=2, forest_reg__min_samples_split=10; total time=   0.0s\n",
            "[CV] END forest_reg__bootstrap=False, forest_reg__max_depth=2, forest_reg__min_samples_split=10; total time=   0.0s\n",
            "[CV] END forest_reg__bootstrap=False, forest_reg__max_depth=2, forest_reg__min_samples_split=10; total time=   0.0s\n",
            "[CV] END forest_reg__bootstrap=False, forest_reg__max_depth=2, forest_reg__min_samples_split=10; total time=   0.0s\n",
            "[CV] END forest_reg__bootstrap=False, forest_reg__max_depth=2, forest_reg__min_samples_split=10; total time=   0.0s\n",
            "[CV] END forest_reg__bootstrap=False, forest_reg__max_depth=3, forest_reg__min_samples_split=3; total time=   0.0s\n",
            "[CV] END forest_reg__bootstrap=False, forest_reg__max_depth=3, forest_reg__min_samples_split=3; total time=   0.0s\n",
            "[CV] END forest_reg__bootstrap=False, forest_reg__max_depth=3, forest_reg__min_samples_split=3; total time=   0.0s\n",
            "[CV] END forest_reg__bootstrap=False, forest_reg__max_depth=3, forest_reg__min_samples_split=3; total time=   0.0s\n",
            "[CV] END forest_reg__bootstrap=False, forest_reg__max_depth=3, forest_reg__min_samples_split=3; total time=   0.0s\n",
            "[CV] END forest_reg__bootstrap=False, forest_reg__max_depth=3, forest_reg__min_samples_split=3; total time=   0.0s\n",
            "[CV] END forest_reg__bootstrap=False, forest_reg__max_depth=3, forest_reg__min_samples_split=3; total time=   0.0s\n",
            "[CV] END forest_reg__bootstrap=False, forest_reg__max_depth=3, forest_reg__min_samples_split=3; total time=   0.0s\n",
            "[CV] END forest_reg__bootstrap=False, forest_reg__max_depth=3, forest_reg__min_samples_split=3; total time=   0.0s\n",
            "[CV] END forest_reg__bootstrap=False, forest_reg__max_depth=3, forest_reg__min_samples_split=3; total time=   0.0s\n",
            "[CV] END forest_reg__bootstrap=False, forest_reg__max_depth=3, forest_reg__min_samples_split=10; total time=   0.0s\n",
            "[CV] END forest_reg__bootstrap=False, forest_reg__max_depth=3, forest_reg__min_samples_split=10; total time=   0.0s\n",
            "[CV] END forest_reg__bootstrap=False, forest_reg__max_depth=3, forest_reg__min_samples_split=10; total time=   0.0s\n",
            "[CV] END forest_reg__bootstrap=False, forest_reg__max_depth=3, forest_reg__min_samples_split=10; total time=   0.0s\n",
            "[CV] END forest_reg__bootstrap=False, forest_reg__max_depth=3, forest_reg__min_samples_split=10; total time=   0.0s\n",
            "[CV] END forest_reg__bootstrap=False, forest_reg__max_depth=3, forest_reg__min_samples_split=10; total time=   0.0s\n",
            "[CV] END forest_reg__bootstrap=False, forest_reg__max_depth=3, forest_reg__min_samples_split=10; total time=   0.0s\n",
            "[CV] END forest_reg__bootstrap=False, forest_reg__max_depth=3, forest_reg__min_samples_split=10; total time=   0.0s\n",
            "[CV] END forest_reg__bootstrap=False, forest_reg__max_depth=3, forest_reg__min_samples_split=10; total time=   0.0s\n",
            "[CV] END forest_reg__bootstrap=False, forest_reg__max_depth=3, forest_reg__min_samples_split=10; total time=   0.0s\n",
            "[CV] END forest_reg__bootstrap=False, forest_reg__max_depth=4, forest_reg__min_samples_split=3; total time=   0.0s\n",
            "[CV] END forest_reg__bootstrap=False, forest_reg__max_depth=4, forest_reg__min_samples_split=3; total time=   0.0s\n",
            "[CV] END forest_reg__bootstrap=False, forest_reg__max_depth=4, forest_reg__min_samples_split=3; total time=   0.0s\n",
            "[CV] END forest_reg__bootstrap=False, forest_reg__max_depth=4, forest_reg__min_samples_split=3; total time=   0.0s\n",
            "[CV] END forest_reg__bootstrap=False, forest_reg__max_depth=4, forest_reg__min_samples_split=3; total time=   0.0s\n",
            "[CV] END forest_reg__bootstrap=False, forest_reg__max_depth=4, forest_reg__min_samples_split=3; total time=   0.0s\n",
            "[CV] END forest_reg__bootstrap=False, forest_reg__max_depth=4, forest_reg__min_samples_split=3; total time=   0.0s\n",
            "[CV] END forest_reg__bootstrap=False, forest_reg__max_depth=4, forest_reg__min_samples_split=3; total time=   0.0s\n",
            "[CV] END forest_reg__bootstrap=False, forest_reg__max_depth=4, forest_reg__min_samples_split=3; total time=   0.0s\n",
            "[CV] END forest_reg__bootstrap=False, forest_reg__max_depth=4, forest_reg__min_samples_split=3; total time=   0.0s\n",
            "[CV] END forest_reg__bootstrap=False, forest_reg__max_depth=4, forest_reg__min_samples_split=10; total time=   0.0s\n",
            "[CV] END forest_reg__bootstrap=False, forest_reg__max_depth=4, forest_reg__min_samples_split=10; total time=   0.0s\n",
            "[CV] END forest_reg__bootstrap=False, forest_reg__max_depth=4, forest_reg__min_samples_split=10; total time=   0.0s\n",
            "[CV] END forest_reg__bootstrap=False, forest_reg__max_depth=4, forest_reg__min_samples_split=10; total time=   0.0s\n",
            "[CV] END forest_reg__bootstrap=False, forest_reg__max_depth=4, forest_reg__min_samples_split=10; total time=   0.0s\n",
            "[CV] END forest_reg__bootstrap=False, forest_reg__max_depth=4, forest_reg__min_samples_split=10; total time=   0.0s\n",
            "[CV] END forest_reg__bootstrap=False, forest_reg__max_depth=4, forest_reg__min_samples_split=10; total time=   0.0s\n",
            "[CV] END forest_reg__bootstrap=False, forest_reg__max_depth=4, forest_reg__min_samples_split=10; total time=   0.0s\n",
            "[CV] END forest_reg__bootstrap=False, forest_reg__max_depth=4, forest_reg__min_samples_split=10; total time=   0.0s\n",
            "[CV] END forest_reg__bootstrap=False, forest_reg__max_depth=4, forest_reg__min_samples_split=10; total time=   0.0s\n"
          ]
        },
        {
          "data": {
            "text/plain": [
              "GridSearchCV(cv=10,\n",
              "             estimator=Pipeline(steps=[('full_pipeline',\n",
              "                                        ColumnTransformer(transformers=[('num',\n",
              "                                                                         Pipeline(steps=[('imputer',\n",
              "                                                                                          SimpleImputer(strategy='median')),\n",
              "                                                                                         ('attribs_adder',\n",
              "                                                                                          CombinedAttributesAdder()),\n",
              "                                                                                         ('std_scaler',\n",
              "                                                                                          StandardScaler())]),\n",
              "                                                                         ['fixed '\n",
              "                                                                          'acidity',\n",
              "                                                                          'volatile '\n",
              "                                                                          'acidity',\n",
              "                                                                          'citric '\n",
              "                                                                          'acid',\n",
              "                                                                          'residual '\n",
              "                                                                          'sugar',\n",
              "                                                                          'chlorides',\n",
              "                                                                          'free '\n",
              "                                                                          'sulfur '\n",
              "                                                                          'dioxide',\n",
              "                                                                          'to...\n",
              "                                                                          'pH',\n",
              "                                                                          'sulphates',\n",
              "                                                                          'alcohol'])])),\n",
              "                                       ('forest_reg',\n",
              "                                        RandomForestRegressor(n_estimators=10,\n",
              "                                                              random_state=42))]),\n",
              "             n_jobs=1,\n",
              "             param_grid=[{'forest_reg__max_features': [2, 4, 6, 8],\n",
              "                          'forest_reg__n_estimators': [3, 10, 30]},\n",
              "                         {'forest_reg__bootstrap': [False],\n",
              "                          'forest_reg__max_depth': [2, 3, 4],\n",
              "                          'forest_reg__min_samples_split': [3, 10]}],\n",
              "             scoring='neg_mean_squared_error', verbose=2)"
            ]
          },
          "execution_count": 296,
          "metadata": {},
          "output_type": "execute_result"
        }
      ],
      "source": [
        "grid_search.fit(X_train, y_train)"
      ]
    },
    {
      "cell_type": "code",
      "execution_count": 297,
      "metadata": {
        "colab": {
          "base_uri": "https://localhost:8080/"
        },
        "id": "b-4euXSfZpD5",
        "outputId": "71f4a380-60c3-4718-f9f6-70ecd8583f77"
      },
      "outputs": [
        {
          "data": {
            "text/plain": [
              "{'forest_reg__max_features': 8, 'forest_reg__n_estimators': 30}"
            ]
          },
          "execution_count": 297,
          "metadata": {},
          "output_type": "execute_result"
        }
      ],
      "source": [
        "grid_search.best_params_"
      ]
    },
    {
      "cell_type": "code",
      "execution_count": 298,
      "metadata": {
        "id": "0l3kSPWSZsM7"
      },
      "outputs": [],
      "source": [
        "forest_reg = RandomForestRegressor(random_state=42, max_features=8, n_estimators=30)"
      ]
    },
    {
      "cell_type": "code",
      "execution_count": 299,
      "metadata": {
        "colab": {
          "base_uri": "https://localhost:8080/"
        },
        "id": "_pNZ9cUBZxhP",
        "outputId": "960f4d9e-523d-40f4-b0b6-6b5331012cfd"
      },
      "outputs": [
        {
          "data": {
            "text/plain": [
              "Pipeline(steps=[('full_pipeline',\n",
              "                 ColumnTransformer(transformers=[('num',\n",
              "                                                  Pipeline(steps=[('imputer',\n",
              "                                                                   SimpleImputer(strategy='median')),\n",
              "                                                                  ('attribs_adder',\n",
              "                                                                   CombinedAttributesAdder()),\n",
              "                                                                  ('std_scaler',\n",
              "                                                                   StandardScaler())]),\n",
              "                                                  ['fixed acidity',\n",
              "                                                   'volatile acidity',\n",
              "                                                   'citric acid',\n",
              "                                                   'residual sugar',\n",
              "                                                   'chlorides',\n",
              "                                                   'free sulfur dioxide',\n",
              "                                                   'total sulfur dioxide',\n",
              "                                                   'density', 'pH', 'sulphates',\n",
              "                                                   'alcohol'])])),\n",
              "                ('forest_reg',\n",
              "                 RandomForestRegressor(max_features=8, n_estimators=30,\n",
              "                                       random_state=42))])"
            ]
          },
          "execution_count": 299,
          "metadata": {},
          "output_type": "execute_result"
        }
      ],
      "source": [
        "model_forest_reg = Pipeline([\n",
        "    (\"full_pipeline\", full_pipeline),\n",
        "    (\"forest_reg\", forest_reg)\n",
        "])\n",
        "model_forest_reg.fit(X_train, y_train)"
      ]
    },
    {
      "cell_type": "markdown",
      "metadata": {
        "id": "6RsFRkTrZ298"
      },
      "source": [
        "### Validación cruzada"
      ]
    },
    {
      "cell_type": "code",
      "execution_count": 300,
      "metadata": {
        "colab": {
          "base_uri": "https://localhost:8080/"
        },
        "id": "VngAVNRiZ5rb",
        "outputId": "964de265-b928-4f59-b06e-d4992f482e2f"
      },
      "outputs": [
        {
          "name": "stdout",
          "output_type": "stream",
          "text": [
            "Scores: [0.46146656 0.59468129 0.50439045 0.6873611  0.69196781 0.76834056\n",
            " 0.68781558 0.77569413 0.71744144 0.61706068]\n",
            "Mean: 0.6506219607818721\n",
            "Standard deviation: 0.09991361676477703\n"
          ]
        }
      ],
      "source": [
        "forest_scores = cross_val_score(model_forest_reg, X_test, y_test, scoring=\"neg_mean_squared_error\", cv=10)\n",
        "forest_rmse_scores = np.sqrt(-forest_scores)\n",
        "\n",
        "display_scores(forest_rmse_scores)"
      ]
    },
    {
      "cell_type": "markdown",
      "metadata": {
        "id": "J9N2ytNgZ-U0"
      },
      "source": [
        "### Randomized Search"
      ]
    },
    {
      "cell_type": "code",
      "execution_count": 301,
      "metadata": {
        "id": "PA-4kiJiaCJF"
      },
      "outputs": [],
      "source": [
        "from sklearn.model_selection import RandomizedSearchCV\n",
        "from scipy.stats import randint\n",
        "\n",
        "param_distribs = {\n",
        "    'forest_reg__n_estimators': randint(low=1, high=200),\n",
        "    'forest_reg__max_features': randint(low=1, high=6),\n",
        "}\n",
        "\n",
        "rnd_search = RandomizedSearchCV(estimator=model_forest_reg, param_distributions=param_distribs, n_iter=5, cv=10, \n",
        "                                scoring=\"neg_mean_squared_error\", n_jobs=-1, verbose=10)"
      ]
    },
    {
      "cell_type": "code",
      "execution_count": 302,
      "metadata": {
        "colab": {
          "base_uri": "https://localhost:8080/"
        },
        "id": "1AF3yj8_bl84",
        "outputId": "bd4cd5e2-392b-48cb-fbee-cd7abbbf0281"
      },
      "outputs": [
        {
          "name": "stdout",
          "output_type": "stream",
          "text": [
            "Fitting 10 folds for each of 5 candidates, totalling 50 fits\n"
          ]
        },
        {
          "data": {
            "text/plain": [
              "RandomizedSearchCV(cv=10,\n",
              "                   estimator=Pipeline(steps=[('full_pipeline',\n",
              "                                              ColumnTransformer(transformers=[('num',\n",
              "                                                                               Pipeline(steps=[('imputer',\n",
              "                                                                                                SimpleImputer(strategy='median')),\n",
              "                                                                                               ('attribs_adder',\n",
              "                                                                                                CombinedAttributesAdder()),\n",
              "                                                                                               ('std_scaler',\n",
              "                                                                                                StandardScaler())]),\n",
              "                                                                               ['fixed '\n",
              "                                                                                'acidity',\n",
              "                                                                                'volatile '\n",
              "                                                                                'acidity',\n",
              "                                                                                'citric '\n",
              "                                                                                'acid',\n",
              "                                                                                'residual '\n",
              "                                                                                'sugar',\n",
              "                                                                                'chlorides',\n",
              "                                                                                'free '\n",
              "                                                                                'sulfur '\n",
              "                                                                                'dioxid...\n",
              "                                              RandomForestRegressor(max_features=8,\n",
              "                                                                    n_estimators=30,\n",
              "                                                                    random_state=42))]),\n",
              "                   n_iter=5, n_jobs=-1,\n",
              "                   param_distributions={'forest_reg__max_features': <scipy.stats._distn_infrastructure.rv_frozen object at 0x000002A90A6C8910>,\n",
              "                                        'forest_reg__n_estimators': <scipy.stats._distn_infrastructure.rv_frozen object at 0x000002A90A6C88E0>},\n",
              "                   scoring='neg_mean_squared_error', verbose=10)"
            ]
          },
          "execution_count": 302,
          "metadata": {},
          "output_type": "execute_result"
        }
      ],
      "source": [
        "rnd_search.fit(X_train, y_train)"
      ]
    },
    {
      "cell_type": "code",
      "execution_count": 303,
      "metadata": {
        "colab": {
          "base_uri": "https://localhost:8080/"
        },
        "id": "8q4xzb1SbrdZ",
        "outputId": "6ebe83ab-7639-4c61-81e6-9937d4252a36"
      },
      "outputs": [
        {
          "data": {
            "text/plain": [
              "{'forest_reg__max_features': 4, 'forest_reg__n_estimators': 185}"
            ]
          },
          "execution_count": 303,
          "metadata": {},
          "output_type": "execute_result"
        }
      ],
      "source": [
        "rnd_search.best_params_"
      ]
    },
    {
      "cell_type": "code",
      "execution_count": 304,
      "metadata": {
        "id": "RARjehAFbuPi"
      },
      "outputs": [],
      "source": [
        "forest_reg = RandomForestRegressor(random_state=42, max_features=5, n_estimators=176)"
      ]
    },
    {
      "cell_type": "code",
      "execution_count": 305,
      "metadata": {
        "colab": {
          "base_uri": "https://localhost:8080/"
        },
        "id": "iZxOK9sNbxOK",
        "outputId": "fbe8c20d-b81b-4861-8271-25c7b0142857"
      },
      "outputs": [
        {
          "data": {
            "text/plain": [
              "Pipeline(steps=[('full_pipeline',\n",
              "                 ColumnTransformer(transformers=[('num',\n",
              "                                                  Pipeline(steps=[('imputer',\n",
              "                                                                   SimpleImputer(strategy='median')),\n",
              "                                                                  ('attribs_adder',\n",
              "                                                                   CombinedAttributesAdder()),\n",
              "                                                                  ('std_scaler',\n",
              "                                                                   StandardScaler())]),\n",
              "                                                  ['fixed acidity',\n",
              "                                                   'volatile acidity',\n",
              "                                                   'citric acid',\n",
              "                                                   'residual sugar',\n",
              "                                                   'chlorides',\n",
              "                                                   'free sulfur dioxide',\n",
              "                                                   'total sulfur dioxide',\n",
              "                                                   'density', 'pH', 'sulphates',\n",
              "                                                   'alcohol'])])),\n",
              "                ('forest_reg',\n",
              "                 RandomForestRegressor(max_features=5, n_estimators=176,\n",
              "                                       random_state=42))])"
            ]
          },
          "execution_count": 305,
          "metadata": {},
          "output_type": "execute_result"
        }
      ],
      "source": [
        "model_forest_reg = Pipeline([\n",
        "    (\"full_pipeline\", full_pipeline),\n",
        "    (\"forest_reg\", forest_reg)\n",
        "])\n",
        "model_forest_reg.fit(X_train, y_train)"
      ]
    },
    {
      "cell_type": "markdown",
      "metadata": {
        "id": "sRKJCcVzb0WY"
      },
      "source": [
        "###Validación cruzada"
      ]
    },
    {
      "cell_type": "code",
      "execution_count": 306,
      "metadata": {
        "colab": {
          "base_uri": "https://localhost:8080/"
        },
        "id": "axvbOClfb21y",
        "outputId": "aa140950-416f-48c4-f92f-d0a2407c9d68"
      },
      "outputs": [
        {
          "name": "stdout",
          "output_type": "stream",
          "text": [
            "Scores: [0.48287934 0.55804614 0.49144956 0.66905671 0.67275583 0.75983299\n",
            " 0.65926921 0.77998024 0.71951176 0.5526554 ]\n",
            "Mean: 0.6345437169936333\n",
            "Standard deviation: 0.10166956855258255\n"
          ]
        }
      ],
      "source": [
        "forest_scores = cross_val_score(model_forest_reg, X_test, y_test, scoring=\"neg_mean_squared_error\", cv=10)\n",
        "forest_rmse_scores = np.sqrt(-forest_scores)\n",
        "\n",
        "display_scores(forest_rmse_scores)"
      ]
    },
    {
      "cell_type": "code",
      "execution_count": 1493,
      "metadata": {
        "id": "KBSpb4N1b82q"
      },
      "outputs": [],
      "source": []
    }
  ],
  "metadata": {
    "colab": {
      "collapsed_sections": [
        "Jy3CIcaETDeI"
      ],
      "name": "Copia de 2. Santa Clara Winery.ipynb",
      "provenance": []
    },
    "interpreter": {
      "hash": "910ccb3ae6dd8fd1b6c427120585459ba6d34426d3bdba1b337c178c7de5a46f"
    },
    "kernelspec": {
      "display_name": "Python 3.9.12 ('alan_test_env')",
      "language": "python",
      "name": "python3"
    },
    "language_info": {
      "codemirror_mode": {
        "name": "ipython",
        "version": 3
      },
      "file_extension": ".py",
      "mimetype": "text/x-python",
      "name": "python",
      "nbconvert_exporter": "python",
      "pygments_lexer": "ipython3",
      "version": "3.9.12"
    }
  },
  "nbformat": 4,
  "nbformat_minor": 0
}
