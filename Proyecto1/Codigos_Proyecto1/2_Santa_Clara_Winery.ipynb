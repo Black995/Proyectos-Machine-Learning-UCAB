{
  "nbformat": 4,
  "nbformat_minor": 0,
  "metadata": {
    "colab": {
      "name": "Copia de 2. Santa Clara Winery.ipynb",
      "provenance": [],
      "collapsed_sections": [
        "Jy3CIcaETDeI"
      ]
    },
    "kernelspec": {
      "name": "python3",
      "display_name": "Python 3"
    },
    "language_info": {
      "name": "python"
    }
  },
  "cells": [
    {
      "cell_type": "markdown",
      "source": [
        "# Leer el Dataset homes.csv"
      ],
      "metadata": {
        "id": "ra9aExyONK6g"
      }
    },
    {
      "cell_type": "code",
      "source": [
        "#Importando las librerias\n",
        "import numpy as np\n",
        "import matplotlib.pyplot as plt\n",
        "import pandas as pd\n",
        "from sklearn.impute import SimpleImputer\n",
        "from sklearn.compose import ColumnTransformer\n",
        "from sklearn.preprocessing import OneHotEncoder\n",
        "from sklearn.preprocessing import LabelEncoder\n",
        "from sklearn.model_selection import train_test_split"
      ],
      "metadata": {
        "id": "xaQ7tpUvNMsB"
      },
      "execution_count": 1421,
      "outputs": []
    },
    {
      "cell_type": "code",
      "source": [
        "#Impoprtando el dataset\n",
        "missing_values = [\"n/a\", \"na\", \"--\"]\n",
        "dataset = pd.read_csv('wines.csv',na_values = missing_values)"
      ],
      "metadata": {
        "id": "b8tG2lBGNPcC"
      },
      "execution_count": 1422,
      "outputs": []
    },
    {
      "cell_type": "markdown",
      "source": [
        "# Explorar los datos para obtener ideas."
      ],
      "metadata": {
        "id": "CCYoPJ02NT4x"
      }
    },
    {
      "cell_type": "code",
      "source": [
        "dataset.head()"
      ],
      "metadata": {
        "colab": {
          "base_uri": "https://localhost:8080/",
          "height": 267
        },
        "id": "ATnlH_UHNUtC",
        "outputId": "7e0fbd3a-c5c3-49a6-c455-26206775a2f9"
      },
      "execution_count": 1423,
      "outputs": [
        {
          "output_type": "execute_result",
          "data": {
            "text/plain": [
              "   fixed acidity  volatile acidity  citric acid  residual sugar  chlorides  \\\n",
              "0            7.4              0.70         0.00             1.9      0.076   \n",
              "1            7.8              0.88         0.00             2.6      0.098   \n",
              "2            7.8              0.76         0.04             2.3      0.092   \n",
              "3           11.2              0.28         0.56             1.9      0.075   \n",
              "4            7.4              0.70         0.00             1.9      0.076   \n",
              "\n",
              "   free sulfur dioxide  total sulfur dioxide  density    pH  sulphates  \\\n",
              "0                 11.0                  34.0   0.9978  3.51       0.56   \n",
              "1                 25.0                  67.0   0.9968  3.20       0.68   \n",
              "2                 15.0                  54.0   0.9970  3.26       0.65   \n",
              "3                 17.0                  60.0   0.9980  3.16       0.58   \n",
              "4                 11.0                  34.0   0.9978  3.51       0.56   \n",
              "\n",
              "   alcohol  quality  \n",
              "0      9.4        5  \n",
              "1      9.8        5  \n",
              "2      9.8        5  \n",
              "3      9.8        6  \n",
              "4      9.4        5  "
            ],
            "text/html": [
              "\n",
              "  <div id=\"df-4206c22f-20cb-4f97-9923-d0992773a87c\">\n",
              "    <div class=\"colab-df-container\">\n",
              "      <div>\n",
              "<style scoped>\n",
              "    .dataframe tbody tr th:only-of-type {\n",
              "        vertical-align: middle;\n",
              "    }\n",
              "\n",
              "    .dataframe tbody tr th {\n",
              "        vertical-align: top;\n",
              "    }\n",
              "\n",
              "    .dataframe thead th {\n",
              "        text-align: right;\n",
              "    }\n",
              "</style>\n",
              "<table border=\"1\" class=\"dataframe\">\n",
              "  <thead>\n",
              "    <tr style=\"text-align: right;\">\n",
              "      <th></th>\n",
              "      <th>fixed acidity</th>\n",
              "      <th>volatile acidity</th>\n",
              "      <th>citric acid</th>\n",
              "      <th>residual sugar</th>\n",
              "      <th>chlorides</th>\n",
              "      <th>free sulfur dioxide</th>\n",
              "      <th>total sulfur dioxide</th>\n",
              "      <th>density</th>\n",
              "      <th>pH</th>\n",
              "      <th>sulphates</th>\n",
              "      <th>alcohol</th>\n",
              "      <th>quality</th>\n",
              "    </tr>\n",
              "  </thead>\n",
              "  <tbody>\n",
              "    <tr>\n",
              "      <th>0</th>\n",
              "      <td>7.4</td>\n",
              "      <td>0.70</td>\n",
              "      <td>0.00</td>\n",
              "      <td>1.9</td>\n",
              "      <td>0.076</td>\n",
              "      <td>11.0</td>\n",
              "      <td>34.0</td>\n",
              "      <td>0.9978</td>\n",
              "      <td>3.51</td>\n",
              "      <td>0.56</td>\n",
              "      <td>9.4</td>\n",
              "      <td>5</td>\n",
              "    </tr>\n",
              "    <tr>\n",
              "      <th>1</th>\n",
              "      <td>7.8</td>\n",
              "      <td>0.88</td>\n",
              "      <td>0.00</td>\n",
              "      <td>2.6</td>\n",
              "      <td>0.098</td>\n",
              "      <td>25.0</td>\n",
              "      <td>67.0</td>\n",
              "      <td>0.9968</td>\n",
              "      <td>3.20</td>\n",
              "      <td>0.68</td>\n",
              "      <td>9.8</td>\n",
              "      <td>5</td>\n",
              "    </tr>\n",
              "    <tr>\n",
              "      <th>2</th>\n",
              "      <td>7.8</td>\n",
              "      <td>0.76</td>\n",
              "      <td>0.04</td>\n",
              "      <td>2.3</td>\n",
              "      <td>0.092</td>\n",
              "      <td>15.0</td>\n",
              "      <td>54.0</td>\n",
              "      <td>0.9970</td>\n",
              "      <td>3.26</td>\n",
              "      <td>0.65</td>\n",
              "      <td>9.8</td>\n",
              "      <td>5</td>\n",
              "    </tr>\n",
              "    <tr>\n",
              "      <th>3</th>\n",
              "      <td>11.2</td>\n",
              "      <td>0.28</td>\n",
              "      <td>0.56</td>\n",
              "      <td>1.9</td>\n",
              "      <td>0.075</td>\n",
              "      <td>17.0</td>\n",
              "      <td>60.0</td>\n",
              "      <td>0.9980</td>\n",
              "      <td>3.16</td>\n",
              "      <td>0.58</td>\n",
              "      <td>9.8</td>\n",
              "      <td>6</td>\n",
              "    </tr>\n",
              "    <tr>\n",
              "      <th>4</th>\n",
              "      <td>7.4</td>\n",
              "      <td>0.70</td>\n",
              "      <td>0.00</td>\n",
              "      <td>1.9</td>\n",
              "      <td>0.076</td>\n",
              "      <td>11.0</td>\n",
              "      <td>34.0</td>\n",
              "      <td>0.9978</td>\n",
              "      <td>3.51</td>\n",
              "      <td>0.56</td>\n",
              "      <td>9.4</td>\n",
              "      <td>5</td>\n",
              "    </tr>\n",
              "  </tbody>\n",
              "</table>\n",
              "</div>\n",
              "      <button class=\"colab-df-convert\" onclick=\"convertToInteractive('df-4206c22f-20cb-4f97-9923-d0992773a87c')\"\n",
              "              title=\"Convert this dataframe to an interactive table.\"\n",
              "              style=\"display:none;\">\n",
              "        \n",
              "  <svg xmlns=\"http://www.w3.org/2000/svg\" height=\"24px\"viewBox=\"0 0 24 24\"\n",
              "       width=\"24px\">\n",
              "    <path d=\"M0 0h24v24H0V0z\" fill=\"none\"/>\n",
              "    <path d=\"M18.56 5.44l.94 2.06.94-2.06 2.06-.94-2.06-.94-.94-2.06-.94 2.06-2.06.94zm-11 1L8.5 8.5l.94-2.06 2.06-.94-2.06-.94L8.5 2.5l-.94 2.06-2.06.94zm10 10l.94 2.06.94-2.06 2.06-.94-2.06-.94-.94-2.06-.94 2.06-2.06.94z\"/><path d=\"M17.41 7.96l-1.37-1.37c-.4-.4-.92-.59-1.43-.59-.52 0-1.04.2-1.43.59L10.3 9.45l-7.72 7.72c-.78.78-.78 2.05 0 2.83L4 21.41c.39.39.9.59 1.41.59.51 0 1.02-.2 1.41-.59l7.78-7.78 2.81-2.81c.8-.78.8-2.07 0-2.86zM5.41 20L4 18.59l7.72-7.72 1.47 1.35L5.41 20z\"/>\n",
              "  </svg>\n",
              "      </button>\n",
              "      \n",
              "  <style>\n",
              "    .colab-df-container {\n",
              "      display:flex;\n",
              "      flex-wrap:wrap;\n",
              "      gap: 12px;\n",
              "    }\n",
              "\n",
              "    .colab-df-convert {\n",
              "      background-color: #E8F0FE;\n",
              "      border: none;\n",
              "      border-radius: 50%;\n",
              "      cursor: pointer;\n",
              "      display: none;\n",
              "      fill: #1967D2;\n",
              "      height: 32px;\n",
              "      padding: 0 0 0 0;\n",
              "      width: 32px;\n",
              "    }\n",
              "\n",
              "    .colab-df-convert:hover {\n",
              "      background-color: #E2EBFA;\n",
              "      box-shadow: 0px 1px 2px rgba(60, 64, 67, 0.3), 0px 1px 3px 1px rgba(60, 64, 67, 0.15);\n",
              "      fill: #174EA6;\n",
              "    }\n",
              "\n",
              "    [theme=dark] .colab-df-convert {\n",
              "      background-color: #3B4455;\n",
              "      fill: #D2E3FC;\n",
              "    }\n",
              "\n",
              "    [theme=dark] .colab-df-convert:hover {\n",
              "      background-color: #434B5C;\n",
              "      box-shadow: 0px 1px 3px 1px rgba(0, 0, 0, 0.15);\n",
              "      filter: drop-shadow(0px 1px 2px rgba(0, 0, 0, 0.3));\n",
              "      fill: #FFFFFF;\n",
              "    }\n",
              "  </style>\n",
              "\n",
              "      <script>\n",
              "        const buttonEl =\n",
              "          document.querySelector('#df-4206c22f-20cb-4f97-9923-d0992773a87c button.colab-df-convert');\n",
              "        buttonEl.style.display =\n",
              "          google.colab.kernel.accessAllowed ? 'block' : 'none';\n",
              "\n",
              "        async function convertToInteractive(key) {\n",
              "          const element = document.querySelector('#df-4206c22f-20cb-4f97-9923-d0992773a87c');\n",
              "          const dataTable =\n",
              "            await google.colab.kernel.invokeFunction('convertToInteractive',\n",
              "                                                     [key], {});\n",
              "          if (!dataTable) return;\n",
              "\n",
              "          const docLinkHtml = 'Like what you see? Visit the ' +\n",
              "            '<a target=\"_blank\" href=https://colab.research.google.com/notebooks/data_table.ipynb>data table notebook</a>'\n",
              "            + ' to learn more about interactive tables.';\n",
              "          element.innerHTML = '';\n",
              "          dataTable['output_type'] = 'display_data';\n",
              "          await google.colab.output.renderOutput(dataTable, element);\n",
              "          const docLink = document.createElement('div');\n",
              "          docLink.innerHTML = docLinkHtml;\n",
              "          element.appendChild(docLink);\n",
              "        }\n",
              "      </script>\n",
              "    </div>\n",
              "  </div>\n",
              "  "
            ]
          },
          "metadata": {},
          "execution_count": 1423
        }
      ]
    },
    {
      "cell_type": "code",
      "source": [
        "dataset.info()"
      ],
      "metadata": {
        "colab": {
          "base_uri": "https://localhost:8080/"
        },
        "id": "UVKCJ9eGNbth",
        "outputId": "20faaba1-e419-4fd5-b9a6-05b468d278f4"
      },
      "execution_count": 1424,
      "outputs": [
        {
          "output_type": "stream",
          "name": "stdout",
          "text": [
            "<class 'pandas.core.frame.DataFrame'>\n",
            "RangeIndex: 1599 entries, 0 to 1598\n",
            "Data columns (total 12 columns):\n",
            " #   Column                Non-Null Count  Dtype  \n",
            "---  ------                --------------  -----  \n",
            " 0   fixed acidity         1599 non-null   float64\n",
            " 1   volatile acidity      1599 non-null   float64\n",
            " 2   citric acid           1599 non-null   float64\n",
            " 3   residual sugar        1599 non-null   float64\n",
            " 4   chlorides             1599 non-null   float64\n",
            " 5   free sulfur dioxide   1599 non-null   float64\n",
            " 6   total sulfur dioxide  1599 non-null   float64\n",
            " 7   density               1599 non-null   float64\n",
            " 8   pH                    1599 non-null   float64\n",
            " 9   sulphates             1599 non-null   float64\n",
            " 10  alcohol               1599 non-null   float64\n",
            " 11  quality               1599 non-null   int64  \n",
            "dtypes: float64(11), int64(1)\n",
            "memory usage: 150.0 KB\n"
          ]
        }
      ]
    },
    {
      "cell_type": "code",
      "source": [
        "dataset.describe()"
      ],
      "metadata": {
        "colab": {
          "base_uri": "https://localhost:8080/",
          "height": 399
        },
        "id": "FOP0gT3FNbzd",
        "outputId": "9aa1e39f-6e97-4d95-c7d4-46e6f14d5dce"
      },
      "execution_count": 1425,
      "outputs": [
        {
          "output_type": "execute_result",
          "data": {
            "text/plain": [
              "       fixed acidity  volatile acidity  citric acid  residual sugar  \\\n",
              "count    1599.000000       1599.000000  1599.000000     1599.000000   \n",
              "mean        8.319637          0.527821     0.270976        2.538806   \n",
              "std         1.741096          0.179060     0.194801        1.409928   \n",
              "min         4.600000          0.120000     0.000000        0.900000   \n",
              "25%         7.100000          0.390000     0.090000        1.900000   \n",
              "50%         7.900000          0.520000     0.260000        2.200000   \n",
              "75%         9.200000          0.640000     0.420000        2.600000   \n",
              "max        15.900000          1.580000     1.000000       15.500000   \n",
              "\n",
              "         chlorides  free sulfur dioxide  total sulfur dioxide      density  \\\n",
              "count  1599.000000          1599.000000           1599.000000  1599.000000   \n",
              "mean      0.087467            15.874922             46.467792     0.996747   \n",
              "std       0.047065            10.460157             32.895324     0.001887   \n",
              "min       0.012000             1.000000              6.000000     0.990070   \n",
              "25%       0.070000             7.000000             22.000000     0.995600   \n",
              "50%       0.079000            14.000000             38.000000     0.996750   \n",
              "75%       0.090000            21.000000             62.000000     0.997835   \n",
              "max       0.611000            72.000000            289.000000     1.003690   \n",
              "\n",
              "                pH    sulphates      alcohol      quality  \n",
              "count  1599.000000  1599.000000  1599.000000  1599.000000  \n",
              "mean      3.311113     0.658149    10.422983     5.636023  \n",
              "std       0.154386     0.169507     1.065668     0.807569  \n",
              "min       2.740000     0.330000     8.400000     3.000000  \n",
              "25%       3.210000     0.550000     9.500000     5.000000  \n",
              "50%       3.310000     0.620000    10.200000     6.000000  \n",
              "75%       3.400000     0.730000    11.100000     6.000000  \n",
              "max       4.010000     2.000000    14.900000     8.000000  "
            ],
            "text/html": [
              "\n",
              "  <div id=\"df-7c340eaa-2b0e-4041-9ab2-3f4ed7c65974\">\n",
              "    <div class=\"colab-df-container\">\n",
              "      <div>\n",
              "<style scoped>\n",
              "    .dataframe tbody tr th:only-of-type {\n",
              "        vertical-align: middle;\n",
              "    }\n",
              "\n",
              "    .dataframe tbody tr th {\n",
              "        vertical-align: top;\n",
              "    }\n",
              "\n",
              "    .dataframe thead th {\n",
              "        text-align: right;\n",
              "    }\n",
              "</style>\n",
              "<table border=\"1\" class=\"dataframe\">\n",
              "  <thead>\n",
              "    <tr style=\"text-align: right;\">\n",
              "      <th></th>\n",
              "      <th>fixed acidity</th>\n",
              "      <th>volatile acidity</th>\n",
              "      <th>citric acid</th>\n",
              "      <th>residual sugar</th>\n",
              "      <th>chlorides</th>\n",
              "      <th>free sulfur dioxide</th>\n",
              "      <th>total sulfur dioxide</th>\n",
              "      <th>density</th>\n",
              "      <th>pH</th>\n",
              "      <th>sulphates</th>\n",
              "      <th>alcohol</th>\n",
              "      <th>quality</th>\n",
              "    </tr>\n",
              "  </thead>\n",
              "  <tbody>\n",
              "    <tr>\n",
              "      <th>count</th>\n",
              "      <td>1599.000000</td>\n",
              "      <td>1599.000000</td>\n",
              "      <td>1599.000000</td>\n",
              "      <td>1599.000000</td>\n",
              "      <td>1599.000000</td>\n",
              "      <td>1599.000000</td>\n",
              "      <td>1599.000000</td>\n",
              "      <td>1599.000000</td>\n",
              "      <td>1599.000000</td>\n",
              "      <td>1599.000000</td>\n",
              "      <td>1599.000000</td>\n",
              "      <td>1599.000000</td>\n",
              "    </tr>\n",
              "    <tr>\n",
              "      <th>mean</th>\n",
              "      <td>8.319637</td>\n",
              "      <td>0.527821</td>\n",
              "      <td>0.270976</td>\n",
              "      <td>2.538806</td>\n",
              "      <td>0.087467</td>\n",
              "      <td>15.874922</td>\n",
              "      <td>46.467792</td>\n",
              "      <td>0.996747</td>\n",
              "      <td>3.311113</td>\n",
              "      <td>0.658149</td>\n",
              "      <td>10.422983</td>\n",
              "      <td>5.636023</td>\n",
              "    </tr>\n",
              "    <tr>\n",
              "      <th>std</th>\n",
              "      <td>1.741096</td>\n",
              "      <td>0.179060</td>\n",
              "      <td>0.194801</td>\n",
              "      <td>1.409928</td>\n",
              "      <td>0.047065</td>\n",
              "      <td>10.460157</td>\n",
              "      <td>32.895324</td>\n",
              "      <td>0.001887</td>\n",
              "      <td>0.154386</td>\n",
              "      <td>0.169507</td>\n",
              "      <td>1.065668</td>\n",
              "      <td>0.807569</td>\n",
              "    </tr>\n",
              "    <tr>\n",
              "      <th>min</th>\n",
              "      <td>4.600000</td>\n",
              "      <td>0.120000</td>\n",
              "      <td>0.000000</td>\n",
              "      <td>0.900000</td>\n",
              "      <td>0.012000</td>\n",
              "      <td>1.000000</td>\n",
              "      <td>6.000000</td>\n",
              "      <td>0.990070</td>\n",
              "      <td>2.740000</td>\n",
              "      <td>0.330000</td>\n",
              "      <td>8.400000</td>\n",
              "      <td>3.000000</td>\n",
              "    </tr>\n",
              "    <tr>\n",
              "      <th>25%</th>\n",
              "      <td>7.100000</td>\n",
              "      <td>0.390000</td>\n",
              "      <td>0.090000</td>\n",
              "      <td>1.900000</td>\n",
              "      <td>0.070000</td>\n",
              "      <td>7.000000</td>\n",
              "      <td>22.000000</td>\n",
              "      <td>0.995600</td>\n",
              "      <td>3.210000</td>\n",
              "      <td>0.550000</td>\n",
              "      <td>9.500000</td>\n",
              "      <td>5.000000</td>\n",
              "    </tr>\n",
              "    <tr>\n",
              "      <th>50%</th>\n",
              "      <td>7.900000</td>\n",
              "      <td>0.520000</td>\n",
              "      <td>0.260000</td>\n",
              "      <td>2.200000</td>\n",
              "      <td>0.079000</td>\n",
              "      <td>14.000000</td>\n",
              "      <td>38.000000</td>\n",
              "      <td>0.996750</td>\n",
              "      <td>3.310000</td>\n",
              "      <td>0.620000</td>\n",
              "      <td>10.200000</td>\n",
              "      <td>6.000000</td>\n",
              "    </tr>\n",
              "    <tr>\n",
              "      <th>75%</th>\n",
              "      <td>9.200000</td>\n",
              "      <td>0.640000</td>\n",
              "      <td>0.420000</td>\n",
              "      <td>2.600000</td>\n",
              "      <td>0.090000</td>\n",
              "      <td>21.000000</td>\n",
              "      <td>62.000000</td>\n",
              "      <td>0.997835</td>\n",
              "      <td>3.400000</td>\n",
              "      <td>0.730000</td>\n",
              "      <td>11.100000</td>\n",
              "      <td>6.000000</td>\n",
              "    </tr>\n",
              "    <tr>\n",
              "      <th>max</th>\n",
              "      <td>15.900000</td>\n",
              "      <td>1.580000</td>\n",
              "      <td>1.000000</td>\n",
              "      <td>15.500000</td>\n",
              "      <td>0.611000</td>\n",
              "      <td>72.000000</td>\n",
              "      <td>289.000000</td>\n",
              "      <td>1.003690</td>\n",
              "      <td>4.010000</td>\n",
              "      <td>2.000000</td>\n",
              "      <td>14.900000</td>\n",
              "      <td>8.000000</td>\n",
              "    </tr>\n",
              "  </tbody>\n",
              "</table>\n",
              "</div>\n",
              "      <button class=\"colab-df-convert\" onclick=\"convertToInteractive('df-7c340eaa-2b0e-4041-9ab2-3f4ed7c65974')\"\n",
              "              title=\"Convert this dataframe to an interactive table.\"\n",
              "              style=\"display:none;\">\n",
              "        \n",
              "  <svg xmlns=\"http://www.w3.org/2000/svg\" height=\"24px\"viewBox=\"0 0 24 24\"\n",
              "       width=\"24px\">\n",
              "    <path d=\"M0 0h24v24H0V0z\" fill=\"none\"/>\n",
              "    <path d=\"M18.56 5.44l.94 2.06.94-2.06 2.06-.94-2.06-.94-.94-2.06-.94 2.06-2.06.94zm-11 1L8.5 8.5l.94-2.06 2.06-.94-2.06-.94L8.5 2.5l-.94 2.06-2.06.94zm10 10l.94 2.06.94-2.06 2.06-.94-2.06-.94-.94-2.06-.94 2.06-2.06.94z\"/><path d=\"M17.41 7.96l-1.37-1.37c-.4-.4-.92-.59-1.43-.59-.52 0-1.04.2-1.43.59L10.3 9.45l-7.72 7.72c-.78.78-.78 2.05 0 2.83L4 21.41c.39.39.9.59 1.41.59.51 0 1.02-.2 1.41-.59l7.78-7.78 2.81-2.81c.8-.78.8-2.07 0-2.86zM5.41 20L4 18.59l7.72-7.72 1.47 1.35L5.41 20z\"/>\n",
              "  </svg>\n",
              "      </button>\n",
              "      \n",
              "  <style>\n",
              "    .colab-df-container {\n",
              "      display:flex;\n",
              "      flex-wrap:wrap;\n",
              "      gap: 12px;\n",
              "    }\n",
              "\n",
              "    .colab-df-convert {\n",
              "      background-color: #E8F0FE;\n",
              "      border: none;\n",
              "      border-radius: 50%;\n",
              "      cursor: pointer;\n",
              "      display: none;\n",
              "      fill: #1967D2;\n",
              "      height: 32px;\n",
              "      padding: 0 0 0 0;\n",
              "      width: 32px;\n",
              "    }\n",
              "\n",
              "    .colab-df-convert:hover {\n",
              "      background-color: #E2EBFA;\n",
              "      box-shadow: 0px 1px 2px rgba(60, 64, 67, 0.3), 0px 1px 3px 1px rgba(60, 64, 67, 0.15);\n",
              "      fill: #174EA6;\n",
              "    }\n",
              "\n",
              "    [theme=dark] .colab-df-convert {\n",
              "      background-color: #3B4455;\n",
              "      fill: #D2E3FC;\n",
              "    }\n",
              "\n",
              "    [theme=dark] .colab-df-convert:hover {\n",
              "      background-color: #434B5C;\n",
              "      box-shadow: 0px 1px 3px 1px rgba(0, 0, 0, 0.15);\n",
              "      filter: drop-shadow(0px 1px 2px rgba(0, 0, 0, 0.3));\n",
              "      fill: #FFFFFF;\n",
              "    }\n",
              "  </style>\n",
              "\n",
              "      <script>\n",
              "        const buttonEl =\n",
              "          document.querySelector('#df-7c340eaa-2b0e-4041-9ab2-3f4ed7c65974 button.colab-df-convert');\n",
              "        buttonEl.style.display =\n",
              "          google.colab.kernel.accessAllowed ? 'block' : 'none';\n",
              "\n",
              "        async function convertToInteractive(key) {\n",
              "          const element = document.querySelector('#df-7c340eaa-2b0e-4041-9ab2-3f4ed7c65974');\n",
              "          const dataTable =\n",
              "            await google.colab.kernel.invokeFunction('convertToInteractive',\n",
              "                                                     [key], {});\n",
              "          if (!dataTable) return;\n",
              "\n",
              "          const docLinkHtml = 'Like what you see? Visit the ' +\n",
              "            '<a target=\"_blank\" href=https://colab.research.google.com/notebooks/data_table.ipynb>data table notebook</a>'\n",
              "            + ' to learn more about interactive tables.';\n",
              "          element.innerHTML = '';\n",
              "          dataTable['output_type'] = 'display_data';\n",
              "          await google.colab.output.renderOutput(dataTable, element);\n",
              "          const docLink = document.createElement('div');\n",
              "          docLink.innerHTML = docLinkHtml;\n",
              "          element.appendChild(docLink);\n",
              "        }\n",
              "      </script>\n",
              "    </div>\n",
              "  </div>\n",
              "  "
            ]
          },
          "metadata": {},
          "execution_count": 1425
        }
      ]
    },
    {
      "cell_type": "code",
      "source": [
        "dataset.shape"
      ],
      "metadata": {
        "colab": {
          "base_uri": "https://localhost:8080/"
        },
        "id": "Qj8ShQ48NjqK",
        "outputId": "cefddad0-bf5d-4a95-fb64-1d5b54d8130c"
      },
      "execution_count": 1426,
      "outputs": [
        {
          "output_type": "execute_result",
          "data": {
            "text/plain": [
              "(1599, 12)"
            ]
          },
          "metadata": {},
          "execution_count": 1426
        }
      ]
    },
    {
      "cell_type": "code",
      "source": [
        "dataset[\"free sulfur dioxide\"].value_counts()"
      ],
      "metadata": {
        "colab": {
          "base_uri": "https://localhost:8080/"
        },
        "id": "JfzK13jgNn-V",
        "outputId": "3bc2d7b4-fa10-42e3-9d85-718afd99cced"
      },
      "execution_count": 1427,
      "outputs": [
        {
          "output_type": "execute_result",
          "data": {
            "text/plain": [
              "6.0     138\n",
              "5.0     104\n",
              "10.0     79\n",
              "15.0     78\n",
              "12.0     75\n",
              "7.0      71\n",
              "9.0      62\n",
              "16.0     61\n",
              "17.0     60\n",
              "11.0     59\n",
              "13.0     57\n",
              "8.0      56\n",
              "14.0     50\n",
              "3.0      49\n",
              "18.0     46\n",
              "4.0      41\n",
              "21.0     41\n",
              "19.0     39\n",
              "24.0     34\n",
              "26.0     32\n",
              "23.0     32\n",
              "20.0     30\n",
              "27.0     29\n",
              "25.0     24\n",
              "29.0     23\n",
              "28.0     23\n",
              "22.0     22\n",
              "32.0     22\n",
              "31.0     20\n",
              "34.0     18\n",
              "30.0     16\n",
              "35.0     15\n",
              "36.0     11\n",
              "33.0     11\n",
              "38.0      9\n",
              "41.0      7\n",
              "40.0      6\n",
              "39.0      5\n",
              "48.0      4\n",
              "51.0      4\n",
              "45.0      3\n",
              "1.0       3\n",
              "43.0      3\n",
              "42.0      3\n",
              "52.0      3\n",
              "37.0      3\n",
              "68.0      2\n",
              "55.0      2\n",
              "50.0      2\n",
              "37.5      2\n",
              "53.0      1\n",
              "72.0      1\n",
              "57.0      1\n",
              "47.0      1\n",
              "5.5       1\n",
              "2.0       1\n",
              "46.0      1\n",
              "54.0      1\n",
              "40.5      1\n",
              "66.0      1\n",
              "Name: free sulfur dioxide, dtype: int64"
            ]
          },
          "metadata": {},
          "execution_count": 1427
        }
      ]
    },
    {
      "cell_type": "code",
      "source": [
        "dataset[\"free sulfur dioxide\"].hist()"
      ],
      "metadata": {
        "colab": {
          "base_uri": "https://localhost:8080/",
          "height": 282
        },
        "id": "Zylbo1kbNqma",
        "outputId": "e13092e4-5e01-45c6-d3db-152f7b997e9e"
      },
      "execution_count": 1428,
      "outputs": [
        {
          "output_type": "execute_result",
          "data": {
            "text/plain": [
              "<matplotlib.axes._subplots.AxesSubplot at 0x7f264f7d68d0>"
            ]
          },
          "metadata": {},
          "execution_count": 1428
        },
        {
          "output_type": "display_data",
          "data": {
            "text/plain": [
              "<Figure size 432x288 with 1 Axes>"
            ],
            "image/png": "[encoded data removed]"
          },
          "metadata": {
            "needs_background": "light"
          }
        }
      ]
    },
    {
      "cell_type": "code",
      "source": [
        "dataset[\"free_sulfur_dioxide_cat\"]= pd.cut(dataset[\"free sulfur dioxide\"],\n",
        "                               bins=[0,10,20,30,40,50,60,np.inf],\n",
        "                               labels=[1,2,3,4,5,6,7])\n",
        "dataset[\"free_sulfur_dioxide_cat\"].value_counts()"
      ],
      "metadata": {
        "colab": {
          "base_uri": "https://localhost:8080/"
        },
        "id": "si4f6auwNvtj",
        "outputId": "0ec920ee-1194-465a-baa1-7bd854c2bd94"
      },
      "execution_count": 1429,
      "outputs": [
        {
          "output_type": "execute_result",
          "data": {
            "text/plain": [
              "1    605\n",
              "2    555\n",
              "3    276\n",
              "4    122\n",
              "5     25\n",
              "6     12\n",
              "7      4\n",
              "Name: free_sulfur_dioxide_cat, dtype: int64"
            ]
          },
          "metadata": {},
          "execution_count": 1429
        }
      ]
    },
    {
      "cell_type": "code",
      "source": [
        "dataset[\"free_sulfur_dioxide_cat\"].hist()"
      ],
      "metadata": {
        "colab": {
          "base_uri": "https://localhost:8080/",
          "height": 282
        },
        "id": "6pSl28rcNxXz",
        "outputId": "12965add-0e56-4b8c-d114-d95519700afa"
      },
      "execution_count": 1430,
      "outputs": [
        {
          "output_type": "execute_result",
          "data": {
            "text/plain": [
              "<matplotlib.axes._subplots.AxesSubplot at 0x7f2650b1e510>"
            ]
          },
          "metadata": {},
          "execution_count": 1430
        },
        {
          "output_type": "display_data",
          "data": {
            "text/plain": [
              "<Figure size 432x288 with 1 Axes>"
            ],
            "image/png": "[encoded data removed]"
          },
          "metadata": {
            "needs_background": "light"
          }
        }
      ]
    },
    {
      "cell_type": "markdown",
      "source": [
        "# Preparar los datos para exponer mejor los patrones de datos subyacentes a los algoritmos de aprendizaje automático."
      ],
      "metadata": {
        "id": "sk9cn5wyN2pK"
      }
    },
    {
      "cell_type": "code",
      "source": [
        "#Variables independientes\n",
        "X = dataset.drop(\"quality\", axis=1)\n",
        "#Variables dependientes\n",
        "y =  dataset[\"quality\"]"
      ],
      "metadata": {
        "id": "LctRoRpZOCAM"
      },
      "execution_count": 1431,
      "outputs": []
    },
    {
      "cell_type": "markdown",
      "source": [
        "# Generar el conjunto de prueba."
      ],
      "metadata": {
        "id": "IVsy496FOLeM"
      }
    },
    {
      "cell_type": "code",
      "source": [
        "#Splitting the data set into the training and test set\n",
        "X_train, X_test, y_train, y_test = train_test_split(X, y,test_size=0.2,random_state=1)"
      ],
      "metadata": {
        "id": "LpMvPrZjONCt"
      },
      "execution_count": 1432,
      "outputs": []
    },
    {
      "cell_type": "code",
      "source": [
        "X_train"
      ],
      "metadata": {
        "colab": {
          "base_uri": "https://localhost:8080/",
          "height": 502
        },
        "id": "Otn3lZ1GOQR0",
        "outputId": "08f0d46d-fde6-44c3-ef1e-17813136d895"
      },
      "execution_count": 1433,
      "outputs": [
        {
          "output_type": "execute_result",
          "data": {
            "text/plain": [
              "      fixed acidity  volatile acidity  citric acid  residual sugar  chlorides  \\\n",
              "701             7.0             0.650         0.02             2.1      0.066   \n",
              "56             10.2             0.420         0.57             3.4      0.070   \n",
              "142             5.2             0.340         0.00             1.8      0.050   \n",
              "863             7.2             0.620         0.06             2.5      0.078   \n",
              "1387            7.4             0.640         0.07             1.8      0.100   \n",
              "...             ...               ...          ...             ...        ...   \n",
              "715             7.2             0.490         0.18             2.7      0.069   \n",
              "905             9.2             0.580         0.20             3.0      0.081   \n",
              "1096            6.6             0.725         0.09             5.5      0.117   \n",
              "235             7.2             0.630         0.00             1.9      0.097   \n",
              "1061            9.1             0.400         0.50             1.8      0.071   \n",
              "\n",
              "      free sulfur dioxide  total sulfur dioxide  density    pH  sulphates  \\\n",
              "701                   8.0                  25.0  0.99720  3.47       0.67   \n",
              "56                    4.0                  10.0  0.99710  3.04       0.63   \n",
              "142                  27.0                  63.0  0.99160  3.68       0.79   \n",
              "863                  17.0                  84.0  0.99746  3.51       0.53   \n",
              "1387                  8.0                  23.0  0.99610  3.30       0.58   \n",
              "...                   ...                   ...      ...   ...        ...   \n",
              "715                  13.0                  34.0  0.99670  3.29       0.48   \n",
              "905                  15.0                 115.0  0.99800  3.23       0.59   \n",
              "1096                  9.0                  17.0  0.99655  3.35       0.49   \n",
              "235                  14.0                  38.0  0.99675  3.37       0.58   \n",
              "1061                  7.0                  16.0  0.99462  3.21       0.69   \n",
              "\n",
              "      alcohol free_sulfur_dioxide_cat  \n",
              "701       9.5                       1  \n",
              "56        9.6                       1  \n",
              "142      14.0                       3  \n",
              "863       9.7                       2  \n",
              "1387      9.6                       1  \n",
              "...       ...                     ...  \n",
              "715       9.2                       2  \n",
              "905       9.5                       2  \n",
              "1096     10.8                       1  \n",
              "235       9.0                       2  \n",
              "1061     12.5                       1  \n",
              "\n",
              "[1279 rows x 12 columns]"
            ],
            "text/html": [
              "\n",
              "  <div id=\"df-32d8f502-f388-4fff-b134-f05e7da7154c\">\n",
              "    <div class=\"colab-df-container\">\n",
              "      <div>\n",
              "<style scoped>\n",
              "    .dataframe tbody tr th:only-of-type {\n",
              "        vertical-align: middle;\n",
              "    }\n",
              "\n",
              "    .dataframe tbody tr th {\n",
              "        vertical-align: top;\n",
              "    }\n",
              "\n",
              "    .dataframe thead th {\n",
              "        text-align: right;\n",
              "    }\n",
              "</style>\n",
              "<table border=\"1\" class=\"dataframe\">\n",
              "  <thead>\n",
              "    <tr style=\"text-align: right;\">\n",
              "      <th></th>\n",
              "      <th>fixed acidity</th>\n",
              "      <th>volatile acidity</th>\n",
              "      <th>citric acid</th>\n",
              "      <th>residual sugar</th>\n",
              "      <th>chlorides</th>\n",
              "      <th>free sulfur dioxide</th>\n",
              "      <th>total sulfur dioxide</th>\n",
              "      <th>density</th>\n",
              "      <th>pH</th>\n",
              "      <th>sulphates</th>\n",
              "      <th>alcohol</th>\n",
              "      <th>free_sulfur_dioxide_cat</th>\n",
              "    </tr>\n",
              "  </thead>\n",
              "  <tbody>\n",
              "    <tr>\n",
              "      <th>701</th>\n",
              "      <td>7.0</td>\n",
              "      <td>0.650</td>\n",
              "      <td>0.02</td>\n",
              "      <td>2.1</td>\n",
              "      <td>0.066</td>\n",
              "      <td>8.0</td>\n",
              "      <td>25.0</td>\n",
              "      <td>0.99720</td>\n",
              "      <td>3.47</td>\n",
              "      <td>0.67</td>\n",
              "      <td>9.5</td>\n",
              "      <td>1</td>\n",
              "    </tr>\n",
              "    <tr>\n",
              "      <th>56</th>\n",
              "      <td>10.2</td>\n",
              "      <td>0.420</td>\n",
              "      <td>0.57</td>\n",
              "      <td>3.4</td>\n",
              "      <td>0.070</td>\n",
              "      <td>4.0</td>\n",
              "      <td>10.0</td>\n",
              "      <td>0.99710</td>\n",
              "      <td>3.04</td>\n",
              "      <td>0.63</td>\n",
              "      <td>9.6</td>\n",
              "      <td>1</td>\n",
              "    </tr>\n",
              "    <tr>\n",
              "      <th>142</th>\n",
              "      <td>5.2</td>\n",
              "      <td>0.340</td>\n",
              "      <td>0.00</td>\n",
              "      <td>1.8</td>\n",
              "      <td>0.050</td>\n",
              "      <td>27.0</td>\n",
              "      <td>63.0</td>\n",
              "      <td>0.99160</td>\n",
              "      <td>3.68</td>\n",
              "      <td>0.79</td>\n",
              "      <td>14.0</td>\n",
              "      <td>3</td>\n",
              "    </tr>\n",
              "    <tr>\n",
              "      <th>863</th>\n",
              "      <td>7.2</td>\n",
              "      <td>0.620</td>\n",
              "      <td>0.06</td>\n",
              "      <td>2.5</td>\n",
              "      <td>0.078</td>\n",
              "      <td>17.0</td>\n",
              "      <td>84.0</td>\n",
              "      <td>0.99746</td>\n",
              "      <td>3.51</td>\n",
              "      <td>0.53</td>\n",
              "      <td>9.7</td>\n",
              "      <td>2</td>\n",
              "    </tr>\n",
              "    <tr>\n",
              "      <th>1387</th>\n",
              "      <td>7.4</td>\n",
              "      <td>0.640</td>\n",
              "      <td>0.07</td>\n",
              "      <td>1.8</td>\n",
              "      <td>0.100</td>\n",
              "      <td>8.0</td>\n",
              "      <td>23.0</td>\n",
              "      <td>0.99610</td>\n",
              "      <td>3.30</td>\n",
              "      <td>0.58</td>\n",
              "      <td>9.6</td>\n",
              "      <td>1</td>\n",
              "    </tr>\n",
              "    <tr>\n",
              "      <th>...</th>\n",
              "      <td>...</td>\n",
              "      <td>...</td>\n",
              "      <td>...</td>\n",
              "      <td>...</td>\n",
              "      <td>...</td>\n",
              "      <td>...</td>\n",
              "      <td>...</td>\n",
              "      <td>...</td>\n",
              "      <td>...</td>\n",
              "      <td>...</td>\n",
              "      <td>...</td>\n",
              "      <td>...</td>\n",
              "    </tr>\n",
              "    <tr>\n",
              "      <th>715</th>\n",
              "      <td>7.2</td>\n",
              "      <td>0.490</td>\n",
              "      <td>0.18</td>\n",
              "      <td>2.7</td>\n",
              "      <td>0.069</td>\n",
              "      <td>13.0</td>\n",
              "      <td>34.0</td>\n",
              "      <td>0.99670</td>\n",
              "      <td>3.29</td>\n",
              "      <td>0.48</td>\n",
              "      <td>9.2</td>\n",
              "      <td>2</td>\n",
              "    </tr>\n",
              "    <tr>\n",
              "      <th>905</th>\n",
              "      <td>9.2</td>\n",
              "      <td>0.580</td>\n",
              "      <td>0.20</td>\n",
              "      <td>3.0</td>\n",
              "      <td>0.081</td>\n",
              "      <td>15.0</td>\n",
              "      <td>115.0</td>\n",
              "      <td>0.99800</td>\n",
              "      <td>3.23</td>\n",
              "      <td>0.59</td>\n",
              "      <td>9.5</td>\n",
              "      <td>2</td>\n",
              "    </tr>\n",
              "    <tr>\n",
              "      <th>1096</th>\n",
              "      <td>6.6</td>\n",
              "      <td>0.725</td>\n",
              "      <td>0.09</td>\n",
              "      <td>5.5</td>\n",
              "      <td>0.117</td>\n",
              "      <td>9.0</td>\n",
              "      <td>17.0</td>\n",
              "      <td>0.99655</td>\n",
              "      <td>3.35</td>\n",
              "      <td>0.49</td>\n",
              "      <td>10.8</td>\n",
              "      <td>1</td>\n",
              "    </tr>\n",
              "    <tr>\n",
              "      <th>235</th>\n",
              "      <td>7.2</td>\n",
              "      <td>0.630</td>\n",
              "      <td>0.00</td>\n",
              "      <td>1.9</td>\n",
              "      <td>0.097</td>\n",
              "      <td>14.0</td>\n",
              "      <td>38.0</td>\n",
              "      <td>0.99675</td>\n",
              "      <td>3.37</td>\n",
              "      <td>0.58</td>\n",
              "      <td>9.0</td>\n",
              "      <td>2</td>\n",
              "    </tr>\n",
              "    <tr>\n",
              "      <th>1061</th>\n",
              "      <td>9.1</td>\n",
              "      <td>0.400</td>\n",
              "      <td>0.50</td>\n",
              "      <td>1.8</td>\n",
              "      <td>0.071</td>\n",
              "      <td>7.0</td>\n",
              "      <td>16.0</td>\n",
              "      <td>0.99462</td>\n",
              "      <td>3.21</td>\n",
              "      <td>0.69</td>\n",
              "      <td>12.5</td>\n",
              "      <td>1</td>\n",
              "    </tr>\n",
              "  </tbody>\n",
              "</table>\n",
              "<p>1279 rows × 12 columns</p>\n",
              "</div>\n",
              "      <button class=\"colab-df-convert\" onclick=\"convertToInteractive('df-32d8f502-f388-4fff-b134-f05e7da7154c')\"\n",
              "              title=\"Convert this dataframe to an interactive table.\"\n",
              "              style=\"display:none;\">\n",
              "        \n",
              "  <svg xmlns=\"http://www.w3.org/2000/svg\" height=\"24px\"viewBox=\"0 0 24 24\"\n",
              "       width=\"24px\">\n",
              "    <path d=\"M0 0h24v24H0V0z\" fill=\"none\"/>\n",
              "    <path d=\"M18.56 5.44l.94 2.06.94-2.06 2.06-.94-2.06-.94-.94-2.06-.94 2.06-2.06.94zm-11 1L8.5 8.5l.94-2.06 2.06-.94-2.06-.94L8.5 2.5l-.94 2.06-2.06.94zm10 10l.94 2.06.94-2.06 2.06-.94-2.06-.94-.94-2.06-.94 2.06-2.06.94z\"/><path d=\"M17.41 7.96l-1.37-1.37c-.4-.4-.92-.59-1.43-.59-.52 0-1.04.2-1.43.59L10.3 9.45l-7.72 7.72c-.78.78-.78 2.05 0 2.83L4 21.41c.39.39.9.59 1.41.59.51 0 1.02-.2 1.41-.59l7.78-7.78 2.81-2.81c.8-.78.8-2.07 0-2.86zM5.41 20L4 18.59l7.72-7.72 1.47 1.35L5.41 20z\"/>\n",
              "  </svg>\n",
              "      </button>\n",
              "      \n",
              "  <style>\n",
              "    .colab-df-container {\n",
              "      display:flex;\n",
              "      flex-wrap:wrap;\n",
              "      gap: 12px;\n",
              "    }\n",
              "\n",
              "    .colab-df-convert {\n",
              "      background-color: #E8F0FE;\n",
              "      border: none;\n",
              "      border-radius: 50%;\n",
              "      cursor: pointer;\n",
              "      display: none;\n",
              "      fill: #1967D2;\n",
              "      height: 32px;\n",
              "      padding: 0 0 0 0;\n",
              "      width: 32px;\n",
              "    }\n",
              "\n",
              "    .colab-df-convert:hover {\n",
              "      background-color: #E2EBFA;\n",
              "      box-shadow: 0px 1px 2px rgba(60, 64, 67, 0.3), 0px 1px 3px 1px rgba(60, 64, 67, 0.15);\n",
              "      fill: #174EA6;\n",
              "    }\n",
              "\n",
              "    [theme=dark] .colab-df-convert {\n",
              "      background-color: #3B4455;\n",
              "      fill: #D2E3FC;\n",
              "    }\n",
              "\n",
              "    [theme=dark] .colab-df-convert:hover {\n",
              "      background-color: #434B5C;\n",
              "      box-shadow: 0px 1px 3px 1px rgba(0, 0, 0, 0.15);\n",
              "      filter: drop-shadow(0px 1px 2px rgba(0, 0, 0, 0.3));\n",
              "      fill: #FFFFFF;\n",
              "    }\n",
              "  </style>\n",
              "\n",
              "      <script>\n",
              "        const buttonEl =\n",
              "          document.querySelector('#df-32d8f502-f388-4fff-b134-f05e7da7154c button.colab-df-convert');\n",
              "        buttonEl.style.display =\n",
              "          google.colab.kernel.accessAllowed ? 'block' : 'none';\n",
              "\n",
              "        async function convertToInteractive(key) {\n",
              "          const element = document.querySelector('#df-32d8f502-f388-4fff-b134-f05e7da7154c');\n",
              "          const dataTable =\n",
              "            await google.colab.kernel.invokeFunction('convertToInteractive',\n",
              "                                                     [key], {});\n",
              "          if (!dataTable) return;\n",
              "\n",
              "          const docLinkHtml = 'Like what you see? Visit the ' +\n",
              "            '<a target=\"_blank\" href=https://colab.research.google.com/notebooks/data_table.ipynb>data table notebook</a>'\n",
              "            + ' to learn more about interactive tables.';\n",
              "          element.innerHTML = '';\n",
              "          dataTable['output_type'] = 'display_data';\n",
              "          await google.colab.output.renderOutput(dataTable, element);\n",
              "          const docLink = document.createElement('div');\n",
              "          docLink.innerHTML = docLinkHtml;\n",
              "          element.appendChild(docLink);\n",
              "        }\n",
              "      </script>\n",
              "    </div>\n",
              "  </div>\n",
              "  "
            ]
          },
          "metadata": {},
          "execution_count": 1433
        }
      ]
    },
    {
      "cell_type": "code",
      "source": [
        "X_test"
      ],
      "metadata": {
        "colab": {
          "base_uri": "https://localhost:8080/",
          "height": 502
        },
        "id": "PNnn7fjKORTs",
        "outputId": "8b50d180-f7b7-45ec-ffa1-b36c12751514"
      },
      "execution_count": 1434,
      "outputs": [
        {
          "output_type": "execute_result",
          "data": {
            "text/plain": [
              "      fixed acidity  volatile acidity  citric acid  residual sugar  chlorides  \\\n",
              "75              8.8              0.41         0.64             2.2      0.093   \n",
              "1283            8.7              0.63         0.28             2.7      0.096   \n",
              "408            10.4              0.34         0.58             3.7      0.174   \n",
              "1281            7.1              0.46         0.20             1.9      0.077   \n",
              "1118            7.1              0.39         0.12             2.1      0.065   \n",
              "...             ...               ...          ...             ...        ...   \n",
              "890             7.2              0.34         0.24             2.0      0.071   \n",
              "146             5.8              0.68         0.02             1.8      0.087   \n",
              "1551            7.1              0.67         0.00             2.3      0.083   \n",
              "1209            6.2              0.39         0.43             2.0      0.071   \n",
              "1220           10.9              0.32         0.52             1.8      0.132   \n",
              "\n",
              "      free sulfur dioxide  total sulfur dioxide  density    pH  sulphates  \\\n",
              "75                    9.0                  42.0  0.99860  3.54       0.66   \n",
              "1283                 17.0                  69.0  0.99734  3.26       0.63   \n",
              "408                   6.0                  16.0  0.99700  3.19       0.70   \n",
              "1281                 28.0                  54.0  0.99560  3.37       0.64   \n",
              "1118                 14.0                  24.0  0.99252  3.30       0.53   \n",
              "...                   ...                   ...      ...   ...        ...   \n",
              "890                  30.0                  52.0  0.99576  3.44       0.58   \n",
              "146                  21.0                  94.0  0.99440  3.54       0.52   \n",
              "1551                 18.0                  27.0  0.99768  3.44       0.54   \n",
              "1209                 14.0                  24.0  0.99428  3.45       0.87   \n",
              "1220                 17.0                  44.0  0.99734  3.28       0.77   \n",
              "\n",
              "      alcohol free_sulfur_dioxide_cat  \n",
              "75       10.5                       1  \n",
              "1283     10.2                       2  \n",
              "408      11.3                       1  \n",
              "1281     10.4                       3  \n",
              "1118     13.3                       2  \n",
              "...       ...                     ...  \n",
              "890      10.1                       3  \n",
              "146      10.0                       3  \n",
              "1551      9.4                       2  \n",
              "1209     11.2                       2  \n",
              "1220     11.5                       2  \n",
              "\n",
              "[320 rows x 12 columns]"
            ],
            "text/html": [
              "\n",
              "  <div id=\"df-96bda22b-de2f-45e9-a55f-d508bdaeb86c\">\n",
              "    <div class=\"colab-df-container\">\n",
              "      <div>\n",
              "<style scoped>\n",
              "    .dataframe tbody tr th:only-of-type {\n",
              "        vertical-align: middle;\n",
              "    }\n",
              "\n",
              "    .dataframe tbody tr th {\n",
              "        vertical-align: top;\n",
              "    }\n",
              "\n",
              "    .dataframe thead th {\n",
              "        text-align: right;\n",
              "    }\n",
              "</style>\n",
              "<table border=\"1\" class=\"dataframe\">\n",
              "  <thead>\n",
              "    <tr style=\"text-align: right;\">\n",
              "      <th></th>\n",
              "      <th>fixed acidity</th>\n",
              "      <th>volatile acidity</th>\n",
              "      <th>citric acid</th>\n",
              "      <th>residual sugar</th>\n",
              "      <th>chlorides</th>\n",
              "      <th>free sulfur dioxide</th>\n",
              "      <th>total sulfur dioxide</th>\n",
              "      <th>density</th>\n",
              "      <th>pH</th>\n",
              "      <th>sulphates</th>\n",
              "      <th>alcohol</th>\n",
              "      <th>free_sulfur_dioxide_cat</th>\n",
              "    </tr>\n",
              "  </thead>\n",
              "  <tbody>\n",
              "    <tr>\n",
              "      <th>75</th>\n",
              "      <td>8.8</td>\n",
              "      <td>0.41</td>\n",
              "      <td>0.64</td>\n",
              "      <td>2.2</td>\n",
              "      <td>0.093</td>\n",
              "      <td>9.0</td>\n",
              "      <td>42.0</td>\n",
              "      <td>0.99860</td>\n",
              "      <td>3.54</td>\n",
              "      <td>0.66</td>\n",
              "      <td>10.5</td>\n",
              "      <td>1</td>\n",
              "    </tr>\n",
              "    <tr>\n",
              "      <th>1283</th>\n",
              "      <td>8.7</td>\n",
              "      <td>0.63</td>\n",
              "      <td>0.28</td>\n",
              "      <td>2.7</td>\n",
              "      <td>0.096</td>\n",
              "      <td>17.0</td>\n",
              "      <td>69.0</td>\n",
              "      <td>0.99734</td>\n",
              "      <td>3.26</td>\n",
              "      <td>0.63</td>\n",
              "      <td>10.2</td>\n",
              "      <td>2</td>\n",
              "    </tr>\n",
              "    <tr>\n",
              "      <th>408</th>\n",
              "      <td>10.4</td>\n",
              "      <td>0.34</td>\n",
              "      <td>0.58</td>\n",
              "      <td>3.7</td>\n",
              "      <td>0.174</td>\n",
              "      <td>6.0</td>\n",
              "      <td>16.0</td>\n",
              "      <td>0.99700</td>\n",
              "      <td>3.19</td>\n",
              "      <td>0.70</td>\n",
              "      <td>11.3</td>\n",
              "      <td>1</td>\n",
              "    </tr>\n",
              "    <tr>\n",
              "      <th>1281</th>\n",
              "      <td>7.1</td>\n",
              "      <td>0.46</td>\n",
              "      <td>0.20</td>\n",
              "      <td>1.9</td>\n",
              "      <td>0.077</td>\n",
              "      <td>28.0</td>\n",
              "      <td>54.0</td>\n",
              "      <td>0.99560</td>\n",
              "      <td>3.37</td>\n",
              "      <td>0.64</td>\n",
              "      <td>10.4</td>\n",
              "      <td>3</td>\n",
              "    </tr>\n",
              "    <tr>\n",
              "      <th>1118</th>\n",
              "      <td>7.1</td>\n",
              "      <td>0.39</td>\n",
              "      <td>0.12</td>\n",
              "      <td>2.1</td>\n",
              "      <td>0.065</td>\n",
              "      <td>14.0</td>\n",
              "      <td>24.0</td>\n",
              "      <td>0.99252</td>\n",
              "      <td>3.30</td>\n",
              "      <td>0.53</td>\n",
              "      <td>13.3</td>\n",
              "      <td>2</td>\n",
              "    </tr>\n",
              "    <tr>\n",
              "      <th>...</th>\n",
              "      <td>...</td>\n",
              "      <td>...</td>\n",
              "      <td>...</td>\n",
              "      <td>...</td>\n",
              "      <td>...</td>\n",
              "      <td>...</td>\n",
              "      <td>...</td>\n",
              "      <td>...</td>\n",
              "      <td>...</td>\n",
              "      <td>...</td>\n",
              "      <td>...</td>\n",
              "      <td>...</td>\n",
              "    </tr>\n",
              "    <tr>\n",
              "      <th>890</th>\n",
              "      <td>7.2</td>\n",
              "      <td>0.34</td>\n",
              "      <td>0.24</td>\n",
              "      <td>2.0</td>\n",
              "      <td>0.071</td>\n",
              "      <td>30.0</td>\n",
              "      <td>52.0</td>\n",
              "      <td>0.99576</td>\n",
              "      <td>3.44</td>\n",
              "      <td>0.58</td>\n",
              "      <td>10.1</td>\n",
              "      <td>3</td>\n",
              "    </tr>\n",
              "    <tr>\n",
              "      <th>146</th>\n",
              "      <td>5.8</td>\n",
              "      <td>0.68</td>\n",
              "      <td>0.02</td>\n",
              "      <td>1.8</td>\n",
              "      <td>0.087</td>\n",
              "      <td>21.0</td>\n",
              "      <td>94.0</td>\n",
              "      <td>0.99440</td>\n",
              "      <td>3.54</td>\n",
              "      <td>0.52</td>\n",
              "      <td>10.0</td>\n",
              "      <td>3</td>\n",
              "    </tr>\n",
              "    <tr>\n",
              "      <th>1551</th>\n",
              "      <td>7.1</td>\n",
              "      <td>0.67</td>\n",
              "      <td>0.00</td>\n",
              "      <td>2.3</td>\n",
              "      <td>0.083</td>\n",
              "      <td>18.0</td>\n",
              "      <td>27.0</td>\n",
              "      <td>0.99768</td>\n",
              "      <td>3.44</td>\n",
              "      <td>0.54</td>\n",
              "      <td>9.4</td>\n",
              "      <td>2</td>\n",
              "    </tr>\n",
              "    <tr>\n",
              "      <th>1209</th>\n",
              "      <td>6.2</td>\n",
              "      <td>0.39</td>\n",
              "      <td>0.43</td>\n",
              "      <td>2.0</td>\n",
              "      <td>0.071</td>\n",
              "      <td>14.0</td>\n",
              "      <td>24.0</td>\n",
              "      <td>0.99428</td>\n",
              "      <td>3.45</td>\n",
              "      <td>0.87</td>\n",
              "      <td>11.2</td>\n",
              "      <td>2</td>\n",
              "    </tr>\n",
              "    <tr>\n",
              "      <th>1220</th>\n",
              "      <td>10.9</td>\n",
              "      <td>0.32</td>\n",
              "      <td>0.52</td>\n",
              "      <td>1.8</td>\n",
              "      <td>0.132</td>\n",
              "      <td>17.0</td>\n",
              "      <td>44.0</td>\n",
              "      <td>0.99734</td>\n",
              "      <td>3.28</td>\n",
              "      <td>0.77</td>\n",
              "      <td>11.5</td>\n",
              "      <td>2</td>\n",
              "    </tr>\n",
              "  </tbody>\n",
              "</table>\n",
              "<p>320 rows × 12 columns</p>\n",
              "</div>\n",
              "      <button class=\"colab-df-convert\" onclick=\"convertToInteractive('df-96bda22b-de2f-45e9-a55f-d508bdaeb86c')\"\n",
              "              title=\"Convert this dataframe to an interactive table.\"\n",
              "              style=\"display:none;\">\n",
              "        \n",
              "  <svg xmlns=\"http://www.w3.org/2000/svg\" height=\"24px\"viewBox=\"0 0 24 24\"\n",
              "       width=\"24px\">\n",
              "    <path d=\"M0 0h24v24H0V0z\" fill=\"none\"/>\n",
              "    <path d=\"M18.56 5.44l.94 2.06.94-2.06 2.06-.94-2.06-.94-.94-2.06-.94 2.06-2.06.94zm-11 1L8.5 8.5l.94-2.06 2.06-.94-2.06-.94L8.5 2.5l-.94 2.06-2.06.94zm10 10l.94 2.06.94-2.06 2.06-.94-2.06-.94-.94-2.06-.94 2.06-2.06.94z\"/><path d=\"M17.41 7.96l-1.37-1.37c-.4-.4-.92-.59-1.43-.59-.52 0-1.04.2-1.43.59L10.3 9.45l-7.72 7.72c-.78.78-.78 2.05 0 2.83L4 21.41c.39.39.9.59 1.41.59.51 0 1.02-.2 1.41-.59l7.78-7.78 2.81-2.81c.8-.78.8-2.07 0-2.86zM5.41 20L4 18.59l7.72-7.72 1.47 1.35L5.41 20z\"/>\n",
              "  </svg>\n",
              "      </button>\n",
              "      \n",
              "  <style>\n",
              "    .colab-df-container {\n",
              "      display:flex;\n",
              "      flex-wrap:wrap;\n",
              "      gap: 12px;\n",
              "    }\n",
              "\n",
              "    .colab-df-convert {\n",
              "      background-color: #E8F0FE;\n",
              "      border: none;\n",
              "      border-radius: 50%;\n",
              "      cursor: pointer;\n",
              "      display: none;\n",
              "      fill: #1967D2;\n",
              "      height: 32px;\n",
              "      padding: 0 0 0 0;\n",
              "      width: 32px;\n",
              "    }\n",
              "\n",
              "    .colab-df-convert:hover {\n",
              "      background-color: #E2EBFA;\n",
              "      box-shadow: 0px 1px 2px rgba(60, 64, 67, 0.3), 0px 1px 3px 1px rgba(60, 64, 67, 0.15);\n",
              "      fill: #174EA6;\n",
              "    }\n",
              "\n",
              "    [theme=dark] .colab-df-convert {\n",
              "      background-color: #3B4455;\n",
              "      fill: #D2E3FC;\n",
              "    }\n",
              "\n",
              "    [theme=dark] .colab-df-convert:hover {\n",
              "      background-color: #434B5C;\n",
              "      box-shadow: 0px 1px 3px 1px rgba(0, 0, 0, 0.15);\n",
              "      filter: drop-shadow(0px 1px 2px rgba(0, 0, 0, 0.3));\n",
              "      fill: #FFFFFF;\n",
              "    }\n",
              "  </style>\n",
              "\n",
              "      <script>\n",
              "        const buttonEl =\n",
              "          document.querySelector('#df-96bda22b-de2f-45e9-a55f-d508bdaeb86c button.colab-df-convert');\n",
              "        buttonEl.style.display =\n",
              "          google.colab.kernel.accessAllowed ? 'block' : 'none';\n",
              "\n",
              "        async function convertToInteractive(key) {\n",
              "          const element = document.querySelector('#df-96bda22b-de2f-45e9-a55f-d508bdaeb86c');\n",
              "          const dataTable =\n",
              "            await google.colab.kernel.invokeFunction('convertToInteractive',\n",
              "                                                     [key], {});\n",
              "          if (!dataTable) return;\n",
              "\n",
              "          const docLinkHtml = 'Like what you see? Visit the ' +\n",
              "            '<a target=\"_blank\" href=https://colab.research.google.com/notebooks/data_table.ipynb>data table notebook</a>'\n",
              "            + ' to learn more about interactive tables.';\n",
              "          element.innerHTML = '';\n",
              "          dataTable['output_type'] = 'display_data';\n",
              "          await google.colab.output.renderOutput(dataTable, element);\n",
              "          const docLink = document.createElement('div');\n",
              "          docLink.innerHTML = docLinkHtml;\n",
              "          element.appendChild(docLink);\n",
              "        }\n",
              "      </script>\n",
              "    </div>\n",
              "  </div>\n",
              "  "
            ]
          },
          "metadata": {},
          "execution_count": 1434
        }
      ]
    },
    {
      "cell_type": "code",
      "source": [
        "y_train"
      ],
      "metadata": {
        "colab": {
          "base_uri": "https://localhost:8080/"
        },
        "id": "9Hb9lbXzOTdk",
        "outputId": "887892e1-cf13-4a53-8abc-60ea09f4a26e"
      },
      "execution_count": 1435,
      "outputs": [
        {
          "output_type": "execute_result",
          "data": {
            "text/plain": [
              "701     6\n",
              "56      5\n",
              "142     6\n",
              "863     5\n",
              "1387    5\n",
              "       ..\n",
              "715     6\n",
              "905     5\n",
              "1096    6\n",
              "235     6\n",
              "1061    8\n",
              "Name: quality, Length: 1279, dtype: int64"
            ]
          },
          "metadata": {},
          "execution_count": 1435
        }
      ]
    },
    {
      "cell_type": "code",
      "source": [
        "y_test"
      ],
      "metadata": {
        "colab": {
          "base_uri": "https://localhost:8080/"
        },
        "id": "yIPz-j38OVdt",
        "outputId": "2f64dfd5-5cd4-4672-b675-7ad1b861ced3"
      },
      "execution_count": 1436,
      "outputs": [
        {
          "output_type": "execute_result",
          "data": {
            "text/plain": [
              "75      5\n",
              "1283    6\n",
              "408     6\n",
              "1281    6\n",
              "1118    6\n",
              "       ..\n",
              "890     5\n",
              "146     5\n",
              "1551    5\n",
              "1209    7\n",
              "1220    6\n",
              "Name: quality, Length: 320, dtype: int64"
            ]
          },
          "metadata": {},
          "execution_count": 1436
        }
      ]
    },
    {
      "cell_type": "code",
      "source": [
        "dataset['free_sulfur_dioxide_cat'].hist()"
      ],
      "metadata": {
        "colab": {
          "base_uri": "https://localhost:8080/",
          "height": 282
        },
        "id": "LN0XF2AwOaQ1",
        "outputId": "d9b4bc7a-8c80-44f0-efe8-468fe9c2f94f"
      },
      "execution_count": 1437,
      "outputs": [
        {
          "output_type": "execute_result",
          "data": {
            "text/plain": [
              "<matplotlib.axes._subplots.AxesSubplot at 0x7f264b722350>"
            ]
          },
          "metadata": {},
          "execution_count": 1437
        },
        {
          "output_type": "display_data",
          "data": {
            "text/plain": [
              "<Figure size 432x288 with 1 Axes>"
            ],
            "image/png": "[encoded data removed]"
          },
          "metadata": {
            "needs_background": "light"
          }
        }
      ]
    },
    {
      "cell_type": "code",
      "source": [
        "X_train[\"free_sulfur_dioxide_cat\"].hist()"
      ],
      "metadata": {
        "colab": {
          "base_uri": "https://localhost:8080/",
          "height": 282
        },
        "id": "lLt3cVlXOh5l",
        "outputId": "50c8aef7-7eb5-4ca4-9b56-5f6e039a7ef6"
      },
      "execution_count": 1438,
      "outputs": [
        {
          "output_type": "execute_result",
          "data": {
            "text/plain": [
              "<matplotlib.axes._subplots.AxesSubplot at 0x7f264b75d350>"
            ]
          },
          "metadata": {},
          "execution_count": 1438
        },
        {
          "output_type": "display_data",
          "data": {
            "text/plain": [
              "<Figure size 432x288 with 1 Axes>"
            ],
            "image/png": "[encoded data removed]"
          },
          "metadata": {
            "needs_background": "light"
          }
        }
      ]
    },
    {
      "cell_type": "code",
      "source": [
        "from sklearn.model_selection import StratifiedShuffleSplit\n",
        "\n",
        "split = StratifiedShuffleSplit(n_splits=1, test_size=0.2, random_state=42)\n",
        "for train_index, test_index in split.split(dataset, dataset[\"free_sulfur_dioxide_cat\"]):\n",
        "    strat_train_set = dataset.loc[train_index]\n",
        "    strat_test_set = dataset.loc[test_index]"
      ],
      "metadata": {
        "id": "LY-oIL-LOrj9"
      },
      "execution_count": 1439,
      "outputs": []
    },
    {
      "cell_type": "code",
      "source": [
        "strat_test_set[\"free_sulfur_dioxide_cat\"].value_counts() / len(strat_test_set)"
      ],
      "metadata": {
        "colab": {
          "base_uri": "https://localhost:8080/"
        },
        "id": "w2uCbIbNOuEn",
        "outputId": "c8f38300-6306-4de0-a6ee-00941a695c3a"
      },
      "execution_count": 1440,
      "outputs": [
        {
          "output_type": "execute_result",
          "data": {
            "text/plain": [
              "1    0.378125\n",
              "2    0.346875\n",
              "3    0.171875\n",
              "4    0.078125\n",
              "5    0.015625\n",
              "6    0.006250\n",
              "7    0.003125\n",
              "Name: free_sulfur_dioxide_cat, dtype: float64"
            ]
          },
          "metadata": {},
          "execution_count": 1440
        }
      ]
    },
    {
      "cell_type": "code",
      "source": [
        "dataset[\"free_sulfur_dioxide_cat\"].value_counts() / len(dataset)"
      ],
      "metadata": {
        "colab": {
          "base_uri": "https://localhost:8080/"
        },
        "id": "NeVRgjsWOxXF",
        "outputId": "2bf70835-6f12-4df5-de83-1a7bcf4b4386"
      },
      "execution_count": 1441,
      "outputs": [
        {
          "output_type": "execute_result",
          "data": {
            "text/plain": [
              "1    0.378361\n",
              "2    0.347092\n",
              "3    0.172608\n",
              "4    0.076298\n",
              "5    0.015635\n",
              "6    0.007505\n",
              "7    0.002502\n",
              "Name: free_sulfur_dioxide_cat, dtype: float64"
            ]
          },
          "metadata": {},
          "execution_count": 1441
        }
      ]
    },
    {
      "cell_type": "code",
      "source": [
        "def free_sulfur_dioxide_cat_proportions(data):\n",
        "    return data[\"free_sulfur_dioxide_cat\"].value_counts() / len(data)\n",
        "\n",
        "train_set, test_set = train_test_split(dataset, test_size=0.2, random_state=42)\n",
        "\n",
        "compare_props = pd.DataFrame({\n",
        "    \"Overall\": free_sulfur_dioxide_cat_proportions(dataset),\n",
        "    \"Stratified\": free_sulfur_dioxide_cat_proportions(strat_test_set),\n",
        "    \"Random\": free_sulfur_dioxide_cat_proportions(test_set),\n",
        "}).sort_index()\n",
        "compare_props[\"Rand. %error\"] = 100 * compare_props[\"Random\"] / compare_props[\"Overall\"] - 100\n",
        "compare_props[\"Strat. %error\"] = 100 * compare_props[\"Stratified\"] / compare_props[\"Overall\"] - 100"
      ],
      "metadata": {
        "id": "YSOYfKkKO1Xm"
      },
      "execution_count": 1442,
      "outputs": []
    },
    {
      "cell_type": "code",
      "source": [
        "for set_ in (strat_train_set, strat_test_set):\n",
        "    set_.drop(\"free_sulfur_dioxide_cat\", axis=1, inplace=True)"
      ],
      "metadata": {
        "id": "t7J2Tm-AO2Cl"
      },
      "execution_count": 1443,
      "outputs": []
    },
    {
      "cell_type": "markdown",
      "source": [
        "# Visualización de los datos"
      ],
      "metadata": {
        "id": "v06MNELnO98e"
      }
    },
    {
      "cell_type": "code",
      "source": [
        "dataset = strat_train_set.copy()"
      ],
      "metadata": {
        "id": "Q-u91NiCO_3n"
      },
      "execution_count": 1444,
      "outputs": []
    },
    {
      "cell_type": "code",
      "source": [
        "dataset.hist(bins=50, figsize=(20,15))"
      ],
      "metadata": {
        "colab": {
          "base_uri": "https://localhost:8080/",
          "height": 1000
        },
        "id": "AynLEwoiPDd2",
        "outputId": "a0c17465-a0b6-45ab-d4c3-c33539e3b325"
      },
      "execution_count": 1445,
      "outputs": [
        {
          "output_type": "execute_result",
          "data": {
            "text/plain": [
              "array([[<matplotlib.axes._subplots.AxesSubplot object at 0x7f2650a4f890>,\n",
              "        <matplotlib.axes._subplots.AxesSubplot object at 0x7f264b7f70d0>,\n",
              "        <matplotlib.axes._subplots.AxesSubplot object at 0x7f264b82e6d0>],\n",
              "       [<matplotlib.axes._subplots.AxesSubplot object at 0x7f263f05b750>,\n",
              "        <matplotlib.axes._subplots.AxesSubplot object at 0x7f263f012b90>,\n",
              "        <matplotlib.axes._subplots.AxesSubplot object at 0x7f263efd40d0>],\n",
              "       [<matplotlib.axes._subplots.AxesSubplot object at 0x7f263ef8b650>,\n",
              "        <matplotlib.axes._subplots.AxesSubplot object at 0x7f263efc1a90>,\n",
              "        <matplotlib.axes._subplots.AxesSubplot object at 0x7f263efc1ad0>],\n",
              "       [<matplotlib.axes._subplots.AxesSubplot object at 0x7f263ef82110>,\n",
              "        <matplotlib.axes._subplots.AxesSubplot object at 0x7f263eeefa10>,\n",
              "        <matplotlib.axes._subplots.AxesSubplot object at 0x7f263eea7f10>]],\n",
              "      dtype=object)"
            ]
          },
          "metadata": {},
          "execution_count": 1445
        },
        {
          "output_type": "display_data",
          "data": {
            "text/plain": [
              "<Figure size 1440x1080 with 12 Axes>"
            ],
            "image/png": "[encoded data removed]"
          },
          "metadata": {
            "needs_background": "light"
          }
        }
      ]
    },
    {
      "cell_type": "code",
      "source": [
        "dataset['free sulfur dioxide'].hist(bins=50)"
      ],
      "metadata": {
        "colab": {
          "base_uri": "https://localhost:8080/",
          "height": 282
        },
        "id": "A1EsUUKFPKj2",
        "outputId": "baacb84f-f8b5-4665-efa1-23cf2e1493bf"
      },
      "execution_count": 1446,
      "outputs": [
        {
          "output_type": "execute_result",
          "data": {
            "text/plain": [
              "<matplotlib.axes._subplots.AxesSubplot at 0x7f263e71db10>"
            ]
          },
          "metadata": {},
          "execution_count": 1446
        },
        {
          "output_type": "display_data",
          "data": {
            "text/plain": [
              "<Figure size 432x288 with 1 Axes>"
            ],
            "image/png": "[encoded data removed]"
          },
          "metadata": {
            "needs_background": "light"
          }
        }
      ]
    },
    {
      "cell_type": "code",
      "source": [
        "#matriz de correlacion\n",
        "corr_matrix = dataset.corr()\n",
        "corr_matrix[\"quality\"].sort_values(ascending=False)"
      ],
      "metadata": {
        "colab": {
          "base_uri": "https://localhost:8080/"
        },
        "id": "DnQgdTcQPYGF",
        "outputId": "f4f11b59-6779-4d13-b890-5895268a91b0"
      },
      "execution_count": 1447,
      "outputs": [
        {
          "output_type": "execute_result",
          "data": {
            "text/plain": [
              "quality                 1.000000\n",
              "alcohol                 0.490562\n",
              "sulphates               0.248939\n",
              "citric acid             0.220403\n",
              "fixed acidity           0.117688\n",
              "residual sugar          0.025148\n",
              "free sulfur dioxide    -0.035671\n",
              "pH                     -0.042103\n",
              "chlorides              -0.133082\n",
              "total sulfur dioxide   -0.172898\n",
              "density                -0.185599\n",
              "volatile acidity       -0.391533\n",
              "Name: quality, dtype: float64"
            ]
          },
          "metadata": {},
          "execution_count": 1447
        }
      ]
    },
    {
      "cell_type": "code",
      "source": [
        "from pandas.plotting import scatter_matrix\n",
        "\n",
        "attributes = [\"quality\",\"alcohol\", \"volatile acidity\", \"sulphates\"]\n",
        "scatter_matrix(dataset[attributes], figsize=(12, 8))"
      ],
      "metadata": {
        "colab": {
          "base_uri": "https://localhost:8080/",
          "height": 795
        },
        "id": "5R-rAxzMPaZo",
        "outputId": "8bca5df3-ea6c-40f8-956c-9ce72c9c3986"
      },
      "execution_count": 1448,
      "outputs": [
        {
          "output_type": "execute_result",
          "data": {
            "text/plain": [
              "array([[<matplotlib.axes._subplots.AxesSubplot object at 0x7f263e3d2c90>,\n",
              "        <matplotlib.axes._subplots.AxesSubplot object at 0x7f263e3f46d0>,\n",
              "        <matplotlib.axes._subplots.AxesSubplot object at 0x7f263e3a8b10>,\n",
              "        <matplotlib.axes._subplots.AxesSubplot object at 0x7f263e361fd0>],\n",
              "       [<matplotlib.axes._subplots.AxesSubplot object at 0x7f263e323550>,\n",
              "        <matplotlib.axes._subplots.AxesSubplot object at 0x7f263e2d7a50>,\n",
              "        <matplotlib.axes._subplots.AxesSubplot object at 0x7f263e28ffd0>,\n",
              "        <matplotlib.axes._subplots.AxesSubplot object at 0x7f263e253450>],\n",
              "       [<matplotlib.axes._subplots.AxesSubplot object at 0x7f263e253490>,\n",
              "        <matplotlib.axes._subplots.AxesSubplot object at 0x7f263e20b790>,\n",
              "        <matplotlib.axes._subplots.AxesSubplot object at 0x7f263e2040d0>,\n",
              "        <matplotlib.axes._subplots.AxesSubplot object at 0x7f263e1ba5d0>],\n",
              "       [<matplotlib.axes._subplots.AxesSubplot object at 0x7f263e170ad0>,\n",
              "        <matplotlib.axes._subplots.AxesSubplot object at 0x7f263e11cb10>,\n",
              "        <matplotlib.axes._subplots.AxesSubplot object at 0x7f263e0ea510>,\n",
              "        <matplotlib.axes._subplots.AxesSubplot object at 0x7f263e0a1a10>]],\n",
              "      dtype=object)"
            ]
          },
          "metadata": {},
          "execution_count": 1448
        },
        {
          "output_type": "display_data",
          "data": {
            "text/plain": [
              "<Figure size 864x576 with 16 Axes>"
            ],
            "image/png": "[encoded data removed]"
          },
          "metadata": {
            "needs_background": "light"
          }
        }
      ]
    },
    {
      "cell_type": "markdown",
      "source": [
        "# Preparar los datos para exponer mejor los patrones de datos subyacentes a los algoritmos de aprendizaje automático.\n",
        "\n"
      ],
      "metadata": {
        "id": "8PSZwxVoPwWH"
      }
    },
    {
      "cell_type": "code",
      "source": [
        "dataset_copy = dataset.drop(\"quality\", axis=1)\n",
        "dataset_labels =  strat_train_set[\"quality\"].copy()"
      ],
      "metadata": {
        "id": "ZsZZIXIZP14o"
      },
      "execution_count": 1449,
      "outputs": []
    },
    {
      "cell_type": "code",
      "source": [
        "incomplete_rows = dataset_copy[dataset_copy.isnull().any(axis=1)].head()\n",
        "incomplete_rows"
      ],
      "metadata": {
        "colab": {
          "base_uri": "https://localhost:8080/",
          "height": 111
        },
        "id": "Xr_3LAp-QFRA",
        "outputId": "878ebcb2-3e67-46b4-a1d6-bac6faa602d4"
      },
      "execution_count": 1450,
      "outputs": [
        {
          "output_type": "execute_result",
          "data": {
            "text/plain": [
              "Empty DataFrame\n",
              "Columns: [fixed acidity, volatile acidity, citric acid, residual sugar, chlorides, free sulfur dioxide, total sulfur dioxide, density, pH, sulphates, alcohol]\n",
              "Index: []"
            ],
            "text/html": [
              "\n",
              "  <div id=\"df-00b80cad-f598-4764-b8e4-0db83a1e27fc\">\n",
              "    <div class=\"colab-df-container\">\n",
              "      <div>\n",
              "<style scoped>\n",
              "    .dataframe tbody tr th:only-of-type {\n",
              "        vertical-align: middle;\n",
              "    }\n",
              "\n",
              "    .dataframe tbody tr th {\n",
              "        vertical-align: top;\n",
              "    }\n",
              "\n",
              "    .dataframe thead th {\n",
              "        text-align: right;\n",
              "    }\n",
              "</style>\n",
              "<table border=\"1\" class=\"dataframe\">\n",
              "  <thead>\n",
              "    <tr style=\"text-align: right;\">\n",
              "      <th></th>\n",
              "      <th>fixed acidity</th>\n",
              "      <th>volatile acidity</th>\n",
              "      <th>citric acid</th>\n",
              "      <th>residual sugar</th>\n",
              "      <th>chlorides</th>\n",
              "      <th>free sulfur dioxide</th>\n",
              "      <th>total sulfur dioxide</th>\n",
              "      <th>density</th>\n",
              "      <th>pH</th>\n",
              "      <th>sulphates</th>\n",
              "      <th>alcohol</th>\n",
              "    </tr>\n",
              "  </thead>\n",
              "  <tbody>\n",
              "  </tbody>\n",
              "</table>\n",
              "</div>\n",
              "      <button class=\"colab-df-convert\" onclick=\"convertToInteractive('df-00b80cad-f598-4764-b8e4-0db83a1e27fc')\"\n",
              "              title=\"Convert this dataframe to an interactive table.\"\n",
              "              style=\"display:none;\">\n",
              "        \n",
              "  <svg xmlns=\"http://www.w3.org/2000/svg\" height=\"24px\"viewBox=\"0 0 24 24\"\n",
              "       width=\"24px\">\n",
              "    <path d=\"M0 0h24v24H0V0z\" fill=\"none\"/>\n",
              "    <path d=\"M18.56 5.44l.94 2.06.94-2.06 2.06-.94-2.06-.94-.94-2.06-.94 2.06-2.06.94zm-11 1L8.5 8.5l.94-2.06 2.06-.94-2.06-.94L8.5 2.5l-.94 2.06-2.06.94zm10 10l.94 2.06.94-2.06 2.06-.94-2.06-.94-.94-2.06-.94 2.06-2.06.94z\"/><path d=\"M17.41 7.96l-1.37-1.37c-.4-.4-.92-.59-1.43-.59-.52 0-1.04.2-1.43.59L10.3 9.45l-7.72 7.72c-.78.78-.78 2.05 0 2.83L4 21.41c.39.39.9.59 1.41.59.51 0 1.02-.2 1.41-.59l7.78-7.78 2.81-2.81c.8-.78.8-2.07 0-2.86zM5.41 20L4 18.59l7.72-7.72 1.47 1.35L5.41 20z\"/>\n",
              "  </svg>\n",
              "      </button>\n",
              "      \n",
              "  <style>\n",
              "    .colab-df-container {\n",
              "      display:flex;\n",
              "      flex-wrap:wrap;\n",
              "      gap: 12px;\n",
              "    }\n",
              "\n",
              "    .colab-df-convert {\n",
              "      background-color: #E8F0FE;\n",
              "      border: none;\n",
              "      border-radius: 50%;\n",
              "      cursor: pointer;\n",
              "      display: none;\n",
              "      fill: #1967D2;\n",
              "      height: 32px;\n",
              "      padding: 0 0 0 0;\n",
              "      width: 32px;\n",
              "    }\n",
              "\n",
              "    .colab-df-convert:hover {\n",
              "      background-color: #E2EBFA;\n",
              "      box-shadow: 0px 1px 2px rgba(60, 64, 67, 0.3), 0px 1px 3px 1px rgba(60, 64, 67, 0.15);\n",
              "      fill: #174EA6;\n",
              "    }\n",
              "\n",
              "    [theme=dark] .colab-df-convert {\n",
              "      background-color: #3B4455;\n",
              "      fill: #D2E3FC;\n",
              "    }\n",
              "\n",
              "    [theme=dark] .colab-df-convert:hover {\n",
              "      background-color: #434B5C;\n",
              "      box-shadow: 0px 1px 3px 1px rgba(0, 0, 0, 0.15);\n",
              "      filter: drop-shadow(0px 1px 2px rgba(0, 0, 0, 0.3));\n",
              "      fill: #FFFFFF;\n",
              "    }\n",
              "  </style>\n",
              "\n",
              "      <script>\n",
              "        const buttonEl =\n",
              "          document.querySelector('#df-00b80cad-f598-4764-b8e4-0db83a1e27fc button.colab-df-convert');\n",
              "        buttonEl.style.display =\n",
              "          google.colab.kernel.accessAllowed ? 'block' : 'none';\n",
              "\n",
              "        async function convertToInteractive(key) {\n",
              "          const element = document.querySelector('#df-00b80cad-f598-4764-b8e4-0db83a1e27fc');\n",
              "          const dataTable =\n",
              "            await google.colab.kernel.invokeFunction('convertToInteractive',\n",
              "                                                     [key], {});\n",
              "          if (!dataTable) return;\n",
              "\n",
              "          const docLinkHtml = 'Like what you see? Visit the ' +\n",
              "            '<a target=\"_blank\" href=https://colab.research.google.com/notebooks/data_table.ipynb>data table notebook</a>'\n",
              "            + ' to learn more about interactive tables.';\n",
              "          element.innerHTML = '';\n",
              "          dataTable['output_type'] = 'display_data';\n",
              "          await google.colab.output.renderOutput(dataTable, element);\n",
              "          const docLink = document.createElement('div');\n",
              "          docLink.innerHTML = docLinkHtml;\n",
              "          element.appendChild(docLink);\n",
              "        }\n",
              "      </script>\n",
              "    </div>\n",
              "  </div>\n",
              "  "
            ]
          },
          "metadata": {},
          "execution_count": 1450
        }
      ]
    },
    {
      "cell_type": "code",
      "source": [
        "from sklearn.impute import SimpleImputer\n",
        "imputer = SimpleImputer(strategy=\"median\")"
      ],
      "metadata": {
        "id": "to_OKtcCQLaZ"
      },
      "execution_count": 1451,
      "outputs": []
    },
    {
      "cell_type": "code",
      "source": [
        "homes_num = dataset_copy.select_dtypes(include=[np.number])\n",
        "imputer.fit(homes_num)"
      ],
      "metadata": {
        "colab": {
          "base_uri": "https://localhost:8080/"
        },
        "id": "rjMXdM9XQMsZ",
        "outputId": "71637ade-f81c-4964-e1c9-ca648286a189"
      },
      "execution_count": 1452,
      "outputs": [
        {
          "output_type": "execute_result",
          "data": {
            "text/plain": [
              "SimpleImputer(strategy='median')"
            ]
          },
          "metadata": {},
          "execution_count": 1452
        }
      ]
    },
    {
      "cell_type": "code",
      "source": [
        "imputer.statistics_"
      ],
      "metadata": {
        "colab": {
          "base_uri": "https://localhost:8080/"
        },
        "id": "9Sak7GxMQXJp",
        "outputId": "879cec47-6f1e-41e6-aeaa-4dda5d1fa7a5"
      },
      "execution_count": 1453,
      "outputs": [
        {
          "output_type": "execute_result",
          "data": {
            "text/plain": [
              "array([ 7.9    ,  0.52   ,  0.26   ,  2.2    ,  0.079  , 14.     ,\n",
              "       38.     ,  0.99675,  3.31   ,  0.62   , 10.2    ])"
            ]
          },
          "metadata": {},
          "execution_count": 1453
        }
      ]
    },
    {
      "cell_type": "code",
      "source": [
        "homes_num.median().values"
      ],
      "metadata": {
        "colab": {
          "base_uri": "https://localhost:8080/"
        },
        "id": "1NtkuNX_QY36",
        "outputId": "1e12b21e-a44e-40f1-ee9d-41aac2c0ff48"
      },
      "execution_count": 1454,
      "outputs": [
        {
          "output_type": "execute_result",
          "data": {
            "text/plain": [
              "array([ 7.9    ,  0.52   ,  0.26   ,  2.2    ,  0.079  , 14.     ,\n",
              "       38.     ,  0.99675,  3.31   ,  0.62   , 10.2    ])"
            ]
          },
          "metadata": {},
          "execution_count": 1454
        }
      ]
    },
    {
      "cell_type": "code",
      "source": [
        "X = imputer.transform(homes_num)"
      ],
      "metadata": {
        "id": "IF3d4ScMQbKC"
      },
      "execution_count": 1455,
      "outputs": []
    },
    {
      "cell_type": "code",
      "source": [
        "homes_tr = pd.DataFrame(X, columns=homes_num.columns,\n",
        "                          index=dataset_copy.index)"
      ],
      "metadata": {
        "id": "_ExGY_LaQpfb"
      },
      "execution_count": 1456,
      "outputs": []
    },
    {
      "cell_type": "code",
      "source": [
        "homes_tr.loc[incomplete_rows.index.values]"
      ],
      "metadata": {
        "colab": {
          "base_uri": "https://localhost:8080/",
          "height": 111
        },
        "id": "iJk85DXRQdDZ",
        "outputId": "4887a50d-d1b2-401d-8943-2bf9a3ef8ec8"
      },
      "execution_count": 1457,
      "outputs": [
        {
          "output_type": "execute_result",
          "data": {
            "text/plain": [
              "Empty DataFrame\n",
              "Columns: [fixed acidity, volatile acidity, citric acid, residual sugar, chlorides, free sulfur dioxide, total sulfur dioxide, density, pH, sulphates, alcohol]\n",
              "Index: []"
            ],
            "text/html": [
              "\n",
              "  <div id=\"df-5a127d36-6770-408b-a408-20e398130769\">\n",
              "    <div class=\"colab-df-container\">\n",
              "      <div>\n",
              "<style scoped>\n",
              "    .dataframe tbody tr th:only-of-type {\n",
              "        vertical-align: middle;\n",
              "    }\n",
              "\n",
              "    .dataframe tbody tr th {\n",
              "        vertical-align: top;\n",
              "    }\n",
              "\n",
              "    .dataframe thead th {\n",
              "        text-align: right;\n",
              "    }\n",
              "</style>\n",
              "<table border=\"1\" class=\"dataframe\">\n",
              "  <thead>\n",
              "    <tr style=\"text-align: right;\">\n",
              "      <th></th>\n",
              "      <th>fixed acidity</th>\n",
              "      <th>volatile acidity</th>\n",
              "      <th>citric acid</th>\n",
              "      <th>residual sugar</th>\n",
              "      <th>chlorides</th>\n",
              "      <th>free sulfur dioxide</th>\n",
              "      <th>total sulfur dioxide</th>\n",
              "      <th>density</th>\n",
              "      <th>pH</th>\n",
              "      <th>sulphates</th>\n",
              "      <th>alcohol</th>\n",
              "    </tr>\n",
              "  </thead>\n",
              "  <tbody>\n",
              "  </tbody>\n",
              "</table>\n",
              "</div>\n",
              "      <button class=\"colab-df-convert\" onclick=\"convertToInteractive('df-5a127d36-6770-408b-a408-20e398130769')\"\n",
              "              title=\"Convert this dataframe to an interactive table.\"\n",
              "              style=\"display:none;\">\n",
              "        \n",
              "  <svg xmlns=\"http://www.w3.org/2000/svg\" height=\"24px\"viewBox=\"0 0 24 24\"\n",
              "       width=\"24px\">\n",
              "    <path d=\"M0 0h24v24H0V0z\" fill=\"none\"/>\n",
              "    <path d=\"M18.56 5.44l.94 2.06.94-2.06 2.06-.94-2.06-.94-.94-2.06-.94 2.06-2.06.94zm-11 1L8.5 8.5l.94-2.06 2.06-.94-2.06-.94L8.5 2.5l-.94 2.06-2.06.94zm10 10l.94 2.06.94-2.06 2.06-.94-2.06-.94-.94-2.06-.94 2.06-2.06.94z\"/><path d=\"M17.41 7.96l-1.37-1.37c-.4-.4-.92-.59-1.43-.59-.52 0-1.04.2-1.43.59L10.3 9.45l-7.72 7.72c-.78.78-.78 2.05 0 2.83L4 21.41c.39.39.9.59 1.41.59.51 0 1.02-.2 1.41-.59l7.78-7.78 2.81-2.81c.8-.78.8-2.07 0-2.86zM5.41 20L4 18.59l7.72-7.72 1.47 1.35L5.41 20z\"/>\n",
              "  </svg>\n",
              "      </button>\n",
              "      \n",
              "  <style>\n",
              "    .colab-df-container {\n",
              "      display:flex;\n",
              "      flex-wrap:wrap;\n",
              "      gap: 12px;\n",
              "    }\n",
              "\n",
              "    .colab-df-convert {\n",
              "      background-color: #E8F0FE;\n",
              "      border: none;\n",
              "      border-radius: 50%;\n",
              "      cursor: pointer;\n",
              "      display: none;\n",
              "      fill: #1967D2;\n",
              "      height: 32px;\n",
              "      padding: 0 0 0 0;\n",
              "      width: 32px;\n",
              "    }\n",
              "\n",
              "    .colab-df-convert:hover {\n",
              "      background-color: #E2EBFA;\n",
              "      box-shadow: 0px 1px 2px rgba(60, 64, 67, 0.3), 0px 1px 3px 1px rgba(60, 64, 67, 0.15);\n",
              "      fill: #174EA6;\n",
              "    }\n",
              "\n",
              "    [theme=dark] .colab-df-convert {\n",
              "      background-color: #3B4455;\n",
              "      fill: #D2E3FC;\n",
              "    }\n",
              "\n",
              "    [theme=dark] .colab-df-convert:hover {\n",
              "      background-color: #434B5C;\n",
              "      box-shadow: 0px 1px 3px 1px rgba(0, 0, 0, 0.15);\n",
              "      filter: drop-shadow(0px 1px 2px rgba(0, 0, 0, 0.3));\n",
              "      fill: #FFFFFF;\n",
              "    }\n",
              "  </style>\n",
              "\n",
              "      <script>\n",
              "        const buttonEl =\n",
              "          document.querySelector('#df-5a127d36-6770-408b-a408-20e398130769 button.colab-df-convert');\n",
              "        buttonEl.style.display =\n",
              "          google.colab.kernel.accessAllowed ? 'block' : 'none';\n",
              "\n",
              "        async function convertToInteractive(key) {\n",
              "          const element = document.querySelector('#df-5a127d36-6770-408b-a408-20e398130769');\n",
              "          const dataTable =\n",
              "            await google.colab.kernel.invokeFunction('convertToInteractive',\n",
              "                                                     [key], {});\n",
              "          if (!dataTable) return;\n",
              "\n",
              "          const docLinkHtml = 'Like what you see? Visit the ' +\n",
              "            '<a target=\"_blank\" href=https://colab.research.google.com/notebooks/data_table.ipynb>data table notebook</a>'\n",
              "            + ' to learn more about interactive tables.';\n",
              "          element.innerHTML = '';\n",
              "          dataTable['output_type'] = 'display_data';\n",
              "          await google.colab.output.renderOutput(dataTable, element);\n",
              "          const docLink = document.createElement('div');\n",
              "          docLink.innerHTML = docLinkHtml;\n",
              "          element.appendChild(docLink);\n",
              "        }\n",
              "      </script>\n",
              "    </div>\n",
              "  </div>\n",
              "  "
            ]
          },
          "metadata": {},
          "execution_count": 1457
        }
      ]
    },
    {
      "cell_type": "code",
      "source": [
        "imputer.strategy"
      ],
      "metadata": {
        "colab": {
          "base_uri": "https://localhost:8080/",
          "height": 35
        },
        "id": "SQ84MTtNQuuz",
        "outputId": "ed2379dc-ed92-4cdd-e095-f31833592b7c"
      },
      "execution_count": 1458,
      "outputs": [
        {
          "output_type": "execute_result",
          "data": {
            "text/plain": [
              "'median'"
            ],
            "application/vnd.google.colaboratory.intrinsic+json": {
              "type": "string"
            }
          },
          "metadata": {},
          "execution_count": 1458
        }
      ]
    },
    {
      "cell_type": "code",
      "source": [
        "homes_tr = pd.DataFrame(X, columns=homes_num.columns,\n",
        "                          index=homes_num.index)\n",
        "homes_tr.head()"
      ],
      "metadata": {
        "colab": {
          "base_uri": "https://localhost:8080/",
          "height": 267
        },
        "id": "V-h9WTijQwLU",
        "outputId": "db6a9851-e351-4037-c4d9-b061e7f38c7b"
      },
      "execution_count": 1459,
      "outputs": [
        {
          "output_type": "execute_result",
          "data": {
            "text/plain": [
              "      fixed acidity  volatile acidity  citric acid  residual sugar  chlorides  \\\n",
              "644             9.9              0.54         0.45             2.3      0.071   \n",
              "1267           10.4              0.43         0.50             2.3      0.068   \n",
              "1028            7.2              0.34         0.21             2.5      0.075   \n",
              "1065            7.7              0.61         0.18             2.4      0.083   \n",
              "833            11.6              0.47         0.44             1.6      0.147   \n",
              "\n",
              "      free sulfur dioxide  total sulfur dioxide  density    pH  sulphates  \\\n",
              "644                  16.0                  40.0  0.99910  3.39       0.62   \n",
              "1267                 13.0                  19.0  0.99600  3.10       0.87   \n",
              "1028                 41.0                  68.0  0.99586  3.37       0.54   \n",
              "1065                  6.0                  20.0  0.99630  3.29       0.60   \n",
              "833                  36.0                  51.0  0.99836  3.38       0.86   \n",
              "\n",
              "      alcohol  \n",
              "644       9.4  \n",
              "1267     11.4  \n",
              "1028     10.1  \n",
              "1065     10.2  \n",
              "833       9.9  "
            ],
            "text/html": [
              "\n",
              "  <div id=\"df-f9b738de-6d04-4a36-a4b0-83832f5728a7\">\n",
              "    <div class=\"colab-df-container\">\n",
              "      <div>\n",
              "<style scoped>\n",
              "    .dataframe tbody tr th:only-of-type {\n",
              "        vertical-align: middle;\n",
              "    }\n",
              "\n",
              "    .dataframe tbody tr th {\n",
              "        vertical-align: top;\n",
              "    }\n",
              "\n",
              "    .dataframe thead th {\n",
              "        text-align: right;\n",
              "    }\n",
              "</style>\n",
              "<table border=\"1\" class=\"dataframe\">\n",
              "  <thead>\n",
              "    <tr style=\"text-align: right;\">\n",
              "      <th></th>\n",
              "      <th>fixed acidity</th>\n",
              "      <th>volatile acidity</th>\n",
              "      <th>citric acid</th>\n",
              "      <th>residual sugar</th>\n",
              "      <th>chlorides</th>\n",
              "      <th>free sulfur dioxide</th>\n",
              "      <th>total sulfur dioxide</th>\n",
              "      <th>density</th>\n",
              "      <th>pH</th>\n",
              "      <th>sulphates</th>\n",
              "      <th>alcohol</th>\n",
              "    </tr>\n",
              "  </thead>\n",
              "  <tbody>\n",
              "    <tr>\n",
              "      <th>644</th>\n",
              "      <td>9.9</td>\n",
              "      <td>0.54</td>\n",
              "      <td>0.45</td>\n",
              "      <td>2.3</td>\n",
              "      <td>0.071</td>\n",
              "      <td>16.0</td>\n",
              "      <td>40.0</td>\n",
              "      <td>0.99910</td>\n",
              "      <td>3.39</td>\n",
              "      <td>0.62</td>\n",
              "      <td>9.4</td>\n",
              "    </tr>\n",
              "    <tr>\n",
              "      <th>1267</th>\n",
              "      <td>10.4</td>\n",
              "      <td>0.43</td>\n",
              "      <td>0.50</td>\n",
              "      <td>2.3</td>\n",
              "      <td>0.068</td>\n",
              "      <td>13.0</td>\n",
              "      <td>19.0</td>\n",
              "      <td>0.99600</td>\n",
              "      <td>3.10</td>\n",
              "      <td>0.87</td>\n",
              "      <td>11.4</td>\n",
              "    </tr>\n",
              "    <tr>\n",
              "      <th>1028</th>\n",
              "      <td>7.2</td>\n",
              "      <td>0.34</td>\n",
              "      <td>0.21</td>\n",
              "      <td>2.5</td>\n",
              "      <td>0.075</td>\n",
              "      <td>41.0</td>\n",
              "      <td>68.0</td>\n",
              "      <td>0.99586</td>\n",
              "      <td>3.37</td>\n",
              "      <td>0.54</td>\n",
              "      <td>10.1</td>\n",
              "    </tr>\n",
              "    <tr>\n",
              "      <th>1065</th>\n",
              "      <td>7.7</td>\n",
              "      <td>0.61</td>\n",
              "      <td>0.18</td>\n",
              "      <td>2.4</td>\n",
              "      <td>0.083</td>\n",
              "      <td>6.0</td>\n",
              "      <td>20.0</td>\n",
              "      <td>0.99630</td>\n",
              "      <td>3.29</td>\n",
              "      <td>0.60</td>\n",
              "      <td>10.2</td>\n",
              "    </tr>\n",
              "    <tr>\n",
              "      <th>833</th>\n",
              "      <td>11.6</td>\n",
              "      <td>0.47</td>\n",
              "      <td>0.44</td>\n",
              "      <td>1.6</td>\n",
              "      <td>0.147</td>\n",
              "      <td>36.0</td>\n",
              "      <td>51.0</td>\n",
              "      <td>0.99836</td>\n",
              "      <td>3.38</td>\n",
              "      <td>0.86</td>\n",
              "      <td>9.9</td>\n",
              "    </tr>\n",
              "  </tbody>\n",
              "</table>\n",
              "</div>\n",
              "      <button class=\"colab-df-convert\" onclick=\"convertToInteractive('df-f9b738de-6d04-4a36-a4b0-83832f5728a7')\"\n",
              "              title=\"Convert this dataframe to an interactive table.\"\n",
              "              style=\"display:none;\">\n",
              "        \n",
              "  <svg xmlns=\"http://www.w3.org/2000/svg\" height=\"24px\"viewBox=\"0 0 24 24\"\n",
              "       width=\"24px\">\n",
              "    <path d=\"M0 0h24v24H0V0z\" fill=\"none\"/>\n",
              "    <path d=\"M18.56 5.44l.94 2.06.94-2.06 2.06-.94-2.06-.94-.94-2.06-.94 2.06-2.06.94zm-11 1L8.5 8.5l.94-2.06 2.06-.94-2.06-.94L8.5 2.5l-.94 2.06-2.06.94zm10 10l.94 2.06.94-2.06 2.06-.94-2.06-.94-.94-2.06-.94 2.06-2.06.94z\"/><path d=\"M17.41 7.96l-1.37-1.37c-.4-.4-.92-.59-1.43-.59-.52 0-1.04.2-1.43.59L10.3 9.45l-7.72 7.72c-.78.78-.78 2.05 0 2.83L4 21.41c.39.39.9.59 1.41.59.51 0 1.02-.2 1.41-.59l7.78-7.78 2.81-2.81c.8-.78.8-2.07 0-2.86zM5.41 20L4 18.59l7.72-7.72 1.47 1.35L5.41 20z\"/>\n",
              "  </svg>\n",
              "      </button>\n",
              "      \n",
              "  <style>\n",
              "    .colab-df-container {\n",
              "      display:flex;\n",
              "      flex-wrap:wrap;\n",
              "      gap: 12px;\n",
              "    }\n",
              "\n",
              "    .colab-df-convert {\n",
              "      background-color: #E8F0FE;\n",
              "      border: none;\n",
              "      border-radius: 50%;\n",
              "      cursor: pointer;\n",
              "      display: none;\n",
              "      fill: #1967D2;\n",
              "      height: 32px;\n",
              "      padding: 0 0 0 0;\n",
              "      width: 32px;\n",
              "    }\n",
              "\n",
              "    .colab-df-convert:hover {\n",
              "      background-color: #E2EBFA;\n",
              "      box-shadow: 0px 1px 2px rgba(60, 64, 67, 0.3), 0px 1px 3px 1px rgba(60, 64, 67, 0.15);\n",
              "      fill: #174EA6;\n",
              "    }\n",
              "\n",
              "    [theme=dark] .colab-df-convert {\n",
              "      background-color: #3B4455;\n",
              "      fill: #D2E3FC;\n",
              "    }\n",
              "\n",
              "    [theme=dark] .colab-df-convert:hover {\n",
              "      background-color: #434B5C;\n",
              "      box-shadow: 0px 1px 3px 1px rgba(0, 0, 0, 0.15);\n",
              "      filter: drop-shadow(0px 1px 2px rgba(0, 0, 0, 0.3));\n",
              "      fill: #FFFFFF;\n",
              "    }\n",
              "  </style>\n",
              "\n",
              "      <script>\n",
              "        const buttonEl =\n",
              "          document.querySelector('#df-f9b738de-6d04-4a36-a4b0-83832f5728a7 button.colab-df-convert');\n",
              "        buttonEl.style.display =\n",
              "          google.colab.kernel.accessAllowed ? 'block' : 'none';\n",
              "\n",
              "        async function convertToInteractive(key) {\n",
              "          const element = document.querySelector('#df-f9b738de-6d04-4a36-a4b0-83832f5728a7');\n",
              "          const dataTable =\n",
              "            await google.colab.kernel.invokeFunction('convertToInteractive',\n",
              "                                                     [key], {});\n",
              "          if (!dataTable) return;\n",
              "\n",
              "          const docLinkHtml = 'Like what you see? Visit the ' +\n",
              "            '<a target=\"_blank\" href=https://colab.research.google.com/notebooks/data_table.ipynb>data table notebook</a>'\n",
              "            + ' to learn more about interactive tables.';\n",
              "          element.innerHTML = '';\n",
              "          dataTable['output_type'] = 'display_data';\n",
              "          await google.colab.output.renderOutput(dataTable, element);\n",
              "          const docLink = document.createElement('div');\n",
              "          docLink.innerHTML = docLinkHtml;\n",
              "          element.appendChild(docLink);\n",
              "        }\n",
              "      </script>\n",
              "    </div>\n",
              "  </div>\n",
              "  "
            ]
          },
          "metadata": {},
          "execution_count": 1459
        }
      ]
    },
    {
      "cell_type": "code",
      "source": [
        "dataset"
      ],
      "metadata": {
        "colab": {
          "base_uri": "https://localhost:8080/",
          "height": 485
        },
        "id": "Y1mc36ZEQ0gy",
        "outputId": "0673e274-5311-461c-b6e5-af14f8ff7401"
      },
      "execution_count": 1460,
      "outputs": [
        {
          "output_type": "execute_result",
          "data": {
            "text/plain": [
              "      fixed acidity  volatile acidity  citric acid  residual sugar  chlorides  \\\n",
              "644             9.9              0.54         0.45             2.3      0.071   \n",
              "1267           10.4              0.43         0.50             2.3      0.068   \n",
              "1028            7.2              0.34         0.21             2.5      0.075   \n",
              "1065            7.7              0.61         0.18             2.4      0.083   \n",
              "833            11.6              0.47         0.44             1.6      0.147   \n",
              "...             ...               ...          ...             ...        ...   \n",
              "694             9.0              0.47         0.31             2.7      0.084   \n",
              "1257            7.0              0.58         0.28             4.8      0.085   \n",
              "309             7.4              0.29         0.38             1.7      0.062   \n",
              "233             6.9              0.52         0.25             2.6      0.081   \n",
              "505            10.2              0.49         0.63             2.9      0.072   \n",
              "\n",
              "      free sulfur dioxide  total sulfur dioxide  density    pH  sulphates  \\\n",
              "644                  16.0                  40.0  0.99910  3.39       0.62   \n",
              "1267                 13.0                  19.0  0.99600  3.10       0.87   \n",
              "1028                 41.0                  68.0  0.99586  3.37       0.54   \n",
              "1065                  6.0                  20.0  0.99630  3.29       0.60   \n",
              "833                  36.0                  51.0  0.99836  3.38       0.86   \n",
              "...                   ...                   ...      ...   ...        ...   \n",
              "694                  24.0                 125.0  0.99840  3.31       0.61   \n",
              "1257                 12.0                  69.0  0.99633  3.32       0.70   \n",
              "309                   9.0                  30.0  0.99680  3.41       0.53   \n",
              "233                  10.0                  37.0  0.99685  3.46       0.50   \n",
              "505                  10.0                  26.0  0.99680  3.16       0.78   \n",
              "\n",
              "      alcohol  quality  \n",
              "644       9.4        5  \n",
              "1267     11.4        6  \n",
              "1028     10.1        6  \n",
              "1065     10.2        6  \n",
              "833       9.9        4  \n",
              "...       ...      ...  \n",
              "694       9.4        5  \n",
              "1257     11.0        6  \n",
              "309       9.5        6  \n",
              "233      11.0        5  \n",
              "505      12.5        7  \n",
              "\n",
              "[1279 rows x 12 columns]"
            ],
            "text/html": [
              "\n",
              "  <div id=\"df-a1b56090-8926-4396-8c20-01a03b4959ca\">\n",
              "    <div class=\"colab-df-container\">\n",
              "      <div>\n",
              "<style scoped>\n",
              "    .dataframe tbody tr th:only-of-type {\n",
              "        vertical-align: middle;\n",
              "    }\n",
              "\n",
              "    .dataframe tbody tr th {\n",
              "        vertical-align: top;\n",
              "    }\n",
              "\n",
              "    .dataframe thead th {\n",
              "        text-align: right;\n",
              "    }\n",
              "</style>\n",
              "<table border=\"1\" class=\"dataframe\">\n",
              "  <thead>\n",
              "    <tr style=\"text-align: right;\">\n",
              "      <th></th>\n",
              "      <th>fixed acidity</th>\n",
              "      <th>volatile acidity</th>\n",
              "      <th>citric acid</th>\n",
              "      <th>residual sugar</th>\n",
              "      <th>chlorides</th>\n",
              "      <th>free sulfur dioxide</th>\n",
              "      <th>total sulfur dioxide</th>\n",
              "      <th>density</th>\n",
              "      <th>pH</th>\n",
              "      <th>sulphates</th>\n",
              "      <th>alcohol</th>\n",
              "      <th>quality</th>\n",
              "    </tr>\n",
              "  </thead>\n",
              "  <tbody>\n",
              "    <tr>\n",
              "      <th>644</th>\n",
              "      <td>9.9</td>\n",
              "      <td>0.54</td>\n",
              "      <td>0.45</td>\n",
              "      <td>2.3</td>\n",
              "      <td>0.071</td>\n",
              "      <td>16.0</td>\n",
              "      <td>40.0</td>\n",
              "      <td>0.99910</td>\n",
              "      <td>3.39</td>\n",
              "      <td>0.62</td>\n",
              "      <td>9.4</td>\n",
              "      <td>5</td>\n",
              "    </tr>\n",
              "    <tr>\n",
              "      <th>1267</th>\n",
              "      <td>10.4</td>\n",
              "      <td>0.43</td>\n",
              "      <td>0.50</td>\n",
              "      <td>2.3</td>\n",
              "      <td>0.068</td>\n",
              "      <td>13.0</td>\n",
              "      <td>19.0</td>\n",
              "      <td>0.99600</td>\n",
              "      <td>3.10</td>\n",
              "      <td>0.87</td>\n",
              "      <td>11.4</td>\n",
              "      <td>6</td>\n",
              "    </tr>\n",
              "    <tr>\n",
              "      <th>1028</th>\n",
              "      <td>7.2</td>\n",
              "      <td>0.34</td>\n",
              "      <td>0.21</td>\n",
              "      <td>2.5</td>\n",
              "      <td>0.075</td>\n",
              "      <td>41.0</td>\n",
              "      <td>68.0</td>\n",
              "      <td>0.99586</td>\n",
              "      <td>3.37</td>\n",
              "      <td>0.54</td>\n",
              "      <td>10.1</td>\n",
              "      <td>6</td>\n",
              "    </tr>\n",
              "    <tr>\n",
              "      <th>1065</th>\n",
              "      <td>7.7</td>\n",
              "      <td>0.61</td>\n",
              "      <td>0.18</td>\n",
              "      <td>2.4</td>\n",
              "      <td>0.083</td>\n",
              "      <td>6.0</td>\n",
              "      <td>20.0</td>\n",
              "      <td>0.99630</td>\n",
              "      <td>3.29</td>\n",
              "      <td>0.60</td>\n",
              "      <td>10.2</td>\n",
              "      <td>6</td>\n",
              "    </tr>\n",
              "    <tr>\n",
              "      <th>833</th>\n",
              "      <td>11.6</td>\n",
              "      <td>0.47</td>\n",
              "      <td>0.44</td>\n",
              "      <td>1.6</td>\n",
              "      <td>0.147</td>\n",
              "      <td>36.0</td>\n",
              "      <td>51.0</td>\n",
              "      <td>0.99836</td>\n",
              "      <td>3.38</td>\n",
              "      <td>0.86</td>\n",
              "      <td>9.9</td>\n",
              "      <td>4</td>\n",
              "    </tr>\n",
              "    <tr>\n",
              "      <th>...</th>\n",
              "      <td>...</td>\n",
              "      <td>...</td>\n",
              "      <td>...</td>\n",
              "      <td>...</td>\n",
              "      <td>...</td>\n",
              "      <td>...</td>\n",
              "      <td>...</td>\n",
              "      <td>...</td>\n",
              "      <td>...</td>\n",
              "      <td>...</td>\n",
              "      <td>...</td>\n",
              "      <td>...</td>\n",
              "    </tr>\n",
              "    <tr>\n",
              "      <th>694</th>\n",
              "      <td>9.0</td>\n",
              "      <td>0.47</td>\n",
              "      <td>0.31</td>\n",
              "      <td>2.7</td>\n",
              "      <td>0.084</td>\n",
              "      <td>24.0</td>\n",
              "      <td>125.0</td>\n",
              "      <td>0.99840</td>\n",
              "      <td>3.31</td>\n",
              "      <td>0.61</td>\n",
              "      <td>9.4</td>\n",
              "      <td>5</td>\n",
              "    </tr>\n",
              "    <tr>\n",
              "      <th>1257</th>\n",
              "      <td>7.0</td>\n",
              "      <td>0.58</td>\n",
              "      <td>0.28</td>\n",
              "      <td>4.8</td>\n",
              "      <td>0.085</td>\n",
              "      <td>12.0</td>\n",
              "      <td>69.0</td>\n",
              "      <td>0.99633</td>\n",
              "      <td>3.32</td>\n",
              "      <td>0.70</td>\n",
              "      <td>11.0</td>\n",
              "      <td>6</td>\n",
              "    </tr>\n",
              "    <tr>\n",
              "      <th>309</th>\n",
              "      <td>7.4</td>\n",
              "      <td>0.29</td>\n",
              "      <td>0.38</td>\n",
              "      <td>1.7</td>\n",
              "      <td>0.062</td>\n",
              "      <td>9.0</td>\n",
              "      <td>30.0</td>\n",
              "      <td>0.99680</td>\n",
              "      <td>3.41</td>\n",
              "      <td>0.53</td>\n",
              "      <td>9.5</td>\n",
              "      <td>6</td>\n",
              "    </tr>\n",
              "    <tr>\n",
              "      <th>233</th>\n",
              "      <td>6.9</td>\n",
              "      <td>0.52</td>\n",
              "      <td>0.25</td>\n",
              "      <td>2.6</td>\n",
              "      <td>0.081</td>\n",
              "      <td>10.0</td>\n",
              "      <td>37.0</td>\n",
              "      <td>0.99685</td>\n",
              "      <td>3.46</td>\n",
              "      <td>0.50</td>\n",
              "      <td>11.0</td>\n",
              "      <td>5</td>\n",
              "    </tr>\n",
              "    <tr>\n",
              "      <th>505</th>\n",
              "      <td>10.2</td>\n",
              "      <td>0.49</td>\n",
              "      <td>0.63</td>\n",
              "      <td>2.9</td>\n",
              "      <td>0.072</td>\n",
              "      <td>10.0</td>\n",
              "      <td>26.0</td>\n",
              "      <td>0.99680</td>\n",
              "      <td>3.16</td>\n",
              "      <td>0.78</td>\n",
              "      <td>12.5</td>\n",
              "      <td>7</td>\n",
              "    </tr>\n",
              "  </tbody>\n",
              "</table>\n",
              "<p>1279 rows × 12 columns</p>\n",
              "</div>\n",
              "      <button class=\"colab-df-convert\" onclick=\"convertToInteractive('df-a1b56090-8926-4396-8c20-01a03b4959ca')\"\n",
              "              title=\"Convert this dataframe to an interactive table.\"\n",
              "              style=\"display:none;\">\n",
              "        \n",
              "  <svg xmlns=\"http://www.w3.org/2000/svg\" height=\"24px\"viewBox=\"0 0 24 24\"\n",
              "       width=\"24px\">\n",
              "    <path d=\"M0 0h24v24H0V0z\" fill=\"none\"/>\n",
              "    <path d=\"M18.56 5.44l.94 2.06.94-2.06 2.06-.94-2.06-.94-.94-2.06-.94 2.06-2.06.94zm-11 1L8.5 8.5l.94-2.06 2.06-.94-2.06-.94L8.5 2.5l-.94 2.06-2.06.94zm10 10l.94 2.06.94-2.06 2.06-.94-2.06-.94-.94-2.06-.94 2.06-2.06.94z\"/><path d=\"M17.41 7.96l-1.37-1.37c-.4-.4-.92-.59-1.43-.59-.52 0-1.04.2-1.43.59L10.3 9.45l-7.72 7.72c-.78.78-.78 2.05 0 2.83L4 21.41c.39.39.9.59 1.41.59.51 0 1.02-.2 1.41-.59l7.78-7.78 2.81-2.81c.8-.78.8-2.07 0-2.86zM5.41 20L4 18.59l7.72-7.72 1.47 1.35L5.41 20z\"/>\n",
              "  </svg>\n",
              "      </button>\n",
              "      \n",
              "  <style>\n",
              "    .colab-df-container {\n",
              "      display:flex;\n",
              "      flex-wrap:wrap;\n",
              "      gap: 12px;\n",
              "    }\n",
              "\n",
              "    .colab-df-convert {\n",
              "      background-color: #E8F0FE;\n",
              "      border: none;\n",
              "      border-radius: 50%;\n",
              "      cursor: pointer;\n",
              "      display: none;\n",
              "      fill: #1967D2;\n",
              "      height: 32px;\n",
              "      padding: 0 0 0 0;\n",
              "      width: 32px;\n",
              "    }\n",
              "\n",
              "    .colab-df-convert:hover {\n",
              "      background-color: #E2EBFA;\n",
              "      box-shadow: 0px 1px 2px rgba(60, 64, 67, 0.3), 0px 1px 3px 1px rgba(60, 64, 67, 0.15);\n",
              "      fill: #174EA6;\n",
              "    }\n",
              "\n",
              "    [theme=dark] .colab-df-convert {\n",
              "      background-color: #3B4455;\n",
              "      fill: #D2E3FC;\n",
              "    }\n",
              "\n",
              "    [theme=dark] .colab-df-convert:hover {\n",
              "      background-color: #434B5C;\n",
              "      box-shadow: 0px 1px 3px 1px rgba(0, 0, 0, 0.15);\n",
              "      filter: drop-shadow(0px 1px 2px rgba(0, 0, 0, 0.3));\n",
              "      fill: #FFFFFF;\n",
              "    }\n",
              "  </style>\n",
              "\n",
              "      <script>\n",
              "        const buttonEl =\n",
              "          document.querySelector('#df-a1b56090-8926-4396-8c20-01a03b4959ca button.colab-df-convert');\n",
              "        buttonEl.style.display =\n",
              "          google.colab.kernel.accessAllowed ? 'block' : 'none';\n",
              "\n",
              "        async function convertToInteractive(key) {\n",
              "          const element = document.querySelector('#df-a1b56090-8926-4396-8c20-01a03b4959ca');\n",
              "          const dataTable =\n",
              "            await google.colab.kernel.invokeFunction('convertToInteractive',\n",
              "                                                     [key], {});\n",
              "          if (!dataTable) return;\n",
              "\n",
              "          const docLinkHtml = 'Like what you see? Visit the ' +\n",
              "            '<a target=\"_blank\" href=https://colab.research.google.com/notebooks/data_table.ipynb>data table notebook</a>'\n",
              "            + ' to learn more about interactive tables.';\n",
              "          element.innerHTML = '';\n",
              "          dataTable['output_type'] = 'display_data';\n",
              "          await google.colab.output.renderOutput(dataTable, element);\n",
              "          const docLink = document.createElement('div');\n",
              "          docLink.innerHTML = docLinkHtml;\n",
              "          element.appendChild(docLink);\n",
              "        }\n",
              "      </script>\n",
              "    </div>\n",
              "  </div>\n",
              "  "
            ]
          },
          "metadata": {},
          "execution_count": 1460
        }
      ]
    },
    {
      "cell_type": "code",
      "source": [
        "def feature_engineering(data):\n",
        "    data[\"citric_acid_per_density\"]=data[\"citric acid\"]/data[\"density\"]\n",
        "    data[\"ph_per_density\"]=data[\"pH\"]/data[\"density\"]\n",
        "    return data"
      ],
      "metadata": {
        "id": "ayHE759rQ8P8"
      },
      "execution_count": 1461,
      "outputs": []
    },
    {
      "cell_type": "code",
      "source": [
        "homes_feature_engineered = feature_engineering(dataset_copy)\n",
        "homes_feature_engineered"
      ],
      "metadata": {
        "colab": {
          "base_uri": "https://localhost:8080/",
          "height": 502
        },
        "id": "sC5U6-VWRECT",
        "outputId": "6892e1bc-8cc3-4d73-ac57-9fa97abd29b7"
      },
      "execution_count": 1462,
      "outputs": [
        {
          "output_type": "execute_result",
          "data": {
            "text/plain": [
              "      fixed acidity  volatile acidity  citric acid  residual sugar  chlorides  \\\n",
              "644             9.9              0.54         0.45             2.3      0.071   \n",
              "1267           10.4              0.43         0.50             2.3      0.068   \n",
              "1028            7.2              0.34         0.21             2.5      0.075   \n",
              "1065            7.7              0.61         0.18             2.4      0.083   \n",
              "833            11.6              0.47         0.44             1.6      0.147   \n",
              "...             ...               ...          ...             ...        ...   \n",
              "694             9.0              0.47         0.31             2.7      0.084   \n",
              "1257            7.0              0.58         0.28             4.8      0.085   \n",
              "309             7.4              0.29         0.38             1.7      0.062   \n",
              "233             6.9              0.52         0.25             2.6      0.081   \n",
              "505            10.2              0.49         0.63             2.9      0.072   \n",
              "\n",
              "      free sulfur dioxide  total sulfur dioxide  density    pH  sulphates  \\\n",
              "644                  16.0                  40.0  0.99910  3.39       0.62   \n",
              "1267                 13.0                  19.0  0.99600  3.10       0.87   \n",
              "1028                 41.0                  68.0  0.99586  3.37       0.54   \n",
              "1065                  6.0                  20.0  0.99630  3.29       0.60   \n",
              "833                  36.0                  51.0  0.99836  3.38       0.86   \n",
              "...                   ...                   ...      ...   ...        ...   \n",
              "694                  24.0                 125.0  0.99840  3.31       0.61   \n",
              "1257                 12.0                  69.0  0.99633  3.32       0.70   \n",
              "309                   9.0                  30.0  0.99680  3.41       0.53   \n",
              "233                  10.0                  37.0  0.99685  3.46       0.50   \n",
              "505                  10.0                  26.0  0.99680  3.16       0.78   \n",
              "\n",
              "      alcohol  citric_acid_per_density  ph_per_density  \n",
              "644       9.4                 0.450405        3.393054  \n",
              "1267     11.4                 0.502008        3.112450  \n",
              "1028     10.1                 0.210873        3.384010  \n",
              "1065     10.2                 0.180668        3.302218  \n",
              "833       9.9                 0.440723        3.385552  \n",
              "...       ...                      ...             ...  \n",
              "694       9.4                 0.310497        3.315304  \n",
              "1257     11.0                 0.281031        3.332229  \n",
              "309       9.5                 0.381220        3.420947  \n",
              "233      11.0                 0.250790        3.470933  \n",
              "505      12.5                 0.632022        3.170144  \n",
              "\n",
              "[1279 rows x 13 columns]"
            ],
            "text/html": [
              "\n",
              "  <div id=\"df-a9e38b24-7193-4de9-a2af-663ee2dee475\">\n",
              "    <div class=\"colab-df-container\">\n",
              "      <div>\n",
              "<style scoped>\n",
              "    .dataframe tbody tr th:only-of-type {\n",
              "        vertical-align: middle;\n",
              "    }\n",
              "\n",
              "    .dataframe tbody tr th {\n",
              "        vertical-align: top;\n",
              "    }\n",
              "\n",
              "    .dataframe thead th {\n",
              "        text-align: right;\n",
              "    }\n",
              "</style>\n",
              "<table border=\"1\" class=\"dataframe\">\n",
              "  <thead>\n",
              "    <tr style=\"text-align: right;\">\n",
              "      <th></th>\n",
              "      <th>fixed acidity</th>\n",
              "      <th>volatile acidity</th>\n",
              "      <th>citric acid</th>\n",
              "      <th>residual sugar</th>\n",
              "      <th>chlorides</th>\n",
              "      <th>free sulfur dioxide</th>\n",
              "      <th>total sulfur dioxide</th>\n",
              "      <th>density</th>\n",
              "      <th>pH</th>\n",
              "      <th>sulphates</th>\n",
              "      <th>alcohol</th>\n",
              "      <th>citric_acid_per_density</th>\n",
              "      <th>ph_per_density</th>\n",
              "    </tr>\n",
              "  </thead>\n",
              "  <tbody>\n",
              "    <tr>\n",
              "      <th>644</th>\n",
              "      <td>9.9</td>\n",
              "      <td>0.54</td>\n",
              "      <td>0.45</td>\n",
              "      <td>2.3</td>\n",
              "      <td>0.071</td>\n",
              "      <td>16.0</td>\n",
              "      <td>40.0</td>\n",
              "      <td>0.99910</td>\n",
              "      <td>3.39</td>\n",
              "      <td>0.62</td>\n",
              "      <td>9.4</td>\n",
              "      <td>0.450405</td>\n",
              "      <td>3.393054</td>\n",
              "    </tr>\n",
              "    <tr>\n",
              "      <th>1267</th>\n",
              "      <td>10.4</td>\n",
              "      <td>0.43</td>\n",
              "      <td>0.50</td>\n",
              "      <td>2.3</td>\n",
              "      <td>0.068</td>\n",
              "      <td>13.0</td>\n",
              "      <td>19.0</td>\n",
              "      <td>0.99600</td>\n",
              "      <td>3.10</td>\n",
              "      <td>0.87</td>\n",
              "      <td>11.4</td>\n",
              "      <td>0.502008</td>\n",
              "      <td>3.112450</td>\n",
              "    </tr>\n",
              "    <tr>\n",
              "      <th>1028</th>\n",
              "      <td>7.2</td>\n",
              "      <td>0.34</td>\n",
              "      <td>0.21</td>\n",
              "      <td>2.5</td>\n",
              "      <td>0.075</td>\n",
              "      <td>41.0</td>\n",
              "      <td>68.0</td>\n",
              "      <td>0.99586</td>\n",
              "      <td>3.37</td>\n",
              "      <td>0.54</td>\n",
              "      <td>10.1</td>\n",
              "      <td>0.210873</td>\n",
              "      <td>3.384010</td>\n",
              "    </tr>\n",
              "    <tr>\n",
              "      <th>1065</th>\n",
              "      <td>7.7</td>\n",
              "      <td>0.61</td>\n",
              "      <td>0.18</td>\n",
              "      <td>2.4</td>\n",
              "      <td>0.083</td>\n",
              "      <td>6.0</td>\n",
              "      <td>20.0</td>\n",
              "      <td>0.99630</td>\n",
              "      <td>3.29</td>\n",
              "      <td>0.60</td>\n",
              "      <td>10.2</td>\n",
              "      <td>0.180668</td>\n",
              "      <td>3.302218</td>\n",
              "    </tr>\n",
              "    <tr>\n",
              "      <th>833</th>\n",
              "      <td>11.6</td>\n",
              "      <td>0.47</td>\n",
              "      <td>0.44</td>\n",
              "      <td>1.6</td>\n",
              "      <td>0.147</td>\n",
              "      <td>36.0</td>\n",
              "      <td>51.0</td>\n",
              "      <td>0.99836</td>\n",
              "      <td>3.38</td>\n",
              "      <td>0.86</td>\n",
              "      <td>9.9</td>\n",
              "      <td>0.440723</td>\n",
              "      <td>3.385552</td>\n",
              "    </tr>\n",
              "    <tr>\n",
              "      <th>...</th>\n",
              "      <td>...</td>\n",
              "      <td>...</td>\n",
              "      <td>...</td>\n",
              "      <td>...</td>\n",
              "      <td>...</td>\n",
              "      <td>...</td>\n",
              "      <td>...</td>\n",
              "      <td>...</td>\n",
              "      <td>...</td>\n",
              "      <td>...</td>\n",
              "      <td>...</td>\n",
              "      <td>...</td>\n",
              "      <td>...</td>\n",
              "    </tr>\n",
              "    <tr>\n",
              "      <th>694</th>\n",
              "      <td>9.0</td>\n",
              "      <td>0.47</td>\n",
              "      <td>0.31</td>\n",
              "      <td>2.7</td>\n",
              "      <td>0.084</td>\n",
              "      <td>24.0</td>\n",
              "      <td>125.0</td>\n",
              "      <td>0.99840</td>\n",
              "      <td>3.31</td>\n",
              "      <td>0.61</td>\n",
              "      <td>9.4</td>\n",
              "      <td>0.310497</td>\n",
              "      <td>3.315304</td>\n",
              "    </tr>\n",
              "    <tr>\n",
              "      <th>1257</th>\n",
              "      <td>7.0</td>\n",
              "      <td>0.58</td>\n",
              "      <td>0.28</td>\n",
              "      <td>4.8</td>\n",
              "      <td>0.085</td>\n",
              "      <td>12.0</td>\n",
              "      <td>69.0</td>\n",
              "      <td>0.99633</td>\n",
              "      <td>3.32</td>\n",
              "      <td>0.70</td>\n",
              "      <td>11.0</td>\n",
              "      <td>0.281031</td>\n",
              "      <td>3.332229</td>\n",
              "    </tr>\n",
              "    <tr>\n",
              "      <th>309</th>\n",
              "      <td>7.4</td>\n",
              "      <td>0.29</td>\n",
              "      <td>0.38</td>\n",
              "      <td>1.7</td>\n",
              "      <td>0.062</td>\n",
              "      <td>9.0</td>\n",
              "      <td>30.0</td>\n",
              "      <td>0.99680</td>\n",
              "      <td>3.41</td>\n",
              "      <td>0.53</td>\n",
              "      <td>9.5</td>\n",
              "      <td>0.381220</td>\n",
              "      <td>3.420947</td>\n",
              "    </tr>\n",
              "    <tr>\n",
              "      <th>233</th>\n",
              "      <td>6.9</td>\n",
              "      <td>0.52</td>\n",
              "      <td>0.25</td>\n",
              "      <td>2.6</td>\n",
              "      <td>0.081</td>\n",
              "      <td>10.0</td>\n",
              "      <td>37.0</td>\n",
              "      <td>0.99685</td>\n",
              "      <td>3.46</td>\n",
              "      <td>0.50</td>\n",
              "      <td>11.0</td>\n",
              "      <td>0.250790</td>\n",
              "      <td>3.470933</td>\n",
              "    </tr>\n",
              "    <tr>\n",
              "      <th>505</th>\n",
              "      <td>10.2</td>\n",
              "      <td>0.49</td>\n",
              "      <td>0.63</td>\n",
              "      <td>2.9</td>\n",
              "      <td>0.072</td>\n",
              "      <td>10.0</td>\n",
              "      <td>26.0</td>\n",
              "      <td>0.99680</td>\n",
              "      <td>3.16</td>\n",
              "      <td>0.78</td>\n",
              "      <td>12.5</td>\n",
              "      <td>0.632022</td>\n",
              "      <td>3.170144</td>\n",
              "    </tr>\n",
              "  </tbody>\n",
              "</table>\n",
              "<p>1279 rows × 13 columns</p>\n",
              "</div>\n",
              "      <button class=\"colab-df-convert\" onclick=\"convertToInteractive('df-a9e38b24-7193-4de9-a2af-663ee2dee475')\"\n",
              "              title=\"Convert this dataframe to an interactive table.\"\n",
              "              style=\"display:none;\">\n",
              "        \n",
              "  <svg xmlns=\"http://www.w3.org/2000/svg\" height=\"24px\"viewBox=\"0 0 24 24\"\n",
              "       width=\"24px\">\n",
              "    <path d=\"M0 0h24v24H0V0z\" fill=\"none\"/>\n",
              "    <path d=\"M18.56 5.44l.94 2.06.94-2.06 2.06-.94-2.06-.94-.94-2.06-.94 2.06-2.06.94zm-11 1L8.5 8.5l.94-2.06 2.06-.94-2.06-.94L8.5 2.5l-.94 2.06-2.06.94zm10 10l.94 2.06.94-2.06 2.06-.94-2.06-.94-.94-2.06-.94 2.06-2.06.94z\"/><path d=\"M17.41 7.96l-1.37-1.37c-.4-.4-.92-.59-1.43-.59-.52 0-1.04.2-1.43.59L10.3 9.45l-7.72 7.72c-.78.78-.78 2.05 0 2.83L4 21.41c.39.39.9.59 1.41.59.51 0 1.02-.2 1.41-.59l7.78-7.78 2.81-2.81c.8-.78.8-2.07 0-2.86zM5.41 20L4 18.59l7.72-7.72 1.47 1.35L5.41 20z\"/>\n",
              "  </svg>\n",
              "      </button>\n",
              "      \n",
              "  <style>\n",
              "    .colab-df-container {\n",
              "      display:flex;\n",
              "      flex-wrap:wrap;\n",
              "      gap: 12px;\n",
              "    }\n",
              "\n",
              "    .colab-df-convert {\n",
              "      background-color: #E8F0FE;\n",
              "      border: none;\n",
              "      border-radius: 50%;\n",
              "      cursor: pointer;\n",
              "      display: none;\n",
              "      fill: #1967D2;\n",
              "      height: 32px;\n",
              "      padding: 0 0 0 0;\n",
              "      width: 32px;\n",
              "    }\n",
              "\n",
              "    .colab-df-convert:hover {\n",
              "      background-color: #E2EBFA;\n",
              "      box-shadow: 0px 1px 2px rgba(60, 64, 67, 0.3), 0px 1px 3px 1px rgba(60, 64, 67, 0.15);\n",
              "      fill: #174EA6;\n",
              "    }\n",
              "\n",
              "    [theme=dark] .colab-df-convert {\n",
              "      background-color: #3B4455;\n",
              "      fill: #D2E3FC;\n",
              "    }\n",
              "\n",
              "    [theme=dark] .colab-df-convert:hover {\n",
              "      background-color: #434B5C;\n",
              "      box-shadow: 0px 1px 3px 1px rgba(0, 0, 0, 0.15);\n",
              "      filter: drop-shadow(0px 1px 2px rgba(0, 0, 0, 0.3));\n",
              "      fill: #FFFFFF;\n",
              "    }\n",
              "  </style>\n",
              "\n",
              "      <script>\n",
              "        const buttonEl =\n",
              "          document.querySelector('#df-a9e38b24-7193-4de9-a2af-663ee2dee475 button.colab-df-convert');\n",
              "        buttonEl.style.display =\n",
              "          google.colab.kernel.accessAllowed ? 'block' : 'none';\n",
              "\n",
              "        async function convertToInteractive(key) {\n",
              "          const element = document.querySelector('#df-a9e38b24-7193-4de9-a2af-663ee2dee475');\n",
              "          const dataTable =\n",
              "            await google.colab.kernel.invokeFunction('convertToInteractive',\n",
              "                                                     [key], {});\n",
              "          if (!dataTable) return;\n",
              "\n",
              "          const docLinkHtml = 'Like what you see? Visit the ' +\n",
              "            '<a target=\"_blank\" href=https://colab.research.google.com/notebooks/data_table.ipynb>data table notebook</a>'\n",
              "            + ' to learn more about interactive tables.';\n",
              "          element.innerHTML = '';\n",
              "          dataTable['output_type'] = 'display_data';\n",
              "          await google.colab.output.renderOutput(dataTable, element);\n",
              "          const docLink = document.createElement('div');\n",
              "          docLink.innerHTML = docLinkHtml;\n",
              "          element.appendChild(docLink);\n",
              "        }\n",
              "      </script>\n",
              "    </div>\n",
              "  </div>\n",
              "  "
            ]
          },
          "metadata": {},
          "execution_count": 1462
        }
      ]
    },
    {
      "cell_type": "code",
      "source": [
        "from sklearn.base import BaseEstimator, TransformerMixin\n",
        "\n",
        "col_names = \"citric acid\", \"density\", \"pH\"\n",
        "citric_acid_ix, density_ix, pH_ix = [dataset.columns.get_loc(c) for c in col_names]\n",
        "\n",
        "class CombinedAttributesAdder(BaseEstimator, TransformerMixin):\n",
        "    def __init__(self, add_citric_acid_per_density=True):\n",
        "        self.add_citric_acid_per_density = add_citric_acid_per_density\n",
        "    def fit(self, X, y=None):\n",
        "        return self\n",
        "    def transform(self, X):\n",
        "        ph_per_density = X[:, density_ix] / X[:, pH_ix]\n",
        "        if self.add_citric_acid_per_density:\n",
        "            citric_acid_per_density = X[:, citric_acid_ix] / X[:, pH_ix]\n",
        "            return np.c_[X, ph_per_density, citric_acid_per_density]\n",
        "        else:\n",
        "            return np.c_[X, ph_per_density]\n",
        "\n",
        "attr_adder = CombinedAttributesAdder(add_citric_acid_per_density=False)\n",
        "homes_extra_attribs = attr_adder.transform(dataset.values)\n",
        "\n",
        "homes_extra_attribs = pd.DataFrame(\n",
        "    homes_extra_attribs,\n",
        "    columns=list(dataset.columns)+[\"ph_per_density\"],\n",
        "    index=dataset.index)\n",
        "homes_extra_attribs.head()"
      ],
      "metadata": {
        "colab": {
          "base_uri": "https://localhost:8080/",
          "height": 285
        },
        "id": "7YVBIZmzRKBz",
        "outputId": "0b4e4112-0c4e-42dc-ab31-ea849e413729"
      },
      "execution_count": 1463,
      "outputs": [
        {
          "output_type": "execute_result",
          "data": {
            "text/plain": [
              "      fixed acidity  volatile acidity  citric acid  residual sugar  chlorides  \\\n",
              "644             9.9              0.54         0.45             2.3      0.071   \n",
              "1267           10.4              0.43         0.50             2.3      0.068   \n",
              "1028            7.2              0.34         0.21             2.5      0.075   \n",
              "1065            7.7              0.61         0.18             2.4      0.083   \n",
              "833            11.6              0.47         0.44             1.6      0.147   \n",
              "\n",
              "      free sulfur dioxide  total sulfur dioxide  density    pH  sulphates  \\\n",
              "644                  16.0                  40.0  0.99910  3.39       0.62   \n",
              "1267                 13.0                  19.0  0.99600  3.10       0.87   \n",
              "1028                 41.0                  68.0  0.99586  3.37       0.54   \n",
              "1065                  6.0                  20.0  0.99630  3.29       0.60   \n",
              "833                  36.0                  51.0  0.99836  3.38       0.86   \n",
              "\n",
              "      alcohol  quality  ph_per_density  \n",
              "644       9.4      5.0        0.294720  \n",
              "1267     11.4      6.0        0.321290  \n",
              "1028     10.1      6.0        0.295507  \n",
              "1065     10.2      6.0        0.302827  \n",
              "833       9.9      4.0        0.295373  "
            ],
            "text/html": [
              "\n",
              "  <div id=\"df-712b77a7-cd0a-40ac-abee-023be03252d8\">\n",
              "    <div class=\"colab-df-container\">\n",
              "      <div>\n",
              "<style scoped>\n",
              "    .dataframe tbody tr th:only-of-type {\n",
              "        vertical-align: middle;\n",
              "    }\n",
              "\n",
              "    .dataframe tbody tr th {\n",
              "        vertical-align: top;\n",
              "    }\n",
              "\n",
              "    .dataframe thead th {\n",
              "        text-align: right;\n",
              "    }\n",
              "</style>\n",
              "<table border=\"1\" class=\"dataframe\">\n",
              "  <thead>\n",
              "    <tr style=\"text-align: right;\">\n",
              "      <th></th>\n",
              "      <th>fixed acidity</th>\n",
              "      <th>volatile acidity</th>\n",
              "      <th>citric acid</th>\n",
              "      <th>residual sugar</th>\n",
              "      <th>chlorides</th>\n",
              "      <th>free sulfur dioxide</th>\n",
              "      <th>total sulfur dioxide</th>\n",
              "      <th>density</th>\n",
              "      <th>pH</th>\n",
              "      <th>sulphates</th>\n",
              "      <th>alcohol</th>\n",
              "      <th>quality</th>\n",
              "      <th>ph_per_density</th>\n",
              "    </tr>\n",
              "  </thead>\n",
              "  <tbody>\n",
              "    <tr>\n",
              "      <th>644</th>\n",
              "      <td>9.9</td>\n",
              "      <td>0.54</td>\n",
              "      <td>0.45</td>\n",
              "      <td>2.3</td>\n",
              "      <td>0.071</td>\n",
              "      <td>16.0</td>\n",
              "      <td>40.0</td>\n",
              "      <td>0.99910</td>\n",
              "      <td>3.39</td>\n",
              "      <td>0.62</td>\n",
              "      <td>9.4</td>\n",
              "      <td>5.0</td>\n",
              "      <td>0.294720</td>\n",
              "    </tr>\n",
              "    <tr>\n",
              "      <th>1267</th>\n",
              "      <td>10.4</td>\n",
              "      <td>0.43</td>\n",
              "      <td>0.50</td>\n",
              "      <td>2.3</td>\n",
              "      <td>0.068</td>\n",
              "      <td>13.0</td>\n",
              "      <td>19.0</td>\n",
              "      <td>0.99600</td>\n",
              "      <td>3.10</td>\n",
              "      <td>0.87</td>\n",
              "      <td>11.4</td>\n",
              "      <td>6.0</td>\n",
              "      <td>0.321290</td>\n",
              "    </tr>\n",
              "    <tr>\n",
              "      <th>1028</th>\n",
              "      <td>7.2</td>\n",
              "      <td>0.34</td>\n",
              "      <td>0.21</td>\n",
              "      <td>2.5</td>\n",
              "      <td>0.075</td>\n",
              "      <td>41.0</td>\n",
              "      <td>68.0</td>\n",
              "      <td>0.99586</td>\n",
              "      <td>3.37</td>\n",
              "      <td>0.54</td>\n",
              "      <td>10.1</td>\n",
              "      <td>6.0</td>\n",
              "      <td>0.295507</td>\n",
              "    </tr>\n",
              "    <tr>\n",
              "      <th>1065</th>\n",
              "      <td>7.7</td>\n",
              "      <td>0.61</td>\n",
              "      <td>0.18</td>\n",
              "      <td>2.4</td>\n",
              "      <td>0.083</td>\n",
              "      <td>6.0</td>\n",
              "      <td>20.0</td>\n",
              "      <td>0.99630</td>\n",
              "      <td>3.29</td>\n",
              "      <td>0.60</td>\n",
              "      <td>10.2</td>\n",
              "      <td>6.0</td>\n",
              "      <td>0.302827</td>\n",
              "    </tr>\n",
              "    <tr>\n",
              "      <th>833</th>\n",
              "      <td>11.6</td>\n",
              "      <td>0.47</td>\n",
              "      <td>0.44</td>\n",
              "      <td>1.6</td>\n",
              "      <td>0.147</td>\n",
              "      <td>36.0</td>\n",
              "      <td>51.0</td>\n",
              "      <td>0.99836</td>\n",
              "      <td>3.38</td>\n",
              "      <td>0.86</td>\n",
              "      <td>9.9</td>\n",
              "      <td>4.0</td>\n",
              "      <td>0.295373</td>\n",
              "    </tr>\n",
              "  </tbody>\n",
              "</table>\n",
              "</div>\n",
              "      <button class=\"colab-df-convert\" onclick=\"convertToInteractive('df-712b77a7-cd0a-40ac-abee-023be03252d8')\"\n",
              "              title=\"Convert this dataframe to an interactive table.\"\n",
              "              style=\"display:none;\">\n",
              "        \n",
              "  <svg xmlns=\"http://www.w3.org/2000/svg\" height=\"24px\"viewBox=\"0 0 24 24\"\n",
              "       width=\"24px\">\n",
              "    <path d=\"M0 0h24v24H0V0z\" fill=\"none\"/>\n",
              "    <path d=\"M18.56 5.44l.94 2.06.94-2.06 2.06-.94-2.06-.94-.94-2.06-.94 2.06-2.06.94zm-11 1L8.5 8.5l.94-2.06 2.06-.94-2.06-.94L8.5 2.5l-.94 2.06-2.06.94zm10 10l.94 2.06.94-2.06 2.06-.94-2.06-.94-.94-2.06-.94 2.06-2.06.94z\"/><path d=\"M17.41 7.96l-1.37-1.37c-.4-.4-.92-.59-1.43-.59-.52 0-1.04.2-1.43.59L10.3 9.45l-7.72 7.72c-.78.78-.78 2.05 0 2.83L4 21.41c.39.39.9.59 1.41.59.51 0 1.02-.2 1.41-.59l7.78-7.78 2.81-2.81c.8-.78.8-2.07 0-2.86zM5.41 20L4 18.59l7.72-7.72 1.47 1.35L5.41 20z\"/>\n",
              "  </svg>\n",
              "      </button>\n",
              "      \n",
              "  <style>\n",
              "    .colab-df-container {\n",
              "      display:flex;\n",
              "      flex-wrap:wrap;\n",
              "      gap: 12px;\n",
              "    }\n",
              "\n",
              "    .colab-df-convert {\n",
              "      background-color: #E8F0FE;\n",
              "      border: none;\n",
              "      border-radius: 50%;\n",
              "      cursor: pointer;\n",
              "      display: none;\n",
              "      fill: #1967D2;\n",
              "      height: 32px;\n",
              "      padding: 0 0 0 0;\n",
              "      width: 32px;\n",
              "    }\n",
              "\n",
              "    .colab-df-convert:hover {\n",
              "      background-color: #E2EBFA;\n",
              "      box-shadow: 0px 1px 2px rgba(60, 64, 67, 0.3), 0px 1px 3px 1px rgba(60, 64, 67, 0.15);\n",
              "      fill: #174EA6;\n",
              "    }\n",
              "\n",
              "    [theme=dark] .colab-df-convert {\n",
              "      background-color: #3B4455;\n",
              "      fill: #D2E3FC;\n",
              "    }\n",
              "\n",
              "    [theme=dark] .colab-df-convert:hover {\n",
              "      background-color: #434B5C;\n",
              "      box-shadow: 0px 1px 3px 1px rgba(0, 0, 0, 0.15);\n",
              "      filter: drop-shadow(0px 1px 2px rgba(0, 0, 0, 0.3));\n",
              "      fill: #FFFFFF;\n",
              "    }\n",
              "  </style>\n",
              "\n",
              "      <script>\n",
              "        const buttonEl =\n",
              "          document.querySelector('#df-712b77a7-cd0a-40ac-abee-023be03252d8 button.colab-df-convert');\n",
              "        buttonEl.style.display =\n",
              "          google.colab.kernel.accessAllowed ? 'block' : 'none';\n",
              "\n",
              "        async function convertToInteractive(key) {\n",
              "          const element = document.querySelector('#df-712b77a7-cd0a-40ac-abee-023be03252d8');\n",
              "          const dataTable =\n",
              "            await google.colab.kernel.invokeFunction('convertToInteractive',\n",
              "                                                     [key], {});\n",
              "          if (!dataTable) return;\n",
              "\n",
              "          const docLinkHtml = 'Like what you see? Visit the ' +\n",
              "            '<a target=\"_blank\" href=https://colab.research.google.com/notebooks/data_table.ipynb>data table notebook</a>'\n",
              "            + ' to learn more about interactive tables.';\n",
              "          element.innerHTML = '';\n",
              "          dataTable['output_type'] = 'display_data';\n",
              "          await google.colab.output.renderOutput(dataTable, element);\n",
              "          const docLink = document.createElement('div');\n",
              "          docLink.innerHTML = docLinkHtml;\n",
              "          element.appendChild(docLink);\n",
              "        }\n",
              "      </script>\n",
              "    </div>\n",
              "  </div>\n",
              "  "
            ]
          },
          "metadata": {},
          "execution_count": 1463
        }
      ]
    },
    {
      "cell_type": "code",
      "source": [
        "from sklearn.pipeline import Pipeline\n",
        "from sklearn.preprocessing import StandardScaler\n",
        "\n",
        "num_pipeline = Pipeline([\n",
        "    ('imputer', SimpleImputer(strategy=\"median\")),\n",
        "    ('attribs_adder', CombinedAttributesAdder()),\n",
        "    ('std_scaler', StandardScaler()),\n",
        "])\n",
        "\n",
        "homes_num_tr = num_pipeline.fit_transform(homes_num)\n",
        "homes_num_tr"
      ],
      "metadata": {
        "colab": {
          "base_uri": "https://localhost:8080/"
        },
        "id": "yPrJuiKHRNsf",
        "outputId": "49ea8762-1929-42de-b8a8-e8bc2a6eefb6"
      },
      "execution_count": 1464,
      "outputs": [
        {
          "output_type": "execute_result",
          "data": {
            "text/plain": [
              "array([[ 0.91823784,  0.07017826,  0.91575616, ..., -0.95402186,\n",
              "        -0.46804655,  0.79456957],\n",
              "       [ 1.20635575, -0.5432656 ,  1.17314027, ...,  0.9090356 ,\n",
              "         1.35349806,  1.25843571],\n",
              "       [-0.63759884, -1.0451742 , -0.31968757, ..., -0.30195175,\n",
              "        -0.4140489 , -0.34984463],\n",
              "       ...,\n",
              "       [-0.52235168, -1.32401232,  0.55541841, ..., -0.86086899,\n",
              "        -0.63278753,  0.44835675],\n",
              "       [-0.81046958, -0.04135699, -0.11378028, ...,  0.53642411,\n",
              "        -0.92138894, -0.1883306 ],\n",
              "       [ 1.09110859, -0.20865986,  1.84233896, ...,  1.9337172 ,\n",
              "         0.95263747,  1.87715388]])"
            ]
          },
          "metadata": {},
          "execution_count": 1464
        }
      ]
    },
    {
      "cell_type": "code",
      "source": [
        "from sklearn.compose import ColumnTransformer\n",
        "\n",
        "num_attribs = list(homes_num)\n",
        "\n",
        "full_pipeline = ColumnTransformer([\n",
        "    (\"num\", num_pipeline, num_attribs),\n",
        "])\n",
        "\n",
        "homes_prepared = full_pipeline.fit_transform(dataset_copy)\n",
        "homes_prepared"
      ],
      "metadata": {
        "colab": {
          "base_uri": "https://localhost:8080/"
        },
        "id": "Y9b2UQgRRVwk",
        "outputId": "2fbbbb50-c4cc-45c5-8356-6cddfc5d9923"
      },
      "execution_count": 1465,
      "outputs": [
        {
          "output_type": "execute_result",
          "data": {
            "text/plain": [
              "array([[ 0.91823784,  0.07017826,  0.91575616, ..., -0.95402186,\n",
              "        -0.46804655,  0.79456957],\n",
              "       [ 1.20635575, -0.5432656 ,  1.17314027, ...,  0.9090356 ,\n",
              "         1.35349806,  1.25843571],\n",
              "       [-0.63759884, -1.0451742 , -0.31968757, ..., -0.30195175,\n",
              "        -0.4140489 , -0.34984463],\n",
              "       ...,\n",
              "       [-0.52235168, -1.32401232,  0.55541841, ..., -0.86086899,\n",
              "        -0.63278753,  0.44835675],\n",
              "       [-0.81046958, -0.04135699, -0.11378028, ...,  0.53642411,\n",
              "        -0.92138894, -0.1883306 ],\n",
              "       [ 1.09110859, -0.20865986,  1.84233896, ...,  1.9337172 ,\n",
              "         0.95263747,  1.87715388]])"
            ]
          },
          "metadata": {},
          "execution_count": 1465
        }
      ]
    },
    {
      "cell_type": "code",
      "source": [
        "homes_prepared.shape"
      ],
      "metadata": {
        "colab": {
          "base_uri": "https://localhost:8080/"
        },
        "id": "SLwH4zEIRYIU",
        "outputId": "68aaae17-482f-4eae-8a6e-0c33a1a82f2f"
      },
      "execution_count": 1466,
      "outputs": [
        {
          "output_type": "execute_result",
          "data": {
            "text/plain": [
              "(1279, 13)"
            ]
          },
          "metadata": {},
          "execution_count": 1466
        }
      ]
    },
    {
      "cell_type": "markdown",
      "source": [
        "# Explorar muchos modelos diferentes y preseleccionar los mejores.[texto del enlace"
      ],
      "metadata": {
        "id": "5uQY58sbReRT"
      }
    },
    {
      "cell_type": "markdown",
      "source": [
        "###Regresion lineal"
      ],
      "metadata": {
        "id": "RrybeV5PRvhm"
      }
    },
    {
      "cell_type": "code",
      "source": [
        "from sklearn.linear_model import LinearRegression\n",
        "\n",
        "lin_reg = LinearRegression()"
      ],
      "metadata": {
        "id": "WZVcE1LLRgwF"
      },
      "execution_count": 1467,
      "outputs": []
    },
    {
      "cell_type": "code",
      "source": [
        "model_lin_reg = Pipeline([\n",
        "    (\"full_pipeline\", full_pipeline),\n",
        "    (\"lin_reg\", LinearRegression())\n",
        "])\n",
        "model_lin_reg.fit(X_train, y_train)"
      ],
      "metadata": {
        "colab": {
          "base_uri": "https://localhost:8080/"
        },
        "id": "7vGOCzX5Rjrb",
        "outputId": "49f76805-91ff-4606-a08b-ccd8e1dcc758"
      },
      "execution_count": 1468,
      "outputs": [
        {
          "output_type": "execute_result",
          "data": {
            "text/plain": [
              "Pipeline(steps=[('full_pipeline',\n",
              "                 ColumnTransformer(transformers=[('num',\n",
              "                                                  Pipeline(steps=[('imputer',\n",
              "                                                                   SimpleImputer(strategy='median')),\n",
              "                                                                  ('attribs_adder',\n",
              "                                                                   CombinedAttributesAdder()),\n",
              "                                                                  ('std_scaler',\n",
              "                                                                   StandardScaler())]),\n",
              "                                                  ['fixed acidity',\n",
              "                                                   'volatile acidity',\n",
              "                                                   'citric acid',\n",
              "                                                   'residual sugar',\n",
              "                                                   'chlorides',\n",
              "                                                   'free sulfur dioxide',\n",
              "                                                   'total sulfur dioxide',\n",
              "                                                   'density', 'pH', 'sulphates',\n",
              "                                                   'alcohol'])])),\n",
              "                ('lin_reg', LinearRegression())])"
            ]
          },
          "metadata": {},
          "execution_count": 1468
        }
      ]
    },
    {
      "cell_type": "code",
      "source": [
        "#preguntar el porque va el :5\n",
        "some_data = X_test.iloc[:5]\n",
        "\n",
        "print(\"Predicción (Regresión Linear):\", model_lin_reg.predict(some_data))"
      ],
      "metadata": {
        "colab": {
          "base_uri": "https://localhost:8080/"
        },
        "id": "FDK1ZJuVRjxb",
        "outputId": "c811a02f-1581-490d-8dde-4438341d36d4"
      },
      "execution_count": 1469,
      "outputs": [
        {
          "output_type": "stream",
          "name": "stdout",
          "text": [
            "Predicción (Regresión Linear): [5.32183639 5.39987216 6.14045846 5.75539043 6.71780814]\n"
          ]
        }
      ]
    },
    {
      "cell_type": "markdown",
      "source": [
        "### Validación cruzada (Regresión Lineal)"
      ],
      "metadata": {
        "id": "FcrXsUQoR5Bt"
      }
    },
    {
      "cell_type": "code",
      "source": [
        "def display_scores(scores):\n",
        "    print(\"Scores:\", scores)\n",
        "    print(\"Mean:\", scores.mean())\n",
        "    print(\"Standard deviation:\", scores.std())"
      ],
      "metadata": {
        "id": "NwZlcZukR8t9"
      },
      "execution_count": 1470,
      "outputs": []
    },
    {
      "cell_type": "code",
      "source": [
        "from sklearn.model_selection import cross_val_score\n",
        "\n",
        "lin_scores = cross_val_score(model_lin_reg, X_test, y_test, scoring=\"neg_mean_squared_error\", cv=10)\n",
        "lin_rmse_scores = np.sqrt(-lin_scores)\n",
        "\n",
        "display_scores(lin_rmse_scores)"
      ],
      "metadata": {
        "colab": {
          "base_uri": "https://localhost:8080/"
        },
        "id": "j4RXPB5mSAt1",
        "outputId": "cb816b3e-6612-41de-b004-2e03dde46143"
      },
      "execution_count": 1471,
      "outputs": [
        {
          "output_type": "stream",
          "name": "stdout",
          "text": [
            "Scores: [0.54399034 0.63727153 0.49051291 0.55072304 0.62777793 0.78189826\n",
            " 0.62232178 0.78831589 0.73970525 0.53866591]\n",
            "Mean: 0.6321182846316216\n",
            "Standard deviation: 0.10085891250029727\n"
          ]
        }
      ]
    },
    {
      "cell_type": "markdown",
      "source": [
        "### Decision Tree Regressor"
      ],
      "metadata": {
        "id": "9GKO97aCSHiW"
      }
    },
    {
      "cell_type": "code",
      "source": [
        "from sklearn.tree import DecisionTreeRegressor\n",
        "\n",
        "tree_reg = DecisionTreeRegressor(random_state=42)"
      ],
      "metadata": {
        "id": "aw8DPm-OST9H"
      },
      "execution_count": 1472,
      "outputs": []
    },
    {
      "cell_type": "code",
      "source": [
        "model_tree_reg = Pipeline([\n",
        "    (\"full_pipeline\", full_pipeline),\n",
        "    (\"tree_reg\", tree_reg)\n",
        "])\n",
        "model_tree_reg.fit(X_train, y_train)"
      ],
      "metadata": {
        "id": "b2iwMPJzSVUg",
        "colab": {
          "base_uri": "https://localhost:8080/"
        },
        "outputId": "b7809c2a-4a04-445a-ff39-d305ac52f754"
      },
      "execution_count": 1473,
      "outputs": [
        {
          "output_type": "execute_result",
          "data": {
            "text/plain": [
              "Pipeline(steps=[('full_pipeline',\n",
              "                 ColumnTransformer(transformers=[('num',\n",
              "                                                  Pipeline(steps=[('imputer',\n",
              "                                                                   SimpleImputer(strategy='median')),\n",
              "                                                                  ('attribs_adder',\n",
              "                                                                   CombinedAttributesAdder()),\n",
              "                                                                  ('std_scaler',\n",
              "                                                                   StandardScaler())]),\n",
              "                                                  ['fixed acidity',\n",
              "                                                   'volatile acidity',\n",
              "                                                   'citric acid',\n",
              "                                                   'residual sugar',\n",
              "                                                   'chlorides',\n",
              "                                                   'free sulfur dioxide',\n",
              "                                                   'total sulfur dioxide',\n",
              "                                                   'density', 'pH', 'sulphates',\n",
              "                                                   'alcohol'])])),\n",
              "                ('tree_reg', DecisionTreeRegressor(random_state=42))])"
            ]
          },
          "metadata": {},
          "execution_count": 1473
        }
      ]
    },
    {
      "cell_type": "code",
      "source": [
        "print(\"Predicción (Desicion Tree):\", model_tree_reg.predict(some_data))"
      ],
      "metadata": {
        "id": "bkUWOmrOSfYv",
        "colab": {
          "base_uri": "https://localhost:8080/"
        },
        "outputId": "43f7c66c-e134-4a1a-c02f-07186975f839"
      },
      "execution_count": 1474,
      "outputs": [
        {
          "output_type": "stream",
          "name": "stdout",
          "text": [
            "Predicción (Desicion Tree): [5. 5. 7. 6. 5.]\n"
          ]
        }
      ]
    },
    {
      "cell_type": "code",
      "source": [
        "list(y_test.iloc[:5])"
      ],
      "metadata": {
        "id": "sR5Y1-GjSiRv",
        "colab": {
          "base_uri": "https://localhost:8080/"
        },
        "outputId": "b27ba8a4-ba45-42cd-83ea-f2b4f4576c96"
      },
      "execution_count": 1475,
      "outputs": [
        {
          "output_type": "execute_result",
          "data": {
            "text/plain": [
              "[5, 6, 6, 6, 6]"
            ]
          },
          "metadata": {},
          "execution_count": 1475
        }
      ]
    },
    {
      "cell_type": "markdown",
      "source": [
        "### Validación cruzada (Desicion Tree)"
      ],
      "metadata": {
        "id": "rUeG1QILSk5e"
      }
    },
    {
      "cell_type": "code",
      "source": [
        "tree_scores = cross_val_score(model_tree_reg, X_test, y_test, scoring=\"neg_mean_squared_error\", cv=10)\n",
        "tree_rmse_scores = np.sqrt(-tree_scores)\n",
        "\n",
        "display_scores(tree_rmse_scores)"
      ],
      "metadata": {
        "id": "WjBidTQtSl7y",
        "colab": {
          "base_uri": "https://localhost:8080/"
        },
        "outputId": "478ae7e6-7acd-46c5-9381-85176ec62379"
      },
      "execution_count": 1476,
      "outputs": [
        {
          "output_type": "stream",
          "name": "stdout",
          "text": [
            "Scores: [0.88388348 0.66143783 0.6846532  0.96824584 0.96824584 0.84779125\n",
            " 0.88388348 1.03077641 1.03077641 0.90138782]\n",
            "Mean: 0.8861081530283169\n",
            "Standard deviation: 0.12170596179622829\n"
          ]
        }
      ]
    },
    {
      "cell_type": "markdown",
      "source": [
        "### Random Forest Regressor"
      ],
      "metadata": {
        "id": "D7riUypcSrv6"
      }
    },
    {
      "cell_type": "code",
      "source": [
        "from sklearn.ensemble import RandomForestRegressor\n",
        "\n",
        "forest_reg = RandomForestRegressor(n_estimators=10, random_state=42)"
      ],
      "metadata": {
        "id": "_q42CihRStYI"
      },
      "execution_count": 1477,
      "outputs": []
    },
    {
      "cell_type": "code",
      "source": [
        "model_forest_reg = Pipeline([\n",
        "    (\"full_pipeline\", full_pipeline),\n",
        "    (\"forest_reg\", forest_reg)\n",
        "])\n",
        "model_forest_reg.fit(X_train, y_train)"
      ],
      "metadata": {
        "id": "nIhM1EmPSzBo",
        "colab": {
          "base_uri": "https://localhost:8080/"
        },
        "outputId": "c589d286-6652-486a-e0ad-bea990f71951"
      },
      "execution_count": 1478,
      "outputs": [
        {
          "output_type": "execute_result",
          "data": {
            "text/plain": [
              "Pipeline(steps=[('full_pipeline',\n",
              "                 ColumnTransformer(transformers=[('num',\n",
              "                                                  Pipeline(steps=[('imputer',\n",
              "                                                                   SimpleImputer(strategy='median')),\n",
              "                                                                  ('attribs_adder',\n",
              "                                                                   CombinedAttributesAdder()),\n",
              "                                                                  ('std_scaler',\n",
              "                                                                   StandardScaler())]),\n",
              "                                                  ['fixed acidity',\n",
              "                                                   'volatile acidity',\n",
              "                                                   'citric acid',\n",
              "                                                   'residual sugar',\n",
              "                                                   'chlorides',\n",
              "                                                   'free sulfur dioxide',\n",
              "                                                   'total sulfur dioxide',\n",
              "                                                   'density', 'pH', 'sulphates',\n",
              "                                                   'alcohol'])])),\n",
              "                ('forest_reg',\n",
              "                 RandomForestRegressor(n_estimators=10, random_state=42))])"
            ]
          },
          "metadata": {},
          "execution_count": 1478
        }
      ]
    },
    {
      "cell_type": "code",
      "source": [
        "print(\"Predicción (Random Forest):\", model_forest_reg.predict(some_data))"
      ],
      "metadata": {
        "id": "3n-TsLRaS8eg",
        "colab": {
          "base_uri": "https://localhost:8080/"
        },
        "outputId": "a8f3ea9b-db5d-4788-891c-3debb43f6dce"
      },
      "execution_count": 1479,
      "outputs": [
        {
          "output_type": "stream",
          "name": "stdout",
          "text": [
            "Predicción (Random Forest): [5.4 5.7 6.5 5.8 6. ]\n"
          ]
        }
      ]
    },
    {
      "cell_type": "code",
      "source": [
        "list(y_test.iloc[:5])"
      ],
      "metadata": {
        "id": "c_EO4RUaS-bQ",
        "colab": {
          "base_uri": "https://localhost:8080/"
        },
        "outputId": "1c5cf69d-a58a-4184-a89d-60c29f810ed8"
      },
      "execution_count": 1480,
      "outputs": [
        {
          "output_type": "execute_result",
          "data": {
            "text/plain": [
              "[5, 6, 6, 6, 6]"
            ]
          },
          "metadata": {},
          "execution_count": 1480
        }
      ]
    },
    {
      "cell_type": "markdown",
      "source": [
        "### Validación cruzada (Random Forest)"
      ],
      "metadata": {
        "id": "Jy3CIcaETDeI"
      }
    },
    {
      "cell_type": "code",
      "source": [
        "forest_scores = cross_val_score(model_forest_reg, X_test, y_test, scoring=\"neg_mean_squared_error\", cv=10)\n",
        "forest_rmse_scores = np.sqrt(-forest_scores)\n",
        "\n",
        "display_scores(forest_rmse_scores)"
      ],
      "metadata": {
        "id": "SFiPu198TE8p",
        "colab": {
          "base_uri": "https://localhost:8080/"
        },
        "outputId": "3ddf015b-84ae-4d5c-e649-ef8579ec0569"
      },
      "execution_count": 1481,
      "outputs": [
        {
          "output_type": "stream",
          "name": "stdout",
          "text": [
            "Scores: [0.53648159 0.58816452 0.50124844 0.6726812  0.69394704 0.81891697\n",
            " 0.67244888 0.82594643 0.79647662 0.68579334]\n",
            "Mean: 0.6792105028663322\n",
            "Standard deviation: 0.10746205281895625\n"
          ]
        }
      ]
    },
    {
      "cell_type": "markdown",
      "source": [
        "# Afinar los modelos."
      ],
      "metadata": {
        "id": "MWH06s0EXkX1"
      }
    },
    {
      "cell_type": "markdown",
      "source": [
        "### Grid Search"
      ],
      "metadata": {
        "id": "iFPDS1G1ZaGM"
      }
    },
    {
      "cell_type": "code",
      "source": [
        "from sklearn.model_selection import GridSearchCV\n",
        "\n",
        "n_estimators = [3, 10, 30]\n",
        "max_features = [2, 4, 6, 8]\n",
        "bootstrap = [False]\n",
        "min_samples_split = [3, 10]\n",
        "max_depth = [2, 3, 4]\n",
        "\n",
        "param_grid = [\n",
        "  {\n",
        "    'forest_reg__n_estimators': n_estimators,\n",
        "    'forest_reg__max_features': max_features\n",
        "  },\n",
        "  {\n",
        "    'forest_reg__bootstrap': bootstrap,\n",
        "    'forest_reg__min_samples_split': min_samples_split,\n",
        "    'forest_reg__max_depth': max_depth\n",
        "  }\n",
        "]\n",
        "\n",
        "grid_search = GridSearchCV(model_forest_reg, param_grid=param_grid, cv=10, scoring=\"neg_mean_squared_error\", n_jobs=1, verbose=2)"
      ],
      "metadata": {
        "id": "2SlVFuxbXxau"
      },
      "execution_count": 1482,
      "outputs": []
    },
    {
      "cell_type": "code",
      "source": [
        "grid_search.fit(X_train, y_train)"
      ],
      "metadata": {
        "id": "u-mM8qshZhz7",
        "colab": {
          "base_uri": "https://localhost:8080/"
        },
        "outputId": "79c7a3c9-c4eb-4f0d-b62a-58b3b79d22b7"
      },
      "execution_count": 1483,
      "outputs": [
        {
          "output_type": "stream",
          "name": "stdout",
          "text": [
            "Fitting 10 folds for each of 18 candidates, totalling 180 fits\n",
            "[CV] END forest_reg__max_features=2, forest_reg__n_estimators=3; total time=   0.0s\n",
            "[CV] END forest_reg__max_features=2, forest_reg__n_estimators=3; total time=   0.0s\n",
            "[CV] END forest_reg__max_features=2, forest_reg__n_estimators=3; total time=   0.0s\n",
            "[CV] END forest_reg__max_features=2, forest_reg__n_estimators=3; total time=   0.0s\n",
            "[CV] END forest_reg__max_features=2, forest_reg__n_estimators=3; total time=   0.0s\n",
            "[CV] END forest_reg__max_features=2, forest_reg__n_estimators=3; total time=   0.0s\n",
            "[CV] END forest_reg__max_features=2, forest_reg__n_estimators=3; total time=   0.0s\n",
            "[CV] END forest_reg__max_features=2, forest_reg__n_estimators=3; total time=   0.0s\n",
            "[CV] END forest_reg__max_features=2, forest_reg__n_estimators=3; total time=   0.0s\n",
            "[CV] END forest_reg__max_features=2, forest_reg__n_estimators=3; total time=   0.0s\n",
            "[CV] END forest_reg__max_features=2, forest_reg__n_estimators=10; total time=   0.0s\n",
            "[CV] END forest_reg__max_features=2, forest_reg__n_estimators=10; total time=   0.0s\n",
            "[CV] END forest_reg__max_features=2, forest_reg__n_estimators=10; total time=   0.0s\n",
            "[CV] END forest_reg__max_features=2, forest_reg__n_estimators=10; total time=   0.0s\n",
            "[CV] END forest_reg__max_features=2, forest_reg__n_estimators=10; total time=   0.0s\n",
            "[CV] END forest_reg__max_features=2, forest_reg__n_estimators=10; total time=   0.1s\n",
            "[CV] END forest_reg__max_features=2, forest_reg__n_estimators=10; total time=   0.0s\n",
            "[CV] END forest_reg__max_features=2, forest_reg__n_estimators=10; total time=   0.0s\n",
            "[CV] END forest_reg__max_features=2, forest_reg__n_estimators=10; total time=   0.0s\n",
            "[CV] END forest_reg__max_features=2, forest_reg__n_estimators=10; total time=   0.0s\n",
            "[CV] END forest_reg__max_features=2, forest_reg__n_estimators=30; total time=   0.1s\n",
            "[CV] END forest_reg__max_features=2, forest_reg__n_estimators=30; total time=   0.1s\n",
            "[CV] END forest_reg__max_features=2, forest_reg__n_estimators=30; total time=   0.1s\n",
            "[CV] END forest_reg__max_features=2, forest_reg__n_estimators=30; total time=   0.1s\n",
            "[CV] END forest_reg__max_features=2, forest_reg__n_estimators=30; total time=   0.1s\n",
            "[CV] END forest_reg__max_features=2, forest_reg__n_estimators=30; total time=   0.1s\n",
            "[CV] END forest_reg__max_features=2, forest_reg__n_estimators=30; total time=   0.1s\n",
            "[CV] END forest_reg__max_features=2, forest_reg__n_estimators=30; total time=   0.1s\n",
            "[CV] END forest_reg__max_features=2, forest_reg__n_estimators=30; total time=   0.1s\n",
            "[CV] END forest_reg__max_features=2, forest_reg__n_estimators=30; total time=   0.1s\n",
            "[CV] END forest_reg__max_features=4, forest_reg__n_estimators=3; total time=   0.0s\n",
            "[CV] END forest_reg__max_features=4, forest_reg__n_estimators=3; total time=   0.0s\n",
            "[CV] END forest_reg__max_features=4, forest_reg__n_estimators=3; total time=   0.0s\n",
            "[CV] END forest_reg__max_features=4, forest_reg__n_estimators=3; total time=   0.0s\n",
            "[CV] END forest_reg__max_features=4, forest_reg__n_estimators=3; total time=   0.0s\n",
            "[CV] END forest_reg__max_features=4, forest_reg__n_estimators=3; total time=   0.0s\n",
            "[CV] END forest_reg__max_features=4, forest_reg__n_estimators=3; total time=   0.0s\n",
            "[CV] END forest_reg__max_features=4, forest_reg__n_estimators=3; total time=   0.0s\n",
            "[CV] END forest_reg__max_features=4, forest_reg__n_estimators=3; total time=   0.0s\n",
            "[CV] END forest_reg__max_features=4, forest_reg__n_estimators=3; total time=   0.0s\n",
            "[CV] END forest_reg__max_features=4, forest_reg__n_estimators=10; total time=   0.1s\n",
            "[CV] END forest_reg__max_features=4, forest_reg__n_estimators=10; total time=   0.1s\n",
            "[CV] END forest_reg__max_features=4, forest_reg__n_estimators=10; total time=   0.1s\n",
            "[CV] END forest_reg__max_features=4, forest_reg__n_estimators=10; total time=   0.0s\n",
            "[CV] END forest_reg__max_features=4, forest_reg__n_estimators=10; total time=   0.1s\n",
            "[CV] END forest_reg__max_features=4, forest_reg__n_estimators=10; total time=   0.1s\n",
            "[CV] END forest_reg__max_features=4, forest_reg__n_estimators=10; total time=   0.1s\n",
            "[CV] END forest_reg__max_features=4, forest_reg__n_estimators=10; total time=   0.1s\n",
            "[CV] END forest_reg__max_features=4, forest_reg__n_estimators=10; total time=   0.1s\n",
            "[CV] END forest_reg__max_features=4, forest_reg__n_estimators=10; total time=   0.1s\n",
            "[CV] END forest_reg__max_features=4, forest_reg__n_estimators=30; total time=   0.1s\n",
            "[CV] END forest_reg__max_features=4, forest_reg__n_estimators=30; total time=   0.1s\n",
            "[CV] END forest_reg__max_features=4, forest_reg__n_estimators=30; total time=   0.1s\n",
            "[CV] END forest_reg__max_features=4, forest_reg__n_estimators=30; total time=   0.1s\n",
            "[CV] END forest_reg__max_features=4, forest_reg__n_estimators=30; total time=   0.1s\n",
            "[CV] END forest_reg__max_features=4, forest_reg__n_estimators=30; total time=   0.1s\n",
            "[CV] END forest_reg__max_features=4, forest_reg__n_estimators=30; total time=   0.1s\n",
            "[CV] END forest_reg__max_features=4, forest_reg__n_estimators=30; total time=   0.1s\n",
            "[CV] END forest_reg__max_features=4, forest_reg__n_estimators=30; total time=   0.1s\n",
            "[CV] END forest_reg__max_features=4, forest_reg__n_estimators=30; total time=   0.1s\n",
            "[CV] END forest_reg__max_features=6, forest_reg__n_estimators=3; total time=   0.0s\n",
            "[CV] END forest_reg__max_features=6, forest_reg__n_estimators=3; total time=   0.0s\n",
            "[CV] END forest_reg__max_features=6, forest_reg__n_estimators=3; total time=   0.0s\n",
            "[CV] END forest_reg__max_features=6, forest_reg__n_estimators=3; total time=   0.0s\n",
            "[CV] END forest_reg__max_features=6, forest_reg__n_estimators=3; total time=   0.0s\n",
            "[CV] END forest_reg__max_features=6, forest_reg__n_estimators=3; total time=   0.0s\n",
            "[CV] END forest_reg__max_features=6, forest_reg__n_estimators=3; total time=   0.0s\n",
            "[CV] END forest_reg__max_features=6, forest_reg__n_estimators=3; total time=   0.0s\n",
            "[CV] END forest_reg__max_features=6, forest_reg__n_estimators=3; total time=   0.0s\n",
            "[CV] END forest_reg__max_features=6, forest_reg__n_estimators=3; total time=   0.0s\n",
            "[CV] END forest_reg__max_features=6, forest_reg__n_estimators=10; total time=   0.1s\n",
            "[CV] END forest_reg__max_features=6, forest_reg__n_estimators=10; total time=   0.1s\n",
            "[CV] END forest_reg__max_features=6, forest_reg__n_estimators=10; total time=   0.1s\n",
            "[CV] END forest_reg__max_features=6, forest_reg__n_estimators=10; total time=   0.1s\n",
            "[CV] END forest_reg__max_features=6, forest_reg__n_estimators=10; total time=   0.1s\n",
            "[CV] END forest_reg__max_features=6, forest_reg__n_estimators=10; total time=   0.1s\n",
            "[CV] END forest_reg__max_features=6, forest_reg__n_estimators=10; total time=   0.1s\n",
            "[CV] END forest_reg__max_features=6, forest_reg__n_estimators=10; total time=   0.1s\n",
            "[CV] END forest_reg__max_features=6, forest_reg__n_estimators=10; total time=   0.1s\n",
            "[CV] END forest_reg__max_features=6, forest_reg__n_estimators=10; total time=   0.1s\n",
            "[CV] END forest_reg__max_features=6, forest_reg__n_estimators=30; total time=   0.2s\n",
            "[CV] END forest_reg__max_features=6, forest_reg__n_estimators=30; total time=   0.2s\n",
            "[CV] END forest_reg__max_features=6, forest_reg__n_estimators=30; total time=   0.1s\n",
            "[CV] END forest_reg__max_features=6, forest_reg__n_estimators=30; total time=   0.1s\n",
            "[CV] END forest_reg__max_features=6, forest_reg__n_estimators=30; total time=   0.1s\n",
            "[CV] END forest_reg__max_features=6, forest_reg__n_estimators=30; total time=   0.2s\n",
            "[CV] END forest_reg__max_features=6, forest_reg__n_estimators=30; total time=   0.2s\n",
            "[CV] END forest_reg__max_features=6, forest_reg__n_estimators=30; total time=   0.2s\n",
            "[CV] END forest_reg__max_features=6, forest_reg__n_estimators=30; total time=   0.2s\n",
            "[CV] END forest_reg__max_features=6, forest_reg__n_estimators=30; total time=   0.2s\n",
            "[CV] END forest_reg__max_features=8, forest_reg__n_estimators=3; total time=   0.0s\n",
            "[CV] END forest_reg__max_features=8, forest_reg__n_estimators=3; total time=   0.0s\n",
            "[CV] END forest_reg__max_features=8, forest_reg__n_estimators=3; total time=   0.0s\n",
            "[CV] END forest_reg__max_features=8, forest_reg__n_estimators=3; total time=   0.0s\n",
            "[CV] END forest_reg__max_features=8, forest_reg__n_estimators=3; total time=   0.0s\n",
            "[CV] END forest_reg__max_features=8, forest_reg__n_estimators=3; total time=   0.0s\n",
            "[CV] END forest_reg__max_features=8, forest_reg__n_estimators=3; total time=   0.0s\n",
            "[CV] END forest_reg__max_features=8, forest_reg__n_estimators=3; total time=   0.0s\n",
            "[CV] END forest_reg__max_features=8, forest_reg__n_estimators=3; total time=   0.0s\n",
            "[CV] END forest_reg__max_features=8, forest_reg__n_estimators=3; total time=   0.0s\n",
            "[CV] END forest_reg__max_features=8, forest_reg__n_estimators=10; total time=   0.1s\n",
            "[CV] END forest_reg__max_features=8, forest_reg__n_estimators=10; total time=   0.1s\n",
            "[CV] END forest_reg__max_features=8, forest_reg__n_estimators=10; total time=   0.1s\n",
            "[CV] END forest_reg__max_features=8, forest_reg__n_estimators=10; total time=   0.1s\n",
            "[CV] END forest_reg__max_features=8, forest_reg__n_estimators=10; total time=   0.1s\n",
            "[CV] END forest_reg__max_features=8, forest_reg__n_estimators=10; total time=   0.1s\n",
            "[CV] END forest_reg__max_features=8, forest_reg__n_estimators=10; total time=   0.1s\n",
            "[CV] END forest_reg__max_features=8, forest_reg__n_estimators=10; total time=   0.1s\n",
            "[CV] END forest_reg__max_features=8, forest_reg__n_estimators=10; total time=   0.1s\n",
            "[CV] END forest_reg__max_features=8, forest_reg__n_estimators=10; total time=   0.1s\n",
            "[CV] END forest_reg__max_features=8, forest_reg__n_estimators=30; total time=   0.2s\n",
            "[CV] END forest_reg__max_features=8, forest_reg__n_estimators=30; total time=   0.2s\n",
            "[CV] END forest_reg__max_features=8, forest_reg__n_estimators=30; total time=   0.2s\n",
            "[CV] END forest_reg__max_features=8, forest_reg__n_estimators=30; total time=   0.2s\n",
            "[CV] END forest_reg__max_features=8, forest_reg__n_estimators=30; total time=   0.2s\n",
            "[CV] END forest_reg__max_features=8, forest_reg__n_estimators=30; total time=   0.2s\n",
            "[CV] END forest_reg__max_features=8, forest_reg__n_estimators=30; total time=   0.2s\n",
            "[CV] END forest_reg__max_features=8, forest_reg__n_estimators=30; total time=   0.2s\n",
            "[CV] END forest_reg__max_features=8, forest_reg__n_estimators=30; total time=   0.2s\n",
            "[CV] END forest_reg__max_features=8, forest_reg__n_estimators=30; total time=   0.2s\n",
            "[CV] END forest_reg__bootstrap=False, forest_reg__max_depth=2, forest_reg__min_samples_split=3; total time=   0.0s\n",
            "[CV] END forest_reg__bootstrap=False, forest_reg__max_depth=2, forest_reg__min_samples_split=3; total time=   0.0s\n",
            "[CV] END forest_reg__bootstrap=False, forest_reg__max_depth=2, forest_reg__min_samples_split=3; total time=   0.0s\n",
            "[CV] END forest_reg__bootstrap=False, forest_reg__max_depth=2, forest_reg__min_samples_split=3; total time=   0.0s\n",
            "[CV] END forest_reg__bootstrap=False, forest_reg__max_depth=2, forest_reg__min_samples_split=3; total time=   0.0s\n",
            "[CV] END forest_reg__bootstrap=False, forest_reg__max_depth=2, forest_reg__min_samples_split=3; total time=   0.0s\n",
            "[CV] END forest_reg__bootstrap=False, forest_reg__max_depth=2, forest_reg__min_samples_split=3; total time=   0.0s\n",
            "[CV] END forest_reg__bootstrap=False, forest_reg__max_depth=2, forest_reg__min_samples_split=3; total time=   0.0s\n",
            "[CV] END forest_reg__bootstrap=False, forest_reg__max_depth=2, forest_reg__min_samples_split=3; total time=   0.0s\n",
            "[CV] END forest_reg__bootstrap=False, forest_reg__max_depth=2, forest_reg__min_samples_split=3; total time=   0.0s\n",
            "[CV] END forest_reg__bootstrap=False, forest_reg__max_depth=2, forest_reg__min_samples_split=10; total time=   0.0s\n",
            "[CV] END forest_reg__bootstrap=False, forest_reg__max_depth=2, forest_reg__min_samples_split=10; total time=   0.0s\n",
            "[CV] END forest_reg__bootstrap=False, forest_reg__max_depth=2, forest_reg__min_samples_split=10; total time=   0.1s\n",
            "[CV] END forest_reg__bootstrap=False, forest_reg__max_depth=2, forest_reg__min_samples_split=10; total time=   0.0s\n",
            "[CV] END forest_reg__bootstrap=False, forest_reg__max_depth=2, forest_reg__min_samples_split=10; total time=   0.0s\n",
            "[CV] END forest_reg__bootstrap=False, forest_reg__max_depth=2, forest_reg__min_samples_split=10; total time=   0.0s\n",
            "[CV] END forest_reg__bootstrap=False, forest_reg__max_depth=2, forest_reg__min_samples_split=10; total time=   0.0s\n",
            "[CV] END forest_reg__bootstrap=False, forest_reg__max_depth=2, forest_reg__min_samples_split=10; total time=   0.0s\n",
            "[CV] END forest_reg__bootstrap=False, forest_reg__max_depth=2, forest_reg__min_samples_split=10; total time=   0.0s\n",
            "[CV] END forest_reg__bootstrap=False, forest_reg__max_depth=2, forest_reg__min_samples_split=10; total time=   0.0s\n",
            "[CV] END forest_reg__bootstrap=False, forest_reg__max_depth=3, forest_reg__min_samples_split=3; total time=   0.1s\n",
            "[CV] END forest_reg__bootstrap=False, forest_reg__max_depth=3, forest_reg__min_samples_split=3; total time=   0.1s\n",
            "[CV] END forest_reg__bootstrap=False, forest_reg__max_depth=3, forest_reg__min_samples_split=3; total time=   0.1s\n",
            "[CV] END forest_reg__bootstrap=False, forest_reg__max_depth=3, forest_reg__min_samples_split=3; total time=   0.1s\n",
            "[CV] END forest_reg__bootstrap=False, forest_reg__max_depth=3, forest_reg__min_samples_split=3; total time=   0.1s\n",
            "[CV] END forest_reg__bootstrap=False, forest_reg__max_depth=3, forest_reg__min_samples_split=3; total time=   0.1s\n",
            "[CV] END forest_reg__bootstrap=False, forest_reg__max_depth=3, forest_reg__min_samples_split=3; total time=   0.1s\n",
            "[CV] END forest_reg__bootstrap=False, forest_reg__max_depth=3, forest_reg__min_samples_split=3; total time=   0.1s\n",
            "[CV] END forest_reg__bootstrap=False, forest_reg__max_depth=3, forest_reg__min_samples_split=3; total time=   0.1s\n",
            "[CV] END forest_reg__bootstrap=False, forest_reg__max_depth=3, forest_reg__min_samples_split=3; total time=   0.1s\n",
            "[CV] END forest_reg__bootstrap=False, forest_reg__max_depth=3, forest_reg__min_samples_split=10; total time=   0.1s\n",
            "[CV] END forest_reg__bootstrap=False, forest_reg__max_depth=3, forest_reg__min_samples_split=10; total time=   0.1s\n",
            "[CV] END forest_reg__bootstrap=False, forest_reg__max_depth=3, forest_reg__min_samples_split=10; total time=   0.1s\n",
            "[CV] END forest_reg__bootstrap=False, forest_reg__max_depth=3, forest_reg__min_samples_split=10; total time=   0.0s\n",
            "[CV] END forest_reg__bootstrap=False, forest_reg__max_depth=3, forest_reg__min_samples_split=10; total time=   0.1s\n",
            "[CV] END forest_reg__bootstrap=False, forest_reg__max_depth=3, forest_reg__min_samples_split=10; total time=   0.1s\n",
            "[CV] END forest_reg__bootstrap=False, forest_reg__max_depth=3, forest_reg__min_samples_split=10; total time=   0.1s\n",
            "[CV] END forest_reg__bootstrap=False, forest_reg__max_depth=3, forest_reg__min_samples_split=10; total time=   0.1s\n",
            "[CV] END forest_reg__bootstrap=False, forest_reg__max_depth=3, forest_reg__min_samples_split=10; total time=   0.1s\n",
            "[CV] END forest_reg__bootstrap=False, forest_reg__max_depth=3, forest_reg__min_samples_split=10; total time=   0.1s\n",
            "[CV] END forest_reg__bootstrap=False, forest_reg__max_depth=4, forest_reg__min_samples_split=3; total time=   0.1s\n",
            "[CV] END forest_reg__bootstrap=False, forest_reg__max_depth=4, forest_reg__min_samples_split=3; total time=   0.1s\n",
            "[CV] END forest_reg__bootstrap=False, forest_reg__max_depth=4, forest_reg__min_samples_split=3; total time=   0.1s\n",
            "[CV] END forest_reg__bootstrap=False, forest_reg__max_depth=4, forest_reg__min_samples_split=3; total time=   0.1s\n",
            "[CV] END forest_reg__bootstrap=False, forest_reg__max_depth=4, forest_reg__min_samples_split=3; total time=   0.1s\n",
            "[CV] END forest_reg__bootstrap=False, forest_reg__max_depth=4, forest_reg__min_samples_split=3; total time=   0.1s\n",
            "[CV] END forest_reg__bootstrap=False, forest_reg__max_depth=4, forest_reg__min_samples_split=3; total time=   0.1s\n",
            "[CV] END forest_reg__bootstrap=False, forest_reg__max_depth=4, forest_reg__min_samples_split=3; total time=   0.1s\n",
            "[CV] END forest_reg__bootstrap=False, forest_reg__max_depth=4, forest_reg__min_samples_split=3; total time=   0.1s\n",
            "[CV] END forest_reg__bootstrap=False, forest_reg__max_depth=4, forest_reg__min_samples_split=3; total time=   0.1s\n",
            "[CV] END forest_reg__bootstrap=False, forest_reg__max_depth=4, forest_reg__min_samples_split=10; total time=   0.1s\n",
            "[CV] END forest_reg__bootstrap=False, forest_reg__max_depth=4, forest_reg__min_samples_split=10; total time=   0.1s\n",
            "[CV] END forest_reg__bootstrap=False, forest_reg__max_depth=4, forest_reg__min_samples_split=10; total time=   0.1s\n",
            "[CV] END forest_reg__bootstrap=False, forest_reg__max_depth=4, forest_reg__min_samples_split=10; total time=   0.1s\n",
            "[CV] END forest_reg__bootstrap=False, forest_reg__max_depth=4, forest_reg__min_samples_split=10; total time=   0.1s\n",
            "[CV] END forest_reg__bootstrap=False, forest_reg__max_depth=4, forest_reg__min_samples_split=10; total time=   0.1s\n",
            "[CV] END forest_reg__bootstrap=False, forest_reg__max_depth=4, forest_reg__min_samples_split=10; total time=   0.1s\n",
            "[CV] END forest_reg__bootstrap=False, forest_reg__max_depth=4, forest_reg__min_samples_split=10; total time=   0.1s\n",
            "[CV] END forest_reg__bootstrap=False, forest_reg__max_depth=4, forest_reg__min_samples_split=10; total time=   0.1s\n",
            "[CV] END forest_reg__bootstrap=False, forest_reg__max_depth=4, forest_reg__min_samples_split=10; total time=   0.1s\n"
          ]
        },
        {
          "output_type": "execute_result",
          "data": {
            "text/plain": [
              "GridSearchCV(cv=10,\n",
              "             estimator=Pipeline(steps=[('full_pipeline',\n",
              "                                        ColumnTransformer(transformers=[('num',\n",
              "                                                                         Pipeline(steps=[('imputer',\n",
              "                                                                                          SimpleImputer(strategy='median')),\n",
              "                                                                                         ('attribs_adder',\n",
              "                                                                                          CombinedAttributesAdder()),\n",
              "                                                                                         ('std_scaler',\n",
              "                                                                                          StandardScaler())]),\n",
              "                                                                         ['fixed '\n",
              "                                                                          'acidity',\n",
              "                                                                          'volatile '\n",
              "                                                                          'acidity',\n",
              "                                                                          'citric '\n",
              "                                                                          'acid',\n",
              "                                                                          'residual '\n",
              "                                                                          'sugar',\n",
              "                                                                          'chlorides',\n",
              "                                                                          'free '\n",
              "                                                                          'sulfur '\n",
              "                                                                          'dioxide',\n",
              "                                                                          'to...\n",
              "                                                                          'pH',\n",
              "                                                                          'sulphates',\n",
              "                                                                          'alcohol'])])),\n",
              "                                       ('forest_reg',\n",
              "                                        RandomForestRegressor(n_estimators=10,\n",
              "                                                              random_state=42))]),\n",
              "             n_jobs=1,\n",
              "             param_grid=[{'forest_reg__max_features': [2, 4, 6, 8],\n",
              "                          'forest_reg__n_estimators': [3, 10, 30]},\n",
              "                         {'forest_reg__bootstrap': [False],\n",
              "                          'forest_reg__max_depth': [2, 3, 4],\n",
              "                          'forest_reg__min_samples_split': [3, 10]}],\n",
              "             scoring='neg_mean_squared_error', verbose=2)"
            ]
          },
          "metadata": {},
          "execution_count": 1483
        }
      ]
    },
    {
      "cell_type": "code",
      "source": [
        "grid_search.best_params_"
      ],
      "metadata": {
        "id": "b-4euXSfZpD5",
        "colab": {
          "base_uri": "https://localhost:8080/"
        },
        "outputId": "71f4a380-60c3-4718-f9f6-70ecd8583f77"
      },
      "execution_count": 1484,
      "outputs": [
        {
          "output_type": "execute_result",
          "data": {
            "text/plain": [
              "{'forest_reg__max_features': 8, 'forest_reg__n_estimators': 30}"
            ]
          },
          "metadata": {},
          "execution_count": 1484
        }
      ]
    },
    {
      "cell_type": "code",
      "source": [
        "forest_reg = RandomForestRegressor(random_state=42, max_features=8, n_estimators=30)"
      ],
      "metadata": {
        "id": "0l3kSPWSZsM7"
      },
      "execution_count": 1485,
      "outputs": []
    },
    {
      "cell_type": "code",
      "source": [
        "model_forest_reg = Pipeline([\n",
        "    (\"full_pipeline\", full_pipeline),\n",
        "    (\"forest_reg\", forest_reg)\n",
        "])\n",
        "model_forest_reg.fit(X_train, y_train)"
      ],
      "metadata": {
        "id": "_pNZ9cUBZxhP",
        "colab": {
          "base_uri": "https://localhost:8080/"
        },
        "outputId": "960f4d9e-523d-40f4-b0b6-6b5331012cfd"
      },
      "execution_count": 1486,
      "outputs": [
        {
          "output_type": "execute_result",
          "data": {
            "text/plain": [
              "Pipeline(steps=[('full_pipeline',\n",
              "                 ColumnTransformer(transformers=[('num',\n",
              "                                                  Pipeline(steps=[('imputer',\n",
              "                                                                   SimpleImputer(strategy='median')),\n",
              "                                                                  ('attribs_adder',\n",
              "                                                                   CombinedAttributesAdder()),\n",
              "                                                                  ('std_scaler',\n",
              "                                                                   StandardScaler())]),\n",
              "                                                  ['fixed acidity',\n",
              "                                                   'volatile acidity',\n",
              "                                                   'citric acid',\n",
              "                                                   'residual sugar',\n",
              "                                                   'chlorides',\n",
              "                                                   'free sulfur dioxide',\n",
              "                                                   'total sulfur dioxide',\n",
              "                                                   'density', 'pH', 'sulphates',\n",
              "                                                   'alcohol'])])),\n",
              "                ('forest_reg',\n",
              "                 RandomForestRegressor(max_features=8, n_estimators=30,\n",
              "                                       random_state=42))])"
            ]
          },
          "metadata": {},
          "execution_count": 1486
        }
      ]
    },
    {
      "cell_type": "markdown",
      "source": [
        "###Validación cruzada"
      ],
      "metadata": {
        "id": "6RsFRkTrZ298"
      }
    },
    {
      "cell_type": "code",
      "source": [
        "forest_scores = cross_val_score(model_forest_reg, X_test, y_test, scoring=\"neg_mean_squared_error\", cv=10)\n",
        "forest_rmse_scores = np.sqrt(-forest_scores)\n",
        "\n",
        "display_scores(forest_rmse_scores)"
      ],
      "metadata": {
        "id": "VngAVNRiZ5rb",
        "colab": {
          "base_uri": "https://localhost:8080/"
        },
        "outputId": "964de265-b928-4f59-b06e-d4992f482e2f"
      },
      "execution_count": 1487,
      "outputs": [
        {
          "output_type": "stream",
          "name": "stdout",
          "text": [
            "Scores: [0.46146656 0.59468129 0.50439045 0.6873611  0.69196781 0.76834056\n",
            " 0.68781558 0.77569413 0.71744144 0.61706068]\n",
            "Mean: 0.6506219607818721\n",
            "Standard deviation: 0.09991361676477703\n"
          ]
        }
      ]
    },
    {
      "cell_type": "markdown",
      "source": [
        "### Randomized Search"
      ],
      "metadata": {
        "id": "J9N2ytNgZ-U0"
      }
    },
    {
      "cell_type": "code",
      "source": [
        "from sklearn.model_selection import RandomizedSearchCV\n",
        "from scipy.stats import randint\n",
        "\n",
        "param_distribs = {\n",
        "    'forest_reg__n_estimators': randint(low=1, high=200),\n",
        "    'forest_reg__max_features': randint(low=1, high=6),\n",
        "}\n",
        "\n",
        "rnd_search = RandomizedSearchCV(estimator=model_forest_reg, param_distributions=param_distribs, n_iter=5, cv=10, \n",
        "                                scoring=\"neg_mean_squared_error\", n_jobs=-1, verbose=10)"
      ],
      "metadata": {
        "id": "PA-4kiJiaCJF"
      },
      "execution_count": 1488,
      "outputs": []
    },
    {
      "cell_type": "code",
      "source": [
        "rnd_search.fit(X_train, y_train)"
      ],
      "metadata": {
        "id": "1AF3yj8_bl84",
        "colab": {
          "base_uri": "https://localhost:8080/"
        },
        "outputId": "bd4cd5e2-392b-48cb-fbee-cd7abbbf0281"
      },
      "execution_count": 1489,
      "outputs": [
        {
          "output_type": "stream",
          "name": "stdout",
          "text": [
            "Fitting 10 folds for each of 5 candidates, totalling 50 fits\n"
          ]
        },
        {
          "output_type": "execute_result",
          "data": {
            "text/plain": [
              "RandomizedSearchCV(cv=10,\n",
              "                   estimator=Pipeline(steps=[('full_pipeline',\n",
              "                                              ColumnTransformer(transformers=[('num',\n",
              "                                                                               Pipeline(steps=[('imputer',\n",
              "                                                                                                SimpleImputer(strategy='median')),\n",
              "                                                                                               ('attribs_adder',\n",
              "                                                                                                CombinedAttributesAdder()),\n",
              "                                                                                               ('std_scaler',\n",
              "                                                                                                StandardScaler())]),\n",
              "                                                                               ['fixed '\n",
              "                                                                                'acidity',\n",
              "                                                                                'volatile '\n",
              "                                                                                'acidity',\n",
              "                                                                                'citric '\n",
              "                                                                                'acid',\n",
              "                                                                                'residual '\n",
              "                                                                                'sugar',\n",
              "                                                                                'chlorides',\n",
              "                                                                                'free '\n",
              "                                                                                'sulfur '\n",
              "                                                                                'dioxid...\n",
              "                                             ('forest_reg',\n",
              "                                              RandomForestRegressor(max_features=8,\n",
              "                                                                    n_estimators=30,\n",
              "                                                                    random_state=42))]),\n",
              "                   n_iter=5, n_jobs=-1,\n",
              "                   param_distributions={'forest_reg__max_features': <scipy.stats._distn_infrastructure.rv_frozen object at 0x7f263de67850>,\n",
              "                                        'forest_reg__n_estimators': <scipy.stats._distn_infrastructure.rv_frozen object at 0x7f263de67e10>},\n",
              "                   scoring='neg_mean_squared_error', verbose=10)"
            ]
          },
          "metadata": {},
          "execution_count": 1489
        }
      ]
    },
    {
      "cell_type": "code",
      "source": [
        "rnd_search.best_params_"
      ],
      "metadata": {
        "id": "8q4xzb1SbrdZ",
        "colab": {
          "base_uri": "https://localhost:8080/"
        },
        "outputId": "6ebe83ab-7639-4c61-81e6-9937d4252a36"
      },
      "execution_count": 1490,
      "outputs": [
        {
          "output_type": "execute_result",
          "data": {
            "text/plain": [
              "{'forest_reg__max_features': 3, 'forest_reg__n_estimators': 196}"
            ]
          },
          "metadata": {},
          "execution_count": 1490
        }
      ]
    },
    {
      "cell_type": "code",
      "source": [
        "forest_reg = RandomForestRegressor(random_state=42, max_features=5, n_estimators=176)"
      ],
      "metadata": {
        "id": "RARjehAFbuPi"
      },
      "execution_count": 1491,
      "outputs": []
    },
    {
      "cell_type": "code",
      "source": [
        "model_forest_reg = Pipeline([\n",
        "    (\"full_pipeline\", full_pipeline),\n",
        "    (\"forest_reg\", forest_reg)\n",
        "])\n",
        "model_forest_reg.fit(X_train, y_train)"
      ],
      "metadata": {
        "id": "iZxOK9sNbxOK",
        "colab": {
          "base_uri": "https://localhost:8080/"
        },
        "outputId": "fbe8c20d-b81b-4861-8271-25c7b0142857"
      },
      "execution_count": 1492,
      "outputs": [
        {
          "output_type": "execute_result",
          "data": {
            "text/plain": [
              "Pipeline(steps=[('full_pipeline',\n",
              "                 ColumnTransformer(transformers=[('num',\n",
              "                                                  Pipeline(steps=[('imputer',\n",
              "                                                                   SimpleImputer(strategy='median')),\n",
              "                                                                  ('attribs_adder',\n",
              "                                                                   CombinedAttributesAdder()),\n",
              "                                                                  ('std_scaler',\n",
              "                                                                   StandardScaler())]),\n",
              "                                                  ['fixed acidity',\n",
              "                                                   'volatile acidity',\n",
              "                                                   'citric acid',\n",
              "                                                   'residual sugar',\n",
              "                                                   'chlorides',\n",
              "                                                   'free sulfur dioxide',\n",
              "                                                   'total sulfur dioxide',\n",
              "                                                   'density', 'pH', 'sulphates',\n",
              "                                                   'alcohol'])])),\n",
              "                ('forest_reg',\n",
              "                 RandomForestRegressor(max_features=5, n_estimators=176,\n",
              "                                       random_state=42))])"
            ]
          },
          "metadata": {},
          "execution_count": 1492
        }
      ]
    },
    {
      "cell_type": "markdown",
      "source": [
        "###Validación cruzada"
      ],
      "metadata": {
        "id": "sRKJCcVzb0WY"
      }
    },
    {
      "cell_type": "code",
      "source": [
        "forest_scores = cross_val_score(model_forest_reg, X_test, y_test, scoring=\"neg_mean_squared_error\", cv=10)\n",
        "forest_rmse_scores = np.sqrt(-forest_scores)\n",
        "\n",
        "display_scores(forest_rmse_scores)"
      ],
      "metadata": {
        "id": "axvbOClfb21y",
        "colab": {
          "base_uri": "https://localhost:8080/"
        },
        "outputId": "aa140950-416f-48c4-f92f-d0a2407c9d68"
      },
      "execution_count": 1493,
      "outputs": [
        {
          "output_type": "stream",
          "name": "stdout",
          "text": [
            "Scores: [0.48287934 0.55804614 0.49144956 0.66905671 0.67275583 0.75983299\n",
            " 0.65926921 0.77998024 0.71951176 0.5526554 ]\n",
            "Mean: 0.6345437169936333\n",
            "Standard deviation: 0.10166956855258255\n"
          ]
        }
      ]
    },
    {
      "cell_type": "code",
      "source": [
        ""
      ],
      "metadata": {
        "id": "KBSpb4N1b82q"
      },
      "execution_count": 1493,
      "outputs": []
    }
  ]
}