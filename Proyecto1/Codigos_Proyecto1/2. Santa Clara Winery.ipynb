{
  "nbformat": 4,
  "nbformat_minor": 0,
  "metadata": {
    "colab": {
      "name": "ejercicio2.ipynb",
      "provenance": [],
      "collapsed_sections": [
        "rUeG1QILSk5e",
        "Jy3CIcaETDeI"
      ]
    },
    "kernelspec": {
      "name": "python3",
      "display_name": "Python 3"
    },
    "language_info": {
      "name": "python"
    }
  },
  "cells": [
    {
      "cell_type": "markdown",
      "source": [
        "# Leer el Dataset homes.csv"
      ],
      "metadata": {
        "id": "ra9aExyONK6g"
      }
    },
    {
      "cell_type": "code",
      "source": [
        "#Importando las librerias\n",
        "import numpy as np\n",
        "import matplotlib.pyplot as plt\n",
        "import pandas as pd\n",
        "from sklearn.impute import SimpleImputer\n",
        "from sklearn.compose import ColumnTransformer\n",
        "from sklearn.preprocessing import OneHotEncoder\n",
        "from sklearn.preprocessing import LabelEncoder\n",
        "from sklearn.model_selection import train_test_split"
      ],
      "metadata": {
        "id": "xaQ7tpUvNMsB"
      },
      "execution_count": 211,
      "outputs": []
    },
    {
      "cell_type": "code",
      "source": [
        "#Impoprtando el dataset\n",
        "missing_values = [\"n/a\", \"na\", \"--\"]\n",
        "dataset = pd.read_csv('wines.csv',na_values = missing_values)"
      ],
      "metadata": {
        "id": "b8tG2lBGNPcC"
      },
      "execution_count": 212,
      "outputs": []
    },
    {
      "cell_type": "markdown",
      "source": [
        "# Explorar los datos para obtener ideas."
      ],
      "metadata": {
        "id": "CCYoPJ02NT4x"
      }
    },
    {
      "cell_type": "code",
      "source": [
        "dataset.head()"
      ],
      "metadata": {
        "colab": {
          "base_uri": "https://localhost:8080/",
          "height": 206
        },
        "id": "ATnlH_UHNUtC",
        "outputId": "f68946e5-9eea-4c60-c234-8fd1088a1b86"
      },
      "execution_count": 213,
      "outputs": [
        {
          "output_type": "execute_result",
          "data": {
            "text/plain": [
              "   fixed acidity  volatile acidity  citric acid  residual sugar  chlorides  \\\n",
              "0            7.4              0.70         0.00             1.9      0.076   \n",
              "1            7.8              0.88         0.00             2.6      0.098   \n",
              "2            7.8              0.76         0.04             2.3      0.092   \n",
              "3           11.2              0.28         0.56             1.9      0.075   \n",
              "4            7.4              0.70         0.00             1.9      0.076   \n",
              "\n",
              "   free sulfur dioxide  total sulfur dioxide  density    pH  sulphates  \\\n",
              "0                 11.0                  34.0   0.9978  3.51       0.56   \n",
              "1                 25.0                  67.0   0.9968  3.20       0.68   \n",
              "2                 15.0                  54.0   0.9970  3.26       0.65   \n",
              "3                 17.0                  60.0   0.9980  3.16       0.58   \n",
              "4                 11.0                  34.0   0.9978  3.51       0.56   \n",
              "\n",
              "   alcohol  quality  \n",
              "0      9.4        5  \n",
              "1      9.8        5  \n",
              "2      9.8        5  \n",
              "3      9.8        6  \n",
              "4      9.4        5  "
            ],
            "text/html": [
              "\n",
              "  <div id=\"df-e5b109f8-d7c0-4264-8d97-be6706b99077\">\n",
              "    <div class=\"colab-df-container\">\n",
              "      <div>\n",
              "<style scoped>\n",
              "    .dataframe tbody tr th:only-of-type {\n",
              "        vertical-align: middle;\n",
              "    }\n",
              "\n",
              "    .dataframe tbody tr th {\n",
              "        vertical-align: top;\n",
              "    }\n",
              "\n",
              "    .dataframe thead th {\n",
              "        text-align: right;\n",
              "    }\n",
              "</style>\n",
              "<table border=\"1\" class=\"dataframe\">\n",
              "  <thead>\n",
              "    <tr style=\"text-align: right;\">\n",
              "      <th></th>\n",
              "      <th>fixed acidity</th>\n",
              "      <th>volatile acidity</th>\n",
              "      <th>citric acid</th>\n",
              "      <th>residual sugar</th>\n",
              "      <th>chlorides</th>\n",
              "      <th>free sulfur dioxide</th>\n",
              "      <th>total sulfur dioxide</th>\n",
              "      <th>density</th>\n",
              "      <th>pH</th>\n",
              "      <th>sulphates</th>\n",
              "      <th>alcohol</th>\n",
              "      <th>quality</th>\n",
              "    </tr>\n",
              "  </thead>\n",
              "  <tbody>\n",
              "    <tr>\n",
              "      <th>0</th>\n",
              "      <td>7.4</td>\n",
              "      <td>0.70</td>\n",
              "      <td>0.00</td>\n",
              "      <td>1.9</td>\n",
              "      <td>0.076</td>\n",
              "      <td>11.0</td>\n",
              "      <td>34.0</td>\n",
              "      <td>0.9978</td>\n",
              "      <td>3.51</td>\n",
              "      <td>0.56</td>\n",
              "      <td>9.4</td>\n",
              "      <td>5</td>\n",
              "    </tr>\n",
              "    <tr>\n",
              "      <th>1</th>\n",
              "      <td>7.8</td>\n",
              "      <td>0.88</td>\n",
              "      <td>0.00</td>\n",
              "      <td>2.6</td>\n",
              "      <td>0.098</td>\n",
              "      <td>25.0</td>\n",
              "      <td>67.0</td>\n",
              "      <td>0.9968</td>\n",
              "      <td>3.20</td>\n",
              "      <td>0.68</td>\n",
              "      <td>9.8</td>\n",
              "      <td>5</td>\n",
              "    </tr>\n",
              "    <tr>\n",
              "      <th>2</th>\n",
              "      <td>7.8</td>\n",
              "      <td>0.76</td>\n",
              "      <td>0.04</td>\n",
              "      <td>2.3</td>\n",
              "      <td>0.092</td>\n",
              "      <td>15.0</td>\n",
              "      <td>54.0</td>\n",
              "      <td>0.9970</td>\n",
              "      <td>3.26</td>\n",
              "      <td>0.65</td>\n",
              "      <td>9.8</td>\n",
              "      <td>5</td>\n",
              "    </tr>\n",
              "    <tr>\n",
              "      <th>3</th>\n",
              "      <td>11.2</td>\n",
              "      <td>0.28</td>\n",
              "      <td>0.56</td>\n",
              "      <td>1.9</td>\n",
              "      <td>0.075</td>\n",
              "      <td>17.0</td>\n",
              "      <td>60.0</td>\n",
              "      <td>0.9980</td>\n",
              "      <td>3.16</td>\n",
              "      <td>0.58</td>\n",
              "      <td>9.8</td>\n",
              "      <td>6</td>\n",
              "    </tr>\n",
              "    <tr>\n",
              "      <th>4</th>\n",
              "      <td>7.4</td>\n",
              "      <td>0.70</td>\n",
              "      <td>0.00</td>\n",
              "      <td>1.9</td>\n",
              "      <td>0.076</td>\n",
              "      <td>11.0</td>\n",
              "      <td>34.0</td>\n",
              "      <td>0.9978</td>\n",
              "      <td>3.51</td>\n",
              "      <td>0.56</td>\n",
              "      <td>9.4</td>\n",
              "      <td>5</td>\n",
              "    </tr>\n",
              "  </tbody>\n",
              "</table>\n",
              "</div>\n",
              "      <button class=\"colab-df-convert\" onclick=\"convertToInteractive('df-e5b109f8-d7c0-4264-8d97-be6706b99077')\"\n",
              "              title=\"Convert this dataframe to an interactive table.\"\n",
              "              style=\"display:none;\">\n",
              "        \n",
              "  <svg xmlns=\"http://www.w3.org/2000/svg\" height=\"24px\"viewBox=\"0 0 24 24\"\n",
              "       width=\"24px\">\n",
              "    <path d=\"M0 0h24v24H0V0z\" fill=\"none\"/>\n",
              "    <path d=\"M18.56 5.44l.94 2.06.94-2.06 2.06-.94-2.06-.94-.94-2.06-.94 2.06-2.06.94zm-11 1L8.5 8.5l.94-2.06 2.06-.94-2.06-.94L8.5 2.5l-.94 2.06-2.06.94zm10 10l.94 2.06.94-2.06 2.06-.94-2.06-.94-.94-2.06-.94 2.06-2.06.94z\"/><path d=\"M17.41 7.96l-1.37-1.37c-.4-.4-.92-.59-1.43-.59-.52 0-1.04.2-1.43.59L10.3 9.45l-7.72 7.72c-.78.78-.78 2.05 0 2.83L4 21.41c.39.39.9.59 1.41.59.51 0 1.02-.2 1.41-.59l7.78-7.78 2.81-2.81c.8-.78.8-2.07 0-2.86zM5.41 20L4 18.59l7.72-7.72 1.47 1.35L5.41 20z\"/>\n",
              "  </svg>\n",
              "      </button>\n",
              "      \n",
              "  <style>\n",
              "    .colab-df-container {\n",
              "      display:flex;\n",
              "      flex-wrap:wrap;\n",
              "      gap: 12px;\n",
              "    }\n",
              "\n",
              "    .colab-df-convert {\n",
              "      background-color: #E8F0FE;\n",
              "      border: none;\n",
              "      border-radius: 50%;\n",
              "      cursor: pointer;\n",
              "      display: none;\n",
              "      fill: #1967D2;\n",
              "      height: 32px;\n",
              "      padding: 0 0 0 0;\n",
              "      width: 32px;\n",
              "    }\n",
              "\n",
              "    .colab-df-convert:hover {\n",
              "      background-color: #E2EBFA;\n",
              "      box-shadow: 0px 1px 2px rgba(60, 64, 67, 0.3), 0px 1px 3px 1px rgba(60, 64, 67, 0.15);\n",
              "      fill: #174EA6;\n",
              "    }\n",
              "\n",
              "    [theme=dark] .colab-df-convert {\n",
              "      background-color: #3B4455;\n",
              "      fill: #D2E3FC;\n",
              "    }\n",
              "\n",
              "    [theme=dark] .colab-df-convert:hover {\n",
              "      background-color: #434B5C;\n",
              "      box-shadow: 0px 1px 3px 1px rgba(0, 0, 0, 0.15);\n",
              "      filter: drop-shadow(0px 1px 2px rgba(0, 0, 0, 0.3));\n",
              "      fill: #FFFFFF;\n",
              "    }\n",
              "  </style>\n",
              "\n",
              "      <script>\n",
              "        const buttonEl =\n",
              "          document.querySelector('#df-e5b109f8-d7c0-4264-8d97-be6706b99077 button.colab-df-convert');\n",
              "        buttonEl.style.display =\n",
              "          google.colab.kernel.accessAllowed ? 'block' : 'none';\n",
              "\n",
              "        async function convertToInteractive(key) {\n",
              "          const element = document.querySelector('#df-e5b109f8-d7c0-4264-8d97-be6706b99077');\n",
              "          const dataTable =\n",
              "            await google.colab.kernel.invokeFunction('convertToInteractive',\n",
              "                                                     [key], {});\n",
              "          if (!dataTable) return;\n",
              "\n",
              "          const docLinkHtml = 'Like what you see? Visit the ' +\n",
              "            '<a target=\"_blank\" href=https://colab.research.google.com/notebooks/data_table.ipynb>data table notebook</a>'\n",
              "            + ' to learn more about interactive tables.';\n",
              "          element.innerHTML = '';\n",
              "          dataTable['output_type'] = 'display_data';\n",
              "          await google.colab.output.renderOutput(dataTable, element);\n",
              "          const docLink = document.createElement('div');\n",
              "          docLink.innerHTML = docLinkHtml;\n",
              "          element.appendChild(docLink);\n",
              "        }\n",
              "      </script>\n",
              "    </div>\n",
              "  </div>\n",
              "  "
            ]
          },
          "metadata": {},
          "execution_count": 213
        }
      ]
    },
    {
      "cell_type": "code",
      "source": [
        "dataset.info()"
      ],
      "metadata": {
        "colab": {
          "base_uri": "https://localhost:8080/"
        },
        "id": "UVKCJ9eGNbth",
        "outputId": "64bb6e7f-341d-4088-9abf-425ba398f90f"
      },
      "execution_count": 214,
      "outputs": [
        {
          "output_type": "stream",
          "name": "stdout",
          "text": [
            "<class 'pandas.core.frame.DataFrame'>\n",
            "RangeIndex: 1599 entries, 0 to 1598\n",
            "Data columns (total 12 columns):\n",
            " #   Column                Non-Null Count  Dtype  \n",
            "---  ------                --------------  -----  \n",
            " 0   fixed acidity         1599 non-null   float64\n",
            " 1   volatile acidity      1599 non-null   float64\n",
            " 2   citric acid           1599 non-null   float64\n",
            " 3   residual sugar        1599 non-null   float64\n",
            " 4   chlorides             1599 non-null   float64\n",
            " 5   free sulfur dioxide   1599 non-null   float64\n",
            " 6   total sulfur dioxide  1599 non-null   float64\n",
            " 7   density               1599 non-null   float64\n",
            " 8   pH                    1599 non-null   float64\n",
            " 9   sulphates             1599 non-null   float64\n",
            " 10  alcohol               1599 non-null   float64\n",
            " 11  quality               1599 non-null   int64  \n",
            "dtypes: float64(11), int64(1)\n",
            "memory usage: 150.0 KB\n"
          ]
        }
      ]
    },
    {
      "cell_type": "code",
      "source": [
        "dataset.describe()"
      ],
      "metadata": {
        "colab": {
          "base_uri": "https://localhost:8080/",
          "height": 362
        },
        "id": "FOP0gT3FNbzd",
        "outputId": "d74ce0f9-4c85-4092-e34b-92d01efbdb83"
      },
      "execution_count": 215,
      "outputs": [
        {
          "output_type": "execute_result",
          "data": {
            "text/plain": [
              "       fixed acidity  volatile acidity  citric acid  residual sugar  \\\n",
              "count    1599.000000       1599.000000  1599.000000     1599.000000   \n",
              "mean        8.319637          0.527821     0.270976        2.538806   \n",
              "std         1.741096          0.179060     0.194801        1.409928   \n",
              "min         4.600000          0.120000     0.000000        0.900000   \n",
              "25%         7.100000          0.390000     0.090000        1.900000   \n",
              "50%         7.900000          0.520000     0.260000        2.200000   \n",
              "75%         9.200000          0.640000     0.420000        2.600000   \n",
              "max        15.900000          1.580000     1.000000       15.500000   \n",
              "\n",
              "         chlorides  free sulfur dioxide  total sulfur dioxide      density  \\\n",
              "count  1599.000000          1599.000000           1599.000000  1599.000000   \n",
              "mean      0.087467            15.874922             46.467792     0.996747   \n",
              "std       0.047065            10.460157             32.895324     0.001887   \n",
              "min       0.012000             1.000000              6.000000     0.990070   \n",
              "25%       0.070000             7.000000             22.000000     0.995600   \n",
              "50%       0.079000            14.000000             38.000000     0.996750   \n",
              "75%       0.090000            21.000000             62.000000     0.997835   \n",
              "max       0.611000            72.000000            289.000000     1.003690   \n",
              "\n",
              "                pH    sulphates      alcohol      quality  \n",
              "count  1599.000000  1599.000000  1599.000000  1599.000000  \n",
              "mean      3.311113     0.658149    10.422983     5.636023  \n",
              "std       0.154386     0.169507     1.065668     0.807569  \n",
              "min       2.740000     0.330000     8.400000     3.000000  \n",
              "25%       3.210000     0.550000     9.500000     5.000000  \n",
              "50%       3.310000     0.620000    10.200000     6.000000  \n",
              "75%       3.400000     0.730000    11.100000     6.000000  \n",
              "max       4.010000     2.000000    14.900000     8.000000  "
            ],
            "text/html": [
              "\n",
              "  <div id=\"df-9bf42ea1-1278-4d19-9ec0-b4fc5a18d8f8\">\n",
              "    <div class=\"colab-df-container\">\n",
              "      <div>\n",
              "<style scoped>\n",
              "    .dataframe tbody tr th:only-of-type {\n",
              "        vertical-align: middle;\n",
              "    }\n",
              "\n",
              "    .dataframe tbody tr th {\n",
              "        vertical-align: top;\n",
              "    }\n",
              "\n",
              "    .dataframe thead th {\n",
              "        text-align: right;\n",
              "    }\n",
              "</style>\n",
              "<table border=\"1\" class=\"dataframe\">\n",
              "  <thead>\n",
              "    <tr style=\"text-align: right;\">\n",
              "      <th></th>\n",
              "      <th>fixed acidity</th>\n",
              "      <th>volatile acidity</th>\n",
              "      <th>citric acid</th>\n",
              "      <th>residual sugar</th>\n",
              "      <th>chlorides</th>\n",
              "      <th>free sulfur dioxide</th>\n",
              "      <th>total sulfur dioxide</th>\n",
              "      <th>density</th>\n",
              "      <th>pH</th>\n",
              "      <th>sulphates</th>\n",
              "      <th>alcohol</th>\n",
              "      <th>quality</th>\n",
              "    </tr>\n",
              "  </thead>\n",
              "  <tbody>\n",
              "    <tr>\n",
              "      <th>count</th>\n",
              "      <td>1599.000000</td>\n",
              "      <td>1599.000000</td>\n",
              "      <td>1599.000000</td>\n",
              "      <td>1599.000000</td>\n",
              "      <td>1599.000000</td>\n",
              "      <td>1599.000000</td>\n",
              "      <td>1599.000000</td>\n",
              "      <td>1599.000000</td>\n",
              "      <td>1599.000000</td>\n",
              "      <td>1599.000000</td>\n",
              "      <td>1599.000000</td>\n",
              "      <td>1599.000000</td>\n",
              "    </tr>\n",
              "    <tr>\n",
              "      <th>mean</th>\n",
              "      <td>8.319637</td>\n",
              "      <td>0.527821</td>\n",
              "      <td>0.270976</td>\n",
              "      <td>2.538806</td>\n",
              "      <td>0.087467</td>\n",
              "      <td>15.874922</td>\n",
              "      <td>46.467792</td>\n",
              "      <td>0.996747</td>\n",
              "      <td>3.311113</td>\n",
              "      <td>0.658149</td>\n",
              "      <td>10.422983</td>\n",
              "      <td>5.636023</td>\n",
              "    </tr>\n",
              "    <tr>\n",
              "      <th>std</th>\n",
              "      <td>1.741096</td>\n",
              "      <td>0.179060</td>\n",
              "      <td>0.194801</td>\n",
              "      <td>1.409928</td>\n",
              "      <td>0.047065</td>\n",
              "      <td>10.460157</td>\n",
              "      <td>32.895324</td>\n",
              "      <td>0.001887</td>\n",
              "      <td>0.154386</td>\n",
              "      <td>0.169507</td>\n",
              "      <td>1.065668</td>\n",
              "      <td>0.807569</td>\n",
              "    </tr>\n",
              "    <tr>\n",
              "      <th>min</th>\n",
              "      <td>4.600000</td>\n",
              "      <td>0.120000</td>\n",
              "      <td>0.000000</td>\n",
              "      <td>0.900000</td>\n",
              "      <td>0.012000</td>\n",
              "      <td>1.000000</td>\n",
              "      <td>6.000000</td>\n",
              "      <td>0.990070</td>\n",
              "      <td>2.740000</td>\n",
              "      <td>0.330000</td>\n",
              "      <td>8.400000</td>\n",
              "      <td>3.000000</td>\n",
              "    </tr>\n",
              "    <tr>\n",
              "      <th>25%</th>\n",
              "      <td>7.100000</td>\n",
              "      <td>0.390000</td>\n",
              "      <td>0.090000</td>\n",
              "      <td>1.900000</td>\n",
              "      <td>0.070000</td>\n",
              "      <td>7.000000</td>\n",
              "      <td>22.000000</td>\n",
              "      <td>0.995600</td>\n",
              "      <td>3.210000</td>\n",
              "      <td>0.550000</td>\n",
              "      <td>9.500000</td>\n",
              "      <td>5.000000</td>\n",
              "    </tr>\n",
              "    <tr>\n",
              "      <th>50%</th>\n",
              "      <td>7.900000</td>\n",
              "      <td>0.520000</td>\n",
              "      <td>0.260000</td>\n",
              "      <td>2.200000</td>\n",
              "      <td>0.079000</td>\n",
              "      <td>14.000000</td>\n",
              "      <td>38.000000</td>\n",
              "      <td>0.996750</td>\n",
              "      <td>3.310000</td>\n",
              "      <td>0.620000</td>\n",
              "      <td>10.200000</td>\n",
              "      <td>6.000000</td>\n",
              "    </tr>\n",
              "    <tr>\n",
              "      <th>75%</th>\n",
              "      <td>9.200000</td>\n",
              "      <td>0.640000</td>\n",
              "      <td>0.420000</td>\n",
              "      <td>2.600000</td>\n",
              "      <td>0.090000</td>\n",
              "      <td>21.000000</td>\n",
              "      <td>62.000000</td>\n",
              "      <td>0.997835</td>\n",
              "      <td>3.400000</td>\n",
              "      <td>0.730000</td>\n",
              "      <td>11.100000</td>\n",
              "      <td>6.000000</td>\n",
              "    </tr>\n",
              "    <tr>\n",
              "      <th>max</th>\n",
              "      <td>15.900000</td>\n",
              "      <td>1.580000</td>\n",
              "      <td>1.000000</td>\n",
              "      <td>15.500000</td>\n",
              "      <td>0.611000</td>\n",
              "      <td>72.000000</td>\n",
              "      <td>289.000000</td>\n",
              "      <td>1.003690</td>\n",
              "      <td>4.010000</td>\n",
              "      <td>2.000000</td>\n",
              "      <td>14.900000</td>\n",
              "      <td>8.000000</td>\n",
              "    </tr>\n",
              "  </tbody>\n",
              "</table>\n",
              "</div>\n",
              "      <button class=\"colab-df-convert\" onclick=\"convertToInteractive('df-9bf42ea1-1278-4d19-9ec0-b4fc5a18d8f8')\"\n",
              "              title=\"Convert this dataframe to an interactive table.\"\n",
              "              style=\"display:none;\">\n",
              "        \n",
              "  <svg xmlns=\"http://www.w3.org/2000/svg\" height=\"24px\"viewBox=\"0 0 24 24\"\n",
              "       width=\"24px\">\n",
              "    <path d=\"M0 0h24v24H0V0z\" fill=\"none\"/>\n",
              "    <path d=\"M18.56 5.44l.94 2.06.94-2.06 2.06-.94-2.06-.94-.94-2.06-.94 2.06-2.06.94zm-11 1L8.5 8.5l.94-2.06 2.06-.94-2.06-.94L8.5 2.5l-.94 2.06-2.06.94zm10 10l.94 2.06.94-2.06 2.06-.94-2.06-.94-.94-2.06-.94 2.06-2.06.94z\"/><path d=\"M17.41 7.96l-1.37-1.37c-.4-.4-.92-.59-1.43-.59-.52 0-1.04.2-1.43.59L10.3 9.45l-7.72 7.72c-.78.78-.78 2.05 0 2.83L4 21.41c.39.39.9.59 1.41.59.51 0 1.02-.2 1.41-.59l7.78-7.78 2.81-2.81c.8-.78.8-2.07 0-2.86zM5.41 20L4 18.59l7.72-7.72 1.47 1.35L5.41 20z\"/>\n",
              "  </svg>\n",
              "      </button>\n",
              "      \n",
              "  <style>\n",
              "    .colab-df-container {\n",
              "      display:flex;\n",
              "      flex-wrap:wrap;\n",
              "      gap: 12px;\n",
              "    }\n",
              "\n",
              "    .colab-df-convert {\n",
              "      background-color: #E8F0FE;\n",
              "      border: none;\n",
              "      border-radius: 50%;\n",
              "      cursor: pointer;\n",
              "      display: none;\n",
              "      fill: #1967D2;\n",
              "      height: 32px;\n",
              "      padding: 0 0 0 0;\n",
              "      width: 32px;\n",
              "    }\n",
              "\n",
              "    .colab-df-convert:hover {\n",
              "      background-color: #E2EBFA;\n",
              "      box-shadow: 0px 1px 2px rgba(60, 64, 67, 0.3), 0px 1px 3px 1px rgba(60, 64, 67, 0.15);\n",
              "      fill: #174EA6;\n",
              "    }\n",
              "\n",
              "    [theme=dark] .colab-df-convert {\n",
              "      background-color: #3B4455;\n",
              "      fill: #D2E3FC;\n",
              "    }\n",
              "\n",
              "    [theme=dark] .colab-df-convert:hover {\n",
              "      background-color: #434B5C;\n",
              "      box-shadow: 0px 1px 3px 1px rgba(0, 0, 0, 0.15);\n",
              "      filter: drop-shadow(0px 1px 2px rgba(0, 0, 0, 0.3));\n",
              "      fill: #FFFFFF;\n",
              "    }\n",
              "  </style>\n",
              "\n",
              "      <script>\n",
              "        const buttonEl =\n",
              "          document.querySelector('#df-9bf42ea1-1278-4d19-9ec0-b4fc5a18d8f8 button.colab-df-convert');\n",
              "        buttonEl.style.display =\n",
              "          google.colab.kernel.accessAllowed ? 'block' : 'none';\n",
              "\n",
              "        async function convertToInteractive(key) {\n",
              "          const element = document.querySelector('#df-9bf42ea1-1278-4d19-9ec0-b4fc5a18d8f8');\n",
              "          const dataTable =\n",
              "            await google.colab.kernel.invokeFunction('convertToInteractive',\n",
              "                                                     [key], {});\n",
              "          if (!dataTable) return;\n",
              "\n",
              "          const docLinkHtml = 'Like what you see? Visit the ' +\n",
              "            '<a target=\"_blank\" href=https://colab.research.google.com/notebooks/data_table.ipynb>data table notebook</a>'\n",
              "            + ' to learn more about interactive tables.';\n",
              "          element.innerHTML = '';\n",
              "          dataTable['output_type'] = 'display_data';\n",
              "          await google.colab.output.renderOutput(dataTable, element);\n",
              "          const docLink = document.createElement('div');\n",
              "          docLink.innerHTML = docLinkHtml;\n",
              "          element.appendChild(docLink);\n",
              "        }\n",
              "      </script>\n",
              "    </div>\n",
              "  </div>\n",
              "  "
            ]
          },
          "metadata": {},
          "execution_count": 215
        }
      ]
    },
    {
      "cell_type": "code",
      "source": [
        "dataset.shape"
      ],
      "metadata": {
        "colab": {
          "base_uri": "https://localhost:8080/"
        },
        "id": "Qj8ShQ48NjqK",
        "outputId": "18925aeb-c336-4858-ac9f-682c9bd7d1b7"
      },
      "execution_count": 216,
      "outputs": [
        {
          "output_type": "execute_result",
          "data": {
            "text/plain": [
              "(1599, 12)"
            ]
          },
          "metadata": {},
          "execution_count": 216
        }
      ]
    },
    {
      "cell_type": "code",
      "source": [
        "dataset[\"sulphates\"].value_counts()"
      ],
      "metadata": {
        "colab": {
          "base_uri": "https://localhost:8080/"
        },
        "id": "JfzK13jgNn-V",
        "outputId": "19ed06e9-6849-4907-98cc-ae2515119752"
      },
      "execution_count": 217,
      "outputs": [
        {
          "output_type": "execute_result",
          "data": {
            "text/plain": [
              "0.60    69\n",
              "0.58    68\n",
              "0.54    68\n",
              "0.62    61\n",
              "0.56    60\n",
              "        ..\n",
              "1.00     1\n",
              "1.59     1\n",
              "0.33     1\n",
              "1.26     1\n",
              "1.01     1\n",
              "Name: sulphates, Length: 96, dtype: int64"
            ]
          },
          "metadata": {},
          "execution_count": 217
        }
      ]
    },
    {
      "cell_type": "code",
      "source": [
        "dataset[\"sulphates\"].hist()"
      ],
      "metadata": {
        "colab": {
          "base_uri": "https://localhost:8080/",
          "height": 282
        },
        "id": "Zylbo1kbNqma",
        "outputId": "a34e3c0a-68ad-4bd9-9c5c-a714b93bad65"
      },
      "execution_count": 218,
      "outputs": [
        {
          "output_type": "execute_result",
          "data": {
            "text/plain": [
              "<matplotlib.axes._subplots.AxesSubplot at 0x7ff0155e0310>"
            ]
          },
          "metadata": {},
          "execution_count": 218
        },
        {
          "output_type": "display_data",
          "data": {
            "text/plain": [
              "<Figure size 432x288 with 1 Axes>"
            ],
            "image/png": "[encoded data removed]"
          },
          "metadata": {
            "needs_background": "light"
          }
        }
      ]
    },
    {
      "cell_type": "code",
      "source": [
        "dataset[\"sulphates_cat\"]= pd.cut(dataset[\"sulphates\"],\n",
        "                               bins=[0.25, 0.50, 0.75, 1.00, 1.25, 1.50,1.75, 2.00,np.inf],\n",
        "                               labels=[1, 2, 3,4, 5, 6,7, 8])\n",
        "dataset[\"sulphates_cat\"].value_counts()"
      ],
      "metadata": {
        "colab": {
          "base_uri": "https://localhost:8080/"
        },
        "id": "si4f6auwNvtj",
        "outputId": "2a37c0b7-5036-4763-8e22-18046a8442cb"
      },
      "execution_count": 219,
      "outputs": [
        {
          "output_type": "execute_result",
          "data": {
            "text/plain": [
              "2    1081\n",
              "3     282\n",
              "1     178\n",
              "4      41\n",
              "5       9\n",
              "6       4\n",
              "7       4\n",
              "8       0\n",
              "Name: sulphates_cat, dtype: int64"
            ]
          },
          "metadata": {},
          "execution_count": 219
        }
      ]
    },
    {
      "cell_type": "code",
      "source": [
        "dataset[\"sulphates_cat\"].hist()"
      ],
      "metadata": {
        "colab": {
          "base_uri": "https://localhost:8080/",
          "height": 282
        },
        "id": "6pSl28rcNxXz",
        "outputId": "042250e5-5569-434c-c840-474241610363"
      },
      "execution_count": 220,
      "outputs": [
        {
          "output_type": "execute_result",
          "data": {
            "text/plain": [
              "<matplotlib.axes._subplots.AxesSubplot at 0x7ff0149f1e10>"
            ]
          },
          "metadata": {},
          "execution_count": 220
        },
        {
          "output_type": "display_data",
          "data": {
            "text/plain": [
              "<Figure size 432x288 with 1 Axes>"
            ],
            "image/png": "[encoded data removed]"
          },
          "metadata": {
            "needs_background": "light"
          }
        }
      ]
    },
    {
      "cell_type": "markdown",
      "source": [
        "# Preparar los datos para exponer mejor los patrones de datos subyacentes a los algoritmos de aprendizaje automático."
      ],
      "metadata": {
        "id": "sk9cn5wyN2pK"
      }
    },
    {
      "cell_type": "code",
      "source": [
        "#Variables independientes\n",
        "X = dataset.drop(\"fixed acidity\", axis=1)\n",
        "#Variables dependientes\n",
        "y =  dataset[\"fixed acidity\"]"
      ],
      "metadata": {
        "id": "LctRoRpZOCAM"
      },
      "execution_count": 221,
      "outputs": []
    },
    {
      "cell_type": "markdown",
      "source": [
        "# Generar el conjunto de prueba."
      ],
      "metadata": {
        "id": "IVsy496FOLeM"
      }
    },
    {
      "cell_type": "code",
      "source": [
        "#Splitting the data set into the training and test set\n",
        "X_train, X_test, y_train, y_test = train_test_split(X, y,test_size=0.2,random_state=1)"
      ],
      "metadata": {
        "id": "LpMvPrZjONCt"
      },
      "execution_count": 222,
      "outputs": []
    },
    {
      "cell_type": "code",
      "source": [
        "X_train"
      ],
      "metadata": {
        "colab": {
          "base_uri": "https://localhost:8080/",
          "height": 424
        },
        "id": "Otn3lZ1GOQR0",
        "outputId": "a0924d49-fa7b-47df-850e-1efefa990388"
      },
      "execution_count": 223,
      "outputs": [
        {
          "output_type": "execute_result",
          "data": {
            "text/plain": [
              "      volatile acidity  citric acid  residual sugar  chlorides  \\\n",
              "701              0.650         0.02             2.1      0.066   \n",
              "56               0.420         0.57             3.4      0.070   \n",
              "142              0.340         0.00             1.8      0.050   \n",
              "863              0.620         0.06             2.5      0.078   \n",
              "1387             0.640         0.07             1.8      0.100   \n",
              "...                ...          ...             ...        ...   \n",
              "715              0.490         0.18             2.7      0.069   \n",
              "905              0.580         0.20             3.0      0.081   \n",
              "1096             0.725         0.09             5.5      0.117   \n",
              "235              0.630         0.00             1.9      0.097   \n",
              "1061             0.400         0.50             1.8      0.071   \n",
              "\n",
              "      free sulfur dioxide  total sulfur dioxide  density    pH  sulphates  \\\n",
              "701                   8.0                  25.0  0.99720  3.47       0.67   \n",
              "56                    4.0                  10.0  0.99710  3.04       0.63   \n",
              "142                  27.0                  63.0  0.99160  3.68       0.79   \n",
              "863                  17.0                  84.0  0.99746  3.51       0.53   \n",
              "1387                  8.0                  23.0  0.99610  3.30       0.58   \n",
              "...                   ...                   ...      ...   ...        ...   \n",
              "715                  13.0                  34.0  0.99670  3.29       0.48   \n",
              "905                  15.0                 115.0  0.99800  3.23       0.59   \n",
              "1096                  9.0                  17.0  0.99655  3.35       0.49   \n",
              "235                  14.0                  38.0  0.99675  3.37       0.58   \n",
              "1061                  7.0                  16.0  0.99462  3.21       0.69   \n",
              "\n",
              "      alcohol  quality sulphates_cat  \n",
              "701       9.5        6             2  \n",
              "56        9.6        5             2  \n",
              "142      14.0        6             3  \n",
              "863       9.7        5             2  \n",
              "1387      9.6        5             2  \n",
              "...       ...      ...           ...  \n",
              "715       9.2        6             1  \n",
              "905       9.5        5             2  \n",
              "1096     10.8        6             1  \n",
              "235       9.0        6             2  \n",
              "1061     12.5        8             2  \n",
              "\n",
              "[1279 rows x 12 columns]"
            ],
            "text/html": [
              "\n",
              "  <div id=\"df-b3abdfeb-255a-4ce9-a847-7d551db43524\">\n",
              "    <div class=\"colab-df-container\">\n",
              "      <div>\n",
              "<style scoped>\n",
              "    .dataframe tbody tr th:only-of-type {\n",
              "        vertical-align: middle;\n",
              "    }\n",
              "\n",
              "    .dataframe tbody tr th {\n",
              "        vertical-align: top;\n",
              "    }\n",
              "\n",
              "    .dataframe thead th {\n",
              "        text-align: right;\n",
              "    }\n",
              "</style>\n",
              "<table border=\"1\" class=\"dataframe\">\n",
              "  <thead>\n",
              "    <tr style=\"text-align: right;\">\n",
              "      <th></th>\n",
              "      <th>volatile acidity</th>\n",
              "      <th>citric acid</th>\n",
              "      <th>residual sugar</th>\n",
              "      <th>chlorides</th>\n",
              "      <th>free sulfur dioxide</th>\n",
              "      <th>total sulfur dioxide</th>\n",
              "      <th>density</th>\n",
              "      <th>pH</th>\n",
              "      <th>sulphates</th>\n",
              "      <th>alcohol</th>\n",
              "      <th>quality</th>\n",
              "      <th>sulphates_cat</th>\n",
              "    </tr>\n",
              "  </thead>\n",
              "  <tbody>\n",
              "    <tr>\n",
              "      <th>701</th>\n",
              "      <td>0.650</td>\n",
              "      <td>0.02</td>\n",
              "      <td>2.1</td>\n",
              "      <td>0.066</td>\n",
              "      <td>8.0</td>\n",
              "      <td>25.0</td>\n",
              "      <td>0.99720</td>\n",
              "      <td>3.47</td>\n",
              "      <td>0.67</td>\n",
              "      <td>9.5</td>\n",
              "      <td>6</td>\n",
              "      <td>2</td>\n",
              "    </tr>\n",
              "    <tr>\n",
              "      <th>56</th>\n",
              "      <td>0.420</td>\n",
              "      <td>0.57</td>\n",
              "      <td>3.4</td>\n",
              "      <td>0.070</td>\n",
              "      <td>4.0</td>\n",
              "      <td>10.0</td>\n",
              "      <td>0.99710</td>\n",
              "      <td>3.04</td>\n",
              "      <td>0.63</td>\n",
              "      <td>9.6</td>\n",
              "      <td>5</td>\n",
              "      <td>2</td>\n",
              "    </tr>\n",
              "    <tr>\n",
              "      <th>142</th>\n",
              "      <td>0.340</td>\n",
              "      <td>0.00</td>\n",
              "      <td>1.8</td>\n",
              "      <td>0.050</td>\n",
              "      <td>27.0</td>\n",
              "      <td>63.0</td>\n",
              "      <td>0.99160</td>\n",
              "      <td>3.68</td>\n",
              "      <td>0.79</td>\n",
              "      <td>14.0</td>\n",
              "      <td>6</td>\n",
              "      <td>3</td>\n",
              "    </tr>\n",
              "    <tr>\n",
              "      <th>863</th>\n",
              "      <td>0.620</td>\n",
              "      <td>0.06</td>\n",
              "      <td>2.5</td>\n",
              "      <td>0.078</td>\n",
              "      <td>17.0</td>\n",
              "      <td>84.0</td>\n",
              "      <td>0.99746</td>\n",
              "      <td>3.51</td>\n",
              "      <td>0.53</td>\n",
              "      <td>9.7</td>\n",
              "      <td>5</td>\n",
              "      <td>2</td>\n",
              "    </tr>\n",
              "    <tr>\n",
              "      <th>1387</th>\n",
              "      <td>0.640</td>\n",
              "      <td>0.07</td>\n",
              "      <td>1.8</td>\n",
              "      <td>0.100</td>\n",
              "      <td>8.0</td>\n",
              "      <td>23.0</td>\n",
              "      <td>0.99610</td>\n",
              "      <td>3.30</td>\n",
              "      <td>0.58</td>\n",
              "      <td>9.6</td>\n",
              "      <td>5</td>\n",
              "      <td>2</td>\n",
              "    </tr>\n",
              "    <tr>\n",
              "      <th>...</th>\n",
              "      <td>...</td>\n",
              "      <td>...</td>\n",
              "      <td>...</td>\n",
              "      <td>...</td>\n",
              "      <td>...</td>\n",
              "      <td>...</td>\n",
              "      <td>...</td>\n",
              "      <td>...</td>\n",
              "      <td>...</td>\n",
              "      <td>...</td>\n",
              "      <td>...</td>\n",
              "      <td>...</td>\n",
              "    </tr>\n",
              "    <tr>\n",
              "      <th>715</th>\n",
              "      <td>0.490</td>\n",
              "      <td>0.18</td>\n",
              "      <td>2.7</td>\n",
              "      <td>0.069</td>\n",
              "      <td>13.0</td>\n",
              "      <td>34.0</td>\n",
              "      <td>0.99670</td>\n",
              "      <td>3.29</td>\n",
              "      <td>0.48</td>\n",
              "      <td>9.2</td>\n",
              "      <td>6</td>\n",
              "      <td>1</td>\n",
              "    </tr>\n",
              "    <tr>\n",
              "      <th>905</th>\n",
              "      <td>0.580</td>\n",
              "      <td>0.20</td>\n",
              "      <td>3.0</td>\n",
              "      <td>0.081</td>\n",
              "      <td>15.0</td>\n",
              "      <td>115.0</td>\n",
              "      <td>0.99800</td>\n",
              "      <td>3.23</td>\n",
              "      <td>0.59</td>\n",
              "      <td>9.5</td>\n",
              "      <td>5</td>\n",
              "      <td>2</td>\n",
              "    </tr>\n",
              "    <tr>\n",
              "      <th>1096</th>\n",
              "      <td>0.725</td>\n",
              "      <td>0.09</td>\n",
              "      <td>5.5</td>\n",
              "      <td>0.117</td>\n",
              "      <td>9.0</td>\n",
              "      <td>17.0</td>\n",
              "      <td>0.99655</td>\n",
              "      <td>3.35</td>\n",
              "      <td>0.49</td>\n",
              "      <td>10.8</td>\n",
              "      <td>6</td>\n",
              "      <td>1</td>\n",
              "    </tr>\n",
              "    <tr>\n",
              "      <th>235</th>\n",
              "      <td>0.630</td>\n",
              "      <td>0.00</td>\n",
              "      <td>1.9</td>\n",
              "      <td>0.097</td>\n",
              "      <td>14.0</td>\n",
              "      <td>38.0</td>\n",
              "      <td>0.99675</td>\n",
              "      <td>3.37</td>\n",
              "      <td>0.58</td>\n",
              "      <td>9.0</td>\n",
              "      <td>6</td>\n",
              "      <td>2</td>\n",
              "    </tr>\n",
              "    <tr>\n",
              "      <th>1061</th>\n",
              "      <td>0.400</td>\n",
              "      <td>0.50</td>\n",
              "      <td>1.8</td>\n",
              "      <td>0.071</td>\n",
              "      <td>7.0</td>\n",
              "      <td>16.0</td>\n",
              "      <td>0.99462</td>\n",
              "      <td>3.21</td>\n",
              "      <td>0.69</td>\n",
              "      <td>12.5</td>\n",
              "      <td>8</td>\n",
              "      <td>2</td>\n",
              "    </tr>\n",
              "  </tbody>\n",
              "</table>\n",
              "<p>1279 rows × 12 columns</p>\n",
              "</div>\n",
              "      <button class=\"colab-df-convert\" onclick=\"convertToInteractive('df-b3abdfeb-255a-4ce9-a847-7d551db43524')\"\n",
              "              title=\"Convert this dataframe to an interactive table.\"\n",
              "              style=\"display:none;\">\n",
              "        \n",
              "  <svg xmlns=\"http://www.w3.org/2000/svg\" height=\"24px\"viewBox=\"0 0 24 24\"\n",
              "       width=\"24px\">\n",
              "    <path d=\"M0 0h24v24H0V0z\" fill=\"none\"/>\n",
              "    <path d=\"M18.56 5.44l.94 2.06.94-2.06 2.06-.94-2.06-.94-.94-2.06-.94 2.06-2.06.94zm-11 1L8.5 8.5l.94-2.06 2.06-.94-2.06-.94L8.5 2.5l-.94 2.06-2.06.94zm10 10l.94 2.06.94-2.06 2.06-.94-2.06-.94-.94-2.06-.94 2.06-2.06.94z\"/><path d=\"M17.41 7.96l-1.37-1.37c-.4-.4-.92-.59-1.43-.59-.52 0-1.04.2-1.43.59L10.3 9.45l-7.72 7.72c-.78.78-.78 2.05 0 2.83L4 21.41c.39.39.9.59 1.41.59.51 0 1.02-.2 1.41-.59l7.78-7.78 2.81-2.81c.8-.78.8-2.07 0-2.86zM5.41 20L4 18.59l7.72-7.72 1.47 1.35L5.41 20z\"/>\n",
              "  </svg>\n",
              "      </button>\n",
              "      \n",
              "  <style>\n",
              "    .colab-df-container {\n",
              "      display:flex;\n",
              "      flex-wrap:wrap;\n",
              "      gap: 12px;\n",
              "    }\n",
              "\n",
              "    .colab-df-convert {\n",
              "      background-color: #E8F0FE;\n",
              "      border: none;\n",
              "      border-radius: 50%;\n",
              "      cursor: pointer;\n",
              "      display: none;\n",
              "      fill: #1967D2;\n",
              "      height: 32px;\n",
              "      padding: 0 0 0 0;\n",
              "      width: 32px;\n",
              "    }\n",
              "\n",
              "    .colab-df-convert:hover {\n",
              "      background-color: #E2EBFA;\n",
              "      box-shadow: 0px 1px 2px rgba(60, 64, 67, 0.3), 0px 1px 3px 1px rgba(60, 64, 67, 0.15);\n",
              "      fill: #174EA6;\n",
              "    }\n",
              "\n",
              "    [theme=dark] .colab-df-convert {\n",
              "      background-color: #3B4455;\n",
              "      fill: #D2E3FC;\n",
              "    }\n",
              "\n",
              "    [theme=dark] .colab-df-convert:hover {\n",
              "      background-color: #434B5C;\n",
              "      box-shadow: 0px 1px 3px 1px rgba(0, 0, 0, 0.15);\n",
              "      filter: drop-shadow(0px 1px 2px rgba(0, 0, 0, 0.3));\n",
              "      fill: #FFFFFF;\n",
              "    }\n",
              "  </style>\n",
              "\n",
              "      <script>\n",
              "        const buttonEl =\n",
              "          document.querySelector('#df-b3abdfeb-255a-4ce9-a847-7d551db43524 button.colab-df-convert');\n",
              "        buttonEl.style.display =\n",
              "          google.colab.kernel.accessAllowed ? 'block' : 'none';\n",
              "\n",
              "        async function convertToInteractive(key) {\n",
              "          const element = document.querySelector('#df-b3abdfeb-255a-4ce9-a847-7d551db43524');\n",
              "          const dataTable =\n",
              "            await google.colab.kernel.invokeFunction('convertToInteractive',\n",
              "                                                     [key], {});\n",
              "          if (!dataTable) return;\n",
              "\n",
              "          const docLinkHtml = 'Like what you see? Visit the ' +\n",
              "            '<a target=\"_blank\" href=https://colab.research.google.com/notebooks/data_table.ipynb>data table notebook</a>'\n",
              "            + ' to learn more about interactive tables.';\n",
              "          element.innerHTML = '';\n",
              "          dataTable['output_type'] = 'display_data';\n",
              "          await google.colab.output.renderOutput(dataTable, element);\n",
              "          const docLink = document.createElement('div');\n",
              "          docLink.innerHTML = docLinkHtml;\n",
              "          element.appendChild(docLink);\n",
              "        }\n",
              "      </script>\n",
              "    </div>\n",
              "  </div>\n",
              "  "
            ]
          },
          "metadata": {},
          "execution_count": 223
        }
      ]
    },
    {
      "cell_type": "code",
      "source": [
        "X_test"
      ],
      "metadata": {
        "colab": {
          "base_uri": "https://localhost:8080/",
          "height": 424
        },
        "id": "PNnn7fjKORTs",
        "outputId": "29b4089c-52d5-47e1-e8c8-bc85dcba8a46"
      },
      "execution_count": 224,
      "outputs": [
        {
          "output_type": "execute_result",
          "data": {
            "text/plain": [
              "      volatile acidity  citric acid  residual sugar  chlorides  \\\n",
              "75                0.41         0.64             2.2      0.093   \n",
              "1283              0.63         0.28             2.7      0.096   \n",
              "408               0.34         0.58             3.7      0.174   \n",
              "1281              0.46         0.20             1.9      0.077   \n",
              "1118              0.39         0.12             2.1      0.065   \n",
              "...                ...          ...             ...        ...   \n",
              "890               0.34         0.24             2.0      0.071   \n",
              "146               0.68         0.02             1.8      0.087   \n",
              "1551              0.67         0.00             2.3      0.083   \n",
              "1209              0.39         0.43             2.0      0.071   \n",
              "1220              0.32         0.52             1.8      0.132   \n",
              "\n",
              "      free sulfur dioxide  total sulfur dioxide  density    pH  sulphates  \\\n",
              "75                    9.0                  42.0  0.99860  3.54       0.66   \n",
              "1283                 17.0                  69.0  0.99734  3.26       0.63   \n",
              "408                   6.0                  16.0  0.99700  3.19       0.70   \n",
              "1281                 28.0                  54.0  0.99560  3.37       0.64   \n",
              "1118                 14.0                  24.0  0.99252  3.30       0.53   \n",
              "...                   ...                   ...      ...   ...        ...   \n",
              "890                  30.0                  52.0  0.99576  3.44       0.58   \n",
              "146                  21.0                  94.0  0.99440  3.54       0.52   \n",
              "1551                 18.0                  27.0  0.99768  3.44       0.54   \n",
              "1209                 14.0                  24.0  0.99428  3.45       0.87   \n",
              "1220                 17.0                  44.0  0.99734  3.28       0.77   \n",
              "\n",
              "      alcohol  quality sulphates_cat  \n",
              "75       10.5        5             2  \n",
              "1283     10.2        6             2  \n",
              "408      11.3        6             2  \n",
              "1281     10.4        6             2  \n",
              "1118     13.3        6             2  \n",
              "...       ...      ...           ...  \n",
              "890      10.1        5             2  \n",
              "146      10.0        5             2  \n",
              "1551      9.4        5             2  \n",
              "1209     11.2        7             3  \n",
              "1220     11.5        6             3  \n",
              "\n",
              "[320 rows x 12 columns]"
            ],
            "text/html": [
              "\n",
              "  <div id=\"df-644f3886-cca4-4a10-a688-c3791bdd7b7b\">\n",
              "    <div class=\"colab-df-container\">\n",
              "      <div>\n",
              "<style scoped>\n",
              "    .dataframe tbody tr th:only-of-type {\n",
              "        vertical-align: middle;\n",
              "    }\n",
              "\n",
              "    .dataframe tbody tr th {\n",
              "        vertical-align: top;\n",
              "    }\n",
              "\n",
              "    .dataframe thead th {\n",
              "        text-align: right;\n",
              "    }\n",
              "</style>\n",
              "<table border=\"1\" class=\"dataframe\">\n",
              "  <thead>\n",
              "    <tr style=\"text-align: right;\">\n",
              "      <th></th>\n",
              "      <th>volatile acidity</th>\n",
              "      <th>citric acid</th>\n",
              "      <th>residual sugar</th>\n",
              "      <th>chlorides</th>\n",
              "      <th>free sulfur dioxide</th>\n",
              "      <th>total sulfur dioxide</th>\n",
              "      <th>density</th>\n",
              "      <th>pH</th>\n",
              "      <th>sulphates</th>\n",
              "      <th>alcohol</th>\n",
              "      <th>quality</th>\n",
              "      <th>sulphates_cat</th>\n",
              "    </tr>\n",
              "  </thead>\n",
              "  <tbody>\n",
              "    <tr>\n",
              "      <th>75</th>\n",
              "      <td>0.41</td>\n",
              "      <td>0.64</td>\n",
              "      <td>2.2</td>\n",
              "      <td>0.093</td>\n",
              "      <td>9.0</td>\n",
              "      <td>42.0</td>\n",
              "      <td>0.99860</td>\n",
              "      <td>3.54</td>\n",
              "      <td>0.66</td>\n",
              "      <td>10.5</td>\n",
              "      <td>5</td>\n",
              "      <td>2</td>\n",
              "    </tr>\n",
              "    <tr>\n",
              "      <th>1283</th>\n",
              "      <td>0.63</td>\n",
              "      <td>0.28</td>\n",
              "      <td>2.7</td>\n",
              "      <td>0.096</td>\n",
              "      <td>17.0</td>\n",
              "      <td>69.0</td>\n",
              "      <td>0.99734</td>\n",
              "      <td>3.26</td>\n",
              "      <td>0.63</td>\n",
              "      <td>10.2</td>\n",
              "      <td>6</td>\n",
              "      <td>2</td>\n",
              "    </tr>\n",
              "    <tr>\n",
              "      <th>408</th>\n",
              "      <td>0.34</td>\n",
              "      <td>0.58</td>\n",
              "      <td>3.7</td>\n",
              "      <td>0.174</td>\n",
              "      <td>6.0</td>\n",
              "      <td>16.0</td>\n",
              "      <td>0.99700</td>\n",
              "      <td>3.19</td>\n",
              "      <td>0.70</td>\n",
              "      <td>11.3</td>\n",
              "      <td>6</td>\n",
              "      <td>2</td>\n",
              "    </tr>\n",
              "    <tr>\n",
              "      <th>1281</th>\n",
              "      <td>0.46</td>\n",
              "      <td>0.20</td>\n",
              "      <td>1.9</td>\n",
              "      <td>0.077</td>\n",
              "      <td>28.0</td>\n",
              "      <td>54.0</td>\n",
              "      <td>0.99560</td>\n",
              "      <td>3.37</td>\n",
              "      <td>0.64</td>\n",
              "      <td>10.4</td>\n",
              "      <td>6</td>\n",
              "      <td>2</td>\n",
              "    </tr>\n",
              "    <tr>\n",
              "      <th>1118</th>\n",
              "      <td>0.39</td>\n",
              "      <td>0.12</td>\n",
              "      <td>2.1</td>\n",
              "      <td>0.065</td>\n",
              "      <td>14.0</td>\n",
              "      <td>24.0</td>\n",
              "      <td>0.99252</td>\n",
              "      <td>3.30</td>\n",
              "      <td>0.53</td>\n",
              "      <td>13.3</td>\n",
              "      <td>6</td>\n",
              "      <td>2</td>\n",
              "    </tr>\n",
              "    <tr>\n",
              "      <th>...</th>\n",
              "      <td>...</td>\n",
              "      <td>...</td>\n",
              "      <td>...</td>\n",
              "      <td>...</td>\n",
              "      <td>...</td>\n",
              "      <td>...</td>\n",
              "      <td>...</td>\n",
              "      <td>...</td>\n",
              "      <td>...</td>\n",
              "      <td>...</td>\n",
              "      <td>...</td>\n",
              "      <td>...</td>\n",
              "    </tr>\n",
              "    <tr>\n",
              "      <th>890</th>\n",
              "      <td>0.34</td>\n",
              "      <td>0.24</td>\n",
              "      <td>2.0</td>\n",
              "      <td>0.071</td>\n",
              "      <td>30.0</td>\n",
              "      <td>52.0</td>\n",
              "      <td>0.99576</td>\n",
              "      <td>3.44</td>\n",
              "      <td>0.58</td>\n",
              "      <td>10.1</td>\n",
              "      <td>5</td>\n",
              "      <td>2</td>\n",
              "    </tr>\n",
              "    <tr>\n",
              "      <th>146</th>\n",
              "      <td>0.68</td>\n",
              "      <td>0.02</td>\n",
              "      <td>1.8</td>\n",
              "      <td>0.087</td>\n",
              "      <td>21.0</td>\n",
              "      <td>94.0</td>\n",
              "      <td>0.99440</td>\n",
              "      <td>3.54</td>\n",
              "      <td>0.52</td>\n",
              "      <td>10.0</td>\n",
              "      <td>5</td>\n",
              "      <td>2</td>\n",
              "    </tr>\n",
              "    <tr>\n",
              "      <th>1551</th>\n",
              "      <td>0.67</td>\n",
              "      <td>0.00</td>\n",
              "      <td>2.3</td>\n",
              "      <td>0.083</td>\n",
              "      <td>18.0</td>\n",
              "      <td>27.0</td>\n",
              "      <td>0.99768</td>\n",
              "      <td>3.44</td>\n",
              "      <td>0.54</td>\n",
              "      <td>9.4</td>\n",
              "      <td>5</td>\n",
              "      <td>2</td>\n",
              "    </tr>\n",
              "    <tr>\n",
              "      <th>1209</th>\n",
              "      <td>0.39</td>\n",
              "      <td>0.43</td>\n",
              "      <td>2.0</td>\n",
              "      <td>0.071</td>\n",
              "      <td>14.0</td>\n",
              "      <td>24.0</td>\n",
              "      <td>0.99428</td>\n",
              "      <td>3.45</td>\n",
              "      <td>0.87</td>\n",
              "      <td>11.2</td>\n",
              "      <td>7</td>\n",
              "      <td>3</td>\n",
              "    </tr>\n",
              "    <tr>\n",
              "      <th>1220</th>\n",
              "      <td>0.32</td>\n",
              "      <td>0.52</td>\n",
              "      <td>1.8</td>\n",
              "      <td>0.132</td>\n",
              "      <td>17.0</td>\n",
              "      <td>44.0</td>\n",
              "      <td>0.99734</td>\n",
              "      <td>3.28</td>\n",
              "      <td>0.77</td>\n",
              "      <td>11.5</td>\n",
              "      <td>6</td>\n",
              "      <td>3</td>\n",
              "    </tr>\n",
              "  </tbody>\n",
              "</table>\n",
              "<p>320 rows × 12 columns</p>\n",
              "</div>\n",
              "      <button class=\"colab-df-convert\" onclick=\"convertToInteractive('df-644f3886-cca4-4a10-a688-c3791bdd7b7b')\"\n",
              "              title=\"Convert this dataframe to an interactive table.\"\n",
              "              style=\"display:none;\">\n",
              "        \n",
              "  <svg xmlns=\"http://www.w3.org/2000/svg\" height=\"24px\"viewBox=\"0 0 24 24\"\n",
              "       width=\"24px\">\n",
              "    <path d=\"M0 0h24v24H0V0z\" fill=\"none\"/>\n",
              "    <path d=\"M18.56 5.44l.94 2.06.94-2.06 2.06-.94-2.06-.94-.94-2.06-.94 2.06-2.06.94zm-11 1L8.5 8.5l.94-2.06 2.06-.94-2.06-.94L8.5 2.5l-.94 2.06-2.06.94zm10 10l.94 2.06.94-2.06 2.06-.94-2.06-.94-.94-2.06-.94 2.06-2.06.94z\"/><path d=\"M17.41 7.96l-1.37-1.37c-.4-.4-.92-.59-1.43-.59-.52 0-1.04.2-1.43.59L10.3 9.45l-7.72 7.72c-.78.78-.78 2.05 0 2.83L4 21.41c.39.39.9.59 1.41.59.51 0 1.02-.2 1.41-.59l7.78-7.78 2.81-2.81c.8-.78.8-2.07 0-2.86zM5.41 20L4 18.59l7.72-7.72 1.47 1.35L5.41 20z\"/>\n",
              "  </svg>\n",
              "      </button>\n",
              "      \n",
              "  <style>\n",
              "    .colab-df-container {\n",
              "      display:flex;\n",
              "      flex-wrap:wrap;\n",
              "      gap: 12px;\n",
              "    }\n",
              "\n",
              "    .colab-df-convert {\n",
              "      background-color: #E8F0FE;\n",
              "      border: none;\n",
              "      border-radius: 50%;\n",
              "      cursor: pointer;\n",
              "      display: none;\n",
              "      fill: #1967D2;\n",
              "      height: 32px;\n",
              "      padding: 0 0 0 0;\n",
              "      width: 32px;\n",
              "    }\n",
              "\n",
              "    .colab-df-convert:hover {\n",
              "      background-color: #E2EBFA;\n",
              "      box-shadow: 0px 1px 2px rgba(60, 64, 67, 0.3), 0px 1px 3px 1px rgba(60, 64, 67, 0.15);\n",
              "      fill: #174EA6;\n",
              "    }\n",
              "\n",
              "    [theme=dark] .colab-df-convert {\n",
              "      background-color: #3B4455;\n",
              "      fill: #D2E3FC;\n",
              "    }\n",
              "\n",
              "    [theme=dark] .colab-df-convert:hover {\n",
              "      background-color: #434B5C;\n",
              "      box-shadow: 0px 1px 3px 1px rgba(0, 0, 0, 0.15);\n",
              "      filter: drop-shadow(0px 1px 2px rgba(0, 0, 0, 0.3));\n",
              "      fill: #FFFFFF;\n",
              "    }\n",
              "  </style>\n",
              "\n",
              "      <script>\n",
              "        const buttonEl =\n",
              "          document.querySelector('#df-644f3886-cca4-4a10-a688-c3791bdd7b7b button.colab-df-convert');\n",
              "        buttonEl.style.display =\n",
              "          google.colab.kernel.accessAllowed ? 'block' : 'none';\n",
              "\n",
              "        async function convertToInteractive(key) {\n",
              "          const element = document.querySelector('#df-644f3886-cca4-4a10-a688-c3791bdd7b7b');\n",
              "          const dataTable =\n",
              "            await google.colab.kernel.invokeFunction('convertToInteractive',\n",
              "                                                     [key], {});\n",
              "          if (!dataTable) return;\n",
              "\n",
              "          const docLinkHtml = 'Like what you see? Visit the ' +\n",
              "            '<a target=\"_blank\" href=https://colab.research.google.com/notebooks/data_table.ipynb>data table notebook</a>'\n",
              "            + ' to learn more about interactive tables.';\n",
              "          element.innerHTML = '';\n",
              "          dataTable['output_type'] = 'display_data';\n",
              "          await google.colab.output.renderOutput(dataTable, element);\n",
              "          const docLink = document.createElement('div');\n",
              "          docLink.innerHTML = docLinkHtml;\n",
              "          element.appendChild(docLink);\n",
              "        }\n",
              "      </script>\n",
              "    </div>\n",
              "  </div>\n",
              "  "
            ]
          },
          "metadata": {},
          "execution_count": 224
        }
      ]
    },
    {
      "cell_type": "code",
      "source": [
        "y_train"
      ],
      "metadata": {
        "colab": {
          "base_uri": "https://localhost:8080/"
        },
        "id": "9Hb9lbXzOTdk",
        "outputId": "70966a16-a545-4c80-b193-decefe66255b"
      },
      "execution_count": 225,
      "outputs": [
        {
          "output_type": "execute_result",
          "data": {
            "text/plain": [
              "701      7.0\n",
              "56      10.2\n",
              "142      5.2\n",
              "863      7.2\n",
              "1387     7.4\n",
              "        ... \n",
              "715      7.2\n",
              "905      9.2\n",
              "1096     6.6\n",
              "235      7.2\n",
              "1061     9.1\n",
              "Name: fixed acidity, Length: 1279, dtype: float64"
            ]
          },
          "metadata": {},
          "execution_count": 225
        }
      ]
    },
    {
      "cell_type": "code",
      "source": [
        "y_test"
      ],
      "metadata": {
        "colab": {
          "base_uri": "https://localhost:8080/"
        },
        "id": "yIPz-j38OVdt",
        "outputId": "b84889c7-8ac8-4d8d-d476-c3a332a7b553"
      },
      "execution_count": 226,
      "outputs": [
        {
          "output_type": "execute_result",
          "data": {
            "text/plain": [
              "75       8.8\n",
              "1283     8.7\n",
              "408     10.4\n",
              "1281     7.1\n",
              "1118     7.1\n",
              "        ... \n",
              "890      7.2\n",
              "146      5.8\n",
              "1551     7.1\n",
              "1209     6.2\n",
              "1220    10.9\n",
              "Name: fixed acidity, Length: 320, dtype: float64"
            ]
          },
          "metadata": {},
          "execution_count": 226
        }
      ]
    },
    {
      "cell_type": "code",
      "source": [
        "dataset['sulphates_cat'].hist()"
      ],
      "metadata": {
        "colab": {
          "base_uri": "https://localhost:8080/",
          "height": 282
        },
        "id": "LN0XF2AwOaQ1",
        "outputId": "3543e043-ca6d-4101-b4af-4b1ecbdd0b93"
      },
      "execution_count": 227,
      "outputs": [
        {
          "output_type": "execute_result",
          "data": {
            "text/plain": [
              "<matplotlib.axes._subplots.AxesSubplot at 0x7ff014911e50>"
            ]
          },
          "metadata": {},
          "execution_count": 227
        },
        {
          "output_type": "display_data",
          "data": {
            "text/plain": [
              "<Figure size 432x288 with 1 Axes>"
            ],
            "image/png": "[encoded data removed]"
          },
          "metadata": {
            "needs_background": "light"
          }
        }
      ]
    },
    {
      "cell_type": "code",
      "source": [
        "X_train[\"sulphates_cat\"].hist()"
      ],
      "metadata": {
        "colab": {
          "base_uri": "https://localhost:8080/",
          "height": 282
        },
        "id": "lLt3cVlXOh5l",
        "outputId": "c549fcea-90f5-447d-9c67-811a82456f53"
      },
      "execution_count": 228,
      "outputs": [
        {
          "output_type": "execute_result",
          "data": {
            "text/plain": [
              "<matplotlib.axes._subplots.AxesSubplot at 0x7ff014899bd0>"
            ]
          },
          "metadata": {},
          "execution_count": 228
        },
        {
          "output_type": "display_data",
          "data": {
            "text/plain": [
              "<Figure size 432x288 with 1 Axes>"
            ],
            "image/png": "[encoded data removed]"
          },
          "metadata": {
            "needs_background": "light"
          }
        }
      ]
    },
    {
      "cell_type": "code",
      "source": [
        "from sklearn.model_selection import StratifiedShuffleSplit\n",
        "\n",
        "split = StratifiedShuffleSplit(n_splits=1, test_size=0.2, random_state=42)\n",
        "for train_index, test_index in split.split(dataset, dataset[\"sulphates_cat\"]):\n",
        "    strat_train_set = dataset.loc[train_index]\n",
        "    strat_test_set = dataset.loc[test_index]"
      ],
      "metadata": {
        "id": "LY-oIL-LOrj9"
      },
      "execution_count": 229,
      "outputs": []
    },
    {
      "cell_type": "code",
      "source": [
        "strat_test_set[\"sulphates_cat\"].value_counts() / len(strat_test_set)"
      ],
      "metadata": {
        "colab": {
          "base_uri": "https://localhost:8080/"
        },
        "id": "w2uCbIbNOuEn",
        "outputId": "829bae82-b5d2-4a08-e2ed-c5b98c83468d"
      },
      "execution_count": 230,
      "outputs": [
        {
          "output_type": "execute_result",
          "data": {
            "text/plain": [
              "2    0.675000\n",
              "3    0.175000\n",
              "1    0.112500\n",
              "4    0.025000\n",
              "5    0.006250\n",
              "6    0.003125\n",
              "7    0.003125\n",
              "8    0.000000\n",
              "Name: sulphates_cat, dtype: float64"
            ]
          },
          "metadata": {},
          "execution_count": 230
        }
      ]
    },
    {
      "cell_type": "code",
      "source": [
        "dataset[\"sulphates_cat\"].value_counts() / len(dataset)"
      ],
      "metadata": {
        "colab": {
          "base_uri": "https://localhost:8080/"
        },
        "id": "NeVRgjsWOxXF",
        "outputId": "05dd7a9f-707c-460a-e2b4-49bbae214357"
      },
      "execution_count": 231,
      "outputs": [
        {
          "output_type": "execute_result",
          "data": {
            "text/plain": [
              "2    0.676048\n",
              "3    0.176360\n",
              "1    0.111320\n",
              "4    0.025641\n",
              "5    0.005629\n",
              "6    0.002502\n",
              "7    0.002502\n",
              "8    0.000000\n",
              "Name: sulphates_cat, dtype: float64"
            ]
          },
          "metadata": {},
          "execution_count": 231
        }
      ]
    },
    {
      "cell_type": "code",
      "source": [
        "def sulphates_cat_proportions(data):\n",
        "    return data[\"sulphates_cat\"].value_counts() / len(data)\n",
        "\n",
        "train_set, test_set = train_test_split(dataset, test_size=0.2, random_state=42)\n",
        "\n",
        "compare_props = pd.DataFrame({\n",
        "    \"Overall\": sulphates_cat_proportions(dataset),\n",
        "    \"Stratified\": sulphates_cat_proportions(strat_test_set),\n",
        "    \"Random\": sulphates_cat_proportions(test_set),\n",
        "}).sort_index()\n",
        "compare_props[\"Rand. %error\"] = 100 * compare_props[\"Random\"] / compare_props[\"Overall\"] - 100\n",
        "compare_props[\"Strat. %error\"] = 100 * compare_props[\"Stratified\"] / compare_props[\"Overall\"] - 100"
      ],
      "metadata": {
        "id": "YSOYfKkKO1Xm"
      },
      "execution_count": 232,
      "outputs": []
    },
    {
      "cell_type": "code",
      "source": [
        "for set_ in (strat_train_set, strat_test_set):\n",
        "    set_.drop(\"sulphates_cat\", axis=1, inplace=True)"
      ],
      "metadata": {
        "id": "t7J2Tm-AO2Cl"
      },
      "execution_count": 233,
      "outputs": []
    },
    {
      "cell_type": "markdown",
      "source": [
        "# Visualización de los datos"
      ],
      "metadata": {
        "id": "v06MNELnO98e"
      }
    },
    {
      "cell_type": "code",
      "source": [
        "dataset = strat_train_set.copy()"
      ],
      "metadata": {
        "id": "Q-u91NiCO_3n"
      },
      "execution_count": 234,
      "outputs": []
    },
    {
      "cell_type": "code",
      "source": [
        "dataset.hist(bins=50, figsize=(20,15))"
      ],
      "metadata": {
        "colab": {
          "base_uri": "https://localhost:8080/",
          "height": 1000
        },
        "id": "AynLEwoiPDd2",
        "outputId": "7792d6b8-9b92-46e7-9b91-e756c7c6a3e9"
      },
      "execution_count": 235,
      "outputs": [
        {
          "output_type": "execute_result",
          "data": {
            "text/plain": [
              "array([[<matplotlib.axes._subplots.AxesSubplot object at 0x7ff014825410>,\n",
              "        <matplotlib.axes._subplots.AxesSubplot object at 0x7ff0147dd750>,\n",
              "        <matplotlib.axes._subplots.AxesSubplot object at 0x7ff014791d50>],\n",
              "       [<matplotlib.axes._subplots.AxesSubplot object at 0x7ff014753390>,\n",
              "        <matplotlib.axes._subplots.AxesSubplot object at 0x7ff01478a990>,\n",
              "        <matplotlib.axes._subplots.AxesSubplot object at 0x7ff014742f90>],\n",
              "       [<matplotlib.axes._subplots.AxesSubplot object at 0x7ff014705650>,\n",
              "        <matplotlib.axes._subplots.AxesSubplot object at 0x7ff0146bcb90>,\n",
              "        <matplotlib.axes._subplots.AxesSubplot object at 0x7ff0146bcbd0>],\n",
              "       [<matplotlib.axes._subplots.AxesSubplot object at 0x7ff014680310>,\n",
              "        <matplotlib.axes._subplots.AxesSubplot object at 0x7ff0145ece10>,\n",
              "        <matplotlib.axes._subplots.AxesSubplot object at 0x7ff0145af410>]],\n",
              "      dtype=object)"
            ]
          },
          "metadata": {},
          "execution_count": 235
        },
        {
          "output_type": "display_data",
          "data": {
            "text/plain": [
              "<Figure size 1440x1080 with 12 Axes>"
            ],
            "image/png": "[encoded data removed]"
          },
          "metadata": {
            "needs_background": "light"
          }
        }
      ]
    },
    {
      "cell_type": "code",
      "source": [
        "dataset['sulphates'].hist(bins=50)"
      ],
      "metadata": {
        "colab": {
          "base_uri": "https://localhost:8080/",
          "height": 282
        },
        "id": "A1EsUUKFPKj2",
        "outputId": "3cb35080-bdb3-4ccd-d11d-b1d7bf07ab4e"
      },
      "execution_count": 236,
      "outputs": [
        {
          "output_type": "execute_result",
          "data": {
            "text/plain": [
              "<matplotlib.axes._subplots.AxesSubplot at 0x7ff013f441d0>"
            ]
          },
          "metadata": {},
          "execution_count": 236
        },
        {
          "output_type": "display_data",
          "data": {
            "text/plain": [
              "<Figure size 432x288 with 1 Axes>"
            ],
            "image/png": "[encoded data removed]"
          },
          "metadata": {
            "needs_background": "light"
          }
        }
      ]
    },
    {
      "cell_type": "code",
      "source": [
        "#matriz de correlacion\n",
        "corr_matrix = dataset.corr()\n",
        "corr_matrix[\"fixed acidity\"].sort_values(ascending=False)"
      ],
      "metadata": {
        "colab": {
          "base_uri": "https://localhost:8080/"
        },
        "id": "DnQgdTcQPYGF",
        "outputId": "0f67e4a7-6f68-4df2-dcfb-665501ecc192"
      },
      "execution_count": 237,
      "outputs": [
        {
          "output_type": "execute_result",
          "data": {
            "text/plain": [
              "fixed acidity           1.000000\n",
              "density                 0.665693\n",
              "citric acid             0.662133\n",
              "sulphates               0.174212\n",
              "residual sugar          0.140414\n",
              "quality                 0.104911\n",
              "chlorides               0.092277\n",
              "alcohol                -0.050561\n",
              "total sulfur dioxide   -0.116902\n",
              "free sulfur dioxide    -0.158754\n",
              "volatile acidity       -0.240691\n",
              "pH                     -0.679039\n",
              "Name: fixed acidity, dtype: float64"
            ]
          },
          "metadata": {},
          "execution_count": 237
        }
      ]
    },
    {
      "cell_type": "code",
      "source": [
        "from pandas.plotting import scatter_matrix\n",
        "\n",
        "attributes = [\"fixed acidity\",\"density\", \"citric acid\", \"sulphates\"]\n",
        "scatter_matrix(dataset[attributes], figsize=(12, 8))"
      ],
      "metadata": {
        "colab": {
          "base_uri": "https://localhost:8080/",
          "height": 805
        },
        "id": "5R-rAxzMPaZo",
        "outputId": "3c0f3dec-5893-4f98-b75f-fb709e22248b"
      },
      "execution_count": 238,
      "outputs": [
        {
          "output_type": "execute_result",
          "data": {
            "text/plain": [
              "array([[<matplotlib.axes._subplots.AxesSubplot object at 0x7ff013b3b290>,\n",
              "        <matplotlib.axes._subplots.AxesSubplot object at 0x7ff013af2b90>,\n",
              "        <matplotlib.axes._subplots.AxesSubplot object at 0x7ff013abc550>,\n",
              "        <matplotlib.axes._subplots.AxesSubplot object at 0x7ff013a70a50>],\n",
              "       [<matplotlib.axes._subplots.AxesSubplot object at 0x7ff013a26f50>,\n",
              "        <matplotlib.axes._subplots.AxesSubplot object at 0x7ff0139e9490>,\n",
              "        <matplotlib.axes._subplots.AxesSubplot object at 0x7ff01399ca10>,\n",
              "        <matplotlib.axes._subplots.AxesSubplot object at 0x7ff013952e50>],\n",
              "       [<matplotlib.axes._subplots.AxesSubplot object at 0x7ff013952e90>,\n",
              "        <matplotlib.axes._subplots.AxesSubplot object at 0x7ff0139164d0>,\n",
              "        <matplotlib.axes._subplots.AxesSubplot object at 0x7ff013906dd0>,\n",
              "        <matplotlib.axes._subplots.AxesSubplot object at 0x7ff0138b3b10>],\n",
              "       [<matplotlib.axes._subplots.AxesSubplot object at 0x7ff013880450>,\n",
              "        <matplotlib.axes._subplots.AxesSubplot object at 0x7ff013837950>,\n",
              "        <matplotlib.axes._subplots.AxesSubplot object at 0x7ff0137ede50>,\n",
              "        <matplotlib.axes._subplots.AxesSubplot object at 0x7ff0137b2390>]],\n",
              "      dtype=object)"
            ]
          },
          "metadata": {},
          "execution_count": 238
        },
        {
          "output_type": "display_data",
          "data": {
            "text/plain": [
              "<Figure size 864x576 with 16 Axes>"
            ],
            "image/png": "[encoded data removed]"
          },
          "metadata": {
            "needs_background": "light"
          }
        }
      ]
    },
    {
      "cell_type": "markdown",
      "source": [
        "# Preparar los datos para exponer mejor los patrones de datos subyacentes a los algoritmos de aprendizaje automático.\n",
        "\n"
      ],
      "metadata": {
        "id": "8PSZwxVoPwWH"
      }
    },
    {
      "cell_type": "code",
      "source": [
        "dataset_copy = dataset.drop(\"fixed acidity\", axis=1)\n",
        "dataset_labels =  strat_train_set[\"fixed acidity\"].copy()"
      ],
      "metadata": {
        "id": "ZsZZIXIZP14o"
      },
      "execution_count": 239,
      "outputs": []
    },
    {
      "cell_type": "code",
      "source": [
        "incomplete_rows = dataset_copy[dataset_copy.isnull().any(axis=1)].head()\n",
        "incomplete_rows"
      ],
      "metadata": {
        "colab": {
          "base_uri": "https://localhost:8080/",
          "height": 50
        },
        "id": "Xr_3LAp-QFRA",
        "outputId": "c717963f-1c57-46d5-bf57-93eb4f95db9c"
      },
      "execution_count": 240,
      "outputs": [
        {
          "output_type": "execute_result",
          "data": {
            "text/plain": [
              "Empty DataFrame\n",
              "Columns: [volatile acidity, citric acid, residual sugar, chlorides, free sulfur dioxide, total sulfur dioxide, density, pH, sulphates, alcohol, quality]\n",
              "Index: []"
            ],
            "text/html": [
              "\n",
              "  <div id=\"df-bdb12d5e-b646-4eeb-bc30-7066070155d1\">\n",
              "    <div class=\"colab-df-container\">\n",
              "      <div>\n",
              "<style scoped>\n",
              "    .dataframe tbody tr th:only-of-type {\n",
              "        vertical-align: middle;\n",
              "    }\n",
              "\n",
              "    .dataframe tbody tr th {\n",
              "        vertical-align: top;\n",
              "    }\n",
              "\n",
              "    .dataframe thead th {\n",
              "        text-align: right;\n",
              "    }\n",
              "</style>\n",
              "<table border=\"1\" class=\"dataframe\">\n",
              "  <thead>\n",
              "    <tr style=\"text-align: right;\">\n",
              "      <th></th>\n",
              "      <th>volatile acidity</th>\n",
              "      <th>citric acid</th>\n",
              "      <th>residual sugar</th>\n",
              "      <th>chlorides</th>\n",
              "      <th>free sulfur dioxide</th>\n",
              "      <th>total sulfur dioxide</th>\n",
              "      <th>density</th>\n",
              "      <th>pH</th>\n",
              "      <th>sulphates</th>\n",
              "      <th>alcohol</th>\n",
              "      <th>quality</th>\n",
              "    </tr>\n",
              "  </thead>\n",
              "  <tbody>\n",
              "  </tbody>\n",
              "</table>\n",
              "</div>\n",
              "      <button class=\"colab-df-convert\" onclick=\"convertToInteractive('df-bdb12d5e-b646-4eeb-bc30-7066070155d1')\"\n",
              "              title=\"Convert this dataframe to an interactive table.\"\n",
              "              style=\"display:none;\">\n",
              "        \n",
              "  <svg xmlns=\"http://www.w3.org/2000/svg\" height=\"24px\"viewBox=\"0 0 24 24\"\n",
              "       width=\"24px\">\n",
              "    <path d=\"M0 0h24v24H0V0z\" fill=\"none\"/>\n",
              "    <path d=\"M18.56 5.44l.94 2.06.94-2.06 2.06-.94-2.06-.94-.94-2.06-.94 2.06-2.06.94zm-11 1L8.5 8.5l.94-2.06 2.06-.94-2.06-.94L8.5 2.5l-.94 2.06-2.06.94zm10 10l.94 2.06.94-2.06 2.06-.94-2.06-.94-.94-2.06-.94 2.06-2.06.94z\"/><path d=\"M17.41 7.96l-1.37-1.37c-.4-.4-.92-.59-1.43-.59-.52 0-1.04.2-1.43.59L10.3 9.45l-7.72 7.72c-.78.78-.78 2.05 0 2.83L4 21.41c.39.39.9.59 1.41.59.51 0 1.02-.2 1.41-.59l7.78-7.78 2.81-2.81c.8-.78.8-2.07 0-2.86zM5.41 20L4 18.59l7.72-7.72 1.47 1.35L5.41 20z\"/>\n",
              "  </svg>\n",
              "      </button>\n",
              "      \n",
              "  <style>\n",
              "    .colab-df-container {\n",
              "      display:flex;\n",
              "      flex-wrap:wrap;\n",
              "      gap: 12px;\n",
              "    }\n",
              "\n",
              "    .colab-df-convert {\n",
              "      background-color: #E8F0FE;\n",
              "      border: none;\n",
              "      border-radius: 50%;\n",
              "      cursor: pointer;\n",
              "      display: none;\n",
              "      fill: #1967D2;\n",
              "      height: 32px;\n",
              "      padding: 0 0 0 0;\n",
              "      width: 32px;\n",
              "    }\n",
              "\n",
              "    .colab-df-convert:hover {\n",
              "      background-color: #E2EBFA;\n",
              "      box-shadow: 0px 1px 2px rgba(60, 64, 67, 0.3), 0px 1px 3px 1px rgba(60, 64, 67, 0.15);\n",
              "      fill: #174EA6;\n",
              "    }\n",
              "\n",
              "    [theme=dark] .colab-df-convert {\n",
              "      background-color: #3B4455;\n",
              "      fill: #D2E3FC;\n",
              "    }\n",
              "\n",
              "    [theme=dark] .colab-df-convert:hover {\n",
              "      background-color: #434B5C;\n",
              "      box-shadow: 0px 1px 3px 1px rgba(0, 0, 0, 0.15);\n",
              "      filter: drop-shadow(0px 1px 2px rgba(0, 0, 0, 0.3));\n",
              "      fill: #FFFFFF;\n",
              "    }\n",
              "  </style>\n",
              "\n",
              "      <script>\n",
              "        const buttonEl =\n",
              "          document.querySelector('#df-bdb12d5e-b646-4eeb-bc30-7066070155d1 button.colab-df-convert');\n",
              "        buttonEl.style.display =\n",
              "          google.colab.kernel.accessAllowed ? 'block' : 'none';\n",
              "\n",
              "        async function convertToInteractive(key) {\n",
              "          const element = document.querySelector('#df-bdb12d5e-b646-4eeb-bc30-7066070155d1');\n",
              "          const dataTable =\n",
              "            await google.colab.kernel.invokeFunction('convertToInteractive',\n",
              "                                                     [key], {});\n",
              "          if (!dataTable) return;\n",
              "\n",
              "          const docLinkHtml = 'Like what you see? Visit the ' +\n",
              "            '<a target=\"_blank\" href=https://colab.research.google.com/notebooks/data_table.ipynb>data table notebook</a>'\n",
              "            + ' to learn more about interactive tables.';\n",
              "          element.innerHTML = '';\n",
              "          dataTable['output_type'] = 'display_data';\n",
              "          await google.colab.output.renderOutput(dataTable, element);\n",
              "          const docLink = document.createElement('div');\n",
              "          docLink.innerHTML = docLinkHtml;\n",
              "          element.appendChild(docLink);\n",
              "        }\n",
              "      </script>\n",
              "    </div>\n",
              "  </div>\n",
              "  "
            ]
          },
          "metadata": {},
          "execution_count": 240
        }
      ]
    },
    {
      "cell_type": "code",
      "source": [
        "from sklearn.impute import SimpleImputer\n",
        "imputer = SimpleImputer(strategy=\"median\")"
      ],
      "metadata": {
        "id": "to_OKtcCQLaZ"
      },
      "execution_count": 241,
      "outputs": []
    },
    {
      "cell_type": "code",
      "source": [
        "homes_num = dataset_copy.select_dtypes(include=[np.number])\n",
        "imputer.fit(homes_num)"
      ],
      "metadata": {
        "colab": {
          "base_uri": "https://localhost:8080/"
        },
        "id": "rjMXdM9XQMsZ",
        "outputId": "02356505-ad07-42ca-fd3d-0b20a6325335"
      },
      "execution_count": 242,
      "outputs": [
        {
          "output_type": "execute_result",
          "data": {
            "text/plain": [
              "SimpleImputer(strategy='median')"
            ]
          },
          "metadata": {},
          "execution_count": 242
        }
      ]
    },
    {
      "cell_type": "code",
      "source": [
        "imputer.statistics_"
      ],
      "metadata": {
        "colab": {
          "base_uri": "https://localhost:8080/"
        },
        "id": "9Sak7GxMQXJp",
        "outputId": "4b8fa887-b416-4922-f797-d90e100efc12"
      },
      "execution_count": 243,
      "outputs": [
        {
          "output_type": "execute_result",
          "data": {
            "text/plain": [
              "array([ 0.52   ,  0.25   ,  2.2    ,  0.08   , 14.     , 38.     ,\n",
              "        0.99675,  3.31   ,  0.62   , 10.2    ,  6.     ])"
            ]
          },
          "metadata": {},
          "execution_count": 243
        }
      ]
    },
    {
      "cell_type": "code",
      "source": [
        "homes_num.median().values"
      ],
      "metadata": {
        "colab": {
          "base_uri": "https://localhost:8080/"
        },
        "id": "1NtkuNX_QY36",
        "outputId": "67068721-976f-4832-fa97-99a29dbc1440"
      },
      "execution_count": 244,
      "outputs": [
        {
          "output_type": "execute_result",
          "data": {
            "text/plain": [
              "array([ 0.52   ,  0.25   ,  2.2    ,  0.08   , 14.     , 38.     ,\n",
              "        0.99675,  3.31   ,  0.62   , 10.2    ,  6.     ])"
            ]
          },
          "metadata": {},
          "execution_count": 244
        }
      ]
    },
    {
      "cell_type": "code",
      "source": [
        "X = imputer.transform(homes_num)"
      ],
      "metadata": {
        "id": "IF3d4ScMQbKC"
      },
      "execution_count": 245,
      "outputs": []
    },
    {
      "cell_type": "code",
      "source": [
        "homes_tr = pd.DataFrame(X, columns=homes_num.columns,\n",
        "                          index=dataset_copy.index)"
      ],
      "metadata": {
        "id": "_ExGY_LaQpfb"
      },
      "execution_count": 246,
      "outputs": []
    },
    {
      "cell_type": "code",
      "source": [
        "homes_tr.loc[incomplete_rows.index.values]"
      ],
      "metadata": {
        "colab": {
          "base_uri": "https://localhost:8080/",
          "height": 50
        },
        "id": "iJk85DXRQdDZ",
        "outputId": "832bf920-d02e-44a8-fea2-dc024a7f9991"
      },
      "execution_count": 247,
      "outputs": [
        {
          "output_type": "execute_result",
          "data": {
            "text/plain": [
              "Empty DataFrame\n",
              "Columns: [volatile acidity, citric acid, residual sugar, chlorides, free sulfur dioxide, total sulfur dioxide, density, pH, sulphates, alcohol, quality]\n",
              "Index: []"
            ],
            "text/html": [
              "\n",
              "  <div id=\"df-082af28e-d0e5-4f16-a116-8203ac21d52c\">\n",
              "    <div class=\"colab-df-container\">\n",
              "      <div>\n",
              "<style scoped>\n",
              "    .dataframe tbody tr th:only-of-type {\n",
              "        vertical-align: middle;\n",
              "    }\n",
              "\n",
              "    .dataframe tbody tr th {\n",
              "        vertical-align: top;\n",
              "    }\n",
              "\n",
              "    .dataframe thead th {\n",
              "        text-align: right;\n",
              "    }\n",
              "</style>\n",
              "<table border=\"1\" class=\"dataframe\">\n",
              "  <thead>\n",
              "    <tr style=\"text-align: right;\">\n",
              "      <th></th>\n",
              "      <th>volatile acidity</th>\n",
              "      <th>citric acid</th>\n",
              "      <th>residual sugar</th>\n",
              "      <th>chlorides</th>\n",
              "      <th>free sulfur dioxide</th>\n",
              "      <th>total sulfur dioxide</th>\n",
              "      <th>density</th>\n",
              "      <th>pH</th>\n",
              "      <th>sulphates</th>\n",
              "      <th>alcohol</th>\n",
              "      <th>quality</th>\n",
              "    </tr>\n",
              "  </thead>\n",
              "  <tbody>\n",
              "  </tbody>\n",
              "</table>\n",
              "</div>\n",
              "      <button class=\"colab-df-convert\" onclick=\"convertToInteractive('df-082af28e-d0e5-4f16-a116-8203ac21d52c')\"\n",
              "              title=\"Convert this dataframe to an interactive table.\"\n",
              "              style=\"display:none;\">\n",
              "        \n",
              "  <svg xmlns=\"http://www.w3.org/2000/svg\" height=\"24px\"viewBox=\"0 0 24 24\"\n",
              "       width=\"24px\">\n",
              "    <path d=\"M0 0h24v24H0V0z\" fill=\"none\"/>\n",
              "    <path d=\"M18.56 5.44l.94 2.06.94-2.06 2.06-.94-2.06-.94-.94-2.06-.94 2.06-2.06.94zm-11 1L8.5 8.5l.94-2.06 2.06-.94-2.06-.94L8.5 2.5l-.94 2.06-2.06.94zm10 10l.94 2.06.94-2.06 2.06-.94-2.06-.94-.94-2.06-.94 2.06-2.06.94z\"/><path d=\"M17.41 7.96l-1.37-1.37c-.4-.4-.92-.59-1.43-.59-.52 0-1.04.2-1.43.59L10.3 9.45l-7.72 7.72c-.78.78-.78 2.05 0 2.83L4 21.41c.39.39.9.59 1.41.59.51 0 1.02-.2 1.41-.59l7.78-7.78 2.81-2.81c.8-.78.8-2.07 0-2.86zM5.41 20L4 18.59l7.72-7.72 1.47 1.35L5.41 20z\"/>\n",
              "  </svg>\n",
              "      </button>\n",
              "      \n",
              "  <style>\n",
              "    .colab-df-container {\n",
              "      display:flex;\n",
              "      flex-wrap:wrap;\n",
              "      gap: 12px;\n",
              "    }\n",
              "\n",
              "    .colab-df-convert {\n",
              "      background-color: #E8F0FE;\n",
              "      border: none;\n",
              "      border-radius: 50%;\n",
              "      cursor: pointer;\n",
              "      display: none;\n",
              "      fill: #1967D2;\n",
              "      height: 32px;\n",
              "      padding: 0 0 0 0;\n",
              "      width: 32px;\n",
              "    }\n",
              "\n",
              "    .colab-df-convert:hover {\n",
              "      background-color: #E2EBFA;\n",
              "      box-shadow: 0px 1px 2px rgba(60, 64, 67, 0.3), 0px 1px 3px 1px rgba(60, 64, 67, 0.15);\n",
              "      fill: #174EA6;\n",
              "    }\n",
              "\n",
              "    [theme=dark] .colab-df-convert {\n",
              "      background-color: #3B4455;\n",
              "      fill: #D2E3FC;\n",
              "    }\n",
              "\n",
              "    [theme=dark] .colab-df-convert:hover {\n",
              "      background-color: #434B5C;\n",
              "      box-shadow: 0px 1px 3px 1px rgba(0, 0, 0, 0.15);\n",
              "      filter: drop-shadow(0px 1px 2px rgba(0, 0, 0, 0.3));\n",
              "      fill: #FFFFFF;\n",
              "    }\n",
              "  </style>\n",
              "\n",
              "      <script>\n",
              "        const buttonEl =\n",
              "          document.querySelector('#df-082af28e-d0e5-4f16-a116-8203ac21d52c button.colab-df-convert');\n",
              "        buttonEl.style.display =\n",
              "          google.colab.kernel.accessAllowed ? 'block' : 'none';\n",
              "\n",
              "        async function convertToInteractive(key) {\n",
              "          const element = document.querySelector('#df-082af28e-d0e5-4f16-a116-8203ac21d52c');\n",
              "          const dataTable =\n",
              "            await google.colab.kernel.invokeFunction('convertToInteractive',\n",
              "                                                     [key], {});\n",
              "          if (!dataTable) return;\n",
              "\n",
              "          const docLinkHtml = 'Like what you see? Visit the ' +\n",
              "            '<a target=\"_blank\" href=https://colab.research.google.com/notebooks/data_table.ipynb>data table notebook</a>'\n",
              "            + ' to learn more about interactive tables.';\n",
              "          element.innerHTML = '';\n",
              "          dataTable['output_type'] = 'display_data';\n",
              "          await google.colab.output.renderOutput(dataTable, element);\n",
              "          const docLink = document.createElement('div');\n",
              "          docLink.innerHTML = docLinkHtml;\n",
              "          element.appendChild(docLink);\n",
              "        }\n",
              "      </script>\n",
              "    </div>\n",
              "  </div>\n",
              "  "
            ]
          },
          "metadata": {},
          "execution_count": 247
        }
      ]
    },
    {
      "cell_type": "code",
      "source": [
        "imputer.strategy"
      ],
      "metadata": {
        "colab": {
          "base_uri": "https://localhost:8080/",
          "height": 36
        },
        "id": "SQ84MTtNQuuz",
        "outputId": "72304ca1-7cd1-4b8b-8f6d-2ad262bf032f"
      },
      "execution_count": 248,
      "outputs": [
        {
          "output_type": "execute_result",
          "data": {
            "text/plain": [
              "'median'"
            ],
            "application/vnd.google.colaboratory.intrinsic+json": {
              "type": "string"
            }
          },
          "metadata": {},
          "execution_count": 248
        }
      ]
    },
    {
      "cell_type": "code",
      "source": [
        "homes_tr = pd.DataFrame(X, columns=homes_num.columns,\n",
        "                          index=homes_num.index)\n",
        "homes_tr.head()"
      ],
      "metadata": {
        "colab": {
          "base_uri": "https://localhost:8080/",
          "height": 206
        },
        "id": "V-h9WTijQwLU",
        "outputId": "daabdd39-aa6b-4ad6-c846-26951aeaf8c6"
      },
      "execution_count": 249,
      "outputs": [
        {
          "output_type": "execute_result",
          "data": {
            "text/plain": [
              "      volatile acidity  citric acid  residual sugar  chlorides  \\\n",
              "956              0.360         0.52             2.1      0.111   \n",
              "1553             0.735         0.00             2.2      0.080   \n",
              "567              0.700         0.24             2.5      0.226   \n",
              "1541             0.250         0.29             2.2      0.054   \n",
              "1578             0.670         0.15             1.8      0.118   \n",
              "\n",
              "      free sulfur dioxide  total sulfur dioxide  density    pH  sulphates  \\\n",
              "956                   5.0                  10.0  0.99568  3.31       0.62   \n",
              "1553                 18.0                  28.0  0.99765  3.41       0.60   \n",
              "567                   5.0                  15.0  0.99910  3.32       0.60   \n",
              "1541                 19.0                  49.0  0.99666  3.40       0.76   \n",
              "1578                 13.0                  20.0  0.99540  3.42       0.67   \n",
              "\n",
              "      alcohol  quality  \n",
              "956      11.3      6.0  \n",
              "1553      9.4      5.0  \n",
              "567       9.0      6.0  \n",
              "1541     10.9      7.0  \n",
              "1578     11.3      6.0  "
            ],
            "text/html": [
              "\n",
              "  <div id=\"df-868baff6-f075-47b1-ab63-7cf96fc3abc6\">\n",
              "    <div class=\"colab-df-container\">\n",
              "      <div>\n",
              "<style scoped>\n",
              "    .dataframe tbody tr th:only-of-type {\n",
              "        vertical-align: middle;\n",
              "    }\n",
              "\n",
              "    .dataframe tbody tr th {\n",
              "        vertical-align: top;\n",
              "    }\n",
              "\n",
              "    .dataframe thead th {\n",
              "        text-align: right;\n",
              "    }\n",
              "</style>\n",
              "<table border=\"1\" class=\"dataframe\">\n",
              "  <thead>\n",
              "    <tr style=\"text-align: right;\">\n",
              "      <th></th>\n",
              "      <th>volatile acidity</th>\n",
              "      <th>citric acid</th>\n",
              "      <th>residual sugar</th>\n",
              "      <th>chlorides</th>\n",
              "      <th>free sulfur dioxide</th>\n",
              "      <th>total sulfur dioxide</th>\n",
              "      <th>density</th>\n",
              "      <th>pH</th>\n",
              "      <th>sulphates</th>\n",
              "      <th>alcohol</th>\n",
              "      <th>quality</th>\n",
              "    </tr>\n",
              "  </thead>\n",
              "  <tbody>\n",
              "    <tr>\n",
              "      <th>956</th>\n",
              "      <td>0.360</td>\n",
              "      <td>0.52</td>\n",
              "      <td>2.1</td>\n",
              "      <td>0.111</td>\n",
              "      <td>5.0</td>\n",
              "      <td>10.0</td>\n",
              "      <td>0.99568</td>\n",
              "      <td>3.31</td>\n",
              "      <td>0.62</td>\n",
              "      <td>11.3</td>\n",
              "      <td>6.0</td>\n",
              "    </tr>\n",
              "    <tr>\n",
              "      <th>1553</th>\n",
              "      <td>0.735</td>\n",
              "      <td>0.00</td>\n",
              "      <td>2.2</td>\n",
              "      <td>0.080</td>\n",
              "      <td>18.0</td>\n",
              "      <td>28.0</td>\n",
              "      <td>0.99765</td>\n",
              "      <td>3.41</td>\n",
              "      <td>0.60</td>\n",
              "      <td>9.4</td>\n",
              "      <td>5.0</td>\n",
              "    </tr>\n",
              "    <tr>\n",
              "      <th>567</th>\n",
              "      <td>0.700</td>\n",
              "      <td>0.24</td>\n",
              "      <td>2.5</td>\n",
              "      <td>0.226</td>\n",
              "      <td>5.0</td>\n",
              "      <td>15.0</td>\n",
              "      <td>0.99910</td>\n",
              "      <td>3.32</td>\n",
              "      <td>0.60</td>\n",
              "      <td>9.0</td>\n",
              "      <td>6.0</td>\n",
              "    </tr>\n",
              "    <tr>\n",
              "      <th>1541</th>\n",
              "      <td>0.250</td>\n",
              "      <td>0.29</td>\n",
              "      <td>2.2</td>\n",
              "      <td>0.054</td>\n",
              "      <td>19.0</td>\n",
              "      <td>49.0</td>\n",
              "      <td>0.99666</td>\n",
              "      <td>3.40</td>\n",
              "      <td>0.76</td>\n",
              "      <td>10.9</td>\n",
              "      <td>7.0</td>\n",
              "    </tr>\n",
              "    <tr>\n",
              "      <th>1578</th>\n",
              "      <td>0.670</td>\n",
              "      <td>0.15</td>\n",
              "      <td>1.8</td>\n",
              "      <td>0.118</td>\n",
              "      <td>13.0</td>\n",
              "      <td>20.0</td>\n",
              "      <td>0.99540</td>\n",
              "      <td>3.42</td>\n",
              "      <td>0.67</td>\n",
              "      <td>11.3</td>\n",
              "      <td>6.0</td>\n",
              "    </tr>\n",
              "  </tbody>\n",
              "</table>\n",
              "</div>\n",
              "      <button class=\"colab-df-convert\" onclick=\"convertToInteractive('df-868baff6-f075-47b1-ab63-7cf96fc3abc6')\"\n",
              "              title=\"Convert this dataframe to an interactive table.\"\n",
              "              style=\"display:none;\">\n",
              "        \n",
              "  <svg xmlns=\"http://www.w3.org/2000/svg\" height=\"24px\"viewBox=\"0 0 24 24\"\n",
              "       width=\"24px\">\n",
              "    <path d=\"M0 0h24v24H0V0z\" fill=\"none\"/>\n",
              "    <path d=\"M18.56 5.44l.94 2.06.94-2.06 2.06-.94-2.06-.94-.94-2.06-.94 2.06-2.06.94zm-11 1L8.5 8.5l.94-2.06 2.06-.94-2.06-.94L8.5 2.5l-.94 2.06-2.06.94zm10 10l.94 2.06.94-2.06 2.06-.94-2.06-.94-.94-2.06-.94 2.06-2.06.94z\"/><path d=\"M17.41 7.96l-1.37-1.37c-.4-.4-.92-.59-1.43-.59-.52 0-1.04.2-1.43.59L10.3 9.45l-7.72 7.72c-.78.78-.78 2.05 0 2.83L4 21.41c.39.39.9.59 1.41.59.51 0 1.02-.2 1.41-.59l7.78-7.78 2.81-2.81c.8-.78.8-2.07 0-2.86zM5.41 20L4 18.59l7.72-7.72 1.47 1.35L5.41 20z\"/>\n",
              "  </svg>\n",
              "      </button>\n",
              "      \n",
              "  <style>\n",
              "    .colab-df-container {\n",
              "      display:flex;\n",
              "      flex-wrap:wrap;\n",
              "      gap: 12px;\n",
              "    }\n",
              "\n",
              "    .colab-df-convert {\n",
              "      background-color: #E8F0FE;\n",
              "      border: none;\n",
              "      border-radius: 50%;\n",
              "      cursor: pointer;\n",
              "      display: none;\n",
              "      fill: #1967D2;\n",
              "      height: 32px;\n",
              "      padding: 0 0 0 0;\n",
              "      width: 32px;\n",
              "    }\n",
              "\n",
              "    .colab-df-convert:hover {\n",
              "      background-color: #E2EBFA;\n",
              "      box-shadow: 0px 1px 2px rgba(60, 64, 67, 0.3), 0px 1px 3px 1px rgba(60, 64, 67, 0.15);\n",
              "      fill: #174EA6;\n",
              "    }\n",
              "\n",
              "    [theme=dark] .colab-df-convert {\n",
              "      background-color: #3B4455;\n",
              "      fill: #D2E3FC;\n",
              "    }\n",
              "\n",
              "    [theme=dark] .colab-df-convert:hover {\n",
              "      background-color: #434B5C;\n",
              "      box-shadow: 0px 1px 3px 1px rgba(0, 0, 0, 0.15);\n",
              "      filter: drop-shadow(0px 1px 2px rgba(0, 0, 0, 0.3));\n",
              "      fill: #FFFFFF;\n",
              "    }\n",
              "  </style>\n",
              "\n",
              "      <script>\n",
              "        const buttonEl =\n",
              "          document.querySelector('#df-868baff6-f075-47b1-ab63-7cf96fc3abc6 button.colab-df-convert');\n",
              "        buttonEl.style.display =\n",
              "          google.colab.kernel.accessAllowed ? 'block' : 'none';\n",
              "\n",
              "        async function convertToInteractive(key) {\n",
              "          const element = document.querySelector('#df-868baff6-f075-47b1-ab63-7cf96fc3abc6');\n",
              "          const dataTable =\n",
              "            await google.colab.kernel.invokeFunction('convertToInteractive',\n",
              "                                                     [key], {});\n",
              "          if (!dataTable) return;\n",
              "\n",
              "          const docLinkHtml = 'Like what you see? Visit the ' +\n",
              "            '<a target=\"_blank\" href=https://colab.research.google.com/notebooks/data_table.ipynb>data table notebook</a>'\n",
              "            + ' to learn more about interactive tables.';\n",
              "          element.innerHTML = '';\n",
              "          dataTable['output_type'] = 'display_data';\n",
              "          await google.colab.output.renderOutput(dataTable, element);\n",
              "          const docLink = document.createElement('div');\n",
              "          docLink.innerHTML = docLinkHtml;\n",
              "          element.appendChild(docLink);\n",
              "        }\n",
              "      </script>\n",
              "    </div>\n",
              "  </div>\n",
              "  "
            ]
          },
          "metadata": {},
          "execution_count": 249
        }
      ]
    },
    {
      "cell_type": "code",
      "source": [
        "dataset"
      ],
      "metadata": {
        "colab": {
          "base_uri": "https://localhost:8080/",
          "height": 424
        },
        "id": "Y1mc36ZEQ0gy",
        "outputId": "c02c93ce-106c-48f5-da83-54982fd05e47"
      },
      "execution_count": 250,
      "outputs": [
        {
          "output_type": "execute_result",
          "data": {
            "text/plain": [
              "      fixed acidity  volatile acidity  citric acid  residual sugar  chlorides  \\\n",
              "956             9.0             0.360         0.52             2.1      0.111   \n",
              "1553            7.3             0.735         0.00             2.2      0.080   \n",
              "567             8.7             0.700         0.24             2.5      0.226   \n",
              "1541            7.4             0.250         0.29             2.2      0.054   \n",
              "1578            6.8             0.670         0.15             1.8      0.118   \n",
              "...             ...               ...          ...             ...        ...   \n",
              "1491            5.6             0.540         0.04             1.7      0.049   \n",
              "641             9.5             0.590         0.44             2.3      0.071   \n",
              "1157            5.1             0.510         0.18             2.1      0.042   \n",
              "26              7.6             0.410         0.24             1.8      0.080   \n",
              "1208            7.2             0.360         0.46             2.1      0.074   \n",
              "\n",
              "      free sulfur dioxide  total sulfur dioxide  density    pH  sulphates  \\\n",
              "956                   5.0                  10.0  0.99568  3.31       0.62   \n",
              "1553                 18.0                  28.0  0.99765  3.41       0.60   \n",
              "567                   5.0                  15.0  0.99910  3.32       0.60   \n",
              "1541                 19.0                  49.0  0.99666  3.40       0.76   \n",
              "1578                 13.0                  20.0  0.99540  3.42       0.67   \n",
              "...                   ...                   ...      ...   ...        ...   \n",
              "1491                  5.0                  13.0  0.99420  3.72       0.58   \n",
              "641                  21.0                  68.0  0.99920  3.46       0.63   \n",
              "1157                 16.0                 101.0  0.99240  3.46       0.87   \n",
              "26                    4.0                  11.0  0.99620  3.28       0.59   \n",
              "1208                 24.0                  44.0  0.99534  3.40       0.85   \n",
              "\n",
              "      alcohol  quality  \n",
              "956      11.3        6  \n",
              "1553      9.4        5  \n",
              "567       9.0        6  \n",
              "1541     10.9        7  \n",
              "1578     11.3        6  \n",
              "...       ...      ...  \n",
              "1491     11.4        5  \n",
              "641       9.5        5  \n",
              "1157     12.9        7  \n",
              "26        9.5        5  \n",
              "1208     11.0        7  \n",
              "\n",
              "[1279 rows x 12 columns]"
            ],
            "text/html": [
              "\n",
              "  <div id=\"df-6d5d08a6-004d-429d-896f-8f276eea884a\">\n",
              "    <div class=\"colab-df-container\">\n",
              "      <div>\n",
              "<style scoped>\n",
              "    .dataframe tbody tr th:only-of-type {\n",
              "        vertical-align: middle;\n",
              "    }\n",
              "\n",
              "    .dataframe tbody tr th {\n",
              "        vertical-align: top;\n",
              "    }\n",
              "\n",
              "    .dataframe thead th {\n",
              "        text-align: right;\n",
              "    }\n",
              "</style>\n",
              "<table border=\"1\" class=\"dataframe\">\n",
              "  <thead>\n",
              "    <tr style=\"text-align: right;\">\n",
              "      <th></th>\n",
              "      <th>fixed acidity</th>\n",
              "      <th>volatile acidity</th>\n",
              "      <th>citric acid</th>\n",
              "      <th>residual sugar</th>\n",
              "      <th>chlorides</th>\n",
              "      <th>free sulfur dioxide</th>\n",
              "      <th>total sulfur dioxide</th>\n",
              "      <th>density</th>\n",
              "      <th>pH</th>\n",
              "      <th>sulphates</th>\n",
              "      <th>alcohol</th>\n",
              "      <th>quality</th>\n",
              "    </tr>\n",
              "  </thead>\n",
              "  <tbody>\n",
              "    <tr>\n",
              "      <th>956</th>\n",
              "      <td>9.0</td>\n",
              "      <td>0.360</td>\n",
              "      <td>0.52</td>\n",
              "      <td>2.1</td>\n",
              "      <td>0.111</td>\n",
              "      <td>5.0</td>\n",
              "      <td>10.0</td>\n",
              "      <td>0.99568</td>\n",
              "      <td>3.31</td>\n",
              "      <td>0.62</td>\n",
              "      <td>11.3</td>\n",
              "      <td>6</td>\n",
              "    </tr>\n",
              "    <tr>\n",
              "      <th>1553</th>\n",
              "      <td>7.3</td>\n",
              "      <td>0.735</td>\n",
              "      <td>0.00</td>\n",
              "      <td>2.2</td>\n",
              "      <td>0.080</td>\n",
              "      <td>18.0</td>\n",
              "      <td>28.0</td>\n",
              "      <td>0.99765</td>\n",
              "      <td>3.41</td>\n",
              "      <td>0.60</td>\n",
              "      <td>9.4</td>\n",
              "      <td>5</td>\n",
              "    </tr>\n",
              "    <tr>\n",
              "      <th>567</th>\n",
              "      <td>8.7</td>\n",
              "      <td>0.700</td>\n",
              "      <td>0.24</td>\n",
              "      <td>2.5</td>\n",
              "      <td>0.226</td>\n",
              "      <td>5.0</td>\n",
              "      <td>15.0</td>\n",
              "      <td>0.99910</td>\n",
              "      <td>3.32</td>\n",
              "      <td>0.60</td>\n",
              "      <td>9.0</td>\n",
              "      <td>6</td>\n",
              "    </tr>\n",
              "    <tr>\n",
              "      <th>1541</th>\n",
              "      <td>7.4</td>\n",
              "      <td>0.250</td>\n",
              "      <td>0.29</td>\n",
              "      <td>2.2</td>\n",
              "      <td>0.054</td>\n",
              "      <td>19.0</td>\n",
              "      <td>49.0</td>\n",
              "      <td>0.99666</td>\n",
              "      <td>3.40</td>\n",
              "      <td>0.76</td>\n",
              "      <td>10.9</td>\n",
              "      <td>7</td>\n",
              "    </tr>\n",
              "    <tr>\n",
              "      <th>1578</th>\n",
              "      <td>6.8</td>\n",
              "      <td>0.670</td>\n",
              "      <td>0.15</td>\n",
              "      <td>1.8</td>\n",
              "      <td>0.118</td>\n",
              "      <td>13.0</td>\n",
              "      <td>20.0</td>\n",
              "      <td>0.99540</td>\n",
              "      <td>3.42</td>\n",
              "      <td>0.67</td>\n",
              "      <td>11.3</td>\n",
              "      <td>6</td>\n",
              "    </tr>\n",
              "    <tr>\n",
              "      <th>...</th>\n",
              "      <td>...</td>\n",
              "      <td>...</td>\n",
              "      <td>...</td>\n",
              "      <td>...</td>\n",
              "      <td>...</td>\n",
              "      <td>...</td>\n",
              "      <td>...</td>\n",
              "      <td>...</td>\n",
              "      <td>...</td>\n",
              "      <td>...</td>\n",
              "      <td>...</td>\n",
              "      <td>...</td>\n",
              "    </tr>\n",
              "    <tr>\n",
              "      <th>1491</th>\n",
              "      <td>5.6</td>\n",
              "      <td>0.540</td>\n",
              "      <td>0.04</td>\n",
              "      <td>1.7</td>\n",
              "      <td>0.049</td>\n",
              "      <td>5.0</td>\n",
              "      <td>13.0</td>\n",
              "      <td>0.99420</td>\n",
              "      <td>3.72</td>\n",
              "      <td>0.58</td>\n",
              "      <td>11.4</td>\n",
              "      <td>5</td>\n",
              "    </tr>\n",
              "    <tr>\n",
              "      <th>641</th>\n",
              "      <td>9.5</td>\n",
              "      <td>0.590</td>\n",
              "      <td>0.44</td>\n",
              "      <td>2.3</td>\n",
              "      <td>0.071</td>\n",
              "      <td>21.0</td>\n",
              "      <td>68.0</td>\n",
              "      <td>0.99920</td>\n",
              "      <td>3.46</td>\n",
              "      <td>0.63</td>\n",
              "      <td>9.5</td>\n",
              "      <td>5</td>\n",
              "    </tr>\n",
              "    <tr>\n",
              "      <th>1157</th>\n",
              "      <td>5.1</td>\n",
              "      <td>0.510</td>\n",
              "      <td>0.18</td>\n",
              "      <td>2.1</td>\n",
              "      <td>0.042</td>\n",
              "      <td>16.0</td>\n",
              "      <td>101.0</td>\n",
              "      <td>0.99240</td>\n",
              "      <td>3.46</td>\n",
              "      <td>0.87</td>\n",
              "      <td>12.9</td>\n",
              "      <td>7</td>\n",
              "    </tr>\n",
              "    <tr>\n",
              "      <th>26</th>\n",
              "      <td>7.6</td>\n",
              "      <td>0.410</td>\n",
              "      <td>0.24</td>\n",
              "      <td>1.8</td>\n",
              "      <td>0.080</td>\n",
              "      <td>4.0</td>\n",
              "      <td>11.0</td>\n",
              "      <td>0.99620</td>\n",
              "      <td>3.28</td>\n",
              "      <td>0.59</td>\n",
              "      <td>9.5</td>\n",
              "      <td>5</td>\n",
              "    </tr>\n",
              "    <tr>\n",
              "      <th>1208</th>\n",
              "      <td>7.2</td>\n",
              "      <td>0.360</td>\n",
              "      <td>0.46</td>\n",
              "      <td>2.1</td>\n",
              "      <td>0.074</td>\n",
              "      <td>24.0</td>\n",
              "      <td>44.0</td>\n",
              "      <td>0.99534</td>\n",
              "      <td>3.40</td>\n",
              "      <td>0.85</td>\n",
              "      <td>11.0</td>\n",
              "      <td>7</td>\n",
              "    </tr>\n",
              "  </tbody>\n",
              "</table>\n",
              "<p>1279 rows × 12 columns</p>\n",
              "</div>\n",
              "      <button class=\"colab-df-convert\" onclick=\"convertToInteractive('df-6d5d08a6-004d-429d-896f-8f276eea884a')\"\n",
              "              title=\"Convert this dataframe to an interactive table.\"\n",
              "              style=\"display:none;\">\n",
              "        \n",
              "  <svg xmlns=\"http://www.w3.org/2000/svg\" height=\"24px\"viewBox=\"0 0 24 24\"\n",
              "       width=\"24px\">\n",
              "    <path d=\"M0 0h24v24H0V0z\" fill=\"none\"/>\n",
              "    <path d=\"M18.56 5.44l.94 2.06.94-2.06 2.06-.94-2.06-.94-.94-2.06-.94 2.06-2.06.94zm-11 1L8.5 8.5l.94-2.06 2.06-.94-2.06-.94L8.5 2.5l-.94 2.06-2.06.94zm10 10l.94 2.06.94-2.06 2.06-.94-2.06-.94-.94-2.06-.94 2.06-2.06.94z\"/><path d=\"M17.41 7.96l-1.37-1.37c-.4-.4-.92-.59-1.43-.59-.52 0-1.04.2-1.43.59L10.3 9.45l-7.72 7.72c-.78.78-.78 2.05 0 2.83L4 21.41c.39.39.9.59 1.41.59.51 0 1.02-.2 1.41-.59l7.78-7.78 2.81-2.81c.8-.78.8-2.07 0-2.86zM5.41 20L4 18.59l7.72-7.72 1.47 1.35L5.41 20z\"/>\n",
              "  </svg>\n",
              "      </button>\n",
              "      \n",
              "  <style>\n",
              "    .colab-df-container {\n",
              "      display:flex;\n",
              "      flex-wrap:wrap;\n",
              "      gap: 12px;\n",
              "    }\n",
              "\n",
              "    .colab-df-convert {\n",
              "      background-color: #E8F0FE;\n",
              "      border: none;\n",
              "      border-radius: 50%;\n",
              "      cursor: pointer;\n",
              "      display: none;\n",
              "      fill: #1967D2;\n",
              "      height: 32px;\n",
              "      padding: 0 0 0 0;\n",
              "      width: 32px;\n",
              "    }\n",
              "\n",
              "    .colab-df-convert:hover {\n",
              "      background-color: #E2EBFA;\n",
              "      box-shadow: 0px 1px 2px rgba(60, 64, 67, 0.3), 0px 1px 3px 1px rgba(60, 64, 67, 0.15);\n",
              "      fill: #174EA6;\n",
              "    }\n",
              "\n",
              "    [theme=dark] .colab-df-convert {\n",
              "      background-color: #3B4455;\n",
              "      fill: #D2E3FC;\n",
              "    }\n",
              "\n",
              "    [theme=dark] .colab-df-convert:hover {\n",
              "      background-color: #434B5C;\n",
              "      box-shadow: 0px 1px 3px 1px rgba(0, 0, 0, 0.15);\n",
              "      filter: drop-shadow(0px 1px 2px rgba(0, 0, 0, 0.3));\n",
              "      fill: #FFFFFF;\n",
              "    }\n",
              "  </style>\n",
              "\n",
              "      <script>\n",
              "        const buttonEl =\n",
              "          document.querySelector('#df-6d5d08a6-004d-429d-896f-8f276eea884a button.colab-df-convert');\n",
              "        buttonEl.style.display =\n",
              "          google.colab.kernel.accessAllowed ? 'block' : 'none';\n",
              "\n",
              "        async function convertToInteractive(key) {\n",
              "          const element = document.querySelector('#df-6d5d08a6-004d-429d-896f-8f276eea884a');\n",
              "          const dataTable =\n",
              "            await google.colab.kernel.invokeFunction('convertToInteractive',\n",
              "                                                     [key], {});\n",
              "          if (!dataTable) return;\n",
              "\n",
              "          const docLinkHtml = 'Like what you see? Visit the ' +\n",
              "            '<a target=\"_blank\" href=https://colab.research.google.com/notebooks/data_table.ipynb>data table notebook</a>'\n",
              "            + ' to learn more about interactive tables.';\n",
              "          element.innerHTML = '';\n",
              "          dataTable['output_type'] = 'display_data';\n",
              "          await google.colab.output.renderOutput(dataTable, element);\n",
              "          const docLink = document.createElement('div');\n",
              "          docLink.innerHTML = docLinkHtml;\n",
              "          element.appendChild(docLink);\n",
              "        }\n",
              "      </script>\n",
              "    </div>\n",
              "  </div>\n",
              "  "
            ]
          },
          "metadata": {},
          "execution_count": 250
        }
      ]
    },
    {
      "cell_type": "code",
      "source": [
        "def feature_engineering(data):\n",
        "    data[\"citric_acid_per_density\"]=data[\"citric acid\"]/data[\"density\"]\n",
        "    data[\"ph_per_density\"]=data[\"pH\"]/data[\"density\"]\n",
        "    return data"
      ],
      "metadata": {
        "id": "ayHE759rQ8P8"
      },
      "execution_count": 251,
      "outputs": []
    },
    {
      "cell_type": "code",
      "source": [
        "homes_feature_engineered = feature_engineering(dataset_copy)\n",
        "homes_feature_engineered"
      ],
      "metadata": {
        "colab": {
          "base_uri": "https://localhost:8080/",
          "height": 485
        },
        "id": "sC5U6-VWRECT",
        "outputId": "eacea9f0-eb60-411b-b292-ea1c694a4f5a"
      },
      "execution_count": 252,
      "outputs": [
        {
          "output_type": "execute_result",
          "data": {
            "text/plain": [
              "      volatile acidity  citric acid  residual sugar  chlorides  \\\n",
              "956              0.360         0.52             2.1      0.111   \n",
              "1553             0.735         0.00             2.2      0.080   \n",
              "567              0.700         0.24             2.5      0.226   \n",
              "1541             0.250         0.29             2.2      0.054   \n",
              "1578             0.670         0.15             1.8      0.118   \n",
              "...                ...          ...             ...        ...   \n",
              "1491             0.540         0.04             1.7      0.049   \n",
              "641              0.590         0.44             2.3      0.071   \n",
              "1157             0.510         0.18             2.1      0.042   \n",
              "26               0.410         0.24             1.8      0.080   \n",
              "1208             0.360         0.46             2.1      0.074   \n",
              "\n",
              "      free sulfur dioxide  total sulfur dioxide  density    pH  sulphates  \\\n",
              "956                   5.0                  10.0  0.99568  3.31       0.62   \n",
              "1553                 18.0                  28.0  0.99765  3.41       0.60   \n",
              "567                   5.0                  15.0  0.99910  3.32       0.60   \n",
              "1541                 19.0                  49.0  0.99666  3.40       0.76   \n",
              "1578                 13.0                  20.0  0.99540  3.42       0.67   \n",
              "...                   ...                   ...      ...   ...        ...   \n",
              "1491                  5.0                  13.0  0.99420  3.72       0.58   \n",
              "641                  21.0                  68.0  0.99920  3.46       0.63   \n",
              "1157                 16.0                 101.0  0.99240  3.46       0.87   \n",
              "26                    4.0                  11.0  0.99620  3.28       0.59   \n",
              "1208                 24.0                  44.0  0.99534  3.40       0.85   \n",
              "\n",
              "      alcohol  quality  citric_acid_per_density  ph_per_density  \n",
              "956      11.3        6                 0.522256        3.324361  \n",
              "1553      9.4        5                 0.000000        3.418032  \n",
              "567       9.0        6                 0.240216        3.322991  \n",
              "1541     10.9        7                 0.290972        3.411394  \n",
              "1578     11.3        6                 0.150693        3.435805  \n",
              "...       ...      ...                      ...             ...  \n",
              "1491     11.4        5                 0.040233        3.741702  \n",
              "641       9.5        5                 0.440352        3.462770  \n",
              "1157     12.9        7                 0.181378        3.486497  \n",
              "26        9.5        5                 0.240915        3.292512  \n",
              "1208     11.0        7                 0.462154        3.415918  \n",
              "\n",
              "[1279 rows x 13 columns]"
            ],
            "text/html": [
              "\n",
              "  <div id=\"df-70caee01-e51f-4367-944d-ba5694637d53\">\n",
              "    <div class=\"colab-df-container\">\n",
              "      <div>\n",
              "<style scoped>\n",
              "    .dataframe tbody tr th:only-of-type {\n",
              "        vertical-align: middle;\n",
              "    }\n",
              "\n",
              "    .dataframe tbody tr th {\n",
              "        vertical-align: top;\n",
              "    }\n",
              "\n",
              "    .dataframe thead th {\n",
              "        text-align: right;\n",
              "    }\n",
              "</style>\n",
              "<table border=\"1\" class=\"dataframe\">\n",
              "  <thead>\n",
              "    <tr style=\"text-align: right;\">\n",
              "      <th></th>\n",
              "      <th>volatile acidity</th>\n",
              "      <th>citric acid</th>\n",
              "      <th>residual sugar</th>\n",
              "      <th>chlorides</th>\n",
              "      <th>free sulfur dioxide</th>\n",
              "      <th>total sulfur dioxide</th>\n",
              "      <th>density</th>\n",
              "      <th>pH</th>\n",
              "      <th>sulphates</th>\n",
              "      <th>alcohol</th>\n",
              "      <th>quality</th>\n",
              "      <th>citric_acid_per_density</th>\n",
              "      <th>ph_per_density</th>\n",
              "    </tr>\n",
              "  </thead>\n",
              "  <tbody>\n",
              "    <tr>\n",
              "      <th>956</th>\n",
              "      <td>0.360</td>\n",
              "      <td>0.52</td>\n",
              "      <td>2.1</td>\n",
              "      <td>0.111</td>\n",
              "      <td>5.0</td>\n",
              "      <td>10.0</td>\n",
              "      <td>0.99568</td>\n",
              "      <td>3.31</td>\n",
              "      <td>0.62</td>\n",
              "      <td>11.3</td>\n",
              "      <td>6</td>\n",
              "      <td>0.522256</td>\n",
              "      <td>3.324361</td>\n",
              "    </tr>\n",
              "    <tr>\n",
              "      <th>1553</th>\n",
              "      <td>0.735</td>\n",
              "      <td>0.00</td>\n",
              "      <td>2.2</td>\n",
              "      <td>0.080</td>\n",
              "      <td>18.0</td>\n",
              "      <td>28.0</td>\n",
              "      <td>0.99765</td>\n",
              "      <td>3.41</td>\n",
              "      <td>0.60</td>\n",
              "      <td>9.4</td>\n",
              "      <td>5</td>\n",
              "      <td>0.000000</td>\n",
              "      <td>3.418032</td>\n",
              "    </tr>\n",
              "    <tr>\n",
              "      <th>567</th>\n",
              "      <td>0.700</td>\n",
              "      <td>0.24</td>\n",
              "      <td>2.5</td>\n",
              "      <td>0.226</td>\n",
              "      <td>5.0</td>\n",
              "      <td>15.0</td>\n",
              "      <td>0.99910</td>\n",
              "      <td>3.32</td>\n",
              "      <td>0.60</td>\n",
              "      <td>9.0</td>\n",
              "      <td>6</td>\n",
              "      <td>0.240216</td>\n",
              "      <td>3.322991</td>\n",
              "    </tr>\n",
              "    <tr>\n",
              "      <th>1541</th>\n",
              "      <td>0.250</td>\n",
              "      <td>0.29</td>\n",
              "      <td>2.2</td>\n",
              "      <td>0.054</td>\n",
              "      <td>19.0</td>\n",
              "      <td>49.0</td>\n",
              "      <td>0.99666</td>\n",
              "      <td>3.40</td>\n",
              "      <td>0.76</td>\n",
              "      <td>10.9</td>\n",
              "      <td>7</td>\n",
              "      <td>0.290972</td>\n",
              "      <td>3.411394</td>\n",
              "    </tr>\n",
              "    <tr>\n",
              "      <th>1578</th>\n",
              "      <td>0.670</td>\n",
              "      <td>0.15</td>\n",
              "      <td>1.8</td>\n",
              "      <td>0.118</td>\n",
              "      <td>13.0</td>\n",
              "      <td>20.0</td>\n",
              "      <td>0.99540</td>\n",
              "      <td>3.42</td>\n",
              "      <td>0.67</td>\n",
              "      <td>11.3</td>\n",
              "      <td>6</td>\n",
              "      <td>0.150693</td>\n",
              "      <td>3.435805</td>\n",
              "    </tr>\n",
              "    <tr>\n",
              "      <th>...</th>\n",
              "      <td>...</td>\n",
              "      <td>...</td>\n",
              "      <td>...</td>\n",
              "      <td>...</td>\n",
              "      <td>...</td>\n",
              "      <td>...</td>\n",
              "      <td>...</td>\n",
              "      <td>...</td>\n",
              "      <td>...</td>\n",
              "      <td>...</td>\n",
              "      <td>...</td>\n",
              "      <td>...</td>\n",
              "      <td>...</td>\n",
              "    </tr>\n",
              "    <tr>\n",
              "      <th>1491</th>\n",
              "      <td>0.540</td>\n",
              "      <td>0.04</td>\n",
              "      <td>1.7</td>\n",
              "      <td>0.049</td>\n",
              "      <td>5.0</td>\n",
              "      <td>13.0</td>\n",
              "      <td>0.99420</td>\n",
              "      <td>3.72</td>\n",
              "      <td>0.58</td>\n",
              "      <td>11.4</td>\n",
              "      <td>5</td>\n",
              "      <td>0.040233</td>\n",
              "      <td>3.741702</td>\n",
              "    </tr>\n",
              "    <tr>\n",
              "      <th>641</th>\n",
              "      <td>0.590</td>\n",
              "      <td>0.44</td>\n",
              "      <td>2.3</td>\n",
              "      <td>0.071</td>\n",
              "      <td>21.0</td>\n",
              "      <td>68.0</td>\n",
              "      <td>0.99920</td>\n",
              "      <td>3.46</td>\n",
              "      <td>0.63</td>\n",
              "      <td>9.5</td>\n",
              "      <td>5</td>\n",
              "      <td>0.440352</td>\n",
              "      <td>3.462770</td>\n",
              "    </tr>\n",
              "    <tr>\n",
              "      <th>1157</th>\n",
              "      <td>0.510</td>\n",
              "      <td>0.18</td>\n",
              "      <td>2.1</td>\n",
              "      <td>0.042</td>\n",
              "      <td>16.0</td>\n",
              "      <td>101.0</td>\n",
              "      <td>0.99240</td>\n",
              "      <td>3.46</td>\n",
              "      <td>0.87</td>\n",
              "      <td>12.9</td>\n",
              "      <td>7</td>\n",
              "      <td>0.181378</td>\n",
              "      <td>3.486497</td>\n",
              "    </tr>\n",
              "    <tr>\n",
              "      <th>26</th>\n",
              "      <td>0.410</td>\n",
              "      <td>0.24</td>\n",
              "      <td>1.8</td>\n",
              "      <td>0.080</td>\n",
              "      <td>4.0</td>\n",
              "      <td>11.0</td>\n",
              "      <td>0.99620</td>\n",
              "      <td>3.28</td>\n",
              "      <td>0.59</td>\n",
              "      <td>9.5</td>\n",
              "      <td>5</td>\n",
              "      <td>0.240915</td>\n",
              "      <td>3.292512</td>\n",
              "    </tr>\n",
              "    <tr>\n",
              "      <th>1208</th>\n",
              "      <td>0.360</td>\n",
              "      <td>0.46</td>\n",
              "      <td>2.1</td>\n",
              "      <td>0.074</td>\n",
              "      <td>24.0</td>\n",
              "      <td>44.0</td>\n",
              "      <td>0.99534</td>\n",
              "      <td>3.40</td>\n",
              "      <td>0.85</td>\n",
              "      <td>11.0</td>\n",
              "      <td>7</td>\n",
              "      <td>0.462154</td>\n",
              "      <td>3.415918</td>\n",
              "    </tr>\n",
              "  </tbody>\n",
              "</table>\n",
              "<p>1279 rows × 13 columns</p>\n",
              "</div>\n",
              "      <button class=\"colab-df-convert\" onclick=\"convertToInteractive('df-70caee01-e51f-4367-944d-ba5694637d53')\"\n",
              "              title=\"Convert this dataframe to an interactive table.\"\n",
              "              style=\"display:none;\">\n",
              "        \n",
              "  <svg xmlns=\"http://www.w3.org/2000/svg\" height=\"24px\"viewBox=\"0 0 24 24\"\n",
              "       width=\"24px\">\n",
              "    <path d=\"M0 0h24v24H0V0z\" fill=\"none\"/>\n",
              "    <path d=\"M18.56 5.44l.94 2.06.94-2.06 2.06-.94-2.06-.94-.94-2.06-.94 2.06-2.06.94zm-11 1L8.5 8.5l.94-2.06 2.06-.94-2.06-.94L8.5 2.5l-.94 2.06-2.06.94zm10 10l.94 2.06.94-2.06 2.06-.94-2.06-.94-.94-2.06-.94 2.06-2.06.94z\"/><path d=\"M17.41 7.96l-1.37-1.37c-.4-.4-.92-.59-1.43-.59-.52 0-1.04.2-1.43.59L10.3 9.45l-7.72 7.72c-.78.78-.78 2.05 0 2.83L4 21.41c.39.39.9.59 1.41.59.51 0 1.02-.2 1.41-.59l7.78-7.78 2.81-2.81c.8-.78.8-2.07 0-2.86zM5.41 20L4 18.59l7.72-7.72 1.47 1.35L5.41 20z\"/>\n",
              "  </svg>\n",
              "      </button>\n",
              "      \n",
              "  <style>\n",
              "    .colab-df-container {\n",
              "      display:flex;\n",
              "      flex-wrap:wrap;\n",
              "      gap: 12px;\n",
              "    }\n",
              "\n",
              "    .colab-df-convert {\n",
              "      background-color: #E8F0FE;\n",
              "      border: none;\n",
              "      border-radius: 50%;\n",
              "      cursor: pointer;\n",
              "      display: none;\n",
              "      fill: #1967D2;\n",
              "      height: 32px;\n",
              "      padding: 0 0 0 0;\n",
              "      width: 32px;\n",
              "    }\n",
              "\n",
              "    .colab-df-convert:hover {\n",
              "      background-color: #E2EBFA;\n",
              "      box-shadow: 0px 1px 2px rgba(60, 64, 67, 0.3), 0px 1px 3px 1px rgba(60, 64, 67, 0.15);\n",
              "      fill: #174EA6;\n",
              "    }\n",
              "\n",
              "    [theme=dark] .colab-df-convert {\n",
              "      background-color: #3B4455;\n",
              "      fill: #D2E3FC;\n",
              "    }\n",
              "\n",
              "    [theme=dark] .colab-df-convert:hover {\n",
              "      background-color: #434B5C;\n",
              "      box-shadow: 0px 1px 3px 1px rgba(0, 0, 0, 0.15);\n",
              "      filter: drop-shadow(0px 1px 2px rgba(0, 0, 0, 0.3));\n",
              "      fill: #FFFFFF;\n",
              "    }\n",
              "  </style>\n",
              "\n",
              "      <script>\n",
              "        const buttonEl =\n",
              "          document.querySelector('#df-70caee01-e51f-4367-944d-ba5694637d53 button.colab-df-convert');\n",
              "        buttonEl.style.display =\n",
              "          google.colab.kernel.accessAllowed ? 'block' : 'none';\n",
              "\n",
              "        async function convertToInteractive(key) {\n",
              "          const element = document.querySelector('#df-70caee01-e51f-4367-944d-ba5694637d53');\n",
              "          const dataTable =\n",
              "            await google.colab.kernel.invokeFunction('convertToInteractive',\n",
              "                                                     [key], {});\n",
              "          if (!dataTable) return;\n",
              "\n",
              "          const docLinkHtml = 'Like what you see? Visit the ' +\n",
              "            '<a target=\"_blank\" href=https://colab.research.google.com/notebooks/data_table.ipynb>data table notebook</a>'\n",
              "            + ' to learn more about interactive tables.';\n",
              "          element.innerHTML = '';\n",
              "          dataTable['output_type'] = 'display_data';\n",
              "          await google.colab.output.renderOutput(dataTable, element);\n",
              "          const docLink = document.createElement('div');\n",
              "          docLink.innerHTML = docLinkHtml;\n",
              "          element.appendChild(docLink);\n",
              "        }\n",
              "      </script>\n",
              "    </div>\n",
              "  </div>\n",
              "  "
            ]
          },
          "metadata": {},
          "execution_count": 252
        }
      ]
    },
    {
      "cell_type": "code",
      "source": [
        "from sklearn.base import BaseEstimator, TransformerMixin\n",
        "\n",
        "col_names = \"citric acid\", \"density\", \"pH\"\n",
        "citric_acid_ix, density_ix, pH_ix = [dataset.columns.get_loc(c) for c in col_names]\n",
        "\n",
        "class CombinedAttributesAdder(BaseEstimator, TransformerMixin):\n",
        "    def __init__(self, add_citric_acid_per_density=True):\n",
        "        self.add_citric_acid_per_density = add_citric_acid_per_density\n",
        "    def fit(self, X, y=None):\n",
        "        return self\n",
        "    def transform(self, X):\n",
        "        ph_per_density = X[:, density_ix] / X[:, pH_ix]\n",
        "        if self.add_citric_acid_per_density:\n",
        "            citric_acid_per_density = X[:, citric_acid_ix] / X[:, pH_ix]\n",
        "            return np.c_[X, ph_per_density, citric_acid_per_density]\n",
        "        else:\n",
        "            return np.c_[X, ph_per_density]\n",
        "\n",
        "attr_adder = CombinedAttributesAdder(add_citric_acid_per_density=False)\n",
        "homes_extra_attribs = attr_adder.transform(dataset.values)\n",
        "\n",
        "homes_extra_attribs = pd.DataFrame(\n",
        "    homes_extra_attribs,\n",
        "    columns=list(dataset.columns)+[\"ph_per_density\"],\n",
        "    index=dataset.index)\n",
        "homes_extra_attribs.head()"
      ],
      "metadata": {
        "colab": {
          "base_uri": "https://localhost:8080/",
          "height": 268
        },
        "id": "7YVBIZmzRKBz",
        "outputId": "4ba70212-0ce1-47c7-d3ca-95fd3470626a"
      },
      "execution_count": 253,
      "outputs": [
        {
          "output_type": "execute_result",
          "data": {
            "text/plain": [
              "      fixed acidity  volatile acidity  citric acid  residual sugar  chlorides  \\\n",
              "956             9.0             0.360         0.52             2.1      0.111   \n",
              "1553            7.3             0.735         0.00             2.2      0.080   \n",
              "567             8.7             0.700         0.24             2.5      0.226   \n",
              "1541            7.4             0.250         0.29             2.2      0.054   \n",
              "1578            6.8             0.670         0.15             1.8      0.118   \n",
              "\n",
              "      free sulfur dioxide  total sulfur dioxide  density    pH  sulphates  \\\n",
              "956                   5.0                  10.0  0.99568  3.31       0.62   \n",
              "1553                 18.0                  28.0  0.99765  3.41       0.60   \n",
              "567                   5.0                  15.0  0.99910  3.32       0.60   \n",
              "1541                 19.0                  49.0  0.99666  3.40       0.76   \n",
              "1578                 13.0                  20.0  0.99540  3.42       0.67   \n",
              "\n",
              "      alcohol  quality  ph_per_density  \n",
              "956      11.3      6.0        0.300810  \n",
              "1553      9.4      5.0        0.292566  \n",
              "567       9.0      6.0        0.300934  \n",
              "1541     10.9      7.0        0.293135  \n",
              "1578     11.3      6.0        0.291053  "
            ],
            "text/html": [
              "\n",
              "  <div id=\"df-8f07172b-721b-4a0f-beac-0e68f9a465e7\">\n",
              "    <div class=\"colab-df-container\">\n",
              "      <div>\n",
              "<style scoped>\n",
              "    .dataframe tbody tr th:only-of-type {\n",
              "        vertical-align: middle;\n",
              "    }\n",
              "\n",
              "    .dataframe tbody tr th {\n",
              "        vertical-align: top;\n",
              "    }\n",
              "\n",
              "    .dataframe thead th {\n",
              "        text-align: right;\n",
              "    }\n",
              "</style>\n",
              "<table border=\"1\" class=\"dataframe\">\n",
              "  <thead>\n",
              "    <tr style=\"text-align: right;\">\n",
              "      <th></th>\n",
              "      <th>fixed acidity</th>\n",
              "      <th>volatile acidity</th>\n",
              "      <th>citric acid</th>\n",
              "      <th>residual sugar</th>\n",
              "      <th>chlorides</th>\n",
              "      <th>free sulfur dioxide</th>\n",
              "      <th>total sulfur dioxide</th>\n",
              "      <th>density</th>\n",
              "      <th>pH</th>\n",
              "      <th>sulphates</th>\n",
              "      <th>alcohol</th>\n",
              "      <th>quality</th>\n",
              "      <th>ph_per_density</th>\n",
              "    </tr>\n",
              "  </thead>\n",
              "  <tbody>\n",
              "    <tr>\n",
              "      <th>956</th>\n",
              "      <td>9.0</td>\n",
              "      <td>0.360</td>\n",
              "      <td>0.52</td>\n",
              "      <td>2.1</td>\n",
              "      <td>0.111</td>\n",
              "      <td>5.0</td>\n",
              "      <td>10.0</td>\n",
              "      <td>0.99568</td>\n",
              "      <td>3.31</td>\n",
              "      <td>0.62</td>\n",
              "      <td>11.3</td>\n",
              "      <td>6.0</td>\n",
              "      <td>0.300810</td>\n",
              "    </tr>\n",
              "    <tr>\n",
              "      <th>1553</th>\n",
              "      <td>7.3</td>\n",
              "      <td>0.735</td>\n",
              "      <td>0.00</td>\n",
              "      <td>2.2</td>\n",
              "      <td>0.080</td>\n",
              "      <td>18.0</td>\n",
              "      <td>28.0</td>\n",
              "      <td>0.99765</td>\n",
              "      <td>3.41</td>\n",
              "      <td>0.60</td>\n",
              "      <td>9.4</td>\n",
              "      <td>5.0</td>\n",
              "      <td>0.292566</td>\n",
              "    </tr>\n",
              "    <tr>\n",
              "      <th>567</th>\n",
              "      <td>8.7</td>\n",
              "      <td>0.700</td>\n",
              "      <td>0.24</td>\n",
              "      <td>2.5</td>\n",
              "      <td>0.226</td>\n",
              "      <td>5.0</td>\n",
              "      <td>15.0</td>\n",
              "      <td>0.99910</td>\n",
              "      <td>3.32</td>\n",
              "      <td>0.60</td>\n",
              "      <td>9.0</td>\n",
              "      <td>6.0</td>\n",
              "      <td>0.300934</td>\n",
              "    </tr>\n",
              "    <tr>\n",
              "      <th>1541</th>\n",
              "      <td>7.4</td>\n",
              "      <td>0.250</td>\n",
              "      <td>0.29</td>\n",
              "      <td>2.2</td>\n",
              "      <td>0.054</td>\n",
              "      <td>19.0</td>\n",
              "      <td>49.0</td>\n",
              "      <td>0.99666</td>\n",
              "      <td>3.40</td>\n",
              "      <td>0.76</td>\n",
              "      <td>10.9</td>\n",
              "      <td>7.0</td>\n",
              "      <td>0.293135</td>\n",
              "    </tr>\n",
              "    <tr>\n",
              "      <th>1578</th>\n",
              "      <td>6.8</td>\n",
              "      <td>0.670</td>\n",
              "      <td>0.15</td>\n",
              "      <td>1.8</td>\n",
              "      <td>0.118</td>\n",
              "      <td>13.0</td>\n",
              "      <td>20.0</td>\n",
              "      <td>0.99540</td>\n",
              "      <td>3.42</td>\n",
              "      <td>0.67</td>\n",
              "      <td>11.3</td>\n",
              "      <td>6.0</td>\n",
              "      <td>0.291053</td>\n",
              "    </tr>\n",
              "  </tbody>\n",
              "</table>\n",
              "</div>\n",
              "      <button class=\"colab-df-convert\" onclick=\"convertToInteractive('df-8f07172b-721b-4a0f-beac-0e68f9a465e7')\"\n",
              "              title=\"Convert this dataframe to an interactive table.\"\n",
              "              style=\"display:none;\">\n",
              "        \n",
              "  <svg xmlns=\"http://www.w3.org/2000/svg\" height=\"24px\"viewBox=\"0 0 24 24\"\n",
              "       width=\"24px\">\n",
              "    <path d=\"M0 0h24v24H0V0z\" fill=\"none\"/>\n",
              "    <path d=\"M18.56 5.44l.94 2.06.94-2.06 2.06-.94-2.06-.94-.94-2.06-.94 2.06-2.06.94zm-11 1L8.5 8.5l.94-2.06 2.06-.94-2.06-.94L8.5 2.5l-.94 2.06-2.06.94zm10 10l.94 2.06.94-2.06 2.06-.94-2.06-.94-.94-2.06-.94 2.06-2.06.94z\"/><path d=\"M17.41 7.96l-1.37-1.37c-.4-.4-.92-.59-1.43-.59-.52 0-1.04.2-1.43.59L10.3 9.45l-7.72 7.72c-.78.78-.78 2.05 0 2.83L4 21.41c.39.39.9.59 1.41.59.51 0 1.02-.2 1.41-.59l7.78-7.78 2.81-2.81c.8-.78.8-2.07 0-2.86zM5.41 20L4 18.59l7.72-7.72 1.47 1.35L5.41 20z\"/>\n",
              "  </svg>\n",
              "      </button>\n",
              "      \n",
              "  <style>\n",
              "    .colab-df-container {\n",
              "      display:flex;\n",
              "      flex-wrap:wrap;\n",
              "      gap: 12px;\n",
              "    }\n",
              "\n",
              "    .colab-df-convert {\n",
              "      background-color: #E8F0FE;\n",
              "      border: none;\n",
              "      border-radius: 50%;\n",
              "      cursor: pointer;\n",
              "      display: none;\n",
              "      fill: #1967D2;\n",
              "      height: 32px;\n",
              "      padding: 0 0 0 0;\n",
              "      width: 32px;\n",
              "    }\n",
              "\n",
              "    .colab-df-convert:hover {\n",
              "      background-color: #E2EBFA;\n",
              "      box-shadow: 0px 1px 2px rgba(60, 64, 67, 0.3), 0px 1px 3px 1px rgba(60, 64, 67, 0.15);\n",
              "      fill: #174EA6;\n",
              "    }\n",
              "\n",
              "    [theme=dark] .colab-df-convert {\n",
              "      background-color: #3B4455;\n",
              "      fill: #D2E3FC;\n",
              "    }\n",
              "\n",
              "    [theme=dark] .colab-df-convert:hover {\n",
              "      background-color: #434B5C;\n",
              "      box-shadow: 0px 1px 3px 1px rgba(0, 0, 0, 0.15);\n",
              "      filter: drop-shadow(0px 1px 2px rgba(0, 0, 0, 0.3));\n",
              "      fill: #FFFFFF;\n",
              "    }\n",
              "  </style>\n",
              "\n",
              "      <script>\n",
              "        const buttonEl =\n",
              "          document.querySelector('#df-8f07172b-721b-4a0f-beac-0e68f9a465e7 button.colab-df-convert');\n",
              "        buttonEl.style.display =\n",
              "          google.colab.kernel.accessAllowed ? 'block' : 'none';\n",
              "\n",
              "        async function convertToInteractive(key) {\n",
              "          const element = document.querySelector('#df-8f07172b-721b-4a0f-beac-0e68f9a465e7');\n",
              "          const dataTable =\n",
              "            await google.colab.kernel.invokeFunction('convertToInteractive',\n",
              "                                                     [key], {});\n",
              "          if (!dataTable) return;\n",
              "\n",
              "          const docLinkHtml = 'Like what you see? Visit the ' +\n",
              "            '<a target=\"_blank\" href=https://colab.research.google.com/notebooks/data_table.ipynb>data table notebook</a>'\n",
              "            + ' to learn more about interactive tables.';\n",
              "          element.innerHTML = '';\n",
              "          dataTable['output_type'] = 'display_data';\n",
              "          await google.colab.output.renderOutput(dataTable, element);\n",
              "          const docLink = document.createElement('div');\n",
              "          docLink.innerHTML = docLinkHtml;\n",
              "          element.appendChild(docLink);\n",
              "        }\n",
              "      </script>\n",
              "    </div>\n",
              "  </div>\n",
              "  "
            ]
          },
          "metadata": {},
          "execution_count": 253
        }
      ]
    },
    {
      "cell_type": "code",
      "source": [
        "from sklearn.pipeline import Pipeline\n",
        "from sklearn.preprocessing import StandardScaler\n",
        "\n",
        "num_pipeline = Pipeline([\n",
        "    ('imputer', SimpleImputer(strategy=\"median\")),\n",
        "    ('attribs_adder', CombinedAttributesAdder()),\n",
        "    ('std_scaler', StandardScaler()),\n",
        "])\n",
        "\n",
        "homes_num_tr = num_pipeline.fit_transform(homes_num)\n",
        "homes_num_tr"
      ],
      "metadata": {
        "colab": {
          "base_uri": "https://localhost:8080/"
        },
        "id": "yPrJuiKHRNsf",
        "outputId": "8043dd31-728a-4b25-cfee-c8b26c28649d"
      },
      "execution_count": 254,
      "outputs": [
        {
          "output_type": "execute_result",
          "data": {
            "text/plain": [
              "array([[-0.95082592,  1.28645207, -0.30832729, ...,  0.45915502,\n",
              "         0.03927435, -0.27336126],\n",
              "       [ 1.12264813, -1.38828078, -0.23916117, ..., -0.76942085,\n",
              "         0.34262264, -0.15843863],\n",
              "       [ 0.92912388, -0.15378869, -0.03166283, ...,  0.45915502,\n",
              "         0.21058805,  0.04709605],\n",
              "       ...,\n",
              "       [-0.1214363 , -0.46241171, -0.30832729, ...,  1.68773089,\n",
              "        -1.15933406, -0.67345659],\n",
              "       [-0.67436271, -0.15378869, -0.51582563, ..., -0.76942085,\n",
              "         0.2334641 , -0.41158305],\n",
              "       [-0.95082592,  0.97782905, -0.30832729, ...,  1.68773089,\n",
              "        -1.13909887, -0.65010985]])"
            ]
          },
          "metadata": {},
          "execution_count": 254
        }
      ]
    },
    {
      "cell_type": "code",
      "source": [
        "from sklearn.compose import ColumnTransformer\n",
        "\n",
        "num_attribs = list(homes_num)\n",
        "\n",
        "full_pipeline = ColumnTransformer([\n",
        "    (\"num\", num_pipeline, num_attribs),\n",
        "])\n",
        "\n",
        "homes_prepared = full_pipeline.fit_transform(dataset_copy)\n",
        "homes_prepared"
      ],
      "metadata": {
        "colab": {
          "base_uri": "https://localhost:8080/"
        },
        "id": "Y9b2UQgRRVwk",
        "outputId": "7029175a-8feb-4a2f-acd5-9eca59102ca1"
      },
      "execution_count": 255,
      "outputs": [
        {
          "output_type": "execute_result",
          "data": {
            "text/plain": [
              "array([[-0.95082592,  1.28645207, -0.30832729, ...,  0.45915502,\n",
              "         0.03927435, -0.27336126],\n",
              "       [ 1.12264813, -1.38828078, -0.23916117, ..., -0.76942085,\n",
              "         0.34262264, -0.15843863],\n",
              "       [ 0.92912388, -0.15378869, -0.03166283, ...,  0.45915502,\n",
              "         0.21058805,  0.04709605],\n",
              "       ...,\n",
              "       [-0.1214363 , -0.46241171, -0.30832729, ...,  1.68773089,\n",
              "        -1.15933406, -0.67345659],\n",
              "       [-0.67436271, -0.15378869, -0.51582563, ..., -0.76942085,\n",
              "         0.2334641 , -0.41158305],\n",
              "       [-0.95082592,  0.97782905, -0.30832729, ...,  1.68773089,\n",
              "        -1.13909887, -0.65010985]])"
            ]
          },
          "metadata": {},
          "execution_count": 255
        }
      ]
    },
    {
      "cell_type": "code",
      "source": [
        "homes_prepared.shape"
      ],
      "metadata": {
        "colab": {
          "base_uri": "https://localhost:8080/"
        },
        "id": "SLwH4zEIRYIU",
        "outputId": "9939e0ff-c520-4819-a6c4-b869db3a137d"
      },
      "execution_count": 256,
      "outputs": [
        {
          "output_type": "execute_result",
          "data": {
            "text/plain": [
              "(1279, 13)"
            ]
          },
          "metadata": {},
          "execution_count": 256
        }
      ]
    },
    {
      "cell_type": "markdown",
      "source": [
        "# Explorar muchos modelos diferentes y preseleccionar los mejores.[texto del enlace"
      ],
      "metadata": {
        "id": "5uQY58sbReRT"
      }
    },
    {
      "cell_type": "markdown",
      "source": [
        "###Regresion lineal"
      ],
      "metadata": {
        "id": "RrybeV5PRvhm"
      }
    },
    {
      "cell_type": "code",
      "source": [
        "from sklearn.linear_model import LinearRegression\n",
        "\n",
        "lin_reg = LinearRegression()"
      ],
      "metadata": {
        "id": "WZVcE1LLRgwF"
      },
      "execution_count": 257,
      "outputs": []
    },
    {
      "cell_type": "code",
      "source": [
        "model_lin_reg = Pipeline([\n",
        "    (\"full_pipeline\", full_pipeline),\n",
        "    (\"lin_reg\", LinearRegression())\n",
        "])\n",
        "model_lin_reg.fit(X_train, y_train)"
      ],
      "metadata": {
        "colab": {
          "base_uri": "https://localhost:8080/"
        },
        "id": "7vGOCzX5Rjrb",
        "outputId": "64a382cd-d2e5-4e2d-9c92-2e79fe41387c"
      },
      "execution_count": 258,
      "outputs": [
        {
          "output_type": "execute_result",
          "data": {
            "text/plain": [
              "Pipeline(steps=[('full_pipeline',\n",
              "                 ColumnTransformer(transformers=[('num',\n",
              "                                                  Pipeline(steps=[('imputer',\n",
              "                                                                   SimpleImputer(strategy='median')),\n",
              "                                                                  ('attribs_adder',\n",
              "                                                                   CombinedAttributesAdder()),\n",
              "                                                                  ('std_scaler',\n",
              "                                                                   StandardScaler())]),\n",
              "                                                  ['volatile acidity',\n",
              "                                                   'citric acid',\n",
              "                                                   'residual sugar',\n",
              "                                                   'chlorides',\n",
              "                                                   'free sulfur dioxide',\n",
              "                                                   'total sulfur dioxide',\n",
              "                                                   'density', 'pH', 'sulphates',\n",
              "                                                   'alcohol', 'quality'])])),\n",
              "                ('lin_reg', LinearRegression())])"
            ]
          },
          "metadata": {},
          "execution_count": 258
        }
      ]
    },
    {
      "cell_type": "code",
      "source": [
        "#preguntar el porque va el :5\n",
        "some_data = X_test.iloc[:5]\n",
        "\n",
        "print(\"Predicción (Regresión Linear):\", model_lin_reg.predict(some_data))"
      ],
      "metadata": {
        "colab": {
          "base_uri": "https://localhost:8080/"
        },
        "id": "FDK1ZJuVRjxb",
        "outputId": "d7c6d367-5f6b-496d-8873-dc2839ab5147"
      },
      "execution_count": 259,
      "outputs": [
        {
          "output_type": "stream",
          "name": "stdout",
          "text": [
            "Predicción (Regresión Linear): [9.09260851 8.72931547 9.60201684 7.38150678 7.22498227]\n"
          ]
        }
      ]
    },
    {
      "cell_type": "markdown",
      "source": [
        "### Validación cruzada (Regresión Lineal)"
      ],
      "metadata": {
        "id": "FcrXsUQoR5Bt"
      }
    },
    {
      "cell_type": "code",
      "source": [
        "def display_scores(scores):\n",
        "    print(\"Scores:\", scores)\n",
        "    print(\"Mean:\", scores.mean())\n",
        "    print(\"Standard deviation:\", scores.std())"
      ],
      "metadata": {
        "id": "NwZlcZukR8t9"
      },
      "execution_count": 260,
      "outputs": []
    },
    {
      "cell_type": "code",
      "source": [
        "from sklearn.model_selection import cross_val_score\n",
        "\n",
        "lin_scores = cross_val_score(model_lin_reg, X_test, y_test, scoring=\"neg_mean_squared_error\", cv=10)\n",
        "lin_rmse_scores = np.sqrt(-lin_scores)\n",
        "\n",
        "display_scores(lin_rmse_scores)"
      ],
      "metadata": {
        "colab": {
          "base_uri": "https://localhost:8080/"
        },
        "id": "j4RXPB5mSAt1",
        "outputId": "08278cfd-2085-429a-9049-d2cacff4b2fe"
      },
      "execution_count": 261,
      "outputs": [
        {
          "output_type": "stream",
          "name": "stdout",
          "text": [
            "Scores: [0.75308434 0.72008598 0.57411802 0.51902567 0.65685673 0.66235984\n",
            " 0.45550914 0.74285315 0.60584457 0.5658839 ]\n",
            "Mean: 0.625562134748739\n",
            "Standard deviation: 0.0938893425586231\n"
          ]
        }
      ]
    },
    {
      "cell_type": "markdown",
      "source": [
        "### Decision Tree Regressor"
      ],
      "metadata": {
        "id": "9GKO97aCSHiW"
      }
    },
    {
      "cell_type": "code",
      "source": [
        "from sklearn.tree import DecisionTreeRegressor\n",
        "\n",
        "tree_reg = DecisionTreeRegressor(random_state=42)"
      ],
      "metadata": {
        "id": "aw8DPm-OST9H"
      },
      "execution_count": 262,
      "outputs": []
    },
    {
      "cell_type": "code",
      "source": [
        "model_tree_reg = Pipeline([\n",
        "    (\"full_pipeline\", full_pipeline),\n",
        "    (\"tree_reg\", tree_reg)\n",
        "])\n",
        "model_tree_reg.fit(X_train, y_train)"
      ],
      "metadata": {
        "id": "b2iwMPJzSVUg",
        "colab": {
          "base_uri": "https://localhost:8080/"
        },
        "outputId": "b463fe0f-8220-4057-dfda-e912a4407b09"
      },
      "execution_count": 263,
      "outputs": [
        {
          "output_type": "execute_result",
          "data": {
            "text/plain": [
              "Pipeline(steps=[('full_pipeline',\n",
              "                 ColumnTransformer(transformers=[('num',\n",
              "                                                  Pipeline(steps=[('imputer',\n",
              "                                                                   SimpleImputer(strategy='median')),\n",
              "                                                                  ('attribs_adder',\n",
              "                                                                   CombinedAttributesAdder()),\n",
              "                                                                  ('std_scaler',\n",
              "                                                                   StandardScaler())]),\n",
              "                                                  ['volatile acidity',\n",
              "                                                   'citric acid',\n",
              "                                                   'residual sugar',\n",
              "                                                   'chlorides',\n",
              "                                                   'free sulfur dioxide',\n",
              "                                                   'total sulfur dioxide',\n",
              "                                                   'density', 'pH', 'sulphates',\n",
              "                                                   'alcohol', 'quality'])])),\n",
              "                ('tree_reg', DecisionTreeRegressor(random_state=42))])"
            ]
          },
          "metadata": {},
          "execution_count": 263
        }
      ]
    },
    {
      "cell_type": "code",
      "source": [
        "print(\"Predicción (Desicion Tree):\", model_tree_reg.predict(some_data))"
      ],
      "metadata": {
        "id": "bkUWOmrOSfYv",
        "colab": {
          "base_uri": "https://localhost:8080/"
        },
        "outputId": "0a3ae743-e8e2-4efa-b513-2105e7eb1c0c"
      },
      "execution_count": 264,
      "outputs": [
        {
          "output_type": "stream",
          "name": "stdout",
          "text": [
            "Predicción (Desicion Tree): [8.8 8.4 7.8 7.1 5.9]\n"
          ]
        }
      ]
    },
    {
      "cell_type": "code",
      "source": [
        "list(y_test.iloc[:5])"
      ],
      "metadata": {
        "id": "sR5Y1-GjSiRv",
        "colab": {
          "base_uri": "https://localhost:8080/"
        },
        "outputId": "dbcbd3f0-85f8-4568-d0ef-13bef5ca06ab"
      },
      "execution_count": 265,
      "outputs": [
        {
          "output_type": "execute_result",
          "data": {
            "text/plain": [
              "[8.8, 8.7, 10.4, 7.1, 7.1]"
            ]
          },
          "metadata": {},
          "execution_count": 265
        }
      ]
    },
    {
      "cell_type": "markdown",
      "source": [
        "### Validación cruzada (Desicion Tree)"
      ],
      "metadata": {
        "id": "rUeG1QILSk5e"
      }
    },
    {
      "cell_type": "code",
      "source": [
        "tree_scores = cross_val_score(model_tree_reg, X_test, y_test, scoring=\"neg_mean_squared_error\", cv=10)\n",
        "tree_rmse_scores = np.sqrt(-tree_scores)\n",
        "\n",
        "display_scores(tree_rmse_scores)"
      ],
      "metadata": {
        "id": "WjBidTQtSl7y",
        "colab": {
          "base_uri": "https://localhost:8080/"
        },
        "outputId": "e1dd1903-01ce-4878-fb04-b58ab56945be"
      },
      "execution_count": 266,
      "outputs": [
        {
          "output_type": "stream",
          "name": "stdout",
          "text": [
            "Scores: [1.0060753  1.35899779 1.047318   1.07339997 1.08584644 0.8665665\n",
            " 0.81182664 1.09928954 0.8461309  1.00015624]\n",
            "Mean: 1.0195607333051684\n",
            "Standard deviation: 0.150610129480812\n"
          ]
        }
      ]
    },
    {
      "cell_type": "markdown",
      "source": [
        "### Random Forest Regressor"
      ],
      "metadata": {
        "id": "D7riUypcSrv6"
      }
    },
    {
      "cell_type": "code",
      "source": [
        "from sklearn.ensemble import RandomForestRegressor\n",
        "\n",
        "forest_reg = RandomForestRegressor(n_estimators=10, random_state=42)"
      ],
      "metadata": {
        "id": "_q42CihRStYI"
      },
      "execution_count": 267,
      "outputs": []
    },
    {
      "cell_type": "code",
      "source": [
        "model_forest_reg = Pipeline([\n",
        "    (\"full_pipeline\", full_pipeline),\n",
        "    (\"forest_reg\", forest_reg)\n",
        "])\n",
        "model_forest_reg.fit(X_train, y_train)"
      ],
      "metadata": {
        "id": "nIhM1EmPSzBo",
        "colab": {
          "base_uri": "https://localhost:8080/"
        },
        "outputId": "402e97f1-ff24-459c-e370-a89ad01e4816"
      },
      "execution_count": 268,
      "outputs": [
        {
          "output_type": "execute_result",
          "data": {
            "text/plain": [
              "Pipeline(steps=[('full_pipeline',\n",
              "                 ColumnTransformer(transformers=[('num',\n",
              "                                                  Pipeline(steps=[('imputer',\n",
              "                                                                   SimpleImputer(strategy='median')),\n",
              "                                                                  ('attribs_adder',\n",
              "                                                                   CombinedAttributesAdder()),\n",
              "                                                                  ('std_scaler',\n",
              "                                                                   StandardScaler())]),\n",
              "                                                  ['volatile acidity',\n",
              "                                                   'citric acid',\n",
              "                                                   'residual sugar',\n",
              "                                                   'chlorides',\n",
              "                                                   'free sulfur dioxide',\n",
              "                                                   'total sulfur dioxide',\n",
              "                                                   'density', 'pH', 'sulphates',\n",
              "                                                   'alcohol', 'quality'])])),\n",
              "                ('forest_reg',\n",
              "                 RandomForestRegressor(n_estimators=10, random_state=42))])"
            ]
          },
          "metadata": {},
          "execution_count": 268
        }
      ]
    },
    {
      "cell_type": "code",
      "source": [
        "print(\"Predicción (Random Forest):\", model_forest_reg.predict(some_data))"
      ],
      "metadata": {
        "id": "3n-TsLRaS8eg",
        "colab": {
          "base_uri": "https://localhost:8080/"
        },
        "outputId": "a5526733-f0e9-4403-9cff-a796b803ade8"
      },
      "execution_count": 269,
      "outputs": [
        {
          "output_type": "stream",
          "name": "stdout",
          "text": [
            "Predicción (Random Forest): [8.83 8.24 9.96 7.16 7.2 ]\n"
          ]
        }
      ]
    },
    {
      "cell_type": "code",
      "source": [
        "list(y_test.iloc[:5])"
      ],
      "metadata": {
        "id": "c_EO4RUaS-bQ",
        "colab": {
          "base_uri": "https://localhost:8080/"
        },
        "outputId": "d8c87f3c-4745-485c-a003-352e2539efeb"
      },
      "execution_count": 270,
      "outputs": [
        {
          "output_type": "execute_result",
          "data": {
            "text/plain": [
              "[8.8, 8.7, 10.4, 7.1, 7.1]"
            ]
          },
          "metadata": {},
          "execution_count": 270
        }
      ]
    },
    {
      "cell_type": "markdown",
      "source": [
        "### Validación cruzada (Random Forest)"
      ],
      "metadata": {
        "id": "Jy3CIcaETDeI"
      }
    },
    {
      "cell_type": "code",
      "source": [
        "forest_scores = cross_val_score(model_forest_reg, X_test, y_test, scoring=\"neg_mean_squared_error\", cv=10)\n",
        "forest_rmse_scores = np.sqrt(-forest_scores)\n",
        "\n",
        "display_scores(forest_rmse_scores)"
      ],
      "metadata": {
        "id": "SFiPu198TE8p",
        "colab": {
          "base_uri": "https://localhost:8080/"
        },
        "outputId": "fc495f37-fc75-4d65-e626-86e84ac3309f"
      },
      "execution_count": 271,
      "outputs": [
        {
          "output_type": "stream",
          "name": "stdout",
          "text": [
            "Scores: [0.83837641 0.85771499 0.75894664 0.73907036 0.71378393 0.5778381\n",
            " 0.8810842  1.10575059 0.80880892 0.58464198]\n",
            "Mean: 0.786601613644992\n",
            "Standard deviation: 0.1455026680549015\n"
          ]
        }
      ]
    },
    {
      "cell_type": "markdown",
      "source": [
        "# Afinar los modelos."
      ],
      "metadata": {
        "id": "MWH06s0EXkX1"
      }
    },
    {
      "cell_type": "markdown",
      "source": [
        "### Grid Search"
      ],
      "metadata": {
        "id": "iFPDS1G1ZaGM"
      }
    },
    {
      "cell_type": "code",
      "source": [
        "from sklearn.model_selection import GridSearchCV\n",
        "\n",
        "n_estimators = [3, 10, 30]\n",
        "max_features = [2, 4, 6, 8]\n",
        "bootstrap = [False]\n",
        "min_samples_split = [3, 10]\n",
        "max_depth = [2, 3, 4]\n",
        "\n",
        "param_grid = [\n",
        "  {\n",
        "    'forest_reg__n_estimators': n_estimators,\n",
        "    'forest_reg__max_features': max_features\n",
        "  },\n",
        "  {\n",
        "    'forest_reg__bootstrap': bootstrap,\n",
        "    'forest_reg__min_samples_split': min_samples_split,\n",
        "    'forest_reg__max_depth': max_depth\n",
        "  }\n",
        "]\n",
        "\n",
        "grid_search = GridSearchCV(model_forest_reg, param_grid=param_grid, cv=10, scoring=\"neg_mean_squared_error\", n_jobs=1, verbose=2)"
      ],
      "metadata": {
        "id": "2SlVFuxbXxau"
      },
      "execution_count": 272,
      "outputs": []
    },
    {
      "cell_type": "code",
      "source": [
        "grid_search.fit(X_train, y_train)"
      ],
      "metadata": {
        "id": "u-mM8qshZhz7",
        "colab": {
          "base_uri": "https://localhost:8080/"
        },
        "outputId": "029bbc44-4b80-4e56-9d1a-09406a55dc25"
      },
      "execution_count": 273,
      "outputs": [
        {
          "output_type": "stream",
          "name": "stdout",
          "text": [
            "Fitting 10 folds for each of 18 candidates, totalling 180 fits\n",
            "[CV] END forest_reg__max_features=2, forest_reg__n_estimators=3; total time=   0.0s\n",
            "[CV] END forest_reg__max_features=2, forest_reg__n_estimators=3; total time=   0.0s\n",
            "[CV] END forest_reg__max_features=2, forest_reg__n_estimators=3; total time=   0.0s\n",
            "[CV] END forest_reg__max_features=2, forest_reg__n_estimators=3; total time=   0.0s\n",
            "[CV] END forest_reg__max_features=2, forest_reg__n_estimators=3; total time=   0.0s\n",
            "[CV] END forest_reg__max_features=2, forest_reg__n_estimators=3; total time=   0.0s\n",
            "[CV] END forest_reg__max_features=2, forest_reg__n_estimators=3; total time=   0.0s\n",
            "[CV] END forest_reg__max_features=2, forest_reg__n_estimators=3; total time=   0.0s\n",
            "[CV] END forest_reg__max_features=2, forest_reg__n_estimators=3; total time=   0.0s\n",
            "[CV] END forest_reg__max_features=2, forest_reg__n_estimators=3; total time=   0.0s\n",
            "[CV] END forest_reg__max_features=2, forest_reg__n_estimators=10; total time=   0.0s\n",
            "[CV] END forest_reg__max_features=2, forest_reg__n_estimators=10; total time=   0.0s\n",
            "[CV] END forest_reg__max_features=2, forest_reg__n_estimators=10; total time=   0.0s\n",
            "[CV] END forest_reg__max_features=2, forest_reg__n_estimators=10; total time=   0.0s\n",
            "[CV] END forest_reg__max_features=2, forest_reg__n_estimators=10; total time=   0.0s\n",
            "[CV] END forest_reg__max_features=2, forest_reg__n_estimators=10; total time=   0.1s\n",
            "[CV] END forest_reg__max_features=2, forest_reg__n_estimators=10; total time=   0.0s\n",
            "[CV] END forest_reg__max_features=2, forest_reg__n_estimators=10; total time=   0.0s\n",
            "[CV] END forest_reg__max_features=2, forest_reg__n_estimators=10; total time=   0.0s\n",
            "[CV] END forest_reg__max_features=2, forest_reg__n_estimators=10; total time=   0.0s\n",
            "[CV] END forest_reg__max_features=2, forest_reg__n_estimators=30; total time=   0.1s\n",
            "[CV] END forest_reg__max_features=2, forest_reg__n_estimators=30; total time=   0.1s\n",
            "[CV] END forest_reg__max_features=2, forest_reg__n_estimators=30; total time=   0.1s\n",
            "[CV] END forest_reg__max_features=2, forest_reg__n_estimators=30; total time=   0.1s\n",
            "[CV] END forest_reg__max_features=2, forest_reg__n_estimators=30; total time=   0.1s\n",
            "[CV] END forest_reg__max_features=2, forest_reg__n_estimators=30; total time=   0.1s\n",
            "[CV] END forest_reg__max_features=2, forest_reg__n_estimators=30; total time=   0.1s\n",
            "[CV] END forest_reg__max_features=2, forest_reg__n_estimators=30; total time=   0.1s\n",
            "[CV] END forest_reg__max_features=2, forest_reg__n_estimators=30; total time=   0.1s\n",
            "[CV] END forest_reg__max_features=2, forest_reg__n_estimators=30; total time=   0.1s\n",
            "[CV] END forest_reg__max_features=4, forest_reg__n_estimators=3; total time=   0.0s\n",
            "[CV] END forest_reg__max_features=4, forest_reg__n_estimators=3; total time=   0.0s\n",
            "[CV] END forest_reg__max_features=4, forest_reg__n_estimators=3; total time=   0.0s\n",
            "[CV] END forest_reg__max_features=4, forest_reg__n_estimators=3; total time=   0.0s\n",
            "[CV] END forest_reg__max_features=4, forest_reg__n_estimators=3; total time=   0.0s\n",
            "[CV] END forest_reg__max_features=4, forest_reg__n_estimators=3; total time=   0.0s\n",
            "[CV] END forest_reg__max_features=4, forest_reg__n_estimators=3; total time=   0.0s\n",
            "[CV] END forest_reg__max_features=4, forest_reg__n_estimators=3; total time=   0.0s\n",
            "[CV] END forest_reg__max_features=4, forest_reg__n_estimators=3; total time=   0.0s\n",
            "[CV] END forest_reg__max_features=4, forest_reg__n_estimators=3; total time=   0.0s\n",
            "[CV] END forest_reg__max_features=4, forest_reg__n_estimators=10; total time=   0.1s\n",
            "[CV] END forest_reg__max_features=4, forest_reg__n_estimators=10; total time=   0.1s\n",
            "[CV] END forest_reg__max_features=4, forest_reg__n_estimators=10; total time=   0.1s\n",
            "[CV] END forest_reg__max_features=4, forest_reg__n_estimators=10; total time=   0.1s\n",
            "[CV] END forest_reg__max_features=4, forest_reg__n_estimators=10; total time=   0.1s\n",
            "[CV] END forest_reg__max_features=4, forest_reg__n_estimators=10; total time=   0.1s\n",
            "[CV] END forest_reg__max_features=4, forest_reg__n_estimators=10; total time=   0.1s\n",
            "[CV] END forest_reg__max_features=4, forest_reg__n_estimators=10; total time=   0.1s\n",
            "[CV] END forest_reg__max_features=4, forest_reg__n_estimators=10; total time=   0.1s\n",
            "[CV] END forest_reg__max_features=4, forest_reg__n_estimators=10; total time=   0.1s\n",
            "[CV] END forest_reg__max_features=4, forest_reg__n_estimators=30; total time=   0.1s\n",
            "[CV] END forest_reg__max_features=4, forest_reg__n_estimators=30; total time=   0.1s\n",
            "[CV] END forest_reg__max_features=4, forest_reg__n_estimators=30; total time=   0.1s\n",
            "[CV] END forest_reg__max_features=4, forest_reg__n_estimators=30; total time=   0.1s\n",
            "[CV] END forest_reg__max_features=4, forest_reg__n_estimators=30; total time=   0.1s\n",
            "[CV] END forest_reg__max_features=4, forest_reg__n_estimators=30; total time=   0.1s\n",
            "[CV] END forest_reg__max_features=4, forest_reg__n_estimators=30; total time=   0.1s\n",
            "[CV] END forest_reg__max_features=4, forest_reg__n_estimators=30; total time=   0.1s\n",
            "[CV] END forest_reg__max_features=4, forest_reg__n_estimators=30; total time=   0.1s\n",
            "[CV] END forest_reg__max_features=4, forest_reg__n_estimators=30; total time=   0.1s\n",
            "[CV] END forest_reg__max_features=6, forest_reg__n_estimators=3; total time=   0.0s\n",
            "[CV] END forest_reg__max_features=6, forest_reg__n_estimators=3; total time=   0.0s\n",
            "[CV] END forest_reg__max_features=6, forest_reg__n_estimators=3; total time=   0.0s\n",
            "[CV] END forest_reg__max_features=6, forest_reg__n_estimators=3; total time=   0.0s\n",
            "[CV] END forest_reg__max_features=6, forest_reg__n_estimators=3; total time=   0.0s\n",
            "[CV] END forest_reg__max_features=6, forest_reg__n_estimators=3; total time=   0.0s\n",
            "[CV] END forest_reg__max_features=6, forest_reg__n_estimators=3; total time=   0.0s\n",
            "[CV] END forest_reg__max_features=6, forest_reg__n_estimators=3; total time=   0.0s\n",
            "[CV] END forest_reg__max_features=6, forest_reg__n_estimators=3; total time=   0.0s\n",
            "[CV] END forest_reg__max_features=6, forest_reg__n_estimators=3; total time=   0.0s\n",
            "[CV] END forest_reg__max_features=6, forest_reg__n_estimators=10; total time=   0.1s\n",
            "[CV] END forest_reg__max_features=6, forest_reg__n_estimators=10; total time=   0.1s\n",
            "[CV] END forest_reg__max_features=6, forest_reg__n_estimators=10; total time=   0.1s\n",
            "[CV] END forest_reg__max_features=6, forest_reg__n_estimators=10; total time=   0.1s\n",
            "[CV] END forest_reg__max_features=6, forest_reg__n_estimators=10; total time=   0.1s\n",
            "[CV] END forest_reg__max_features=6, forest_reg__n_estimators=10; total time=   0.1s\n",
            "[CV] END forest_reg__max_features=6, forest_reg__n_estimators=10; total time=   0.1s\n",
            "[CV] END forest_reg__max_features=6, forest_reg__n_estimators=10; total time=   0.1s\n",
            "[CV] END forest_reg__max_features=6, forest_reg__n_estimators=10; total time=   0.1s\n",
            "[CV] END forest_reg__max_features=6, forest_reg__n_estimators=10; total time=   0.1s\n",
            "[CV] END forest_reg__max_features=6, forest_reg__n_estimators=30; total time=   0.2s\n",
            "[CV] END forest_reg__max_features=6, forest_reg__n_estimators=30; total time=   0.2s\n",
            "[CV] END forest_reg__max_features=6, forest_reg__n_estimators=30; total time=   0.2s\n",
            "[CV] END forest_reg__max_features=6, forest_reg__n_estimators=30; total time=   0.2s\n",
            "[CV] END forest_reg__max_features=6, forest_reg__n_estimators=30; total time=   0.2s\n",
            "[CV] END forest_reg__max_features=6, forest_reg__n_estimators=30; total time=   0.2s\n",
            "[CV] END forest_reg__max_features=6, forest_reg__n_estimators=30; total time=   0.2s\n",
            "[CV] END forest_reg__max_features=6, forest_reg__n_estimators=30; total time=   0.2s\n",
            "[CV] END forest_reg__max_features=6, forest_reg__n_estimators=30; total time=   0.2s\n",
            "[CV] END forest_reg__max_features=6, forest_reg__n_estimators=30; total time=   0.2s\n",
            "[CV] END forest_reg__max_features=8, forest_reg__n_estimators=3; total time=   0.0s\n",
            "[CV] END forest_reg__max_features=8, forest_reg__n_estimators=3; total time=   0.0s\n",
            "[CV] END forest_reg__max_features=8, forest_reg__n_estimators=3; total time=   0.0s\n",
            "[CV] END forest_reg__max_features=8, forest_reg__n_estimators=3; total time=   0.0s\n",
            "[CV] END forest_reg__max_features=8, forest_reg__n_estimators=3; total time=   0.0s\n",
            "[CV] END forest_reg__max_features=8, forest_reg__n_estimators=3; total time=   0.0s\n",
            "[CV] END forest_reg__max_features=8, forest_reg__n_estimators=3; total time=   0.0s\n",
            "[CV] END forest_reg__max_features=8, forest_reg__n_estimators=3; total time=   0.0s\n",
            "[CV] END forest_reg__max_features=8, forest_reg__n_estimators=3; total time=   0.0s\n",
            "[CV] END forest_reg__max_features=8, forest_reg__n_estimators=3; total time=   0.0s\n",
            "[CV] END forest_reg__max_features=8, forest_reg__n_estimators=10; total time=   0.1s\n",
            "[CV] END forest_reg__max_features=8, forest_reg__n_estimators=10; total time=   0.1s\n",
            "[CV] END forest_reg__max_features=8, forest_reg__n_estimators=10; total time=   0.1s\n",
            "[CV] END forest_reg__max_features=8, forest_reg__n_estimators=10; total time=   0.1s\n",
            "[CV] END forest_reg__max_features=8, forest_reg__n_estimators=10; total time=   0.1s\n",
            "[CV] END forest_reg__max_features=8, forest_reg__n_estimators=10; total time=   0.1s\n",
            "[CV] END forest_reg__max_features=8, forest_reg__n_estimators=10; total time=   0.1s\n",
            "[CV] END forest_reg__max_features=8, forest_reg__n_estimators=10; total time=   0.1s\n",
            "[CV] END forest_reg__max_features=8, forest_reg__n_estimators=10; total time=   0.1s\n",
            "[CV] END forest_reg__max_features=8, forest_reg__n_estimators=10; total time=   0.1s\n",
            "[CV] END forest_reg__max_features=8, forest_reg__n_estimators=30; total time=   0.2s\n",
            "[CV] END forest_reg__max_features=8, forest_reg__n_estimators=30; total time=   0.2s\n",
            "[CV] END forest_reg__max_features=8, forest_reg__n_estimators=30; total time=   0.2s\n",
            "[CV] END forest_reg__max_features=8, forest_reg__n_estimators=30; total time=   0.2s\n",
            "[CV] END forest_reg__max_features=8, forest_reg__n_estimators=30; total time=   0.2s\n",
            "[CV] END forest_reg__max_features=8, forest_reg__n_estimators=30; total time=   0.2s\n",
            "[CV] END forest_reg__max_features=8, forest_reg__n_estimators=30; total time=   0.2s\n",
            "[CV] END forest_reg__max_features=8, forest_reg__n_estimators=30; total time=   0.2s\n",
            "[CV] END forest_reg__max_features=8, forest_reg__n_estimators=30; total time=   0.2s\n",
            "[CV] END forest_reg__max_features=8, forest_reg__n_estimators=30; total time=   0.2s\n",
            "[CV] END forest_reg__bootstrap=False, forest_reg__max_depth=2, forest_reg__min_samples_split=3; total time=   0.0s\n",
            "[CV] END forest_reg__bootstrap=False, forest_reg__max_depth=2, forest_reg__min_samples_split=3; total time=   0.0s\n",
            "[CV] END forest_reg__bootstrap=False, forest_reg__max_depth=2, forest_reg__min_samples_split=3; total time=   0.0s\n",
            "[CV] END forest_reg__bootstrap=False, forest_reg__max_depth=2, forest_reg__min_samples_split=3; total time=   0.0s\n",
            "[CV] END forest_reg__bootstrap=False, forest_reg__max_depth=2, forest_reg__min_samples_split=3; total time=   0.0s\n",
            "[CV] END forest_reg__bootstrap=False, forest_reg__max_depth=2, forest_reg__min_samples_split=3; total time=   0.0s\n",
            "[CV] END forest_reg__bootstrap=False, forest_reg__max_depth=2, forest_reg__min_samples_split=3; total time=   0.0s\n",
            "[CV] END forest_reg__bootstrap=False, forest_reg__max_depth=2, forest_reg__min_samples_split=3; total time=   0.0s\n",
            "[CV] END forest_reg__bootstrap=False, forest_reg__max_depth=2, forest_reg__min_samples_split=3; total time=   0.0s\n",
            "[CV] END forest_reg__bootstrap=False, forest_reg__max_depth=2, forest_reg__min_samples_split=3; total time=   0.0s\n",
            "[CV] END forest_reg__bootstrap=False, forest_reg__max_depth=2, forest_reg__min_samples_split=10; total time=   0.0s\n",
            "[CV] END forest_reg__bootstrap=False, forest_reg__max_depth=2, forest_reg__min_samples_split=10; total time=   0.0s\n",
            "[CV] END forest_reg__bootstrap=False, forest_reg__max_depth=2, forest_reg__min_samples_split=10; total time=   0.0s\n",
            "[CV] END forest_reg__bootstrap=False, forest_reg__max_depth=2, forest_reg__min_samples_split=10; total time=   0.0s\n",
            "[CV] END forest_reg__bootstrap=False, forest_reg__max_depth=2, forest_reg__min_samples_split=10; total time=   0.0s\n",
            "[CV] END forest_reg__bootstrap=False, forest_reg__max_depth=2, forest_reg__min_samples_split=10; total time=   0.0s\n",
            "[CV] END forest_reg__bootstrap=False, forest_reg__max_depth=2, forest_reg__min_samples_split=10; total time=   0.0s\n",
            "[CV] END forest_reg__bootstrap=False, forest_reg__max_depth=2, forest_reg__min_samples_split=10; total time=   0.0s\n",
            "[CV] END forest_reg__bootstrap=False, forest_reg__max_depth=2, forest_reg__min_samples_split=10; total time=   0.0s\n",
            "[CV] END forest_reg__bootstrap=False, forest_reg__max_depth=2, forest_reg__min_samples_split=10; total time=   0.0s\n",
            "[CV] END forest_reg__bootstrap=False, forest_reg__max_depth=3, forest_reg__min_samples_split=3; total time=   0.1s\n",
            "[CV] END forest_reg__bootstrap=False, forest_reg__max_depth=3, forest_reg__min_samples_split=3; total time=   0.1s\n",
            "[CV] END forest_reg__bootstrap=False, forest_reg__max_depth=3, forest_reg__min_samples_split=3; total time=   0.0s\n",
            "[CV] END forest_reg__bootstrap=False, forest_reg__max_depth=3, forest_reg__min_samples_split=3; total time=   0.1s\n",
            "[CV] END forest_reg__bootstrap=False, forest_reg__max_depth=3, forest_reg__min_samples_split=3; total time=   0.1s\n",
            "[CV] END forest_reg__bootstrap=False, forest_reg__max_depth=3, forest_reg__min_samples_split=3; total time=   0.1s\n",
            "[CV] END forest_reg__bootstrap=False, forest_reg__max_depth=3, forest_reg__min_samples_split=3; total time=   0.1s\n",
            "[CV] END forest_reg__bootstrap=False, forest_reg__max_depth=3, forest_reg__min_samples_split=3; total time=   0.0s\n",
            "[CV] END forest_reg__bootstrap=False, forest_reg__max_depth=3, forest_reg__min_samples_split=3; total time=   0.1s\n",
            "[CV] END forest_reg__bootstrap=False, forest_reg__max_depth=3, forest_reg__min_samples_split=3; total time=   0.1s\n",
            "[CV] END forest_reg__bootstrap=False, forest_reg__max_depth=3, forest_reg__min_samples_split=10; total time=   0.1s\n",
            "[CV] END forest_reg__bootstrap=False, forest_reg__max_depth=3, forest_reg__min_samples_split=10; total time=   0.1s\n",
            "[CV] END forest_reg__bootstrap=False, forest_reg__max_depth=3, forest_reg__min_samples_split=10; total time=   0.1s\n",
            "[CV] END forest_reg__bootstrap=False, forest_reg__max_depth=3, forest_reg__min_samples_split=10; total time=   0.1s\n",
            "[CV] END forest_reg__bootstrap=False, forest_reg__max_depth=3, forest_reg__min_samples_split=10; total time=   0.1s\n",
            "[CV] END forest_reg__bootstrap=False, forest_reg__max_depth=3, forest_reg__min_samples_split=10; total time=   0.1s\n",
            "[CV] END forest_reg__bootstrap=False, forest_reg__max_depth=3, forest_reg__min_samples_split=10; total time=   0.1s\n",
            "[CV] END forest_reg__bootstrap=False, forest_reg__max_depth=3, forest_reg__min_samples_split=10; total time=   0.1s\n",
            "[CV] END forest_reg__bootstrap=False, forest_reg__max_depth=3, forest_reg__min_samples_split=10; total time=   0.1s\n",
            "[CV] END forest_reg__bootstrap=False, forest_reg__max_depth=3, forest_reg__min_samples_split=10; total time=   0.1s\n",
            "[CV] END forest_reg__bootstrap=False, forest_reg__max_depth=4, forest_reg__min_samples_split=3; total time=   0.1s\n",
            "[CV] END forest_reg__bootstrap=False, forest_reg__max_depth=4, forest_reg__min_samples_split=3; total time=   0.1s\n",
            "[CV] END forest_reg__bootstrap=False, forest_reg__max_depth=4, forest_reg__min_samples_split=3; total time=   0.1s\n",
            "[CV] END forest_reg__bootstrap=False, forest_reg__max_depth=4, forest_reg__min_samples_split=3; total time=   0.1s\n",
            "[CV] END forest_reg__bootstrap=False, forest_reg__max_depth=4, forest_reg__min_samples_split=3; total time=   0.1s\n",
            "[CV] END forest_reg__bootstrap=False, forest_reg__max_depth=4, forest_reg__min_samples_split=3; total time=   0.1s\n",
            "[CV] END forest_reg__bootstrap=False, forest_reg__max_depth=4, forest_reg__min_samples_split=3; total time=   0.1s\n",
            "[CV] END forest_reg__bootstrap=False, forest_reg__max_depth=4, forest_reg__min_samples_split=3; total time=   0.1s\n",
            "[CV] END forest_reg__bootstrap=False, forest_reg__max_depth=4, forest_reg__min_samples_split=3; total time=   0.1s\n",
            "[CV] END forest_reg__bootstrap=False, forest_reg__max_depth=4, forest_reg__min_samples_split=3; total time=   0.1s\n",
            "[CV] END forest_reg__bootstrap=False, forest_reg__max_depth=4, forest_reg__min_samples_split=10; total time=   0.1s\n",
            "[CV] END forest_reg__bootstrap=False, forest_reg__max_depth=4, forest_reg__min_samples_split=10; total time=   0.1s\n",
            "[CV] END forest_reg__bootstrap=False, forest_reg__max_depth=4, forest_reg__min_samples_split=10; total time=   0.1s\n",
            "[CV] END forest_reg__bootstrap=False, forest_reg__max_depth=4, forest_reg__min_samples_split=10; total time=   0.1s\n",
            "[CV] END forest_reg__bootstrap=False, forest_reg__max_depth=4, forest_reg__min_samples_split=10; total time=   0.1s\n",
            "[CV] END forest_reg__bootstrap=False, forest_reg__max_depth=4, forest_reg__min_samples_split=10; total time=   0.1s\n",
            "[CV] END forest_reg__bootstrap=False, forest_reg__max_depth=4, forest_reg__min_samples_split=10; total time=   0.1s\n",
            "[CV] END forest_reg__bootstrap=False, forest_reg__max_depth=4, forest_reg__min_samples_split=10; total time=   0.1s\n",
            "[CV] END forest_reg__bootstrap=False, forest_reg__max_depth=4, forest_reg__min_samples_split=10; total time=   0.1s\n",
            "[CV] END forest_reg__bootstrap=False, forest_reg__max_depth=4, forest_reg__min_samples_split=10; total time=   0.1s\n"
          ]
        },
        {
          "output_type": "execute_result",
          "data": {
            "text/plain": [
              "GridSearchCV(cv=10,\n",
              "             estimator=Pipeline(steps=[('full_pipeline',\n",
              "                                        ColumnTransformer(transformers=[('num',\n",
              "                                                                         Pipeline(steps=[('imputer',\n",
              "                                                                                          SimpleImputer(strategy='median')),\n",
              "                                                                                         ('attribs_adder',\n",
              "                                                                                          CombinedAttributesAdder()),\n",
              "                                                                                         ('std_scaler',\n",
              "                                                                                          StandardScaler())]),\n",
              "                                                                         ['volatile '\n",
              "                                                                          'acidity',\n",
              "                                                                          'citric '\n",
              "                                                                          'acid',\n",
              "                                                                          'residual '\n",
              "                                                                          'sugar',\n",
              "                                                                          'chlorides',\n",
              "                                                                          'free '\n",
              "                                                                          'sulfur '\n",
              "                                                                          'dioxide',\n",
              "                                                                          'total '\n",
              "                                                                          'sulfur '\n",
              "                                                                          'diox...\n",
              "                                                                          'sulphates',\n",
              "                                                                          'alcohol',\n",
              "                                                                          'quality'])])),\n",
              "                                       ('forest_reg',\n",
              "                                        RandomForestRegressor(n_estimators=10,\n",
              "                                                              random_state=42))]),\n",
              "             n_jobs=1,\n",
              "             param_grid=[{'forest_reg__max_features': [2, 4, 6, 8],\n",
              "                          'forest_reg__n_estimators': [3, 10, 30]},\n",
              "                         {'forest_reg__bootstrap': [False],\n",
              "                          'forest_reg__max_depth': [2, 3, 4],\n",
              "                          'forest_reg__min_samples_split': [3, 10]}],\n",
              "             scoring='neg_mean_squared_error', verbose=2)"
            ]
          },
          "metadata": {},
          "execution_count": 273
        }
      ]
    },
    {
      "cell_type": "code",
      "source": [
        "grid_search.best_params_"
      ],
      "metadata": {
        "id": "b-4euXSfZpD5",
        "colab": {
          "base_uri": "https://localhost:8080/"
        },
        "outputId": "bf27aa15-39ed-4372-e165-b3f4391e5084"
      },
      "execution_count": 274,
      "outputs": [
        {
          "output_type": "execute_result",
          "data": {
            "text/plain": [
              "{'forest_reg__max_features': 6, 'forest_reg__n_estimators': 30}"
            ]
          },
          "metadata": {},
          "execution_count": 274
        }
      ]
    },
    {
      "cell_type": "code",
      "source": [
        "forest_reg = RandomForestRegressor(random_state=42, max_features=6, n_estimators=30)"
      ],
      "metadata": {
        "id": "0l3kSPWSZsM7"
      },
      "execution_count": 275,
      "outputs": []
    },
    {
      "cell_type": "code",
      "source": [
        "model_forest_reg = Pipeline({\n",
        "    (\"full_pipeline\", full_pipeline),\n",
        "    (\"forest_reg\", forest_reg)\n",
        "})\n",
        "model_forest_reg.fit(X_train, y_train)"
      ],
      "metadata": {
        "id": "_pNZ9cUBZxhP",
        "colab": {
          "base_uri": "https://localhost:8080/"
        },
        "outputId": "41d5da9d-348d-41f8-bd5e-9c96b85c5bd4"
      },
      "execution_count": 276,
      "outputs": [
        {
          "output_type": "execute_result",
          "data": {
            "text/plain": [
              "Pipeline(steps=[('full_pipeline',\n",
              "                 ColumnTransformer(transformers=[('num',\n",
              "                                                  Pipeline(steps=[('imputer',\n",
              "                                                                   SimpleImputer(strategy='median')),\n",
              "                                                                  ('attribs_adder',\n",
              "                                                                   CombinedAttributesAdder()),\n",
              "                                                                  ('std_scaler',\n",
              "                                                                   StandardScaler())]),\n",
              "                                                  ['volatile acidity',\n",
              "                                                   'citric acid',\n",
              "                                                   'residual sugar',\n",
              "                                                   'chlorides',\n",
              "                                                   'free sulfur dioxide',\n",
              "                                                   'total sulfur dioxide',\n",
              "                                                   'density', 'pH', 'sulphates',\n",
              "                                                   'alcohol', 'quality'])])),\n",
              "                ('forest_reg',\n",
              "                 RandomForestRegressor(max_features=6, n_estimators=30,\n",
              "                                       random_state=42))])"
            ]
          },
          "metadata": {},
          "execution_count": 276
        }
      ]
    },
    {
      "cell_type": "markdown",
      "source": [
        "###Validación cruzada"
      ],
      "metadata": {
        "id": "6RsFRkTrZ298"
      }
    },
    {
      "cell_type": "code",
      "source": [
        "forest_scores = cross_val_score(model_forest_reg, X_test, y_test, scoring=\"neg_mean_squared_error\", cv=10)\n",
        "forest_rmse_scores = np.sqrt(-forest_scores)\n",
        "\n",
        "display_scores(forest_rmse_scores)"
      ],
      "metadata": {
        "id": "VngAVNRiZ5rb",
        "colab": {
          "base_uri": "https://localhost:8080/"
        },
        "outputId": "b060e9f6-bd3b-4d45-dad6-fc94303be37e"
      },
      "execution_count": 277,
      "outputs": [
        {
          "output_type": "stream",
          "name": "stdout",
          "text": [
            "Scores: [0.7745561  0.69469218 0.7166468  0.71881823 0.6603353  0.69801405\n",
            " 0.75795183 1.02881894 0.80204664 0.56013515]\n",
            "Mean: 0.7412015221387773\n",
            "Standard deviation: 0.11501113217251653\n"
          ]
        }
      ]
    },
    {
      "cell_type": "markdown",
      "source": [
        "### Randomized Search"
      ],
      "metadata": {
        "id": "J9N2ytNgZ-U0"
      }
    },
    {
      "cell_type": "code",
      "source": [
        "from sklearn.model_selection import RandomizedSearchCV\n",
        "from scipy.stats import randint\n",
        "\n",
        "param_distribs = {\n",
        "    'forest_reg__n_estimators': randint(low=1, high=200),\n",
        "    'forest_reg__max_features': randint(low=1, high=6),\n",
        "}\n",
        "\n",
        "rnd_search = RandomizedSearchCV(estimator=model_forest_reg, param_distributions=param_distribs, n_iter=5, cv=10, \n",
        "                                scoring=\"neg_mean_squared_error\", n_jobs=-1, verbose=10)"
      ],
      "metadata": {
        "id": "PA-4kiJiaCJF"
      },
      "execution_count": 278,
      "outputs": []
    },
    {
      "cell_type": "code",
      "source": [
        "rnd_search.fit(X_train, y_train)"
      ],
      "metadata": {
        "id": "1AF3yj8_bl84",
        "colab": {
          "base_uri": "https://localhost:8080/"
        },
        "outputId": "863d1a36-66b0-434f-cd83-d1434e7a8640"
      },
      "execution_count": 279,
      "outputs": [
        {
          "output_type": "stream",
          "name": "stdout",
          "text": [
            "Fitting 10 folds for each of 5 candidates, totalling 50 fits\n"
          ]
        },
        {
          "output_type": "execute_result",
          "data": {
            "text/plain": [
              "RandomizedSearchCV(cv=10,\n",
              "                   estimator=Pipeline(steps=[('full_pipeline',\n",
              "                                              ColumnTransformer(transformers=[('num',\n",
              "                                                                               Pipeline(steps=[('imputer',\n",
              "                                                                                                SimpleImputer(strategy='median')),\n",
              "                                                                                               ('attribs_adder',\n",
              "                                                                                                CombinedAttributesAdder()),\n",
              "                                                                                               ('std_scaler',\n",
              "                                                                                                StandardScaler())]),\n",
              "                                                                               ['volatile '\n",
              "                                                                                'acidity',\n",
              "                                                                                'citric '\n",
              "                                                                                'acid',\n",
              "                                                                                'residual '\n",
              "                                                                                'sugar',\n",
              "                                                                                'chlorides',\n",
              "                                                                                'free '\n",
              "                                                                                'sulfur '\n",
              "                                                                                'dioxide',\n",
              "                                                                                'total '\n",
              "                                                                                'sulfur...\n",
              "                                             ('forest_reg',\n",
              "                                              RandomForestRegressor(max_features=6,\n",
              "                                                                    n_estimators=30,\n",
              "                                                                    random_state=42))]),\n",
              "                   n_iter=5, n_jobs=-1,\n",
              "                   param_distributions={'forest_reg__max_features': <scipy.stats._distn_infrastructure.rv_frozen object at 0x7ff0135604d0>,\n",
              "                                        'forest_reg__n_estimators': <scipy.stats._distn_infrastructure.rv_frozen object at 0x7ff013560690>},\n",
              "                   scoring='neg_mean_squared_error', verbose=10)"
            ]
          },
          "metadata": {},
          "execution_count": 279
        }
      ]
    },
    {
      "cell_type": "code",
      "source": [
        "rnd_search.best_params_"
      ],
      "metadata": {
        "id": "8q4xzb1SbrdZ",
        "colab": {
          "base_uri": "https://localhost:8080/"
        },
        "outputId": "6ed31a33-236d-4989-dc45-849a20fdb89f"
      },
      "execution_count": 280,
      "outputs": [
        {
          "output_type": "execute_result",
          "data": {
            "text/plain": [
              "{'forest_reg__max_features': 3, 'forest_reg__n_estimators': 138}"
            ]
          },
          "metadata": {},
          "execution_count": 280
        }
      ]
    },
    {
      "cell_type": "code",
      "source": [
        "forest_reg = RandomForestRegressor(random_state=42, max_features=5, n_estimators=29)"
      ],
      "metadata": {
        "id": "RARjehAFbuPi"
      },
      "execution_count": 281,
      "outputs": []
    },
    {
      "cell_type": "code",
      "source": [
        "model_forest_reg = Pipeline({\n",
        "    (\"full_pipeline\", full_pipeline),\n",
        "    (\"forest_reg\", forest_reg)\n",
        "})\n",
        "model_forest_reg.fit(X_train, y_train)"
      ],
      "metadata": {
        "id": "iZxOK9sNbxOK",
        "colab": {
          "base_uri": "https://localhost:8080/"
        },
        "outputId": "6d18bc1d-7889-4d8a-d1b2-2640963bd99f"
      },
      "execution_count": 282,
      "outputs": [
        {
          "output_type": "execute_result",
          "data": {
            "text/plain": [
              "Pipeline(steps=[('full_pipeline',\n",
              "                 ColumnTransformer(transformers=[('num',\n",
              "                                                  Pipeline(steps=[('imputer',\n",
              "                                                                   SimpleImputer(strategy='median')),\n",
              "                                                                  ('attribs_adder',\n",
              "                                                                   CombinedAttributesAdder()),\n",
              "                                                                  ('std_scaler',\n",
              "                                                                   StandardScaler())]),\n",
              "                                                  ['volatile acidity',\n",
              "                                                   'citric acid',\n",
              "                                                   'residual sugar',\n",
              "                                                   'chlorides',\n",
              "                                                   'free sulfur dioxide',\n",
              "                                                   'total sulfur dioxide',\n",
              "                                                   'density', 'pH', 'sulphates',\n",
              "                                                   'alcohol', 'quality'])])),\n",
              "                ('forest_reg',\n",
              "                 RandomForestRegressor(max_features=5, n_estimators=29,\n",
              "                                       random_state=42))])"
            ]
          },
          "metadata": {},
          "execution_count": 282
        }
      ]
    },
    {
      "cell_type": "markdown",
      "source": [
        "###Validación cruzada"
      ],
      "metadata": {
        "id": "sRKJCcVzb0WY"
      }
    },
    {
      "cell_type": "code",
      "source": [
        "forest_scores = cross_val_score(model_forest_reg, X_test, y_test, scoring=\"neg_mean_squared_error\", cv=10)\n",
        "forest_rmse_scores = np.sqrt(-forest_scores)\n",
        "\n",
        "display_scores(forest_rmse_scores)"
      ],
      "metadata": {
        "id": "axvbOClfb21y",
        "colab": {
          "base_uri": "https://localhost:8080/"
        },
        "outputId": "91cf6bf7-e62a-40c2-d94c-2cd59e4198f7"
      },
      "execution_count": 283,
      "outputs": [
        {
          "output_type": "stream",
          "name": "stdout",
          "text": [
            "Scores: [0.8168912  0.69626173 0.72197568 0.75632514 0.69433327 0.63689542\n",
            " 0.69958689 1.0804806  0.88201599 0.57406415]\n",
            "Mean: 0.7558830074200054\n",
            "Standard deviation: 0.13559995969729147\n"
          ]
        }
      ]
    },
    {
      "cell_type": "code",
      "source": [
        ""
      ],
      "metadata": {
        "id": "KBSpb4N1b82q"
      },
      "execution_count": 283,
      "outputs": []
    }
  ]
}