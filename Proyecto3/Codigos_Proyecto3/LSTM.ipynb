{
  "cells": [
    {
      "cell_type": "markdown",
      "metadata": {
        "id": "twrt_4PiEuoA"
      },
      "source": [
        "# Importing the dataset"
      ]
    },
    {
      "cell_type": "code",
      "execution_count": 78,
      "metadata": {
        "tags": [],
        "id": "vWzjmdV4EuoQ"
      },
      "outputs": [],
      "source": [
        "import os\n",
        "import pandas as pd\n",
        "import tensorflow as tf\n",
        "import numpy as np"
      ]
    },
    {
      "cell_type": "code",
      "source": [
        "from google.colab import drive\n",
        "drive.mount('/content/drive')"
      ],
      "metadata": {
        "id": "zjhvDzejEzps",
        "colab": {
          "base_uri": "https://localhost:8080/"
        },
        "outputId": "fde97326-a842-42a3-f00e-5a561c5628c7"
      },
      "execution_count": 101,
      "outputs": [
        {
          "output_type": "stream",
          "name": "stdout",
          "text": [
            "Drive already mounted at /content/drive; to attempt to forcibly remount, call drive.mount(\"/content/drive\", force_remount=True).\n"
          ]
        }
      ]
    },
    {
      "cell_type": "code",
      "execution_count": 102,
      "metadata": {
        "tags": [],
        "id": "bW46OQR3EuoT"
      },
      "outputs": [],
      "source": [
        "filepath = '/content/drive/MyDrive/dataset_proyecto3.csv'\n",
        "df  = pd.read_csv(filepath)"
      ]
    },
    {
      "cell_type": "code",
      "execution_count": 103,
      "metadata": {
        "tags": [],
        "id": "rc1UrX5pEuoU",
        "colab": {
          "base_uri": "https://localhost:8080/",
          "height": 206
        },
        "outputId": "a7cc91a7-bb95-4da1-89be-c0f438e328cd"
      },
      "outputs": [
        {
          "output_type": "execute_result",
          "data": {
            "text/plain": [
              "                 id                                       comment_text  toxic  \\\n",
              "0  5f140a8f41763bad  \"== A barnstar for you! ==\\r\\n\\r\\n  The Minor ...      0   \n",
              "1  c57b608d96f057f2  \"==Glenn Beck Hoax==\\r\\nThis topic should be d...      0   \n",
              "2  1d9867f0f60ba9bd  \"\\r\\n\\r\\n Date of establishment \\r\\n\\r\\nCharle...      0   \n",
              "3  17eb2a66bfce1023  ==AfD nomination of Untitled Chilli Album== \\r...      0   \n",
              "4  b8324615a1bcaf58  scum who look up to Che deserve the worst kind...      1   \n",
              "\n",
              "   severe_toxic  obscene  threat  insult  identity_hate  simple_toxic  \n",
              "0             0        0       0       0              0             0  \n",
              "1             0        0       0       0              0             0  \n",
              "2             0        0       0       0              0             0  \n",
              "3             0        0       0       0              0             0  \n",
              "4             0        1       1       1              0             1  "
            ],
            "text/html": [
              "\n",
              "  <div id=\"df-ae4e9950-42de-4827-b253-5c23c620a4d7\">\n",
              "    <div class=\"colab-df-container\">\n",
              "      <div>\n",
              "<style scoped>\n",
              "    .dataframe tbody tr th:only-of-type {\n",
              "        vertical-align: middle;\n",
              "    }\n",
              "\n",
              "    .dataframe tbody tr th {\n",
              "        vertical-align: top;\n",
              "    }\n",
              "\n",
              "    .dataframe thead th {\n",
              "        text-align: right;\n",
              "    }\n",
              "</style>\n",
              "<table border=\"1\" class=\"dataframe\">\n",
              "  <thead>\n",
              "    <tr style=\"text-align: right;\">\n",
              "      <th></th>\n",
              "      <th>id</th>\n",
              "      <th>comment_text</th>\n",
              "      <th>toxic</th>\n",
              "      <th>severe_toxic</th>\n",
              "      <th>obscene</th>\n",
              "      <th>threat</th>\n",
              "      <th>insult</th>\n",
              "      <th>identity_hate</th>\n",
              "      <th>simple_toxic</th>\n",
              "    </tr>\n",
              "  </thead>\n",
              "  <tbody>\n",
              "    <tr>\n",
              "      <th>0</th>\n",
              "      <td>5f140a8f41763bad</td>\n",
              "      <td>\"== A barnstar for you! ==\\r\\n\\r\\n  The Minor ...</td>\n",
              "      <td>0</td>\n",
              "      <td>0</td>\n",
              "      <td>0</td>\n",
              "      <td>0</td>\n",
              "      <td>0</td>\n",
              "      <td>0</td>\n",
              "      <td>0</td>\n",
              "    </tr>\n",
              "    <tr>\n",
              "      <th>1</th>\n",
              "      <td>c57b608d96f057f2</td>\n",
              "      <td>\"==Glenn Beck Hoax==\\r\\nThis topic should be d...</td>\n",
              "      <td>0</td>\n",
              "      <td>0</td>\n",
              "      <td>0</td>\n",
              "      <td>0</td>\n",
              "      <td>0</td>\n",
              "      <td>0</td>\n",
              "      <td>0</td>\n",
              "    </tr>\n",
              "    <tr>\n",
              "      <th>2</th>\n",
              "      <td>1d9867f0f60ba9bd</td>\n",
              "      <td>\"\\r\\n\\r\\n Date of establishment \\r\\n\\r\\nCharle...</td>\n",
              "      <td>0</td>\n",
              "      <td>0</td>\n",
              "      <td>0</td>\n",
              "      <td>0</td>\n",
              "      <td>0</td>\n",
              "      <td>0</td>\n",
              "      <td>0</td>\n",
              "    </tr>\n",
              "    <tr>\n",
              "      <th>3</th>\n",
              "      <td>17eb2a66bfce1023</td>\n",
              "      <td>==AfD nomination of Untitled Chilli Album== \\r...</td>\n",
              "      <td>0</td>\n",
              "      <td>0</td>\n",
              "      <td>0</td>\n",
              "      <td>0</td>\n",
              "      <td>0</td>\n",
              "      <td>0</td>\n",
              "      <td>0</td>\n",
              "    </tr>\n",
              "    <tr>\n",
              "      <th>4</th>\n",
              "      <td>b8324615a1bcaf58</td>\n",
              "      <td>scum who look up to Che deserve the worst kind...</td>\n",
              "      <td>1</td>\n",
              "      <td>0</td>\n",
              "      <td>1</td>\n",
              "      <td>1</td>\n",
              "      <td>1</td>\n",
              "      <td>0</td>\n",
              "      <td>1</td>\n",
              "    </tr>\n",
              "  </tbody>\n",
              "</table>\n",
              "</div>\n",
              "      <button class=\"colab-df-convert\" onclick=\"convertToInteractive('df-ae4e9950-42de-4827-b253-5c23c620a4d7')\"\n",
              "              title=\"Convert this dataframe to an interactive table.\"\n",
              "              style=\"display:none;\">\n",
              "        \n",
              "  <svg xmlns=\"http://www.w3.org/2000/svg\" height=\"24px\"viewBox=\"0 0 24 24\"\n",
              "       width=\"24px\">\n",
              "    <path d=\"M0 0h24v24H0V0z\" fill=\"none\"/>\n",
              "    <path d=\"M18.56 5.44l.94 2.06.94-2.06 2.06-.94-2.06-.94-.94-2.06-.94 2.06-2.06.94zm-11 1L8.5 8.5l.94-2.06 2.06-.94-2.06-.94L8.5 2.5l-.94 2.06-2.06.94zm10 10l.94 2.06.94-2.06 2.06-.94-2.06-.94-.94-2.06-.94 2.06-2.06.94z\"/><path d=\"M17.41 7.96l-1.37-1.37c-.4-.4-.92-.59-1.43-.59-.52 0-1.04.2-1.43.59L10.3 9.45l-7.72 7.72c-.78.78-.78 2.05 0 2.83L4 21.41c.39.39.9.59 1.41.59.51 0 1.02-.2 1.41-.59l7.78-7.78 2.81-2.81c.8-.78.8-2.07 0-2.86zM5.41 20L4 18.59l7.72-7.72 1.47 1.35L5.41 20z\"/>\n",
              "  </svg>\n",
              "      </button>\n",
              "      \n",
              "  <style>\n",
              "    .colab-df-container {\n",
              "      display:flex;\n",
              "      flex-wrap:wrap;\n",
              "      gap: 12px;\n",
              "    }\n",
              "\n",
              "    .colab-df-convert {\n",
              "      background-color: #E8F0FE;\n",
              "      border: none;\n",
              "      border-radius: 50%;\n",
              "      cursor: pointer;\n",
              "      display: none;\n",
              "      fill: #1967D2;\n",
              "      height: 32px;\n",
              "      padding: 0 0 0 0;\n",
              "      width: 32px;\n",
              "    }\n",
              "\n",
              "    .colab-df-convert:hover {\n",
              "      background-color: #E2EBFA;\n",
              "      box-shadow: 0px 1px 2px rgba(60, 64, 67, 0.3), 0px 1px 3px 1px rgba(60, 64, 67, 0.15);\n",
              "      fill: #174EA6;\n",
              "    }\n",
              "\n",
              "    [theme=dark] .colab-df-convert {\n",
              "      background-color: #3B4455;\n",
              "      fill: #D2E3FC;\n",
              "    }\n",
              "\n",
              "    [theme=dark] .colab-df-convert:hover {\n",
              "      background-color: #434B5C;\n",
              "      box-shadow: 0px 1px 3px 1px rgba(0, 0, 0, 0.15);\n",
              "      filter: drop-shadow(0px 1px 2px rgba(0, 0, 0, 0.3));\n",
              "      fill: #FFFFFF;\n",
              "    }\n",
              "  </style>\n",
              "\n",
              "      <script>\n",
              "        const buttonEl =\n",
              "          document.querySelector('#df-ae4e9950-42de-4827-b253-5c23c620a4d7 button.colab-df-convert');\n",
              "        buttonEl.style.display =\n",
              "          google.colab.kernel.accessAllowed ? 'block' : 'none';\n",
              "\n",
              "        async function convertToInteractive(key) {\n",
              "          const element = document.querySelector('#df-ae4e9950-42de-4827-b253-5c23c620a4d7');\n",
              "          const dataTable =\n",
              "            await google.colab.kernel.invokeFunction('convertToInteractive',\n",
              "                                                     [key], {});\n",
              "          if (!dataTable) return;\n",
              "\n",
              "          const docLinkHtml = 'Like what you see? Visit the ' +\n",
              "            '<a target=\"_blank\" href=https://colab.research.google.com/notebooks/data_table.ipynb>data table notebook</a>'\n",
              "            + ' to learn more about interactive tables.';\n",
              "          element.innerHTML = '';\n",
              "          dataTable['output_type'] = 'display_data';\n",
              "          await google.colab.output.renderOutput(dataTable, element);\n",
              "          const docLink = document.createElement('div');\n",
              "          docLink.innerHTML = docLinkHtml;\n",
              "          element.appendChild(docLink);\n",
              "        }\n",
              "      </script>\n",
              "    </div>\n",
              "  </div>\n",
              "  "
            ]
          },
          "metadata": {},
          "execution_count": 103
        }
      ],
      "source": [
        "df.head()"
      ]
    },
    {
      "cell_type": "markdown",
      "metadata": {
        "id": "Tcs2hmD3EuoW"
      },
      "source": [
        "#Preprocess"
      ]
    },
    {
      "cell_type": "code",
      "execution_count": 104,
      "metadata": {
        "tags": [],
        "id": "LG1xsmm9Euoa"
      },
      "outputs": [],
      "source": [
        "from tensorflow.keras.layers import TextVectorization"
      ]
    },
    {
      "cell_type": "code",
      "execution_count": 105,
      "metadata": {
        "tags": [],
        "id": "ztWXRcwnEuoc"
      },
      "outputs": [],
      "source": [
        "#Variables dependientes e independientes\n",
        "X = df['comment_text']\n",
        "y = df[df.columns[2:]].values"
      ]
    },
    {
      "cell_type": "code",
      "execution_count": 106,
      "metadata": {
        "tags": [],
        "id": "Cl-R5TKbEuoe"
      },
      "outputs": [],
      "source": [
        "#Cantidad maximas de palabras\n",
        "MAX_FEATURES = 200000"
      ]
    },
    {
      "cell_type": "code",
      "execution_count": 107,
      "metadata": {
        "tags": [],
        "id": "TGAdggr2Euog"
      },
      "outputs": [],
      "source": [
        "#Vectorizamos las palabras de las frases, en un conjunto de ints\n",
        "vectorizer = TextVectorization(max_tokens=MAX_FEATURES,\n",
        "                               output_sequence_length=1800,\n",
        "                               output_mode='int')"
      ]
    },
    {
      "cell_type": "code",
      "execution_count": 108,
      "metadata": {
        "tags": [],
        "id": "D_1lQkLWEuoh"
      },
      "outputs": [],
      "source": [
        "vectorizer.adapt(X.values)"
      ]
    },
    {
      "cell_type": "code",
      "execution_count": 109,
      "metadata": {
        "tags": [],
        "id": "vuK_TJ1oEuoi"
      },
      "outputs": [],
      "source": [
        "vectorized_text = vectorizer(X.values)"
      ]
    },
    {
      "cell_type": "code",
      "execution_count": 110,
      "metadata": {
        "tags": [],
        "id": "crP2zBx0Euoj"
      },
      "outputs": [],
      "source": [
        "#Optimizamos el dataset\n",
        "dataset = tf.data.Dataset.from_tensor_slices((vectorized_text, y))\n",
        "dataset = dataset.cache()\n",
        "dataset = dataset.shuffle(160000)\n",
        "dataset = dataset.batch(16)\n",
        "dataset = dataset.prefetch(8) # helps bottlenecks"
      ]
    },
    {
      "cell_type": "code",
      "execution_count": 111,
      "metadata": {
        "tags": [],
        "id": "7Xf_rJHTEuok"
      },
      "outputs": [],
      "source": [
        "#Obtenemos los distitnos \n",
        "train = dataset.take(int(len(dataset)*.7))\n",
        "val = dataset.skip(int(len(dataset)*.7)).take(int(len(dataset)*.2))\n",
        "test = dataset.skip(int(len(dataset)*.9)).take(int(len(dataset)*.1))"
      ]
    },
    {
      "cell_type": "markdown",
      "metadata": {
        "id": "tSqWDAtjEuol"
      },
      "source": [
        "# Create LSTM"
      ]
    },
    {
      "cell_type": "code",
      "execution_count": 112,
      "metadata": {
        "tags": [],
        "id": "5POaGdKSEuom"
      },
      "outputs": [],
      "source": [
        "from tensorflow.keras.models import Sequential\n",
        "from tensorflow.keras.layers import LSTM, Dropout, Bidirectional, Dense, Embedding"
      ]
    },
    {
      "cell_type": "code",
      "execution_count": 113,
      "metadata": {
        "tags": [],
        "id": "HGca0-tvEuoo"
      },
      "outputs": [],
      "source": [
        "model = Sequential()\n",
        "model.add(Embedding(MAX_FEATURES+1, 32))\n",
        "model.add(Bidirectional(LSTM(32, activation='tanh')))\n",
        "model.add(Dense(128, activation='relu'))\n",
        "model.add(Dense(256, activation='relu'))\n",
        "model.add(Dense(128, activation='relu'))\n",
        "model.add(Dense(7, activation='sigmoid'))"
      ]
    },
    {
      "cell_type": "code",
      "execution_count": 114,
      "metadata": {
        "tags": [],
        "id": "HvSbZxiOEuoq"
      },
      "outputs": [],
      "source": [
        "model.compile(loss='BinaryCrossentropy', optimizer='Adam',metrics=['accuracy'])"
      ]
    },
    {
      "cell_type": "code",
      "execution_count": 80,
      "metadata": {
        "tags": [],
        "id": "ysPqfSHeEuor",
        "colab": {
          "base_uri": "https://localhost:8080/"
        },
        "outputId": "b6201a03-373f-4f15-f044-fe9f15a12983"
      },
      "outputs": [
        {
          "output_type": "stream",
          "name": "stdout",
          "text": [
            "Model: \"sequential_1\"\n",
            "_________________________________________________________________\n",
            " Layer (type)                Output Shape              Param #   \n",
            "=================================================================\n",
            " embedding_1 (Embedding)     (None, None, 32)          6400032   \n",
            "                                                                 \n",
            " bidirectional_1 (Bidirectio  (None, 64)               16640     \n",
            " nal)                                                            \n",
            "                                                                 \n",
            " dense_4 (Dense)             (None, 128)               8320      \n",
            "                                                                 \n",
            " dense_5 (Dense)             (None, 256)               33024     \n",
            "                                                                 \n",
            " dense_6 (Dense)             (None, 128)               32896     \n",
            "                                                                 \n",
            " dense_7 (Dense)             (None, 7)                 903       \n",
            "                                                                 \n",
            "=================================================================\n",
            "Total params: 6,491,815\n",
            "Trainable params: 6,491,815\n",
            "Non-trainable params: 0\n",
            "_________________________________________________________________\n"
          ]
        }
      ],
      "source": [
        "model.summary()"
      ]
    },
    {
      "cell_type": "code",
      "execution_count": null,
      "metadata": {
        "tags": [],
        "id": "8bbJNgxbEuot",
        "colab": {
          "base_uri": "https://localhost:8080/"
        },
        "outputId": "e00c5010-1a56-4b37-c15f-8144ff982587"
      },
      "outputs": [
        {
          "output_type": "stream",
          "name": "stdout",
          "text": [
            "331/978 [=========>....................] - ETA: 16:12 - loss: 0.1629 - accuracy: 0.3331"
          ]
        }
      ],
      "source": [
        "history = model.fit(train, epochs=1, validation_data=val)"
      ]
    },
    {
      "cell_type": "code",
      "execution_count": 81,
      "metadata": {
        "tags": [],
        "id": "qaV8ZIDGEuou"
      },
      "outputs": [],
      "source": [
        "from matplotlib import pyplot as plt"
      ]
    },
    {
      "cell_type": "code",
      "source": [
        "history.history"
      ],
      "metadata": {
        "colab": {
          "base_uri": "https://localhost:8080/"
        },
        "id": "syqIIy5OntOe",
        "outputId": "1de45fd4-19c7-44c0-9133-9d745fa1ff43"
      },
      "execution_count": 82,
      "outputs": [
        {
          "output_type": "execute_result",
          "data": {
            "text/plain": [
              "{'accuracy': [0.25504857301712036],\n",
              " 'loss': [0.10808716714382172],\n",
              " 'val_accuracy': [0.032258063554763794],\n",
              " 'val_loss': [0.0722779929637909]}"
            ]
          },
          "metadata": {},
          "execution_count": 82
        }
      ]
    },
    {
      "cell_type": "markdown",
      "metadata": {
        "id": "3DHtqgQJEuov"
      },
      "source": [
        "#Make Predictions"
      ]
    },
    {
      "cell_type": "code",
      "execution_count": 84,
      "metadata": {
        "tags": [],
        "id": "UUlrz_xPEuow"
      },
      "outputs": [],
      "source": [
        "input_text = vectorizer(['You freaking suck! I am going to hit you.'])"
      ]
    },
    {
      "cell_type": "code",
      "execution_count": 85,
      "metadata": {
        "tags": [],
        "id": "ByjtZsDDEuow"
      },
      "outputs": [],
      "source": [
        "res = model.predict(input_text)"
      ]
    },
    {
      "cell_type": "code",
      "execution_count": 86,
      "metadata": {
        "jupyter": {
          "source_hidden": true
        },
        "id": "8WHH5I5VEuox",
        "colab": {
          "base_uri": "https://localhost:8080/"
        },
        "outputId": "0241b983-bcc6-4e23-8148-160767d3db64"
      },
      "outputs": [
        {
          "output_type": "execute_result",
          "data": {
            "text/plain": [
              "array([[1, 0, 1, 0, 0, 0, 1]])"
            ]
          },
          "metadata": {},
          "execution_count": 86
        }
      ],
      "source": [
        "(res > 0.5).astype(int)"
      ]
    },
    {
      "cell_type": "markdown",
      "metadata": {
        "id": "mnyh9_5cEuoz"
      },
      "source": [
        "#Tests"
      ]
    },
    {
      "cell_type": "code",
      "execution_count": 87,
      "metadata": {
        "tags": [],
        "id": "zcdW22y6Euoz"
      },
      "outputs": [],
      "source": [
        "from tensorflow.keras.metrics import Precision, Recall, CategoricalAccuracy"
      ]
    },
    {
      "cell_type": "code",
      "execution_count": 88,
      "metadata": {
        "tags": [],
        "id": "WLzibIvFEuo0"
      },
      "outputs": [],
      "source": [
        "pre = Precision()\n",
        "re = Recall()\n",
        "acc = CategoricalAccuracy()"
      ]
    },
    {
      "cell_type": "code",
      "execution_count": 89,
      "metadata": {
        "tags": [],
        "id": "asp-rNIlEuo0"
      },
      "outputs": [],
      "source": [
        "for batch in test.as_numpy_iterator(): \n",
        "    # Unpack the batch \n",
        "    X_true, y_true = batch\n",
        "    # Make a prediction \n",
        "    yhat = model.predict(X_true)\n",
        "    \n",
        "    # Flatten the predictions\n",
        "    y_true = y_true.flatten()\n",
        "    yhat = yhat.flatten()\n",
        "    \n",
        "    pre.update_state(y_true, yhat)\n",
        "    re.update_state(y_true, yhat)\n",
        "    acc.update_state(y_true, yhat)"
      ]
    },
    {
      "cell_type": "code",
      "source": [
        "print(f'Precision: {pre.result().numpy()}, Recall:{re.result().numpy()}, Accuracy:{acc.result().numpy()}')"
      ],
      "metadata": {
        "id": "tf6ZpW9DCIqb",
        "colab": {
          "base_uri": "https://localhost:8080/"
        },
        "outputId": "4b7d24a3-e61a-4f3e-d42b-a06fd93f4b97"
      },
      "execution_count": 90,
      "outputs": [
        {
          "output_type": "stream",
          "name": "stdout",
          "text": [
            "Precision: 0.7902946472167969, Recall:0.6523604989051819, Accuracy:0.28776979446411133\n"
          ]
        }
      ]
    },
    {
      "cell_type": "code",
      "source": [
        "import tensorflow as tf"
      ],
      "metadata": {
        "id": "uh7AQt74CNLU"
      },
      "execution_count": 92,
      "outputs": []
    },
    {
      "cell_type": "code",
      "source": [
        "model.save('toxicity.h5')"
      ],
      "metadata": {
        "id": "6nglAekcCPEJ"
      },
      "execution_count": 93,
      "outputs": []
    },
    {
      "cell_type": "code",
      "source": [
        "model = tf.keras.models.load_model('toxicity.h5')"
      ],
      "metadata": {
        "id": "poSSoE33CRUj"
      },
      "execution_count": 94,
      "outputs": []
    },
    {
      "cell_type": "code",
      "source": [
        "input_str = vectorizer('hello!')"
      ],
      "metadata": {
        "id": "D7ql0t0QCTC3"
      },
      "execution_count": 95,
      "outputs": []
    },
    {
      "cell_type": "code",
      "source": [
        "res = model.predict(np.expand_dims(input_str,0))"
      ],
      "metadata": {
        "id": "GDESpM9UCUwN"
      },
      "execution_count": 96,
      "outputs": []
    },
    {
      "cell_type": "code",
      "source": [
        "res"
      ],
      "metadata": {
        "id": "xisoWrZ7CWuY",
        "colab": {
          "base_uri": "https://localhost:8080/"
        },
        "outputId": "38f66b71-71b1-433b-991f-81f79ee45f10"
      },
      "execution_count": 97,
      "outputs": [
        {
          "output_type": "execute_result",
          "data": {
            "text/plain": [
              "array([[0.04491901, 0.0004732 , 0.0232141 , 0.00072953, 0.01400644,\n",
              "        0.00868499, 0.05356401]], dtype=float32)"
            ]
          },
          "metadata": {},
          "execution_count": 97
        }
      ]
    },
    {
      "cell_type": "code",
      "source": [
        "input_str = vectorizer('fuck you!')"
      ],
      "metadata": {
        "id": "tYqSE6VICZH-"
      },
      "execution_count": 98,
      "outputs": []
    },
    {
      "cell_type": "code",
      "source": [
        "res = model.predict(np.expand_dims(input_str,0))"
      ],
      "metadata": {
        "id": "TDjOS7KpCbMN"
      },
      "execution_count": 99,
      "outputs": []
    },
    {
      "cell_type": "code",
      "source": [
        "res"
      ],
      "metadata": {
        "id": "-wjIKj4KCcwJ",
        "colab": {
          "base_uri": "https://localhost:8080/"
        },
        "outputId": "ef1e2e7d-52fa-4f64-a906-90d2437394cd"
      },
      "execution_count": 100,
      "outputs": [
        {
          "output_type": "execute_result",
          "data": {
            "text/plain": [
              "array([[0.930926  , 0.10078266, 0.8486693 , 0.01088205, 0.67878467,\n",
              "        0.09543145, 0.92155576]], dtype=float32)"
            ]
          },
          "metadata": {},
          "execution_count": 100
        }
      ]
    }
  ],
  "metadata": {
    "kernelspec": {
      "display_name": "toxic",
      "language": "python",
      "name": "toxic"
    },
    "language_info": {
      "codemirror_mode": {
        "name": "ipython",
        "version": 3
      },
      "file_extension": ".py",
      "mimetype": "text/x-python",
      "name": "python",
      "nbconvert_exporter": "python",
      "pygments_lexer": "ipython3",
      "version": "3.9.7"
    },
    "colab": {
      "name": "Toxicity.ipynb",
      "provenance": [],
      "collapsed_sections": []
    }
  },
  "nbformat": 4,
  "nbformat_minor": 0
}